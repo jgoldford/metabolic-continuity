{
 "cells": [
  {
   "cell_type": "markdown",
   "id": "elementary-accreditation",
   "metadata": {},
   "source": [
    "# Description\n",
    "Notebook to create figures in the paper: \"Continuity between ancient geochemistry and modern metabolism enabled by non-autocatalytic purine biosynthesis\" by Goldford, J.E., Smith, H.B., Longo, L.M. Wing, B.A. & McGlynn, S.M."
   ]
  },
  {
   "cell_type": "markdown",
   "id": "liked-setup",
   "metadata": {},
   "source": [
    "### Load packages"
   ]
  },
  {
   "cell_type": "code",
   "execution_count": 132,
   "id": "driving-carol",
   "metadata": {
    "tags": []
   },
   "outputs": [],
   "source": [
    "import networkExpansionPy.lib as ne\n",
    "import numpy as np\n",
    "import pandas as pd\n",
    "import pickle as pickle\n",
    "import seaborn as sns\n",
    "import matplotlib.pyplot as plt\n",
    "from scipy.stats import spearmanr,pearsonr,mannwhitneyu\n",
    "from statsmodels.stats.multitest import multipletests\n",
    "plt.rcParams['font.family'] = 'Arial'\n",
    "\n",
    "import warnings\n",
    "from scipy.sparse import (spdiags, SparseEfficiencyWarning, csc_matrix,\n",
    "    csr_matrix, isspmatrix, dok_matrix, lil_matrix, bsr_matrix)\n",
    "warnings.simplefilter('ignore',SparseEfficiencyWarning)\n",
    "\n",
    "def load_data(network_name):\n",
    "    with open(ne.asset_path  + \"/metabolic_networks/\" + network_name,\"rb\") as filehandler:\n",
    "        metabolism = pickle.load(filehandler)\n",
    "    return metabolism\n",
    "\n",
    "# load the metabolism object from the repo\n",
    "#metabolism = load_data('metabolism.23Aug2022.pkl')\n",
    "#model_id = \"metabolism.v4.20Mar2023.pkl\"\n",
    "#model_id = \"metabolism.v5.12Apr2023.pkl\"\n",
    "#model_id = \"metabolism.v6.26Apr2023.pkl\"\n",
    "model_id = \"metabolism.v8.01May2023.pkl\"\n",
    "metabolism = pd.read_pickle('/Users/joshuagoldford/Documents/github/network-expansion-assets/models/' + model_id)\n",
    "cids = metabolism.coenzymes"
   ]
  },
  {
   "cell_type": "markdown",
   "id": "figured-breakdown",
   "metadata": {},
   "source": [
    "### Run network expansion"
   ]
  },
  {
   "cell_type": "code",
   "execution_count": 133,
   "id": "distant-sudan",
   "metadata": {
    "tags": []
   },
   "outputs": [
    {
     "name": "stdout",
     "output_type": "stream",
     "text": [
      "There were 70 compounds in this seed set...\n",
      "There were 4315 compounds produced in this expansion!\n"
     ]
    }
   ],
   "source": [
    "seed_set = pd.read_csv('assets/seed_set.csv')['ID'].tolist() #+ [\"C00183\"]\n",
    "#seed_df = pd.read_csv('assets/seed_set.csv')\n",
    "#seed_set = seed_df[~seed_df.Type.isin([\"Organic carbon\"])].ID.tolist()\n",
    "#seed_set = seed_set + [\"C00010\"]\n",
    "\n",
    "print('There were {N} compounds in this seed set...'.format(N=len(seed_set)))\n",
    "\n",
    "ne_cpds,ne_rxns = metabolism.expand(seed_set,algorithm='trace')\n",
    "print('There were {N} compounds produced in this expansion!'.format(N=len(ne_cpds)))\n",
    "\n",
    "# parse data into dataframes\n",
    "rn_df = pd.DataFrame(pd.Series(ne_rxns),columns = ['iteration'])\n",
    "rn_df.reset_index(inplace=True)\n",
    "rn_df.columns = ['rn','direction','iteration']\n",
    "rn_df['rn_kegg']= rn_df['rn'].apply(lambda x: x.split('_')[0])\n"
   ]
  },
  {
   "cell_type": "markdown",
   "id": "genuine-litigation",
   "metadata": {},
   "source": [
    "### Figure 1A. Run network expansion w/o non-autocatalytic purine biosynthesis +/- adenine, and plot traces"
   ]
  },
  {
   "cell_type": "code",
   "execution_count": 31,
   "id": "cordless-rainbow",
   "metadata": {
    "tags": []
   },
   "outputs": [
    {
     "data": {
      "image/png": "[encoded data removed]",
      "text/plain": [
       "<Figure size 396x164.571 with 1 Axes>"
      ]
     },
     "metadata": {
      "needs_background": "light"
     },
     "output_type": "display_data"
    }
   ],
   "source": [
    "# now remove purine production \n",
    "metab_unmod = metabolism.copy()\n",
    "ne_cpds,ne_rxns = metab_unmod.expand(seed_set,algorithm='trace')\n",
    "rn_to_remove = [x for x in metab_unmod.network.rn.unique().tolist() if (('_gATP' in x) or ('_gGTP' in x))]\n",
    "metab_unmod.network = metab_unmod.network[~metab_unmod.network.rn.isin(rn_to_remove)]\n",
    "ne_cpds_np,ne_rxns_np = metab_unmod.expand(seed_set,algorithm='trace')\n",
    "ne_cpds_np_ad,ne_rxns_np_ad = metab_unmod.expand(seed_set + ['C00147'],algorithm='trace')\n",
    "\n",
    "\n",
    "cmap = sns.color_palette(\"Set1\")\n",
    "abun = pd.DataFrame(pd.Series(ne_cpds),columns=['iter']).reset_index().groupby('iter').count()\n",
    "abun['compounds (cumulative)'] = abun['index'].cumsum()\n",
    "\n",
    "abun_alt = pd.DataFrame(pd.Series(ne_cpds_np),columns=['iter']).reset_index().groupby('iter').count()\n",
    "abun_alt['compounds (cumulative)'] = abun_alt['index'].cumsum()\n",
    "\n",
    "abun_ad = pd.DataFrame(pd.Series(ne_cpds_np_ad),columns=['iter']).reset_index().groupby('iter').count()\n",
    "abun_ad['compounds (cumulative)'] = abun_ad['index'].cumsum()\n",
    "\n",
    "#sns.scatterplot(x='iter',y='compounds (cumulative)',data=abun)\n",
    "#plt.figure(figsize=(8,4/14*8))\n",
    "\n",
    "plt.figure(figsize=(5.5,4/14*8))\n",
    "\n",
    "sns.lineplot(x='iter',y='index',data=abun_ad.iloc[1:],color='lightgrey')\n",
    "sns.lineplot(x='iter',y='index',data=abun.iloc[1:],color=cmap[1])\n",
    "sns.lineplot(x='iter',y='index',data=abun_alt.iloc[1:],color=\"k\")\n",
    "\n",
    "plt.ylabel('# compounds added \\n at each iteration')\n",
    "plt.xlabel(\"expansion iteration\")\n",
    "plt.xlim([0,101])\n",
    "plt.ylim([0,300])\n",
    "plt.subplots_adjust(bottom=0.25)\n",
    "#plt.legend(['Unmodified + adenine','Modified','Unmodified'])\n",
    "#plt.savefig(\"figs/fig1a_rs.svg\")"
   ]
  },
  {
   "cell_type": "code",
   "execution_count": 8,
   "id": "6029a5c9-a6a8-4038-877d-fc87730da9ff",
   "metadata": {
    "tags": []
   },
   "outputs": [
    {
     "data": {
      "text/plain": [
       "429"
      ]
     },
     "execution_count": 8,
     "metadata": {},
     "output_type": "execute_result"
    }
   ],
   "source": [
    "len(ne_cpds_np)"
   ]
  },
  {
   "cell_type": "markdown",
   "id": "fundamental-video",
   "metadata": {},
   "source": [
    "### Figure 1C: Network sizes after adding single molecules to seed set without non-autocatalytic purine production \n",
    "(simulations performed on a cluster)"
   ]
  },
  {
   "cell_type": "code",
   "execution_count": 37,
   "id": "broad-region",
   "metadata": {
    "tags": []
   },
   "outputs": [
    {
     "data": {
      "text/plain": [
       "Text(0, 0.5, 'proportion of \\n simulations')"
      ]
     },
     "execution_count": 37,
     "metadata": {},
     "output_type": "execute_result"
    },
    {
     "data": {
      "text/plain": [
       "<Figure size 144x108 with 0 Axes>"
      ]
     },
     "metadata": {},
     "output_type": "display_data"
    },
    {
     "data": {
      "image/png": "[encoded data removed]",
      "text/plain": [
       "<Figure size 72x108 with 1 Axes>"
      ]
     },
     "metadata": {
      "needs_background": "light"
     },
     "output_type": "display_data"
    }
   ],
   "source": [
    "plt.figure(figsize=(2,1.5))\n",
    "#t = pd.read_csv('assets/SingleCompoundAddition.UnmodfiedNetwork.csv',index_col=0)\n",
    "t = pd.read_csv('revisions.v1/data/singleCompoundAdditions.v8.csv',index_col=0)\n",
    "#t = pd.read_csv('single_compound_addition.05May2022.csv',index_col=0)\n",
    "t = t[~(t['cid'].apply(lambda x: x[0] == '['))]\n",
    "purines = pd.read_csv('assets/Purine-containing KEGG Compounds.csv',header=None)[0].tolist()\n",
    "t['purine'] = t.cid.isin(purines)\n",
    "\n",
    "t['expansion'] = t['scope_c'] > 1e3\n",
    "X = pd.crosstab(t['purine'],t['expansion'])\n",
    "Xn = X.apply(lambda x: x / x.sum())\n",
    "ax =Xn.T.plot(kind=\"bar\", stacked=True,figsize=(1,1.5),color=['gray',cmap[2]])\n",
    "ax.legend(title='purine',loc='center left', bbox_to_anchor=(1, 0.5))\n",
    "plt.ylabel('proportion of \\n simulations')\n",
    "#plt.savefig(\"figs/fig1c.svg\")"
   ]
  },
  {
   "cell_type": "markdown",
   "id": "naked-empty",
   "metadata": {},
   "source": [
    "### Figure 1D: Add models of thioester and primitive reductant (H2)"
   ]
  },
  {
   "cell_type": "code",
   "execution_count": 24,
   "id": "entitled-roommate",
   "metadata": {
    "tags": []
   },
   "outputs": [
    {
     "data": {
      "text/plain": [
       "Text(0, 0.5, 'network size \\n (# compounds)')"
      ]
     },
     "execution_count": 24,
     "metadata": {},
     "output_type": "execute_result"
    },
    {
     "data": {
      "image/png": "[encoded data removed]",
      "text/plain": [
       "<Figure size 144x108 with 1 Axes>"
      ]
     },
     "metadata": {
      "needs_background": "light"
     },
     "output_type": "display_data"
    }
   ],
   "source": [
    "# make figure 1C; influence of primitive thioester and reductant coupling\n",
    "\n",
    "networks = {}\n",
    "thiol = 'C00957'\n",
    "networks['purine'] = metabolism\n",
    "\n",
    "model_id_cof = \"metabolism.v8.purine.H2.thiols.01May2023.pkl\"\n",
    "#model_id = \"metabolism.v8.01May2023.pkl\"\n",
    "metobj = pd.read_pickle('/Users/joshuagoldford/Documents/github/network-expansion-assets/models/' + model_id_cof)\n",
    "networks[\"purine_h2_thiol\"] = metobj\n",
    "m = metobj.copy()\n",
    "m.network = m.network[~m.network.rn.apply(lambda x: \"_RSH\" in x)]\n",
    "networks[\"purine_h2\"] = m\n",
    "\n",
    "m = metobj.copy()\n",
    "m.network = m.network[~m.network.rn.apply(lambda x: \"_H2Red\" in x)]\n",
    "networks[\"purine_thiol\"] = m\n",
    "\n",
    "\n",
    "#networks['purine_h2'] = load_data('metabolism.H2.purine.09July2022.pkl')\n",
    "#networks['purine_h2_thiol'] = metobj\n",
    "#networks['purine_thiol'] = load_data('metabolism.purine.thiols.09July2022.pkl')\n",
    "#rn_to_remove = [x for x in networks['purine_thiol'].network.rn.unique().tolist() if ('_gNAD' in x)]\n",
    "#networks['purine_thiol'].network = networks['purine_thiol'].network[~networks['purine_thiol'].network.rn.isin(rn_to_remove)]\n",
    "\n",
    "m = networks['purine_thiol'].copy()\n",
    "rn_to_remove = [x for x in m.network.rn.unique().tolist() if (('_gATP' in x) or ('_gGTP' in x))]\n",
    "m.network = m.network[~m.network.rn.isin(rn_to_remove)]\n",
    "networks['thiol'] = m\n",
    "\n",
    "\n",
    "m = networks['purine_h2_thiol'].copy()\n",
    "rn_to_remove = [x for x in m.network.rn.unique().tolist() if (('_gATP' in x) or ('_gGTP' in x))]\n",
    "m.network = m.network[~m.network.rn.isin(rn_to_remove)]\n",
    "networks['h2_thiol'] = m\n",
    "\n",
    "\n",
    "m = networks['purine_h2'].copy()\n",
    "rn_to_remove = [x for x in m.network.rn.unique().tolist() if (('_gATP' in x) or ('_gGTP' in x))]\n",
    "m.network = m.network[~m.network.rn.isin(rn_to_remove)]\n",
    "networks['h2'] = m\n",
    "\n",
    "m = networks['purine'].copy()\n",
    "rn_to_remove = [x for x in m.network.rn.unique().tolist() if (('_gATP' in x) or ('_gGTP' in x))]\n",
    "m.network = m.network[~m.network.rn.isin(rn_to_remove)]\n",
    "networks['unmodified'] = m\n",
    "\n",
    "s = []\n",
    "network_c_outputs = {}\n",
    "network_r_outputs = {}\n",
    "for condition in list(networks):\n",
    "    c,r = networks[condition].expand(seed_set + [thiol])\n",
    "    network_c_outputs[condition] = c\n",
    "    network_r_outputs[condition] = r\n",
    "    s.append(len(c))\n",
    "nsize = pd.DataFrame({'condition': list(networks), 'network_size':s})\n",
    "nsize = nsize.set_index('condition')\n",
    "nsize = nsize.loc[['purine_h2_thiol','purine_thiol','purine_h2','h2_thiol','purine','thiol','h2','unmodified']]\n",
    "\n",
    "\n",
    "plt.figure(figsize=(2,1.5))\n",
    "ax=sns.barplot(x='condition',y='network_size',data=nsize.reset_index(),color='grey')\n",
    "plt.xticks(rotation=90)\n",
    "plt.ylabel('network size \\n (# compounds)')\n",
    "#plt.savefig(\"figs/fig1d.svg\")\n"
   ]
  },
  {
   "cell_type": "markdown",
   "id": "colonial-complaint",
   "metadata": {},
   "source": [
    "### Figure S1: Add ATLAS reactions to KEGG network and repeat expansions"
   ]
  },
  {
   "cell_type": "code",
   "execution_count": 32,
   "id": "injured-advocacy",
   "metadata": {
    "tags": []
   },
   "outputs": [
    {
     "data": {
      "text/plain": [
       "<matplotlib.legend.Legend at 0x7f8e280bbb70>"
      ]
     },
     "execution_count": 32,
     "metadata": {},
     "output_type": "execute_result"
    },
    {
     "data": {
      "image/png": "[encoded data removed]",
      "text/plain": [
       "<Figure size 216x180 with 1 Axes>"
      ]
     },
     "metadata": {
      "needs_background": "light"
     },
     "output_type": "display_data"
    },
    {
     "data": {
      "image/png": "[encoded data removed]",
      "text/plain": [
       "<Figure size 432x123.429 with 1 Axes>"
      ]
     },
     "metadata": {
      "needs_background": "light"
     },
     "output_type": "display_data"
    }
   ],
   "source": [
    "# run atlas analysis\n",
    "ar = pd.read_csv('assets/atlas_reactions.csv')\n",
    "ar= ar[['rn','direction','cid','s','ub','lb']]\n",
    "ar['stoich_str'] = np.nan\n",
    "ar['rn_old'] = np.nan\n",
    "\n",
    "matlas = metabolism.copy()\n",
    "# make KEGG+ATLAS network with non-autocatalytic purine production\n",
    "matlas.network = pd.concat([matlas.network,ar],axis=0)\n",
    "# make KEGG+ATLAS network without non-autocatalytic purine production\n",
    "matlas_nc = matlas.copy()\n",
    "matlas_nc.network = matlas_nc.network[~matlas_nc.network.rn.apply(lambda x: ('_gATP' in x) or ('_gGTP' in x))]\n",
    "\n",
    "# make KEGG network without non-autocatalytic purine production\n",
    "metabolism_nc = metabolism.copy()\n",
    "metabolism_nc.network = metabolism_nc.network[~metabolism_nc.network.rn.apply(lambda x: ('_gATP' in x) or ('_gGTP' in x))]\n",
    "\n",
    "# perform network expansion for KEGG+ATLAS, without non-autocatalytic purine production\n",
    "c_atl_nc,rx = matlas_nc.expand(seed_set,algorithm='naive')\n",
    "c_atl_nc = len(c_atl_nc)\n",
    "\n",
    "# perform network expansion for KEGG+ATLAS, without non-autocatalytic purine production, plus adenine\n",
    "c_atl_nc_ad,rx = matlas_nc.expand(seed_set + ['C00147'],algorithm='naive')\n",
    "c_atl_nc_ad = len(c_atl_nc_ad)\n",
    "\n",
    "\n",
    "# perform network expansion for KEGG+ATLAS, with non-autocatalytic purine production\n",
    "c_atl,rx = matlas.expand(seed_set,algorithm='naive')\n",
    "c_atl = len(c_atl)\n",
    "\n",
    "\n",
    "# perform network expansion for KEGG, without non-autocatalytic purine production\n",
    "c_kegg_nc,rx = metabolism_nc.expand(seed_set,algorithm='naive')\n",
    "c_kegg_nc = len(c_kegg_nc)\n",
    "\n",
    "# perform network expansion for KEGG, without non-autocatalytic purine production, plus adenine\n",
    "c_kegg_nc_ad,rx = metabolism_nc.expand(seed_set + ['C00147'],algorithm='naive')\n",
    "c_kegg_nc_ad = len(c_kegg_nc_ad)\n",
    "\n",
    "\n",
    "# perform network expansion for KEGG, with non-autocatalytic purine production\n",
    "c_kegg,rx = metabolism.expand(seed_set,algorithm='naive')\n",
    "c_kegg = len(c_kegg)\n",
    "\n",
    "# store results in a dataframe\n",
    "results = {'network':['KEGG+ATLAS','KEGG+ATLAS','KEGG+ATLAS','KEGG','KEGG','KEGG'],\n",
    "          'condition': ['no primitive coupling','no primitive coupling \\n + Adenine','primitive coupling','no primitive coupling','no primitive coupling \\n + Adenine','primitive coupling'],\n",
    "          'network size (#compounds)': [c_atl_nc,c_atl_nc_ad,c_atl,c_kegg_nc,c_kegg_nc_ad,c_kegg]}\n",
    "results = pd.DataFrame(results)\n",
    "\n",
    "\n",
    "cmap = sns.color_palette(\"Set1\")\n",
    "plt.figure(figsize=(3,2.5))\n",
    "ax = sns.barplot(hue='network',x='condition',y='network size (#compounds)',data=results,palette=[cmap[3],cmap[1]])\n",
    "ax.legend(loc='center left', bbox_to_anchor=(1, 0.5))\n",
    "plt.xticks(rotation=90)\n",
    "\n",
    "#plt.savefig(\"figs/fig_s1.atlas.a.svg\")\n",
    "\n",
    "# plot the traces for ATLAS vs KEGG\n",
    "ne_cpds_atl,rx = matlas.expand(seed_set,algorithm='trace')\n",
    "abun_atlas = pd.DataFrame(pd.Series(ne_cpds_atl),columns=['iter']).reset_index().groupby('iter').count()\n",
    "abun_atlas['compounds (cumulative)'] = abun_atlas['index'].cumsum()\n",
    "\n",
    "h = 6\n",
    "plt.figure(figsize=(h,4/14*h))\n",
    "sns.lineplot(x='iter',y='index',data=abun_atlas.iloc[1:],color=cmap[3])\n",
    "sns.lineplot(x='iter',y='index',data=abun.iloc[1:],color=cmap[1])\n",
    "\n",
    "plt.ylabel('# compounds added \\n at each iteration')\n",
    "plt.xlabel(\"expansion iteration\")\n",
    "plt.xlim([0,110])\n",
    "plt.ylim([0,480])\n",
    "plt.subplots_adjust(bottom=0.25)\n",
    "plt.legend(['KEGG+ATLAS (n=32445)','KEGG (n=12262)'])#\n",
    "\n",
    "#plt.savefig(\"figs/fig_s1.atlas.b.svg\")\n"
   ]
  },
  {
   "cell_type": "code",
   "execution_count": 137,
   "id": "9feacadb-d3cd-497c-a9cd-6118d3b1cc6d",
   "metadata": {
    "tags": []
   },
   "outputs": [],
   "source": [
    "arz = ar[ar.cid.isin([\"C06104\"]) & (ar.s>0)]"
   ]
  },
  {
   "cell_type": "code",
   "execution_count": 167,
   "id": "646b7733-ded3-4a08-93a6-651cf574ce5c",
   "metadata": {
    "tags": []
   },
   "outputs": [],
   "source": [
    "for idx,row in arz.iterrows():\n",
    "    a = ar[(ar.rn == row.rn) & (ar.direction == row.direction)]\n",
    "    if \"C16588\" not in arz.cid.tolist():\n",
    "        continue\n",
    "    else:\n",
    "        print(row.rn)"
   ]
  },
  {
   "cell_type": "code",
   "execution_count": 166,
   "id": "af77a57f-6bd2-4dc7-b2ca-d4e23212734a",
   "metadata": {
    "tags": []
   },
   "outputs": [
    {
     "data": {
      "text/html": [
       "<div>\n",
       "<style scoped>\n",
       "    .dataframe tbody tr th:only-of-type {\n",
       "        vertical-align: middle;\n",
       "    }\n",
       "\n",
       "    .dataframe tbody tr th {\n",
       "        vertical-align: top;\n",
       "    }\n",
       "\n",
       "    .dataframe thead th {\n",
       "        text-align: right;\n",
       "    }\n",
       "</style>\n",
       "<table border=\"1\" class=\"dataframe\">\n",
       "  <thead>\n",
       "    <tr style=\"text-align: right;\">\n",
       "      <th></th>\n",
       "      <th>rn</th>\n",
       "      <th>direction</th>\n",
       "      <th>cid</th>\n",
       "      <th>s</th>\n",
       "      <th>ub</th>\n",
       "      <th>lb</th>\n",
       "      <th>stoich_str</th>\n",
       "      <th>rn_old</th>\n",
       "    </tr>\n",
       "  </thead>\n",
       "  <tbody>\n",
       "    <tr>\n",
       "      <th>12462</th>\n",
       "      <td>AR11769</td>\n",
       "      <td>forward</td>\n",
       "      <td>C00007</td>\n",
       "      <td>-1.0</td>\n",
       "      <td>0.1</td>\n",
       "      <td>1.000000e-07</td>\n",
       "      <td>NaN</td>\n",
       "      <td>NaN</td>\n",
       "    </tr>\n",
       "    <tr>\n",
       "      <th>12463</th>\n",
       "      <td>AR11769</td>\n",
       "      <td>forward</td>\n",
       "      <td>C11499</td>\n",
       "      <td>-1.0</td>\n",
       "      <td>0.1</td>\n",
       "      <td>1.000000e-07</td>\n",
       "      <td>NaN</td>\n",
       "      <td>NaN</td>\n",
       "    </tr>\n",
       "    <tr>\n",
       "      <th>12464</th>\n",
       "      <td>AR11769</td>\n",
       "      <td>forward</td>\n",
       "      <td>C16588</td>\n",
       "      <td>-1.0</td>\n",
       "      <td>0.1</td>\n",
       "      <td>1.000000e-07</td>\n",
       "      <td>NaN</td>\n",
       "      <td>NaN</td>\n",
       "    </tr>\n",
       "    <tr>\n",
       "      <th>12465</th>\n",
       "      <td>AR11769</td>\n",
       "      <td>forward</td>\n",
       "      <td>C00011</td>\n",
       "      <td>1.0</td>\n",
       "      <td>0.1</td>\n",
       "      <td>1.000000e-07</td>\n",
       "      <td>NaN</td>\n",
       "      <td>NaN</td>\n",
       "    </tr>\n",
       "    <tr>\n",
       "      <th>12466</th>\n",
       "      <td>AR11769</td>\n",
       "      <td>forward</td>\n",
       "      <td>C00094</td>\n",
       "      <td>1.0</td>\n",
       "      <td>0.1</td>\n",
       "      <td>1.000000e-07</td>\n",
       "      <td>NaN</td>\n",
       "      <td>NaN</td>\n",
       "    </tr>\n",
       "    <tr>\n",
       "      <th>12467</th>\n",
       "      <td>AR11769</td>\n",
       "      <td>forward</td>\n",
       "      <td>C01146</td>\n",
       "      <td>1.0</td>\n",
       "      <td>0.1</td>\n",
       "      <td>1.000000e-07</td>\n",
       "      <td>NaN</td>\n",
       "      <td>NaN</td>\n",
       "    </tr>\n",
       "    <tr>\n",
       "      <th>12468</th>\n",
       "      <td>AR11769</td>\n",
       "      <td>forward</td>\n",
       "      <td>C06104</td>\n",
       "      <td>1.0</td>\n",
       "      <td>0.1</td>\n",
       "      <td>1.000000e-07</td>\n",
       "      <td>NaN</td>\n",
       "      <td>NaN</td>\n",
       "    </tr>\n",
       "  </tbody>\n",
       "</table>\n",
       "</div>"
      ],
      "text/plain": [
       "            rn direction     cid    s   ub            lb  stoich_str  rn_old\n",
       "12462  AR11769   forward  C00007 -1.0  0.1  1.000000e-07         NaN     NaN\n",
       "12463  AR11769   forward  C11499 -1.0  0.1  1.000000e-07         NaN     NaN\n",
       "12464  AR11769   forward  C16588 -1.0  0.1  1.000000e-07         NaN     NaN\n",
       "12465  AR11769   forward  C00011  1.0  0.1  1.000000e-07         NaN     NaN\n",
       "12466  AR11769   forward  C00094  1.0  0.1  1.000000e-07         NaN     NaN\n",
       "12467  AR11769   forward  C01146  1.0  0.1  1.000000e-07         NaN     NaN\n",
       "12468  AR11769   forward  C06104  1.0  0.1  1.000000e-07         NaN     NaN"
      ]
     },
     "execution_count": 166,
     "metadata": {},
     "output_type": "execute_result"
    }
   ],
   "source": [
    "\"AR11769\"\n",
    "ar[(ar.rn == \"AR11769\")]"
   ]
  },
  {
   "cell_type": "code",
   "execution_count": 162,
   "id": "829e4926-97d3-4bd4-8d47-aa3b5ae42723",
   "metadata": {
    "tags": []
   },
   "outputs": [
    {
     "data": {
      "text/html": [
       "<div>\n",
       "<style scoped>\n",
       "    .dataframe tbody tr th:only-of-type {\n",
       "        vertical-align: middle;\n",
       "    }\n",
       "\n",
       "    .dataframe tbody tr th {\n",
       "        vertical-align: top;\n",
       "    }\n",
       "\n",
       "    .dataframe thead th {\n",
       "        text-align: right;\n",
       "    }\n",
       "</style>\n",
       "<table border=\"1\" class=\"dataframe\">\n",
       "  <thead>\n",
       "    <tr style=\"text-align: right;\">\n",
       "      <th></th>\n",
       "      <th>rn</th>\n",
       "      <th>direction</th>\n",
       "      <th>cid</th>\n",
       "      <th>s</th>\n",
       "      <th>ub</th>\n",
       "      <th>lb</th>\n",
       "      <th>stoich_str</th>\n",
       "      <th>rn_old</th>\n",
       "    </tr>\n",
       "  </thead>\n",
       "  <tbody>\n",
       "    <tr>\n",
       "      <th>12462</th>\n",
       "      <td>AR11769</td>\n",
       "      <td>forward</td>\n",
       "      <td>C00007</td>\n",
       "      <td>-1.0</td>\n",
       "      <td>0.1</td>\n",
       "      <td>1.000000e-07</td>\n",
       "      <td>NaN</td>\n",
       "      <td>NaN</td>\n",
       "    </tr>\n",
       "    <tr>\n",
       "      <th>12463</th>\n",
       "      <td>AR11769</td>\n",
       "      <td>forward</td>\n",
       "      <td>C11499</td>\n",
       "      <td>-1.0</td>\n",
       "      <td>0.1</td>\n",
       "      <td>1.000000e-07</td>\n",
       "      <td>NaN</td>\n",
       "      <td>NaN</td>\n",
       "    </tr>\n",
       "    <tr>\n",
       "      <th>12464</th>\n",
       "      <td>AR11769</td>\n",
       "      <td>forward</td>\n",
       "      <td>C16588</td>\n",
       "      <td>-1.0</td>\n",
       "      <td>0.1</td>\n",
       "      <td>1.000000e-07</td>\n",
       "      <td>NaN</td>\n",
       "      <td>NaN</td>\n",
       "    </tr>\n",
       "    <tr>\n",
       "      <th>12465</th>\n",
       "      <td>AR11769</td>\n",
       "      <td>forward</td>\n",
       "      <td>C00011</td>\n",
       "      <td>1.0</td>\n",
       "      <td>0.1</td>\n",
       "      <td>1.000000e-07</td>\n",
       "      <td>NaN</td>\n",
       "      <td>NaN</td>\n",
       "    </tr>\n",
       "    <tr>\n",
       "      <th>12466</th>\n",
       "      <td>AR11769</td>\n",
       "      <td>forward</td>\n",
       "      <td>C00094</td>\n",
       "      <td>1.0</td>\n",
       "      <td>0.1</td>\n",
       "      <td>1.000000e-07</td>\n",
       "      <td>NaN</td>\n",
       "      <td>NaN</td>\n",
       "    </tr>\n",
       "    <tr>\n",
       "      <th>12467</th>\n",
       "      <td>AR11769</td>\n",
       "      <td>forward</td>\n",
       "      <td>C01146</td>\n",
       "      <td>1.0</td>\n",
       "      <td>0.1</td>\n",
       "      <td>1.000000e-07</td>\n",
       "      <td>NaN</td>\n",
       "      <td>NaN</td>\n",
       "    </tr>\n",
       "    <tr>\n",
       "      <th>12468</th>\n",
       "      <td>AR11769</td>\n",
       "      <td>forward</td>\n",
       "      <td>C06104</td>\n",
       "      <td>1.0</td>\n",
       "      <td>0.1</td>\n",
       "      <td>1.000000e-07</td>\n",
       "      <td>NaN</td>\n",
       "      <td>NaN</td>\n",
       "    </tr>\n",
       "  </tbody>\n",
       "</table>\n",
       "</div>"
      ],
      "text/plain": [
       "            rn direction     cid    s   ub            lb  stoich_str  rn_old\n",
       "12462  AR11769   forward  C00007 -1.0  0.1  1.000000e-07         NaN     NaN\n",
       "12463  AR11769   forward  C11499 -1.0  0.1  1.000000e-07         NaN     NaN\n",
       "12464  AR11769   forward  C16588 -1.0  0.1  1.000000e-07         NaN     NaN\n",
       "12465  AR11769   forward  C00011  1.0  0.1  1.000000e-07         NaN     NaN\n",
       "12466  AR11769   forward  C00094  1.0  0.1  1.000000e-07         NaN     NaN\n",
       "12467  AR11769   forward  C01146  1.0  0.1  1.000000e-07         NaN     NaN\n",
       "12468  AR11769   forward  C06104  1.0  0.1  1.000000e-07         NaN     NaN"
      ]
     },
     "execution_count": 162,
     "metadata": {},
     "output_type": "execute_result"
    }
   ],
   "source": [
    "ar[(ar.rn == row.rn) & (ar.direction == row.direction)]"
   ]
  },
  {
   "cell_type": "markdown",
   "id": "double-hearts",
   "metadata": {},
   "source": [
    "### Figure 2A: Plot results of network perturbation experiment \n",
    "(simulations performed on a cluster)"
   ]
  },
  {
   "cell_type": "code",
   "execution_count": 34,
   "id": "bridal-delta",
   "metadata": {
    "tags": []
   },
   "outputs": [
    {
     "data": {
      "text/plain": [
       "(0.0, 101.0)"
      ]
     },
     "execution_count": 34,
     "metadata": {},
     "output_type": "execute_result"
    },
    {
     "data": {
      "image/png": "[encoded data removed]",
      "text/plain": [
       "<Figure size 432x432 with 1 Axes>"
      ]
     },
     "metadata": {
      "needs_background": "light"
     },
     "output_type": "display_data"
    }
   ],
   "source": [
    "# create helper function\n",
    "def scatter_plot_label(df,ax,color): \n",
    "    \n",
    "    def plotlabel(xvar, yvar, label):\n",
    "        ax.text(xvar+1, yvar-120, label,color=color)\n",
    "        \n",
    "    #fig = plt.figure(figsize=(30,10))\n",
    "    sns.scatterplot(x = 'iteration', y = 'Scope after removal', data=df,color=color,ax=ax)\n",
    "\n",
    "    # The magic starts here:\n",
    "    df.apply(lambda x: plotlabel(x['iteration'],  x['Scope after removal'], x['cid_name']), axis=1)\n",
    "    \n",
    "cids_all = pd.read_csv('assets/cid2name.csv')\n",
    "y = pd.DataFrame(pd.Series(ne_cpds),columns=['iteration'])\n",
    "#cpd_removal = pd.read_csv('assets/ScopeSizeAfterCompoundRemoval.csv',index_col=0).set_index('cid').join(y)\n",
    "cpd_removal = pd.read_csv('revisions.v1/data/singleCompoundRemoval.v8.csv',index_col=0).set_index('cid').join(y)\n",
    "cpd_removal.columns = ['Scope after removal','iteration']\n",
    "abun = pd.DataFrame(pd.Series(ne_cpds),columns=['iter']).reset_index().groupby('iter').count()\n",
    "abun['compounds (cumulative)'] = abun['index'].cumsum()\n",
    "cpd_removal_names = cpd_removal.join(cids_all.set_index('cid'))\n",
    "\n",
    "\n",
    "fig = plt.figure(figsize=(6, 6))\n",
    "\n",
    "ids = ['Z00035','C00002','C00003','C00061','Z00047','C00010','C00024','C00129','C00007',\"Z00009\",\"C00019\",\"C00016\"]\n",
    "\n",
    "cmap = sns.color_palette(\"Set1\")\n",
    "f = 0.5\n",
    "cm_small = cpd_removal_names[~cpd_removal_names.index.isin(ids)]\n",
    "ax = sns.scatterplot(x='iteration',y='Scope after removal',data=cm_small,color='k',edgecolor='k',rasterized=True,marker=\"o\",alpha=0.3)\n",
    "\n",
    "plt.ylabel('network size (# metabolites)')\n",
    "plt.xlabel('expansion iteration')\n",
    "#plt.xlim([0,110])\n",
    "cm_small = cpd_removal_names[cpd_removal_names.index.isin(ids)]\n",
    "scatter_plot_label(cm_small,ax,cmap[0])\n",
    "sns.lineplot(x='iter',y='compounds (cumulative)',data=abun.reset_index(),color=cmap[1],ax=ax)\n",
    "ax.set_xlim([0,101])\n",
    "#plt.savefig(\"figs/fig2a.new.svg\")\n"
   ]
  },
  {
   "cell_type": "markdown",
   "id": "fluid-lounge",
   "metadata": {},
   "source": [
    "### Figure 2B: Plot results of network expansion with coenzyme addition"
   ]
  },
  {
   "cell_type": "code",
   "execution_count": 18,
   "id": "herbal-grave",
   "metadata": {
    "tags": []
   },
   "outputs": [
    {
     "data": {
      "image/png": "[encoded data removed]",
      "text/plain": [
       "<Figure size 432x154.286 with 1 Axes>"
      ]
     },
     "metadata": {
      "needs_background": "light"
     },
     "output_type": "display_data"
    }
   ],
   "source": [
    "# make figure 2B\n",
    "cpd_added =['C00002','C00004','C00010','C00016','C00019','Z00035','Z00009','Z00047']\n",
    "height = 6\n",
    "plt.figure(figsize=(height,5/14*height))\n",
    "\n",
    "\n",
    "nc,nr = metabolism.expand(seed_set,algorithm='trace')\n",
    "abun = pd.DataFrame(pd.Series(nc),columns=['iter']).reset_index().groupby('iter').count()\n",
    "\n",
    "nc,nr = metabolism.expand(seed_set + cpd_added,algorithm='trace')\n",
    "abun_sub = pd.DataFrame(pd.Series(nc),columns=['iter']).reset_index().groupby('iter').count()\n",
    "\n",
    "\n",
    "nc,nr = metabolism.expand(seed_set + cpd_added + ['C00007'],algorithm='trace')\n",
    "abun_sub2 = pd.DataFrame(pd.Series(nc),columns=['iter']).reset_index().groupby('iter').count()\n",
    "\n",
    "\n",
    "sns.lineplot(x='iter',y='index',data=abun.iloc[0:],color=cmap[1])\n",
    "sns.lineplot(x='iter',y='index',data=abun_sub.iloc[0:],color=cmap[2])\n",
    "sns.lineplot(x='iter',y='index',data=abun_sub2.iloc[0:],color=cmap[3])\n",
    "\n",
    "plt.ylabel('# compounds added \\n at each iteration')\n",
    "plt.xlabel(\"expansion iteration\")\n",
    "plt.xlim([0,101])\n",
    "#plt.ylim([0,255])\n",
    "plt.subplots_adjust(bottom=0.25)\n",
    "plt.legend(['Seed Set','Seed Set + 8 Coenzymes','Seed Set + 8 Coenzymes + O2'])\n",
    "plt.savefig(\"figs/fig2b.svg\")\n"
   ]
  },
  {
   "cell_type": "markdown",
   "id": "combined-juice",
   "metadata": {},
   "source": [
    "### Fig 3A: average molecular complexity vs. expansion iteration"
   ]
  },
  {
   "cell_type": "code",
   "execution_count": 44,
   "id": "motivated-helmet",
   "metadata": {
    "tags": []
   },
   "outputs": [
    {
     "data": {
      "text/plain": [
       "Text(0.1, 0.75, '$r=0.72$ \\n$P<10^{-16}$')"
      ]
     },
     "execution_count": 44,
     "metadata": {},
     "output_type": "execute_result"
    },
    {
     "data": {
      "image/png": "[encoded data removed]",
      "text/plain": [
       "<Figure size 216x216 with 1 Axes>"
      ]
     },
     "metadata": {
      "needs_background": "light"
     },
     "output_type": "display_data"
    }
   ],
   "source": [
    "skws={\"color\": \"black\"}\n",
    "lkws={'color': cmap[0]}\n",
    "complexity = pd.read_csv('assets/kegg_cpds.iterationComplexity.csv',index_col=0)\n",
    "complexity = complexity[['complexity']].join(pd.DataFrame(pd.Series(ne_cpds),columns=['iteration']))\n",
    "sns.lmplot(x='iteration',y='complexity',data=complexity.groupby('iteration').mean().reset_index(),height=3, aspect=1,line_kws=lkws,scatter_kws=skws)\n",
    "plt.xlim([0,105])\n",
    "plt.ylabel('mean molecular complexity')\n",
    "plt.xlabel('expansion iteration')\n",
    "c = complexity.groupby('iteration').mean().reset_index()\n",
    "\n",
    "\n",
    "r,pval = pearsonr(c['iteration'].values,c['complexity'].values)\n",
    "d = int(np.ceil(np.log10(pval)))\n",
    "label = '$r={R}$ \\n'.format(R=round(r,2)) + '$P<10^{' + str(d) + '}$'\n",
    "plt.annotate(label, xy=(0.1, 0.75), xycoords='axes fraction')\n",
    "#plt.savefig(\"figs/fig3a.svg\")"
   ]
  },
  {
   "cell_type": "markdown",
   "id": "micro-veteran",
   "metadata": {},
   "source": [
    "### Fig 3B: average genome representation vs. expansion iteration"
   ]
  },
  {
   "cell_type": "code",
   "execution_count": 21,
   "id": "referenced-scout",
   "metadata": {
    "tags": []
   },
   "outputs": [
    {
     "data": {
      "image/png": "[encoded data removed]",
      "text/plain": [
       "<Figure size 216x216 with 1 Axes>"
      ]
     },
     "metadata": {
      "needs_background": "light"
     },
     "output_type": "display_data"
    }
   ],
   "source": [
    "cpd_df = pd.DataFrame(pd.Series(ne_cpds)).reset_index()\n",
    "cpd_df.columns = ['cid','iteration']\n",
    "md2cpd = pd.read_csv('assets/KEGG_ModuleVsCompound.csv')\n",
    "kegg_modules = pd.read_csv('assets/KEGG_GenomesToModule.csv')\n",
    "genome_cids = kegg_modules.set_index('module').join(md2cpd.set_index('module'))[['genome','cid']].drop_duplicates()\n",
    "genome_cids['count'] = 1\n",
    "genome_cids_counts = genome_cids.groupby('cid').sum()\n",
    "N = len(kegg_modules.genome.unique())\n",
    "ne_genomes_cid = genome_cids_counts.join(cpd_df.set_index('cid'))\n",
    "ne_genomes_cid['genome_percentage']= ne_genomes_cid['count'] / N\n",
    "ne_genomes_cid['expansion'] = ~ne_genomes_cid.iteration.isna()\n",
    "q = ne_genomes_cid.dropna().groupby('iteration').mean().reset_index()\n",
    "\n",
    "\n",
    "skws={\"color\": \"black\"}\n",
    "lkws={'color': cmap[0]}\n",
    "\n",
    "sns.lmplot(x='iteration',y='genome_percentage',data=q,height=3, aspect=1,line_kws=lkws,scatter_kws=skws)\n",
    "plt.xlabel('expansion iteration')\n",
    "plt.ylabel('average proportion of microbial \\n genomes with compound')\n",
    "\n",
    "plt.xlim([0,105])\n",
    "\n",
    "\n",
    "r,pval = pearsonr(q['iteration'].values,q['genome_percentage'].values)\n",
    "d = int(np.ceil(np.log10(pval)))\n",
    "label = '$r={R}$ \\n'.format(R=round(r,2)) + '$P<10^{' + str(d) + '}$'\n",
    "plt.annotate(label, xy=(0.1, 0.1), xycoords='axes fraction')\n",
    "plt.savefig(\"figs/fig3b.svg\")"
   ]
  },
  {
   "cell_type": "markdown",
   "id": "marine-turkey",
   "metadata": {},
   "source": [
    "### Fig 3C: proportion of metal usage vs. expansion iteration"
   ]
  },
  {
   "cell_type": "code",
   "execution_count": 22,
   "id": "found-graham",
   "metadata": {
    "tags": []
   },
   "outputs": [
    {
     "name": "stdout",
     "output_type": "stream",
     "text": [
      "-0.7508999966214155\n",
      "1.535019416650455e-19\n"
     ]
    },
    {
     "data": {
      "image/png": "[encoded data removed]",
      "text/plain": [
       "<Figure size 216x216 with 1 Axes>"
      ]
     },
     "metadata": {
      "needs_background": "light"
     },
     "output_type": "display_data"
    }
   ],
   "source": [
    "# compute the fraction of each iteration that uses a metal\n",
    "\n",
    "# determine proportion of reactions per iteration that use CO2 as reductant\n",
    "rns_tmp = pd.Series(ne_rxns).reset_index()\n",
    "rns_tmp.columns = ['reaction','direction','iteration']\n",
    "mtls = cids[cids['Coenzyme type/function'].isin(['Iron sulfur','Metal','Metal monovalent'])].ZID.tolist()\n",
    "\n",
    "metal_using_reactions = metabolism.network[(metabolism.network.cid.isin(mtls))][['rn','direction']].drop_duplicates()\n",
    "metal_using_reactions = metal_using_reactions.apply(tuple,axis=1).tolist()\n",
    "z = rns_tmp[['reaction','direction']].apply(tuple, axis=1).apply(lambda x: x in metal_using_reactions)\n",
    "rns_tmp['cofactor_usage'] = z\n",
    "rns_tmp['total'] = 1\n",
    "rz = rns_tmp.groupby('iteration').sum()\n",
    "rz = rz['cofactor_usage'] / rz['total']\n",
    "\n",
    "prop = pd.DataFrame(rz,columns = ['prop'])\n",
    "sns.lmplot(x='iteration',y='prop',data=prop.reset_index(),height=3, aspect=1,line_kws=lkws,scatter_kws=skws)\n",
    "plt.xlim([0,105])\n",
    "plt.xlabel('expansion iteration')\n",
    "plt.ylabel('proportion of reactions \\n that use a metal')\n",
    "\n",
    "r,pval = pearsonr(prop.reset_index()['iteration'].values,prop.reset_index()['prop'].values)\n",
    "print(r)\n",
    "print(pval)\n",
    "d = int(np.ceil(np.log10(pval)))\n",
    "label = '$r={R}$ \\n'.format(R=round(r,2)) + '$P<10^{' + str(d) + '}$'\n",
    "plt.annotate(label, xy=(0.6, 0.75), xycoords='axes fraction')\n",
    "plt.savefig(\"figs/fig3c.svg\")"
   ]
  },
  {
   "cell_type": "markdown",
   "id": "circular-walter",
   "metadata": {},
   "source": [
    "### Fig 3D: average fold symmetry score vs. expansion number"
   ]
  },
  {
   "cell_type": "code",
   "execution_count": 46,
   "id": "automatic-campus",
   "metadata": {
    "tags": []
   },
   "outputs": [
    {
     "data": {
      "text/plain": [
       "Text(0.1, 0.1, '$r=-0.7$ \\n$P<10^{-15}$')"
      ]
     },
     "execution_count": 46,
     "metadata": {},
     "output_type": "execute_result"
    },
    {
     "data": {
      "image/png": "[encoded data removed]",
      "text/plain": [
       "<Figure size 216x216 with 1 Axes>"
      ]
     },
     "metadata": {
      "needs_background": "light"
     },
     "output_type": "display_data"
    }
   ],
   "source": [
    "fold2rxns = pd.read_csv('assets/fold2rxn.ec.30Aug2022.p20.csv',index_col=0)\n",
    "fold2rxns.columns = ['rn','rule']\n",
    "# only keepreaction to fold mappings from reactions mapping to a single KO group\n",
    "singleKO = False\n",
    "if singleKO:\n",
    "    rn2ko_count = pd.read_csv(\"/Users/joshuagoldford/Documents/github/network-expansion-assets/assets/reaction.KOCount.csv\")\n",
    "    rn_list_fold_compare = rn2ko_count[rn2ko_count.ko == 1].rn.tolist()\n",
    "    fold2rxns = fold2rxns[fold2rxns.rn.isin(rn_list_fold_compare)]\n",
    "\n",
    "fold2rxns['rule'] = fold2rxns.rule.apply(lambda x: str(x))\n",
    "fold_sym = pd.read_csv(\"assets/xgroup_symmetry.txt\",sep=',',header=None)\n",
    "fold_sym = fold_sym[[0,1,2]]\n",
    "fold_sym.columns = ['Fold','Symmmetry','Score']\n",
    "fold_sym['Fold'] = fold_sym.Fold.apply(lambda x: str(x))\n",
    "\n",
    "rn_folds = {'rn':[],'folds':[]}\n",
    "for rn, dff in fold2rxns.groupby('rn'):\n",
    "    folds = dff.rule.apply(lambda x: x.split('_')).tolist()\n",
    "    F = []\n",
    "    for f in folds:\n",
    "        for ff in f:\n",
    "            F.append(ff)\n",
    "    F = set(F)\n",
    "    rn_folds['rn'].append(rn)\n",
    "    rn_folds['folds'].append(list(F))\n",
    "    \n",
    "rn_folds = pd.DataFrame(rn_folds)\n",
    "rn_folds['average sym'] = rn_folds.folds.apply(lambda x: fold_sym[fold_sym.Fold.isin(x)].Score.mean())\n",
    "rn_folds = rn_folds.dropna()\n",
    "rn_folds['X-groups'] = rn_folds['folds'].apply(lambda x: \";\".join(x))\n",
    "\n",
    "\n",
    "scores = {'iteration': [] ,'mean_symmetry_score': []}\n",
    "\n",
    "for iteration,dff in pd.DataFrame(pd.Series(ne_rxns),columns = ['iteration']).groupby('iteration'):\n",
    "    g = [x[0] for x in dff.index.tolist()]\n",
    "    g = [x.split('_')[0] for x in g]\n",
    "    scores['iteration'].append(iteration)\n",
    "    s = rn_folds[rn_folds.rn.isin(g)]['average sym'].mean()\n",
    "    scores['mean_symmetry_score'].append(s)\n",
    "    \n",
    "scores = pd.DataFrame(scores)\n",
    "scores = scores.dropna()\n",
    "\n",
    "sns.lmplot(x='iteration',y='mean_symmetry_score',data=scores,height=3, aspect=1,line_kws=lkws,scatter_kws=skws)\n",
    "plt.xlim([0,105])\n",
    "plt.ylabel('mean fold repetitiveness')\n",
    "plt.xlabel('expansion iteration')\n",
    "\n",
    "\n",
    "r,pval = pearsonr(scores['iteration'].values,scores['mean_symmetry_score'].values)\n",
    "d = int(np.ceil(np.log10(pval)))\n",
    "label = '$r={R}$ \\n'.format(R=round(r,2)) + '$P<10^{' + str(d) + '}$'\n",
    "plt.annotate(label, xy=(0.1, 0.1), xycoords='axes fraction')\n",
    "#plt.savefig(\"figs/fig3d.svg\")\n",
    "#plt.savefig(\"figs/fig3d_single.svg\")"
   ]
  },
  {
   "cell_type": "markdown",
   "id": "hollow-essay",
   "metadata": {},
   "source": [
    "### Fig 4C: Carbon fixation pathway"
   ]
  },
  {
   "cell_type": "code",
   "execution_count": 16,
   "id": "alone-alcohol",
   "metadata": {
    "tags": []
   },
   "outputs": [
    {
     "data": {
      "text/plain": [
       "Text(0.5, -6.5, 'expansion iteration')"
      ]
     },
     "execution_count": 16,
     "metadata": {},
     "output_type": "execute_result"
    },
    {
     "data": {
      "image/png": "[encoded data removed]",
      "text/plain": [
       "<Figure size 432x108 with 2 Axes>"
      ]
     },
     "metadata": {
      "needs_background": "light"
     },
     "output_type": "display_data"
    }
   ],
   "source": [
    "carbon_fixation = ['M00165','M00173','M00374','M00375','M00376','M00377','ReductiveGlycineModule']\n",
    "\n",
    "module_set = pd.read_csv('assets/carbonFixationModuleRules.v2.csv')\n",
    "# this is a biotin-dependent step, whcih can be performed via PEP carboxylase which always occurs earlier\n",
    "module_set = module_set[~(module_set[\"step\"] == \"C00022 -> C00036\")]\n",
    "module_names = {}\n",
    "module_names['M00165'] = 'Calvin cycle'\n",
    "module_names['M00173'] = 'Reductive citrate cycle'\n",
    "module_names['M00374'] = 'Dicarboxylate-hydroxybutyrate cycle'\n",
    "module_names['M00375'] = 'Hydroxypropionate-hydroxybutylate cycle'\n",
    "module_names['M00376'] = 'Hydroxypropionate bi-cycle'\n",
    "module_names['M00377'] = 'Reductive acetyl-CoA pathway'\n",
    "module_names['ReductiveGlycineModule'] = 'Reductive glycine pathway'\n",
    "\n",
    "iterations = rn_df.iteration.unique().tolist()\n",
    "module_coverage = {'module':[],'iteration':[],'coverage':[]}\n",
    "\n",
    "\n",
    "# make a reaction df with ONLY extant reactions\n",
    "rn_df_extant = rn_df[~rn_df.rn.apply(lambda x: (\"H2Red\" in x) | (\"_RSH\" in x))]\n",
    "\n",
    "\n",
    "for i in iterations:\n",
    "    rsub = rn_df_extant[rn_df_extant.iteration < (i+1)]\n",
    "    #rsub =rn_df[rn_df.iteration < (i+1)]\n",
    "    rsub = rsub.rn_kegg.unique()\n",
    "    for module,mdf in module_set.groupby('module'):\n",
    "        z = mdf.reactions.apply(lambda x: any([y in rsub for y in x.split(',')]))\n",
    "        coverage = z.sum() / len(z)\n",
    "        module_coverage['module'].append(module)\n",
    "        module_coverage['iteration'].append(i)\n",
    "        module_coverage['coverage'].append(coverage)\n",
    "\n",
    "module_coverage = pd.DataFrame(module_coverage)\n",
    "module_coverage_piv = module_coverage.pivot_table(index='iteration',columns='module',values='coverage')\n",
    "\n",
    "M00357 = pd.DataFrame(module_coverage_piv[['M00357.v1','M00357.v2']].max(axis=1))\n",
    "M00357.columns = ['coverage']\n",
    "M00357['module'] = 'M00357'\n",
    "\n",
    "module_coverage = pd.concat([module_coverage,M00357.reset_index()[['module','iteration','coverage']]],axis=0)\n",
    "module_coverage_piv = module_coverage.pivot_table(index='iteration',columns='module',values='coverage')\n",
    "\n",
    "pathway_completion_iteration = pd.Series({x:y[y.coverage == 1].iteration.min() for x,y in module_coverage.groupby('module')})\n",
    "\n",
    "height = 6\n",
    "mods = carbon_fixation\n",
    "q = pd.DataFrame(pathway_completion_iteration.loc[mods].sort_values(),columns = ['iteration']).reset_index().reset_index()\n",
    "q.columns = ['rank','module','iteration']\n",
    "mods = pathway_completion_iteration.loc[mods].sort_values().index.tolist()\n",
    "n = len(mods)\n",
    "plt.figure(figsize=(height,(n/2)/14*height))\n",
    "\n",
    "z = module_coverage_piv[mods].T\n",
    "z.index = [module_names[x] for x in z.index.tolist()]\n",
    "\n",
    "ax = sns.heatmap(z,cmap='flare',yticklabels=True)\n",
    "plt.yticks(rotation=0)\n",
    "\n",
    "#y = q['rank'].values + (n/2 / 10)\n",
    "y = ax.get_yticks()\n",
    "\n",
    "x = q['iteration'].values\n",
    "plt.scatter(x,y,color='yellow')\n",
    "plt.xlabel('expansion iteration')\n",
    "#plt.savefig('carbonfixation.{date}.svg'.format(date=date))\n",
    "#plt.savefig(\"figs/fig4c.svg\")"
   ]
  },
  {
   "cell_type": "code",
   "execution_count": 17,
   "id": "0cb97380-4418-4b49-b314-9d8b46ca9676",
   "metadata": {
    "tags": []
   },
   "outputs": [
    {
     "data": {
      "text/plain": [
       "Text(0.5, -10.357142857142858, 'expansion iteration')"
      ]
     },
     "execution_count": 17,
     "metadata": {},
     "output_type": "execute_result"
    },
    {
     "data": {
      "image/png": "[encoded data removed]",
      "text/plain": [
       "<Figure size 432x77.1429 with 2 Axes>"
      ]
     },
     "metadata": {
      "needs_background": "light"
     },
     "output_type": "display_data"
    }
   ],
   "source": [
    "\n",
    "module_names = {}\n",
    "module_names[\"M00174\"] = \"Methanotrophy\"\n",
    "module_names[\"M00356\"]= \"Methanogenesis (methanol)\"\n",
    "module_names[\"M00357\"] = \"Methanogenesis (acetate)\"\n",
    "module_names[\"M00563\"]= \"Methanogenesis (methylamine)\"\n",
    "module_names[\"M00567\"]= \"Methanogenesis (CO2)\"\n",
    "iterations = rn_df.iteration.unique().tolist()\n",
    "module_coverage = {'module':[],'iteration':[],'coverage':[]}\n",
    "\n",
    "\n",
    "# make a reaction df with ONLY extant reactions\n",
    "rn_df_extant = rn_df[~rn_df.rn.apply(lambda x: (\"H2Red\" in x) | (\"_RSH\" in x))]\n",
    "\n",
    "\n",
    "for i in iterations:\n",
    "    rsub = rn_df_extant[rn_df_extant.iteration < (i+1)]\n",
    "    #rsub =rn_df[rn_df.iteration < (i+1)]\n",
    "    rsub = rsub.rn_kegg.unique()\n",
    "    for module,mdf in module_set.groupby('module'):\n",
    "        z = mdf.reactions.apply(lambda x: any([y in rsub for y in x.split(',')]))\n",
    "        coverage = z.sum() / len(z)\n",
    "        module_coverage['module'].append(module)\n",
    "        module_coverage['iteration'].append(i)\n",
    "        module_coverage['coverage'].append(coverage)\n",
    "\n",
    "module_coverage = pd.DataFrame(module_coverage)\n",
    "module_coverage_piv = module_coverage.pivot_table(index='iteration',columns='module',values='coverage')\n",
    "\n",
    "#module_coverage = pd.concat([module_coverage,M00357.reset_index()[['module','iteration','coverage']]],axis=0)\n",
    "#module_coverage_piv = module_coverage.pivot_table(index='iteration',columns='module',values='coverage')\n",
    "\n",
    "pathway_completion_iteration = pd.Series({x:y[y.coverage == 1].iteration.min() for x,y in module_coverage.groupby('module')})\n",
    "\n",
    "height = 6\n",
    "mods = list(module_names)\n",
    "q = pd.DataFrame(pathway_completion_iteration.loc[mods].sort_values(),columns = ['iteration']).reset_index().reset_index()\n",
    "q.columns = ['rank','module','iteration']\n",
    "mods = pathway_completion_iteration.loc[mods].sort_values().index.tolist()\n",
    "n = len(mods)\n",
    "plt.figure(figsize=(height,(n/2)/14*height))\n",
    "\n",
    "z = module_coverage_piv[mods].T\n",
    "z.index = [module_names[x] for x in z.index.tolist()]\n",
    "\n",
    "ax = sns.heatmap(z,cmap='flare',yticklabels=True)\n",
    "plt.yticks(rotation=0)\n",
    "\n",
    "#y = q['rank'].values + (n/2 / 10)\n",
    "y = ax.get_yticks()\n",
    "\n",
    "x = q['iteration'].values\n",
    "plt.scatter(x,y,color='yellow')\n",
    "plt.xlabel('expansion iteration')\n",
    "#plt.savefig('carbonfixation.{date}.svg'.format(date=date))\n",
    "#plt.savefig(\"figs/fig4d.svg\")"
   ]
  },
  {
   "cell_type": "markdown",
   "id": "declared-green",
   "metadata": {},
   "source": [
    "### Fig 4A: analysis of linear pathways"
   ]
  },
  {
   "cell_type": "code",
   "execution_count": 134,
   "id": "interstate-innocent",
   "metadata": {
    "tags": []
   },
   "outputs": [
    {
     "name": "stderr",
     "output_type": "stream",
     "text": [
      "/Users/joshuagoldford/opt/miniconda3/envs/ne.py3.6/lib/python3.6/site-packages/scipy/stats/stats.py:4196: SpearmanRConstantInputWarning: An input array is constant; the correlation coefficent is not defined.\n",
      "  warnings.warn(SpearmanRConstantInputWarning())\n"
     ]
    },
    {
     "data": {
      "text/plain": [
       "<matplotlib.legend.Legend at 0x7f86960c3f98>"
      ]
     },
     "execution_count": 134,
     "metadata": {},
     "output_type": "execute_result"
    },
    {
     "data": {
      "image/png": "[encoded data removed]",
      "text/plain": [
       "<Figure size 288x288 with 1 Axes>"
      ]
     },
     "metadata": {},
     "output_type": "display_data"
    }
   ],
   "source": [
    "with open(\"assets/parsedLinearModules.pkl\",\"rb\") as filehandler:\n",
    "    parsed_linear_modules = pickle.load(filehandler)\n",
    "    \n",
    "rn_df['rlabel'] = rn_df['rn_kegg'] + '_' + rn_df['direction']\n",
    "\n",
    "iteration_step = []\n",
    "for idx,row in parsed_linear_modules.iterrows():\n",
    "    if rn_df.rlabel.isin(row.rxn_labels).sum() == len(row.rxn_labels):\n",
    "        step_max = rn_df[rn_df.rlabel.isin(row.rxn_labels)].iteration.max()\n",
    "    else:\n",
    "        step_max = np.nan\n",
    "    iteration_step.append(step_max)\n",
    "    \n",
    "parsed_linear_modules['iteration'] = iteration_step\n",
    "\n",
    "\n",
    "module_correlations = {'module':[],'rule_id':[],'r':[],'pval':[],'ivar':[]}\n",
    "for (module,rule),dff in parsed_linear_modules.groupby(['module','rule_id']):\n",
    "    if ~dff.iteration.isna().any():\n",
    "        if len(dff)>1:\n",
    "            r,p = spearmanr(dff.step,dff.iteration)\n",
    "            module_correlations['module'].append(module)\n",
    "            module_correlations['rule_id'].append(rule)\n",
    "            module_correlations['r'].append(r)\n",
    "            module_correlations['pval'].append(p)\n",
    "            module_correlations['ivar'].append(dff.iteration.var())\n",
    "module_correlations = pd.DataFrame(module_correlations)\n",
    "module_correlations = module_correlations[~module_correlations[\"r\"].isna()]\n",
    "\n",
    "retrograde = len(module_correlations[module_correlations.r < -0.99999999])\n",
    "granick = len(module_correlations[module_correlations.r > 0.99999999])\n",
    "mosiac = len(module_correlations) - retrograde - granick\n",
    "\n",
    "plt.figure(figsize=(4,4))\n",
    "cmap2 = sns.color_palette(\"Set2\")\n",
    "plt.pie([retrograde,granick,mosiac],colors=cmap2)\n",
    "plt.legend(['Retrograde','Granick','Mosaic'])\n",
    "#plt.savefig(\"figs/fig4a.svg\")"
   ]
  },
  {
   "cell_type": "code",
   "execution_count": 137,
   "id": "4bfa104a-f65d-4ae9-9ede-b99abe866c93",
   "metadata": {
    "tags": []
   },
   "outputs": [],
   "source": [
    "\n",
    "def classify_mods(r,epsilon=1e-5):\n",
    "    if r < (-1 + epsilon):\n",
    "        return \"Sequential (reverse)\"\n",
    "    elif r > (1 - epsilon):\n",
    "        return \"Sequential (forward)\"\n",
    "    else:\n",
    "        return \"Non-sequential\""
   ]
  },
  {
   "cell_type": "code",
   "execution_count": 138,
   "id": "5b54d437-292f-409c-ab25-0fffad9b089b",
   "metadata": {
    "tags": []
   },
   "outputs": [],
   "source": [
    "ml = module_correlations.copy()\n",
    "ml[\"Class\"]=ml[\"r\"].apply(classify_mods)\n",
    "module_names = pd.read_csv(\"assets/kegg_modules.csv\")\n",
    "ml = ml.set_index(\"module\").join(module_names.set_index(\"md\"))\n",
    "ml = ml[[\"name\",\"rule_id\",\"r\",\"Class\"]].reset_index()\n",
    "ml.columns = [\"KEGG Module ID\",\"Description\",\"Module Variant ID\",\"Spearmen Correlation\",\"Pathway Type\"]"
   ]
  },
  {
   "cell_type": "code",
   "execution_count": 139,
   "id": "b0d4dbb5-b23b-4e18-b03e-2eaac5174f95",
   "metadata": {
    "tags": []
   },
   "outputs": [
    {
     "data": {
      "text/html": [
       "<div>\n",
       "<style scoped>\n",
       "    .dataframe tbody tr th:only-of-type {\n",
       "        vertical-align: middle;\n",
       "    }\n",
       "\n",
       "    .dataframe tbody tr th {\n",
       "        vertical-align: top;\n",
       "    }\n",
       "\n",
       "    .dataframe thead th {\n",
       "        text-align: right;\n",
       "    }\n",
       "</style>\n",
       "<table border=\"1\" class=\"dataframe\">\n",
       "  <thead>\n",
       "    <tr style=\"text-align: right;\">\n",
       "      <th></th>\n",
       "      <th>KEGG Module ID</th>\n",
       "      <th>Description</th>\n",
       "      <th>Module Variant ID</th>\n",
       "      <th>Spearmen Correlation</th>\n",
       "    </tr>\n",
       "    <tr>\n",
       "      <th>Pathway Type</th>\n",
       "      <th></th>\n",
       "      <th></th>\n",
       "      <th></th>\n",
       "      <th></th>\n",
       "    </tr>\n",
       "  </thead>\n",
       "  <tbody>\n",
       "    <tr>\n",
       "      <th>Non-sequential</th>\n",
       "      <td>41</td>\n",
       "      <td>41</td>\n",
       "      <td>41</td>\n",
       "      <td>41</td>\n",
       "    </tr>\n",
       "    <tr>\n",
       "      <th>Sequential (forward)</th>\n",
       "      <td>54</td>\n",
       "      <td>54</td>\n",
       "      <td>54</td>\n",
       "      <td>54</td>\n",
       "    </tr>\n",
       "    <tr>\n",
       "      <th>Sequential (reverse)</th>\n",
       "      <td>15</td>\n",
       "      <td>15</td>\n",
       "      <td>15</td>\n",
       "      <td>15</td>\n",
       "    </tr>\n",
       "  </tbody>\n",
       "</table>\n",
       "</div>"
      ],
      "text/plain": [
       "                      KEGG Module ID  Description  Module Variant ID  \\\n",
       "Pathway Type                                                           \n",
       "Non-sequential                    41           41                 41   \n",
       "Sequential (forward)              54           54                 54   \n",
       "Sequential (reverse)              15           15                 15   \n",
       "\n",
       "                      Spearmen Correlation  \n",
       "Pathway Type                                \n",
       "Non-sequential                          41  \n",
       "Sequential (forward)                    54  \n",
       "Sequential (reverse)                    15  "
      ]
     },
     "execution_count": 139,
     "metadata": {},
     "output_type": "execute_result"
    }
   ],
   "source": [
    "ml.groupby(\"Pathway Type\").count()"
   ]
  },
  {
   "cell_type": "code",
   "execution_count": 140,
   "id": "c415817d-2e1f-4be5-ae83-b692e72c6507",
   "metadata": {
    "tags": []
   },
   "outputs": [],
   "source": [
    "ml.set_index(\"KEGG Module ID\").to_csv(\"SI_tables/S10.csv\")"
   ]
  },
  {
   "cell_type": "markdown",
   "id": "dated-survival",
   "metadata": {},
   "source": [
    "### Fig 4B: Compute emergence time of KEGG modules"
   ]
  },
  {
   "cell_type": "code",
   "execution_count": 141,
   "id": "active-array",
   "metadata": {
    "tags": []
   },
   "outputs": [
    {
     "data": {
      "text/plain": [
       "Text(0.5, 6.800000000000001, 'iteration when pathway is feasible')"
      ]
     },
     "execution_count": 141,
     "metadata": {},
     "output_type": "execute_result"
    },
    {
     "data": {
      "image/png": "[encoded data removed]",
      "text/plain": [
       "<Figure size 324x144 with 1 Axes>"
      ]
     },
     "metadata": {
      "needs_background": "light"
     },
     "output_type": "display_data"
    }
   ],
   "source": [
    "with open(\"assets/parsedModules.pkl\",\"rb\") as filehandler:\n",
    "    parsed_modules = pickle.load(filehandler)\n",
    "\n",
    "moduleEmergence = {'module':[],'rule_id':[],'iteration_emergence':[]}\n",
    "rn_df_no_generic = rn_df[~rn_df.rn.apply(lambda x: \"_g\" in x)]\n",
    "\n",
    "for (module,rule),mdf in parsed_modules.groupby(['module','rule_id']):\n",
    "    mdf['in_expansion'] = mdf.rxn_labels.apply(lambda x: len(rn_df_no_generic[rn_df_no_generic.rlabel.isin(x)])>0)\n",
    "    if mdf.in_expansion.all():\n",
    "        mdf['iteration'] = mdf.rxn_labels.apply(lambda x: rn_df_no_generic[rn_df_no_generic.rlabel.isin(x)].iteration.min())\n",
    "        emergence_time = mdf.groupby('step').min().iteration.max()\n",
    "        moduleEmergence['iteration_emergence'].append(emergence_time)\n",
    "        moduleEmergence['module'].append(module)\n",
    "        moduleEmergence['rule_id'].append(rule)\n",
    "\n",
    "# substitute the manually constructed pathways into automatically parsed KEGG modules\n",
    "memerg = pd.DataFrame(module_coverage.groupby('module').apply(lambda x:  x[x.coverage == 1].iteration.min()))\n",
    "memerg.columns = ['iteration_emergence']\n",
    "memerg = memerg[~memerg.index.isin(['M00357.v1','M00357.v2'])]\n",
    "\n",
    "moduleEmergence = pd.DataFrame(moduleEmergence)\n",
    "moduleEmergenceMin = moduleEmergence.dropna().groupby('module').min()\n",
    "moduleEmergenceMin = pd.concat([moduleEmergenceMin[~moduleEmergenceMin.index.isin(memerg.index.tolist())][['iteration_emergence']],memerg],axis=0)\n",
    "\n",
    "sns.displot(x='iteration_emergence',data=moduleEmergenceMin,height=2,aspect=2.25,color='gray',rug=True)\n",
    "plt.xlabel('iteration when pathway is feasible')\n",
    "#plt.savefig(\"figs/fig4b.svg\")"
   ]
  },
  {
   "cell_type": "code",
   "execution_count": 155,
   "id": "aa8550e5-89cc-46be-9ff3-e862de8d41d2",
   "metadata": {
    "tags": []
   },
   "outputs": [],
   "source": [
    "mx = moduleEmergenceMin.join(module_names.set_index(\"md\")).sort_values(\"iteration_emergence\")"
   ]
  },
  {
   "cell_type": "code",
   "execution_count": 105,
   "id": "2ad04b68-f867-43e7-8ed8-fb4a2aa2da5a",
   "metadata": {},
   "outputs": [],
   "source": [
    "mx[[\"name\",\"iteration_emergence\"]].to_csv(\"SI_tables/S11.csv\")"
   ]
  },
  {
   "cell_type": "code",
   "execution_count": 156,
   "id": "69fc7f97-410c-4ade-a0a8-26d55f64cce1",
   "metadata": {
    "tags": []
   },
   "outputs": [
    {
     "data": {
      "text/html": [
       "<div>\n",
       "<style scoped>\n",
       "    .dataframe tbody tr th:only-of-type {\n",
       "        vertical-align: middle;\n",
       "    }\n",
       "\n",
       "    .dataframe tbody tr th {\n",
       "        vertical-align: top;\n",
       "    }\n",
       "\n",
       "    .dataframe thead th {\n",
       "        text-align: right;\n",
       "    }\n",
       "</style>\n",
       "<table border=\"1\" class=\"dataframe\">\n",
       "  <thead>\n",
       "    <tr style=\"text-align: right;\">\n",
       "      <th></th>\n",
       "      <th>iteration_emergence</th>\n",
       "      <th>name</th>\n",
       "    </tr>\n",
       "    <tr>\n",
       "      <th>module</th>\n",
       "      <th></th>\n",
       "      <th></th>\n",
       "    </tr>\n",
       "  </thead>\n",
       "  <tbody>\n",
       "    <tr>\n",
       "      <th>M00580</th>\n",
       "      <td>8</td>\n",
       "      <td>Pentose phosphate pathway, archaea, fructose 6...</td>\n",
       "    </tr>\n",
       "    <tr>\n",
       "      <th>M00916</th>\n",
       "      <td>11</td>\n",
       "      <td>Pyridoxal-P biosynthesis, R5P + glyceraldehyde...</td>\n",
       "    </tr>\n",
       "    <tr>\n",
       "      <th>M00338</th>\n",
       "      <td>12</td>\n",
       "      <td>Cysteine biosynthesis, homocysteine + serine =...</td>\n",
       "    </tr>\n",
       "    <tr>\n",
       "      <th>M00118</th>\n",
       "      <td>22</td>\n",
       "      <td>Glutathione biosynthesis, glutamate =&gt; glutath...</td>\n",
       "    </tr>\n",
       "    <tr>\n",
       "      <th>M00005</th>\n",
       "      <td>22</td>\n",
       "      <td>PRPP biosynthesis, ribose 5P =&gt; PRPP</td>\n",
       "    </tr>\n",
       "    <tr>\n",
       "      <th>...</th>\n",
       "      <td>...</td>\n",
       "      <td>...</td>\n",
       "    </tr>\n",
       "    <tr>\n",
       "      <th>M00087</th>\n",
       "      <td>75</td>\n",
       "      <td>beta-Oxidation</td>\n",
       "    </tr>\n",
       "    <tr>\n",
       "      <th>M00086</th>\n",
       "      <td>76</td>\n",
       "      <td>beta-Oxidation, acyl-CoA synthesis</td>\n",
       "    </tr>\n",
       "    <tr>\n",
       "      <th>M00100</th>\n",
       "      <td>78</td>\n",
       "      <td>Sphingosine degradation</td>\n",
       "    </tr>\n",
       "    <tr>\n",
       "      <th>M00066</th>\n",
       "      <td>80</td>\n",
       "      <td>Lactosylceramide biosynthesis</td>\n",
       "    </tr>\n",
       "    <tr>\n",
       "      <th>M00113</th>\n",
       "      <td>100</td>\n",
       "      <td>Jasmonic acid biosynthesis</td>\n",
       "    </tr>\n",
       "  </tbody>\n",
       "</table>\n",
       "<p>221 rows × 2 columns</p>\n",
       "</div>"
      ],
      "text/plain": [
       "        iteration_emergence                                               name\n",
       "module                                                                        \n",
       "M00580                    8  Pentose phosphate pathway, archaea, fructose 6...\n",
       "M00916                   11  Pyridoxal-P biosynthesis, R5P + glyceraldehyde...\n",
       "M00338                   12  Cysteine biosynthesis, homocysteine + serine =...\n",
       "M00118                   22  Glutathione biosynthesis, glutamate => glutath...\n",
       "M00005                   22               PRPP biosynthesis, ribose 5P => PRPP\n",
       "...                     ...                                                ...\n",
       "M00087                   75                                     beta-Oxidation\n",
       "M00086                   76                 beta-Oxidation, acyl-CoA synthesis\n",
       "M00100                   78                            Sphingosine degradation\n",
       "M00066                   80                      Lactosylceramide biosynthesis\n",
       "M00113                  100                         Jasmonic acid biosynthesis\n",
       "\n",
       "[221 rows x 2 columns]"
      ]
     },
     "execution_count": 156,
     "metadata": {},
     "output_type": "execute_result"
    }
   ],
   "source": [
    "mx"
   ]
  },
  {
   "cell_type": "code",
   "execution_count": null,
   "id": "83a85db7-6ed4-4ab1-aa9c-68f299e087e2",
   "metadata": {},
   "outputs": [],
   "source": []
  }
 ],
 "metadata": {
  "kernelspec": {
   "display_name": "Python 3.6 (network expansion)",
   "language": "python",
   "name": "ne.py3.6"
  },
  "language_info": {
   "codemirror_mode": {
    "name": "ipython",
    "version": 3
   },
   "file_extension": ".py",
   "mimetype": "text/x-python",
   "name": "python",
   "nbconvert_exporter": "python",
   "pygments_lexer": "ipython3",
   "version": "3.6.13"
  }
 },
 "nbformat": 4,
 "nbformat_minor": 5
}
