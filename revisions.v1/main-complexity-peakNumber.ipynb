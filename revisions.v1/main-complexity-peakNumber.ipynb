{
 "cells": [
  {
   "cell_type": "code",
   "execution_count": 1,
   "id": "70c0a2f8-5e3f-42d3-989a-8696829a03ba",
   "metadata": {
    "tags": []
   },
   "outputs": [
    {
     "name": "stderr",
     "output_type": "stream",
     "text": [
      "/Users/joshuagoldford/opt/miniconda3/envs/ne.py3.6/lib/python3.6/site-packages/outdated/utils.py:18: OutdatedPackageWarning: The package pingouin is out of date. Your version is 0.3.12, the latest is 0.5.3.\n",
      "Set the environment variable OUTDATED_IGNORE=1 to disable these warnings.\n",
      "  **kwargs\n"
     ]
    }
   ],
   "source": [
    "import networkExpansionPy.lib as ne\n",
    "import numpy as np\n",
    "import pandas as pd\n",
    "import pickle as pickle\n",
    "import seaborn as sns\n",
    "import matplotlib.pyplot as plt\n",
    "from scipy.stats import spearmanr,pearsonr,mannwhitneyu\n",
    "from statsmodels.stats.multitest import multipletests\n",
    "plt.rcParams['font.family'] = 'Arial'\n",
    "import pingouin as pg\n",
    "from scipy.signal import find_peaks \n",
    "\n",
    "import warnings\n",
    "from scipy.sparse import (spdiags, SparseEfficiencyWarning, csc_matrix,\n",
    "    csr_matrix, isspmatrix, dok_matrix, lil_matrix, bsr_matrix)\n",
    "warnings.simplefilter('ignore',SparseEfficiencyWarning)\n",
    "\n",
    "# load the metabolism object from the repo\n",
    "model_id = \"metabolism.v8.01May2023.pkl\"\n",
    "metabolism = pd.read_pickle('/Users/joshuagoldford/Documents/github/network-expansion-assets/models/' + model_id)\n",
    "cids = metabolism.coenzymes"
   ]
  },
  {
   "cell_type": "code",
   "execution_count": 3,
   "id": "316d9a79-f23e-4648-96bd-7da4ff3d1f16",
   "metadata": {
    "tags": []
   },
   "outputs": [
    {
     "name": "stdout",
     "output_type": "stream",
     "text": [
      "There were 70 compounds in this seed set...\n",
      "There were 4315 compounds produced in this expansion!\n"
     ]
    }
   ],
   "source": [
    "seed_set = pd.read_csv('../assets/seed_set.csv')['ID'].tolist()\n",
    "\n",
    "print('There were {N} compounds in this seed set...'.format(N=len(seed_set)))\n",
    "\n",
    "ne_cpds,ne_rxns = metabolism.expand(seed_set,algorithm='trace')\n",
    "print('There were {N} compounds produced in this expansion!'.format(N=len(ne_cpds)))\n",
    "\n",
    "# parse data into dataframes\n",
    "rn_df = pd.DataFrame(pd.Series(ne_rxns),columns = ['iteration'])\n",
    "rn_df.reset_index(inplace=True)\n",
    "rn_df.columns = ['rn','direction','iteration']\n",
    "rn_df['rn_kegg']= rn_df['rn'].apply(lambda x: x.split('_')[0])"
   ]
  },
  {
   "cell_type": "code",
   "execution_count": 2,
   "id": "887e81df-3c25-4732-a92e-57e3cfec4837",
   "metadata": {
    "tags": []
   },
   "outputs": [],
   "source": [
    "#complexity = pd.read_csv('../assets/kegg_cpds.iterationComplexity.csv',index_col=0)\n",
    "complexity_metrics = \"../assets/kegg_compound_complexity_metrics.csv\"\n",
    "complexity = pd.read_csv(complexity_metrics,index_col=0).set_index(\"cid\")\n",
    "feature_type = \"bertz\"\n",
    "#complexity = complexity[[feature_type]].join(pd.DataFrame(pd.Series(ne_cpds),columns=['iteration']))\n",
    "complexity = complexity[feature_type].dropna()"
   ]
  },
  {
   "cell_type": "code",
   "execution_count": 14,
   "id": "cb7817a7-f0f0-452c-8db9-dfcb439e40f1",
   "metadata": {
    "tags": []
   },
   "outputs": [],
   "source": [
    "scope = [x for x in list(ne_cpds) if x not in seed_set]\n",
    "complexity = complexity[complexity.index.isin(scope)]"
   ]
  },
  {
   "cell_type": "code",
   "execution_count": 17,
   "id": "bd600faa-7f24-434a-ba68-c2f1eba160df",
   "metadata": {
    "tags": []
   },
   "outputs": [],
   "source": [
    "# run all expansions using single compoudn addition:\n",
    "seed_sets = [seed_set + [x] for x in complexity.index.tolist()]"
   ]
  },
  {
   "cell_type": "code",
   "execution_count": 22,
   "id": "bba4c007-a1cf-413d-b1e1-192051b5b8c9",
   "metadata": {
    "tags": []
   },
   "outputs": [],
   "source": [
    "ne_cpds_list, ne_rxns_list = metabolism.run_expansions_parallel(seed_sets,algorithm=\"trace\")"
   ]
  },
  {
   "cell_type": "code",
   "execution_count": 34,
   "id": "a5f19151-b61c-402a-955f-229dfd963adf",
   "metadata": {
    "tags": []
   },
   "outputs": [],
   "source": [
    "peak_sizes = []\n",
    "for c in ne_cpds_list:\n",
    "    abun = pd.DataFrame(pd.Series(c),columns=['iter']).reset_index().groupby('iter').count()\n",
    "    x = abun[\"index\"].values\n",
    "    z = find_peaks(x, height=0,  distance=5,  prominence=30)\n",
    "    peaks = len(z[0])\n",
    "    peak_sizes.append(peaks)"
   ]
  },
  {
   "cell_type": "code",
   "execution_count": 36,
   "id": "731a367f-f462-4b8c-8705-6c0513512279",
   "metadata": {
    "tags": []
   },
   "outputs": [],
   "source": [
    "complexity = pd.DataFrame(complexity)"
   ]
  },
  {
   "cell_type": "code",
   "execution_count": 38,
   "id": "5473f13d-c10b-4e9f-97c9-8c72fcccba94",
   "metadata": {
    "tags": []
   },
   "outputs": [],
   "source": [
    "complexity[\"peak_sizes\"] = peak_sizes"
   ]
  },
  {
   "cell_type": "code",
   "execution_count": 84,
   "id": "f1b691e4-e5b0-43db-b99f-1e81dfcad3f8",
   "metadata": {
    "tags": []
   },
   "outputs": [
    {
     "data": {
      "text/plain": [
       "<Figure size 216x216 with 0 Axes>"
      ]
     },
     "metadata": {},
     "output_type": "display_data"
    },
    {
     "data": {
      "image/png": "[encoded data removed]",
      "text/plain": [
       "<Figure size 216x216 with 1 Axes>"
      ]
     },
     "metadata": {
      "needs_background": "light"
     },
     "output_type": "display_data"
    }
   ],
   "source": [
    "skws={\"color\": \"black\"}\n",
    "cmap = sns.color_palette(\"Set1\")\n",
    "lkws={'color': cmap[0]}\n",
    "\n",
    "plt.figure(figsize=(3,3))\n",
    "g = sns.lmplot(x=\"peak_sizes\",y=\"bertz\",data=complexity,height=3,line_kws=lkws,scatter_kws=skws)\n",
    "\n",
    "# Rasterize the points\n",
    "for ax in g.axes.flatten():\n",
    "    for c in ax.collections:  # the points are stored as collections\n",
    "        c.set_rasterized(True)\n",
    "        \n",
    "        \n",
    "plt.ylabel(\"Bertz complexity of \\n additional seed molecule\")\n",
    "plt.xlabel(\"# of peaks\")\n",
    "\n",
    "r,pval = pearsonr(complexity['peak_sizes'].values,complexity[feature_type].values)\n",
    "d = int(np.ceil(np.log10(pval)))\n",
    "label = '$r={R}$ \\n'.format(R=round(r,2)) + '$P<10^{' + str(d) + '}$'\n",
    "plt.annotate(label, xy=(0.1, 0.75), xycoords='axes fraction')\n",
    "plt.savefig(\"figs/FigSX_lmPlotSingleMoleculeAdditionComplexity.svg\")"
   ]
  },
  {
   "cell_type": "code",
   "execution_count": 82,
   "id": "afc96320-c5f6-4950-84bf-cb36b57da40f",
   "metadata": {
    "tags": []
   },
   "outputs": [
    {
     "data": {
      "image/png": "[encoded data removed]",
      "text/plain": [
       "<Figure size 216x216 with 1 Axes>"
      ]
     },
     "metadata": {
      "needs_background": "light"
     },
     "output_type": "display_data"
    }
   ],
   "source": [
    "plt.figure(figsize=(3,3))\n",
    "sns.violinplot(x=\"peak_sizes\",y=\"bertz\",data=complexity,height=3,palette=\"Set3\")\n",
    "plt.ylabel(\"Bertz complexity of \\n additional seed molecule\")\n",
    "plt.xlabel(\"# of peaks\")\n",
    "plt.savefig(\"figs/FigSX_violinPlot.SingleMoleculeAdditionComplexity.svg\")"
   ]
  },
  {
   "cell_type": "code",
   "execution_count": 47,
   "id": "8f7a4725-9451-4d02-a500-796e46748998",
   "metadata": {
    "tags": []
   },
   "outputs": [
    {
     "data": {
      "text/plain": [
       "(-0.351561689970934, 1.3616568472495272e-104)"
      ]
     },
     "execution_count": 47,
     "metadata": {},
     "output_type": "execute_result"
    }
   ],
   "source": [
    "pearsonr(complexity[\"peak_sizes\"].values,complexity[feature_type].values)"
   ]
  },
  {
   "cell_type": "code",
   "execution_count": null,
   "id": "eeae626c-fccc-40f6-9370-572fa7334dfe",
   "metadata": {},
   "outputs": [],
   "source": []
  }
 ],
 "metadata": {
  "kernelspec": {
   "display_name": "Python 3.6 (network expansion)",
   "language": "python",
   "name": "ne.py3.6"
  },
  "language_info": {
   "codemirror_mode": {
    "name": "ipython",
    "version": 3
   },
   "file_extension": ".py",
   "mimetype": "text/x-python",
   "name": "python",
   "nbconvert_exporter": "python",
   "pygments_lexer": "ipython3",
   "version": "3.6.13"
  }
 },
 "nbformat": 4,
 "nbformat_minor": 5
}
