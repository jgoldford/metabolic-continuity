{
 "cells": [
  {
   "cell_type": "code",
   "execution_count": 37,
   "id": "f4324f6b-396d-4868-8647-a106ff2b1c1c",
   "metadata": {
    "tags": []
   },
   "outputs": [],
   "source": [
    "import networkExpansionPy.lib as ne\n",
    "import numpy as np\n",
    "import pandas as pd\n",
    "import pickle as pickle\n",
    "import seaborn as sns\n",
    "import matplotlib.pyplot as plt\n",
    "from scipy.stats import spearmanr,pearsonr,mannwhitneyu\n",
    "from statsmodels.stats.multitest import multipletests\n",
    "plt.rcParams['font.family'] = 'Arial'\n",
    "import pingouin as pg\n",
    "import re\n",
    "\n",
    "\n",
    "import warnings\n",
    "from scipy.sparse import (spdiags, SparseEfficiencyWarning, csc_matrix,\n",
    "    csr_matrix, isspmatrix, dok_matrix, lil_matrix, bsr_matrix)\n",
    "warnings.simplefilter('ignore',SparseEfficiencyWarning)\n",
    "\n",
    "def load_data(network_name):\n",
    "    with open(ne.asset_path  + \"/metabolic_networks/\" + network_name,\"rb\") as filehandler:\n",
    "        metabolism = pickle.load(filehandler)\n",
    "    return metabolism\n",
    "\n",
    "# load the metabolism object from the repo\n",
    "model_id = \"metabolism.v8.01May2023.pkl\"\n",
    "metabolism = pd.read_pickle('/Users/joshuagoldford/Documents/github/network-expansion-assets/models/' + model_id)\n",
    "cids = metabolism.coenzymes\n",
    "\n",
    "\n",
    "seed = pd.read_csv('../assets/seed_set.csv')\n",
    "#background = seed[seed[\"Type\"].isin([\"Background\"])].ID.tolist()\n",
    "#cpd_base = seed[~seed[\"Type\"].isin(['Sulfur source',\"Nitrogen source\"])].ID.tolist()\n",
    "carbon_compounds = seed[~seed[\"Type\"].isin([\"Organic carbon\"])].ID.tolist()\n",
    "\n",
    "def get_c_num(formula):\n",
    "    match = re.search('C(\\d+)', formula)\n",
    "    if match:\n",
    "        return  match.group(1)\n",
    "    else:\n",
    "        return 0\n",
    "\n",
    "# get only the compounds with CHO in the formula\n",
    "DOR = pd.read_csv(\"../assets/keggCHOmolecules.reductionState.csv\",index_col=0)\n",
    "DOR[\"c\"]= DOR.formula.apply(lambda x: get_c_num(x))\n",
    "DOR = DOR[~DOR.c.apply(lambda x: x is None)]\n",
    "DOR[\"c\"] = DOR.c.apply(int)"
   ]
  },
  {
   "cell_type": "code",
   "execution_count": 38,
   "id": "eb1ca312-2041-4268-a9ac-30fc2bebef09",
   "metadata": {
    "tags": []
   },
   "outputs": [],
   "source": [
    "import json\n",
    "with open(ne.asset_path + \"/KEGG/compound.json\") as jsonfile:\n",
    "    compounds = json.load(jsonfile)\n"
   ]
  },
  {
   "cell_type": "code",
   "execution_count": 39,
   "id": "e50fc2b7-698a-4e4f-8d09-e54df8f7f5b4",
   "metadata": {
    "tags": []
   },
   "outputs": [],
   "source": [
    "# \n",
    "import json\n",
    "import re\n",
    "\n",
    "with open(ne.asset_path + \"/KEGG/compound.json\") as jsonfile:\n",
    "    compounds = json.load(jsonfile)\n",
    "\n",
    "def get_c_num(formula):\n",
    "    match = re.search('C(\\d+)', formula)\n",
    "    if match:\n",
    "        return  match.group(1)\n",
    "    else:\n",
    "        return 0\n",
    "    \n",
    "num_carbs = {\"cid\":[],\"num_carbons\":[]}\n",
    "for c in compounds:\n",
    "    num_carbons = get_c_num(compounds[c][\"formula\"])\n",
    "    num_carbs[\"cid\"].append(c)\n",
    "    num_carbs[\"num_carbons\"].append(float(num_carbons))\n",
    "    \n",
    "num_carbs = pd.DataFrame(num_carbs)\n",
    "carbon_containing_molecules = num_carbs[num_carbs[\"num_carbons\"] < 7]\n",
    "carbon_containing_molecules = carbon_containing_molecules[carbon_containing_molecules.num_carbons > 0]\n"
   ]
  },
  {
   "cell_type": "code",
   "execution_count": 40,
   "id": "cc3bc86b-57df-4ad8-9f97-0ae98e1ff3c1",
   "metadata": {
    "tags": []
   },
   "outputs": [],
   "source": [
    "carbon_containing_molecules = num_carbs[num_carbs[\"num_carbons\"] < 7]\n",
    "carbon_containing_molecules = carbon_containing_molecules[carbon_containing_molecules.num_carbons > 0]"
   ]
  },
  {
   "cell_type": "code",
   "execution_count": 41,
   "id": "0ce7350b-ace1-445a-a5bc-1964f59f41f7",
   "metadata": {
    "tags": []
   },
   "outputs": [],
   "source": [
    "carbon_containing_molecules = carbon_containing_molecules[carbon_containing_molecules.cid.isin(metabolism.network.cid.unique().tolist())]"
   ]
  },
  {
   "cell_type": "code",
   "execution_count": 42,
   "id": "08f6aa20-9506-4a82-826b-5fd3f2906fb0",
   "metadata": {
    "tags": []
   },
   "outputs": [
    {
     "data": {
      "text/html": [
       "<div>\n",
       "<style scoped>\n",
       "    .dataframe tbody tr th:only-of-type {\n",
       "        vertical-align: middle;\n",
       "    }\n",
       "\n",
       "    .dataframe tbody tr th {\n",
       "        vertical-align: top;\n",
       "    }\n",
       "\n",
       "    .dataframe thead th {\n",
       "        text-align: right;\n",
       "    }\n",
       "</style>\n",
       "<table border=\"1\" class=\"dataframe\">\n",
       "  <thead>\n",
       "    <tr style=\"text-align: right;\">\n",
       "      <th></th>\n",
       "      <th>cid</th>\n",
       "      <th>num_carbons</th>\n",
       "    </tr>\n",
       "  </thead>\n",
       "  <tbody>\n",
       "    <tr>\n",
       "      <th>11</th>\n",
       "      <td>C00012</td>\n",
       "      <td>2.0</td>\n",
       "    </tr>\n",
       "    <tr>\n",
       "      <th>16</th>\n",
       "      <td>C00017</td>\n",
       "      <td>2.0</td>\n",
       "    </tr>\n",
       "    <tr>\n",
       "      <th>21</th>\n",
       "      <td>C00022</td>\n",
       "      <td>3.0</td>\n",
       "    </tr>\n",
       "    <tr>\n",
       "      <th>24</th>\n",
       "      <td>C00025</td>\n",
       "      <td>5.0</td>\n",
       "    </tr>\n",
       "    <tr>\n",
       "      <th>25</th>\n",
       "      <td>C00026</td>\n",
       "      <td>5.0</td>\n",
       "    </tr>\n",
       "    <tr>\n",
       "      <th>...</th>\n",
       "      <td>...</td>\n",
       "      <td>...</td>\n",
       "    </tr>\n",
       "    <tr>\n",
       "      <th>18795</th>\n",
       "      <td>C22360</td>\n",
       "      <td>6.0</td>\n",
       "    </tr>\n",
       "    <tr>\n",
       "      <th>18797</th>\n",
       "      <td>C22362</td>\n",
       "      <td>2.0</td>\n",
       "    </tr>\n",
       "    <tr>\n",
       "      <th>18799</th>\n",
       "      <td>C22364</td>\n",
       "      <td>3.0</td>\n",
       "    </tr>\n",
       "    <tr>\n",
       "      <th>18801</th>\n",
       "      <td>C22367</td>\n",
       "      <td>5.0</td>\n",
       "    </tr>\n",
       "    <tr>\n",
       "      <th>18803</th>\n",
       "      <td>C22369</td>\n",
       "      <td>6.0</td>\n",
       "    </tr>\n",
       "  </tbody>\n",
       "</table>\n",
       "<p>1805 rows × 2 columns</p>\n",
       "</div>"
      ],
      "text/plain": [
       "          cid  num_carbons\n",
       "11     C00012          2.0\n",
       "16     C00017          2.0\n",
       "21     C00022          3.0\n",
       "24     C00025          5.0\n",
       "25     C00026          5.0\n",
       "...       ...          ...\n",
       "18795  C22360          6.0\n",
       "18797  C22362          2.0\n",
       "18799  C22364          3.0\n",
       "18801  C22367          5.0\n",
       "18803  C22369          6.0\n",
       "\n",
       "[1805 rows x 2 columns]"
      ]
     },
     "execution_count": 42,
     "metadata": {},
     "output_type": "execute_result"
    }
   ],
   "source": [
    "carbon_containing_molecules"
   ]
  },
  {
   "cell_type": "code",
   "execution_count": null,
   "id": "4721859b-d695-4231-a01a-0c241ffebd87",
   "metadata": {},
   "outputs": [],
   "source": []
  }
 ],
 "metadata": {
  "kernelspec": {
   "display_name": "Python 3.6 (network expansion)",
   "language": "python",
   "name": "ne.py3.6"
  },
  "language_info": {
   "codemirror_mode": {
    "name": "ipython",
    "version": 3
   },
   "file_extension": ".py",
   "mimetype": "text/x-python",
   "name": "python",
   "nbconvert_exporter": "python",
   "pygments_lexer": "ipython3",
   "version": "3.6.13"
  }
 },
 "nbformat": 4,
 "nbformat_minor": 5
}
