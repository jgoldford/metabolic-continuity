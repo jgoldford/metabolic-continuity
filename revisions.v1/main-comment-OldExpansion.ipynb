{
 "cells": [
  {
   "cell_type": "code",
   "execution_count": 1,
   "id": "be85bd3b-bbd2-41c4-8a53-6936e3a18731",
   "metadata": {
    "tags": []
   },
   "outputs": [],
   "source": [
    "import pandas as pd"
   ]
  },
  {
   "cell_type": "code",
   "execution_count": 4,
   "id": "e6b7af74-ad5d-447c-9b62-965d360f5b1a",
   "metadata": {
    "tags": []
   },
   "outputs": [],
   "source": [
    "df= pd.read_csv(\"../assets/41559_2019_1018_MOESM3_ESM (1)/A-Table 1.csv\",skiprows=[0,1])"
   ]
  },
  {
   "cell_type": "code",
   "execution_count": 15,
   "id": "b0204b33-4460-4a1d-997d-ed8ff00a2c3a",
   "metadata": {
    "tags": []
   },
   "outputs": [],
   "source": [
    "i = df[list(df)[7:]].sum(axis=1).idxmax()\n",
    "cpds = df[list(df)[7:]].loc[i]\n",
    "cpds = cpds[cpds>0].index.tolist()"
   ]
  },
  {
   "cell_type": "code",
   "execution_count": 24,
   "id": "018477f0-05e4-4689-8391-15e059624b64",
   "metadata": {
    "tags": []
   },
   "outputs": [],
   "source": [
    "pd.r"
   ]
  },
  {
   "cell_type": "code",
   "execution_count": null,
   "id": "15471fda-2da6-4296-ba79-5e896fe72741",
   "metadata": {},
   "outputs": [],
   "source": []
  }
 ],
 "metadata": {
  "kernelspec": {
   "display_name": "Python 3.6 (network expansion)",
   "language": "python",
   "name": "ne.py3.6"
  },
  "language_info": {
   "codemirror_mode": {
    "name": "ipython",
    "version": 3
   },
   "file_extension": ".py",
   "mimetype": "text/x-python",
   "name": "python",
   "nbconvert_exporter": "python",
   "pygments_lexer": "ipython3",
   "version": "3.6.13"
  }
 },
 "nbformat": 4,
 "nbformat_minor": 5
}
