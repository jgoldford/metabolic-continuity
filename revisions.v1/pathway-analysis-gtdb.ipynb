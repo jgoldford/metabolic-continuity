{
 "cells": [
  {
   "cell_type": "code",
   "execution_count": 1,
   "id": "439f0515-5ada-4f24-8b76-d2f246acb8c9",
   "metadata": {
    "tags": []
   },
   "outputs": [],
   "source": [
    "import numpy as np\n",
    "import pandas as pd\n",
    "import pickle as pickle\n",
    "import seaborn as sns\n",
    "import matplotlib.pyplot as plt\n",
    "plt.rcParams['font.family'] = 'Arial'"
   ]
  },
  {
   "cell_type": "code",
   "execution_count": 2,
   "id": "0069e79a-b7fd-47bc-8e5c-8502241be867",
   "metadata": {
    "tags": []
   },
   "outputs": [],
   "source": [
    "rn2ko = pd.read_pickle(\"/Users/joshuagoldford/Documents/work/research_projects/fold-expansion/data/rn2ko_map_combined.pkl\")"
   ]
  },
  {
   "cell_type": "code",
   "execution_count": 3,
   "id": "138dbcf6-8238-4ce2-a7b3-6fa53f299546",
   "metadata": {
    "tags": []
   },
   "outputs": [],
   "source": [
    "rn2komap = {\"rn\":[],\"ko_rule\":[]}\n",
    "for rn in list(rn2ko):\n",
    "    kol = [list(x) for x in list(rn2ko[rn])]\n",
    "    for k in kol:\n",
    "        kp = \"+\".join(k)\n",
    "        rn2komap[\"rn\"].append(rn)\n",
    "        rn2komap[\"ko_rule\"].append(kp)\n",
    "rn2komap = pd.DataFrame(rn2komap)\n",
    "rn2komap[\"and_rule\"]= rn2komap[\"ko_rule\"].apply(lambda x: \"+\" in x)"
   ]
  },
  {
   "cell_type": "code",
   "execution_count": 6,
   "id": "8882a6ad-55f0-41c3-8c46-4d0a0931d1c5",
   "metadata": {
    "tags": []
   },
   "outputs": [],
   "source": [
    "carbon_fixation = ['M00165','M00173','M00374','M00375','M00376','M00377','ReductiveGlycineModule']\n",
    "module_set = pd.read_csv('../assets/carbonFixationModuleRules.csv')"
   ]
  },
  {
   "cell_type": "code",
   "execution_count": 10,
   "id": "88e3f506-3ff9-438c-8614-54e6e5822d6a",
   "metadata": {
    "tags": []
   },
   "outputs": [],
   "source": [
    "mdf = module_set[module_set.module.isin(carbon_fixation)]"
   ]
  },
  {
   "cell_type": "code",
   "execution_count": 26,
   "id": "8a053182-6798-4365-b625-0f76a74b5d97",
   "metadata": {
    "tags": []
   },
   "outputs": [],
   "source": [
    "K = []\n",
    "for idx,row in mdf.iterrows():\n",
    "    r = row.reactions.split(\",\")\n",
    "    k = rn2komap[rn2komap.rn.isin(r)].ko_rule.unique().tolist()\n",
    "    k = [x.split(\"+\") for x in k]\n",
    "    K.append(k)\n"
   ]
  },
  {
   "cell_type": "code",
   "execution_count": 28,
   "id": "5bac01c0-d11d-4237-b89b-29227e52ca59",
   "metadata": {
    "tags": []
   },
   "outputs": [
    {
     "name": "stderr",
     "output_type": "stream",
     "text": [
      "/var/folders/17/58pxvfhj0gb_wz2nzgrzc6pc0000gn/T/ipykernel_72520/3741140377.py:1: SettingWithCopyWarning: \n",
      "A value is trying to be set on a copy of a slice from a DataFrame.\n",
      "Try using .loc[row_indexer,col_indexer] = value instead\n",
      "\n",
      "See the caveats in the documentation: https://pandas.pydata.org/pandas-docs/stable/user_guide/indexing.html#returning-a-view-versus-a-copy\n",
      "  mdf[\"KO\"] = K\n"
     ]
    }
   ],
   "source": [
    "mdf[\"KO\"] = K"
   ]
  },
  {
   "cell_type": "code",
   "execution_count": 30,
   "id": "1e7cf8a3-2cce-45a5-a0f2-c2e903b7dade",
   "metadata": {
    "tags": []
   },
   "outputs": [],
   "source": [
    "mdf.to_pickle(\"carbonFixationModulesRules.KOgroups.pkl\")"
   ]
  },
  {
   "cell_type": "code",
   "execution_count": 35,
   "id": "e795cce8-54a0-4359-8cb0-6e41dd5524f9",
   "metadata": {
    "tags": []
   },
   "outputs": [],
   "source": [
    "flat_list = [item for sublist in K for item in sublist]\n",
    "flat_list = [item for sublist in flat_list for item in sublist]\n",
    "len(set(flat_list))"
   ]
  },
  {
   "cell_type": "code",
   "execution_count": 38,
   "id": "75cc8676-6bdc-4aa8-893d-6766fe742114",
   "metadata": {
    "tags": []
   },
   "outputs": [
    {
     "data": {
      "text/plain": [
       "164"
      ]
     },
     "execution_count": 38,
     "metadata": {},
     "output_type": "execute_result"
    }
   ],
   "source": [
    "len(set(flat_list))"
   ]
  },
  {
   "cell_type": "code",
   "execution_count": null,
   "id": "647746d3-9172-48bf-9fbb-d732f8ef4780",
   "metadata": {},
   "outputs": [],
   "source": []
  }
 ],
 "metadata": {
  "kernelspec": {
   "display_name": "Py3.8 (informatics.v2)",
   "language": "python",
   "name": "informatics.p38"
  },
  "language_info": {
   "codemirror_mode": {
    "name": "ipython",
    "version": 3
   },
   "file_extension": ".py",
   "mimetype": "text/x-python",
   "name": "python",
   "nbconvert_exporter": "python",
   "pygments_lexer": "ipython3",
   "version": "3.8.16"
  }
 },
 "nbformat": 4,
 "nbformat_minor": 5
}
