{
 "cells": [
  {
   "cell_type": "code",
   "execution_count": 30,
   "id": "97c6ad9c-16ca-485c-a31e-2aa5f3c5a3ba",
   "metadata": {
    "tags": []
   },
   "outputs": [],
   "source": [
    "import networkExpansionPy.lib as ne\n",
    "import numpy as np\n",
    "import pandas as pd\n",
    "import pickle as pickle\n",
    "import seaborn as sns\n",
    "import matplotlib.pyplot as plt\n",
    "from scipy.stats import spearmanr,pearsonr,mannwhitneyu\n",
    "from statsmodels.stats.multitest import multipletests\n",
    "plt.rcParams['font.family'] = 'Arial'\n",
    "\n",
    "import warnings\n",
    "from scipy.sparse import (spdiags, SparseEfficiencyWarning, csc_matrix,\n",
    "    csr_matrix, isspmatrix, dok_matrix, lil_matrix, bsr_matrix)\n",
    "warnings.simplefilter('ignore',SparseEfficiencyWarning)\n",
    "\n",
    "def load_data(network_name):\n",
    "    with open(ne.asset_path  + \"/metabolic_networks/\" + network_name,\"rb\") as filehandler:\n",
    "        metabolism = pickle.load(filehandler)\n",
    "    return metabolism\n",
    "\n",
    "# load the metabolism object from the repo\n",
    "#metabolism = load_data('metabolism.23Aug2022.pkl')\n",
    "#model_id = \"metabolism.v4.20Mar2023.pkl\"\n",
    "#model_id = \"metabolism.v5.12Apr2023.pkl\"\n",
    "model_id = \"metabolism.v8.01May2023.pkl\"\n",
    "metabolism = pd.read_pickle('/Users/joshuagoldford/Documents/github/network-expansion-assets/models/' + model_id)\n",
    "cids = metabolism.coenzymes"
   ]
  },
  {
   "cell_type": "code",
   "execution_count": 31,
   "id": "dbbe24e2-62ef-4ffc-afa3-b5f4dbfd688c",
   "metadata": {
    "tags": []
   },
   "outputs": [
    {
     "name": "stdout",
     "output_type": "stream",
     "text": [
      "There were 70 compounds in this seed set...\n",
      "There were 4315 compounds produced in this expansion!\n"
     ]
    }
   ],
   "source": [
    "# run expansion\n",
    "seed_set = pd.read_csv('../assets/seed_set.csv')['ID'].tolist()\n",
    "\n",
    "#seed_df = pd.read_csv('assets/seed_set.csv')\n",
    "#seed_set = seed_df[~seed_df.Type.isin([\"Organic carbon\"])].ID.tolist()\n",
    "#seed_set = seed_set + [\"C00010\"]\n",
    "\n",
    "print('There were {N} compounds in this seed set...'.format(N=len(seed_set)))\n",
    "\n",
    "ne_cpds,ne_rxns = metabolism.expand(seed_set,algorithm='trace')\n",
    "print('There were {N} compounds produced in this expansion!'.format(N=len(ne_cpds)))\n",
    "\n",
    "# parse data into dataframes\n",
    "rn_df = pd.DataFrame(pd.Series(ne_rxns),columns = ['iteration'])\n",
    "rn_df.reset_index(inplace=True)\n",
    "rn_df.columns = ['rn','direction','iteration']\n",
    "rn_df['rn_kegg']= rn_df['rn'].apply(lambda x: x.split('_')[0])\n"
   ]
  },
  {
   "cell_type": "code",
   "execution_count": 32,
   "id": "0dbc4712-0ca3-4854-be66-db6abfeca7d7",
   "metadata": {
    "tags": []
   },
   "outputs": [],
   "source": [
    "# for each compound, store a set of reacions that will be masked for each expansion\n",
    "cpd_to_remove = [x for x in list(ne_cpds) if x not in seed_set]\n",
    "\n",
    "rxns_to_remove = {}\n",
    "for c in cpd_to_remove:\n",
    "    r = metabolism.network[metabolism.network.cid == c][[\"rn\",\"direction\"]].drop_duplicates()\n",
    "    rxns_to_remove[c] = list(zip(r[\"rn\"].values,r[\"direction\"].values))\n",
    "    \n",
    "rxns_to_remove = list(rxns_to_remove.values())    "
   ]
  },
  {
   "cell_type": "code",
   "execution_count": 33,
   "id": "01375c39-52d1-4512-bdb1-ac356c877d42",
   "metadata": {
    "tags": []
   },
   "outputs": [
    {
     "data": {
      "text/plain": [
       "4248"
      ]
     },
     "execution_count": 33,
     "metadata": {},
     "output_type": "execute_result"
    }
   ],
   "source": [
    "len(rxns_to_remove)"
   ]
  },
  {
   "cell_type": "code",
   "execution_count": 35,
   "id": "4d1970f1-23df-4121-a01b-d4aa74215cb5",
   "metadata": {
    "tags": []
   },
   "outputs": [
    {
     "name": "stderr",
     "output_type": "stream",
     "text": [
      "ERROR:root:Internal Python error in the inspect module.\n",
      "Below is the traceback from this internal error.\n",
      "\n",
      "\n",
      "KeyboardInterrupt\n",
      "\n"
     ]
    }
   ],
   "source": [
    "cx,rx = metabolism.run_expansions_reactionMasks_parallel(seed_set, rxns_to_remove)\n",
    "del rx\n",
    "# only keep network sizes\n",
    "cx = [len(x) for x in cx]\n",
    "results = pd.DataFrame({\"cid\":cpd_to_remove,\"Scope after removal\":cx})"
   ]
  },
  {
   "cell_type": "code",
   "execution_count": null,
   "id": "eb998483-535c-420f-a229-28801abe42ec",
   "metadata": {},
   "outputs": [],
   "source": []
  }
 ],
 "metadata": {
  "kernelspec": {
   "display_name": "Python 3.6 (network expansion)",
   "language": "python",
   "name": "ne.py3.6"
  },
  "language_info": {
   "codemirror_mode": {
    "name": "ipython",
    "version": 3
   },
   "file_extension": ".py",
   "mimetype": "text/x-python",
   "name": "python",
   "nbconvert_exporter": "python",
   "pygments_lexer": "ipython3",
   "version": "3.6.13"
  }
 },
 "nbformat": 4,
 "nbformat_minor": 5
}
