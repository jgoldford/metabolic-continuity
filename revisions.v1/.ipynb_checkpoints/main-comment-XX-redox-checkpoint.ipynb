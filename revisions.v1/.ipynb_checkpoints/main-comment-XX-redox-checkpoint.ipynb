{
 "cells": [
  {
   "cell_type": "markdown",
   "id": "elementary-accreditation",
   "metadata": {},
   "source": [
    "# Description\n",
    "Notebook to run simulations for Referee comment 4.2, on using the Meteoric Seed Set instead of our seed set during expansion"
   ]
  },
  {
   "cell_type": "markdown",
   "id": "liked-setup",
   "metadata": {},
   "source": [
    "### Load packages"
   ]
  },
  {
   "cell_type": "code",
   "execution_count": 25,
   "id": "driving-carol",
   "metadata": {
    "tags": []
   },
   "outputs": [],
   "source": [
    "import networkExpansionPy.lib as ne\n",
    "import numpy as np\n",
    "import pandas as pd\n",
    "import pickle as pickle\n",
    "import seaborn as sns\n",
    "import matplotlib.pyplot as plt\n",
    "from scipy.stats import spearmanr,pearsonr,mannwhitneyu\n",
    "from statsmodels.stats.multitest import multipletests\n",
    "plt.rcParams['font.family'] = 'Arial'\n",
    "\n",
    "import warnings\n",
    "from scipy.sparse import (spdiags, SparseEfficiencyWarning, csc_matrix,\n",
    "    csr_matrix, isspmatrix, dok_matrix, lil_matrix, bsr_matrix)\n",
    "warnings.simplefilter('ignore',SparseEfficiencyWarning)\n",
    "\n",
    "def load_data(network_name):\n",
    "    with open(ne.asset_path  + \"/metabolic_networks/\" + network_name,\"rb\") as filehandler:\n",
    "        metabolism = pickle.load(filehandler)\n",
    "    return metabolism\n",
    "\n",
    "# load the metabolism object from the repo\n",
    "metabolism = load_data('metabolism.23Aug2022.pkl')\n",
    "#model_id = \"metabolism.v4.20Mar2023.pkl\"\n",
    "#model_id = \"metabolism.v5.12Apr2023.pkl\"\n",
    "#metabolism = pd.read_pickle('/Users/joshuagoldford/Documents/github/network-expansion-assets/models/' + model_id)\n",
    "cids = metabolism.coenzymes"
   ]
  },
  {
   "cell_type": "code",
   "execution_count": 26,
   "id": "adcea149-c640-4294-9078-4d60766f6355",
   "metadata": {
    "tags": []
   },
   "outputs": [],
   "source": [
    "seed = pd.read_csv('../assets/seed_set.csv')\n",
    "background = seed[seed[\"Type\"].isin([\"Background\"])].ID.tolist()\n",
    "cpd_base = seed[~seed[\"Type\"].isin(['Sulfur source',\"Nitrogen source\"])].ID.tolist()"
   ]
  },
  {
   "cell_type": "code",
   "execution_count": 27,
   "id": "feb416e6-3245-49f5-8c2c-05dae24b52cd",
   "metadata": {
    "tags": []
   },
   "outputs": [],
   "source": [
    "\n",
    "\n",
    "# create dictionary with cid mappings\n",
    "\n",
    "nitrogen_sources = {\n",
    "    \"Ammonia\": \"C00014\",\n",
    "    \"Nitrate\": \"C00244\",\n",
    "    \"Nitrite\": \"C00088\",\n",
    "    \"Hydroxylamine\": \"C00192\"}\n",
    "    \n",
    "sulfur_sources = {  \n",
    "    \"Sulfide\": \"C00283\",\n",
    "    \"Sulfite\": \"C00094\",\n",
    "    \"Sulfate\": \"C00059\",\n",
    "    \"Thiosulfate\": \"C00320\",\n",
    "    \"Sulfur dioxide\":\"C09306\",\n",
    "    \"Elemental sulfur\": \"C00087\"\n",
    "}\n",
    "\n",
    "# create dictionary with oxidation states\n",
    "nitrogen_sources_oxidation_states = {\n",
    "    \"Ammonia\": -3,        # C00014\n",
    "    \"Nitrate\": 5,         # C00244\n",
    "    \"Nitrite\": 3,         # C00088\n",
    "    \"Hydroxylamine\": 1,   # C00192\n",
    "}\n",
    "\n",
    "sulfur_sources_oxidation_states = {\n",
    "    \"Sulfide\": -2,              # C00283\n",
    "    \"Sulfite\": 4,               # C00094\n",
    "    \"Sulfate\": 6,               # C00059\n",
    "    \"Thiosulfate\": [2, 6],      # C00320\n",
    "    \"Sulfur dioxide\": 4,        # C09306\n",
    "    \"Elemental sulfur\": 0,      # C00087\n",
    "}\n"
   ]
  },
  {
   "cell_type": "markdown",
   "id": "figured-breakdown",
   "metadata": {},
   "source": [
    "### Run network expansion -- different N and S sources"
   ]
  },
  {
   "cell_type": "code",
   "execution_count": 28,
   "id": "dec44820-f21f-40d9-99b8-be834cadeeb3",
   "metadata": {
    "tags": []
   },
   "outputs": [],
   "source": [
    "results = {\"nitrogen\":[],\"sulfur\":[],\"network_size\":[],\"ne_cpds\":[]}\n",
    "for n in list(nitrogen_sources):\n",
    "    for s in list(sulfur_sources):\n",
    "        seed_set = cpd_base + [sulfur_sources[s],nitrogen_sources[n]]\n",
    "        ne_cpds,ne_rxns = metabolism.expand(seed_set,algorithm='trace')\n",
    "        results[\"nitrogen\"].append(n)\n",
    "        results[\"sulfur\"].append(s)\n",
    "        results[\"network_size\"].append(len(ne_cpds))\n",
    "        results[\"ne_cpds\"].append(ne_cpds)\n",
    "\n",
    "results = pd.DataFrame(results)"
   ]
  },
  {
   "cell_type": "code",
   "execution_count": 40,
   "id": "f8712696-2b39-4dbb-ae8f-c3e7b0dfeb64",
   "metadata": {
    "tags": []
   },
   "outputs": [],
   "source": [
    "# sort by oxidation state of the sulfur or nitrogen source\n",
    "sorder = pd.Series({x:np.min(y) for x,y in sulfur_sources_oxidation_states.items()}).sort_values().index.tolist()\n",
    "norder = pd.Series({x:np.min(y) for x,y in nitrogen_sources_oxidation_states.items()}).sort_values().index.tolist()"
   ]
  },
  {
   "cell_type": "code",
   "execution_count": 50,
   "id": "7f8e0aef-53ce-4554-9ef8-3081a94bcb70",
   "metadata": {
    "tags": []
   },
   "outputs": [
    {
     "data": {
      "text/plain": [
       "Text(0, 0.5, 'network size')"
      ]
     },
     "execution_count": 50,
     "metadata": {},
     "output_type": "execute_result"
    },
    {
     "data": {
      "image/png": "[encoded data removed]",
      "text/plain": [
       "<Figure size 432x288 with 1 Axes>"
      ]
     },
     "metadata": {
      "needs_background": "light"
     },
     "output_type": "display_data"
    }
   ],
   "source": [
    "sns.barplot(x=\"nitrogen\",y=\"network_size\",hue=\"sulfur\",data=results,palette=\"Set2\",hue_order=sorder)\n",
    "plt.ylabel(\"network size\")\n",
    "plt.savefig(\"figs/nitrogen_vs_sulfur_sources.svg\")"
   ]
  },
  {
   "cell_type": "code",
   "execution_count": 55,
   "id": "248de7f7-d201-4e97-b74a-eece9da607b9",
   "metadata": {
    "tags": []
   },
   "outputs": [],
   "source": [
    "# (ii) randomize the seed set to control for state of reduction in organic compounds  \n",
    "seed = pd.read_csv('../assets/seed_set.csv')\n",
    "cpd_base = seed[~seed[\"Type\"].isin([\"Organic carbon\"])].ID.tolist()"
   ]
  },
  {
   "cell_type": "markdown",
   "id": "c9fe5a61-713e-48da-85c0-200d8032f3da",
   "metadata": {
    "tags": []
   },
   "source": [
    "### Run network expansion with many samples of CHO molecules at different DORs"
   ]
  },
  {
   "cell_type": "code",
   "execution_count": 58,
   "id": "e0b4812f-7987-43b2-bb51-3e875159f6ff",
   "metadata": {
    "tags": []
   },
   "outputs": [
    {
     "ename": "KeyboardInterrupt",
     "evalue": "",
     "output_type": "error",
     "traceback": [
      "\u001b[0;31m---------------------------------------------------------------------------\u001b[0m",
      "\u001b[0;31mKeyboardInterrupt\u001b[0m                         Traceback (most recent call last)",
      "\u001b[0;32m<ipython-input-58-c4f604ca1c87>\u001b[0m in \u001b[0;36m<module>\u001b[0;34m\u001b[0m\n\u001b[1;32m     14\u001b[0m     \u001b[0mc_lower\u001b[0m \u001b[0;34m=\u001b[0m \u001b[0mdg\u001b[0m\u001b[0;34m[\u001b[0m\u001b[0mdg\u001b[0m\u001b[0;34m.\u001b[0m\u001b[0mreduction\u001b[0m \u001b[0;34m<\u001b[0m \u001b[0mr_lower\u001b[0m\u001b[0;34m]\u001b[0m\u001b[0;34m.\u001b[0m\u001b[0msample\u001b[0m\u001b[0;34m(\u001b[0m\u001b[0mN\u001b[0m\u001b[0;34m)\u001b[0m\u001b[0;34m.\u001b[0m\u001b[0mcid\u001b[0m\u001b[0;34m.\u001b[0m\u001b[0mtolist\u001b[0m\u001b[0;34m(\u001b[0m\u001b[0;34m)\u001b[0m\u001b[0;34m\u001b[0m\u001b[0;34m\u001b[0m\u001b[0m\n\u001b[1;32m     15\u001b[0m     \u001b[0ms\u001b[0m \u001b[0;34m=\u001b[0m \u001b[0mc_lower\u001b[0m \u001b[0;34m+\u001b[0m \u001b[0mseed_set_base\u001b[0m\u001b[0;34m\u001b[0m\u001b[0;34m\u001b[0m\u001b[0m\n\u001b[0;32m---> 16\u001b[0;31m     \u001b[0mnec\u001b[0m\u001b[0;34m,\u001b[0m\u001b[0mner\u001b[0m \u001b[0;34m=\u001b[0m \u001b[0mmetabolism\u001b[0m\u001b[0;34m.\u001b[0m\u001b[0mexpand\u001b[0m\u001b[0;34m(\u001b[0m\u001b[0ms\u001b[0m\u001b[0;34m,\u001b[0m\u001b[0malgorithm\u001b[0m\u001b[0;34m=\u001b[0m\u001b[0;34m'naive'\u001b[0m\u001b[0;34m)\u001b[0m\u001b[0;34m\u001b[0m\u001b[0;34m\u001b[0m\u001b[0m\n\u001b[0m\u001b[1;32m     17\u001b[0m     \u001b[0mr\u001b[0m \u001b[0;34m=\u001b[0m \u001b[0mdg\u001b[0m\u001b[0;34m[\u001b[0m\u001b[0mdg\u001b[0m\u001b[0;34m.\u001b[0m\u001b[0mcid\u001b[0m\u001b[0;34m.\u001b[0m\u001b[0misin\u001b[0m\u001b[0;34m(\u001b[0m\u001b[0mc_lower\u001b[0m\u001b[0;34m)\u001b[0m\u001b[0;34m]\u001b[0m\u001b[0;34m.\u001b[0m\u001b[0mreduction\u001b[0m\u001b[0;34m.\u001b[0m\u001b[0mmean\u001b[0m\u001b[0;34m(\u001b[0m\u001b[0;34m)\u001b[0m\u001b[0;34m\u001b[0m\u001b[0;34m\u001b[0m\u001b[0m\n\u001b[1;32m     18\u001b[0m     \u001b[0msimulations\u001b[0m\u001b[0;34m[\u001b[0m\u001b[0;34m\"mean_dor\"\u001b[0m\u001b[0;34m]\u001b[0m\u001b[0;34m.\u001b[0m\u001b[0mappend\u001b[0m\u001b[0;34m(\u001b[0m\u001b[0mr\u001b[0m\u001b[0;34m)\u001b[0m\u001b[0;34m\u001b[0m\u001b[0;34m\u001b[0m\u001b[0m\n",
      "\u001b[0;32m~/Documents/github/networkExpansionPy/networkExpansionPy/lib.py\u001b[0m in \u001b[0;36mexpand\u001b[0;34m(self, seedSet, algorithm, reaction_mask)\u001b[0m\n\u001b[1;32m    508\u001b[0m         \u001b[0;31m#R = (self.S < 0)*1\u001b[0m\u001b[0;34m\u001b[0m\u001b[0;34m\u001b[0m\u001b[0;34m\u001b[0m\u001b[0m\n\u001b[1;32m    509\u001b[0m         \u001b[0;31m#P = (self.S > 0)*1\u001b[0m\u001b[0;34m\u001b[0m\u001b[0;34m\u001b[0m\u001b[0;34m\u001b[0m\u001b[0m\n\u001b[0;32m--> 510\u001b[0;31m         \u001b[0mR\u001b[0m\u001b[0;34m,\u001b[0m\u001b[0mP\u001b[0m \u001b[0;34m=\u001b[0m \u001b[0mself\u001b[0m\u001b[0;34m.\u001b[0m\u001b[0mcreate_RP_from_irreversible_network\u001b[0m\u001b[0;34m(\u001b[0m\u001b[0;34m)\u001b[0m\u001b[0;34m\u001b[0m\u001b[0;34m\u001b[0m\u001b[0m\n\u001b[0m\u001b[1;32m    511\u001b[0m         \u001b[0mb\u001b[0m \u001b[0;34m=\u001b[0m \u001b[0msum\u001b[0m\u001b[0;34m(\u001b[0m\u001b[0mR\u001b[0m\u001b[0;34m)\u001b[0m\u001b[0;34m\u001b[0m\u001b[0;34m\u001b[0m\u001b[0m\n\u001b[1;32m    512\u001b[0m \u001b[0;34m\u001b[0m\u001b[0m\n",
      "\u001b[0;32m~/Documents/github/networkExpansionPy/networkExpansionPy/lib.py\u001b[0m in \u001b[0;36mcreate_RP_from_irreversible_network\u001b[0;34m(self)\u001b[0m\n\u001b[1;32m    470\u001b[0m \u001b[0;34m\u001b[0m\u001b[0m\n\u001b[1;32m    471\u001b[0m         \u001b[0;32mfor\u001b[0m \u001b[0mc\u001b[0m\u001b[0;34m,\u001b[0m\u001b[0mr\u001b[0m\u001b[0;34m,\u001b[0m\u001b[0md\u001b[0m\u001b[0;34m,\u001b[0m\u001b[0ms\u001b[0m \u001b[0;32min\u001b[0m \u001b[0mzip\u001b[0m\u001b[0;34m(\u001b[0m\u001b[0mreactant_network\u001b[0m\u001b[0;34m[\u001b[0m\u001b[0;34m\"cid\"\u001b[0m\u001b[0;34m]\u001b[0m\u001b[0;34m,\u001b[0m\u001b[0mreactant_network\u001b[0m\u001b[0;34m[\u001b[0m\u001b[0;34m\"rn\"\u001b[0m\u001b[0;34m]\u001b[0m\u001b[0;34m,\u001b[0m\u001b[0mreactant_network\u001b[0m\u001b[0;34m[\u001b[0m\u001b[0;34m\"direction\"\u001b[0m\u001b[0;34m]\u001b[0m\u001b[0;34m,\u001b[0m\u001b[0mreactant_network\u001b[0m\u001b[0;34m[\u001b[0m\u001b[0;34m\"s\"\u001b[0m\u001b[0;34m]\u001b[0m\u001b[0;34m)\u001b[0m\u001b[0;34m:\u001b[0m\u001b[0;34m\u001b[0m\u001b[0;34m\u001b[0m\u001b[0m\n\u001b[0;32m--> 472\u001b[0;31m             \u001b[0mR\u001b[0m\u001b[0;34m[\u001b[0m\u001b[0mself\u001b[0m\u001b[0;34m.\u001b[0m\u001b[0mcid_to_idx\u001b[0m\u001b[0;34m[\u001b[0m\u001b[0mc\u001b[0m\u001b[0;34m]\u001b[0m\u001b[0;34m,\u001b[0m\u001b[0mself\u001b[0m\u001b[0;34m.\u001b[0m\u001b[0mrid_to_idx\u001b[0m\u001b[0;34m[\u001b[0m\u001b[0;34m(\u001b[0m\u001b[0mr\u001b[0m\u001b[0;34m,\u001b[0m\u001b[0md\u001b[0m\u001b[0;34m)\u001b[0m\u001b[0;34m]\u001b[0m\u001b[0;34m]\u001b[0m \u001b[0;34m=\u001b[0m \u001b[0;36m1\u001b[0m\u001b[0;34m\u001b[0m\u001b[0;34m\u001b[0m\u001b[0m\n\u001b[0m\u001b[1;32m    473\u001b[0m \u001b[0;34m\u001b[0m\u001b[0m\n\u001b[1;32m    474\u001b[0m         \u001b[0;31m# only use entries in teh network dataframe with s > 0:\u001b[0m\u001b[0;34m\u001b[0m\u001b[0;34m\u001b[0m\u001b[0;34m\u001b[0m\u001b[0m\n",
      "\u001b[0;31mKeyboardInterrupt\u001b[0m: "
     ]
    }
   ],
   "source": [
    "seeds = pd.read_csv('../assets/seed_set.csv')\n",
    "dor = pd.read_csv(\"../assets/keggCHOmolecules.reductionState.csv\")\n",
    "seed_set_base = seeds[~seeds.Type.isin([\"Organic carbon\"])].ID.tolist()\n",
    "dg = dor.sort_values(\"reduction\")\n",
    "\n",
    "r_upper = dg.reduction.quantile(q=0.75)\n",
    "r_lower = dg.reduction.quantile(q=0.25)\n",
    "\n",
    "samples = 500\n",
    "N = 21\n",
    "simulations = {\"mean_dor\":[],\"ne_size\":[],\"dtype\":[]}\n",
    "\n",
    "for i in range(samples):\n",
    "    c_lower = dg[dg.reduction < r_lower].sample(N).cid.tolist()\n",
    "    s = c_lower + seed_set_base\n",
    "    nec,ner = metabolism.expand(s,algorithm='naive')\n",
    "    r = dg[dg.cid.isin(c_lower)].reduction.mean()\n",
    "    simulations[\"mean_dor\"].append(r)\n",
    "    simulations[\"ne_size\"].append(len(nec))\n",
    "    simulations[\"dtype\"].append(\"lower\")\n",
    "\n",
    "    \n",
    "for i in range(samples):\n",
    "    c_upper = dg[dg.reduction > r_upper].sample(N).cid.tolist()\n",
    "    s = c_upper + seed_set_base\n",
    "    nec,ner = metabolism.expand(s,algorithm='naive')\n",
    "    r = dg[dg.cid.isin(c_upper)].reduction.mean()\n",
    "    simulations[\"mean_dor\"].append(r)\n",
    "    simulations[\"ne_size\"].append(len(nec))\n",
    "    simulations[\"dtype\"].append(\"higher\")\n",
    "    \n",
    "simulations = pd.DataFrame(simulations)\n"
   ]
  },
  {
   "cell_type": "code",
   "execution_count": 63,
   "id": "74aac543-e3fe-4139-8ee6-13e77a4f0a22",
   "metadata": {
    "tags": []
   },
   "outputs": [
    {
     "data": {
      "text/plain": [
       "212"
      ]
     },
     "execution_count": 63,
     "metadata": {},
     "output_type": "execute_result"
    }
   ],
   "source": [
    "len(simulations[\"mean_dor\"])"
   ]
  },
  {
   "cell_type": "code",
   "execution_count": 64,
   "id": "3ea68605-e6dc-4756-8ab5-42ef2128bd34",
   "metadata": {
    "tags": []
   },
   "outputs": [
    {
     "data": {
      "text/html": [
       "<div>\n",
       "<style scoped>\n",
       "    .dataframe tbody tr th:only-of-type {\n",
       "        vertical-align: middle;\n",
       "    }\n",
       "\n",
       "    .dataframe tbody tr th {\n",
       "        vertical-align: top;\n",
       "    }\n",
       "\n",
       "    .dataframe thead th {\n",
       "        text-align: right;\n",
       "    }\n",
       "</style>\n",
       "<table border=\"1\" class=\"dataframe\">\n",
       "  <thead>\n",
       "    <tr style=\"text-align: right;\">\n",
       "      <th></th>\n",
       "      <th>mean_dor</th>\n",
       "      <th>ne_size</th>\n",
       "      <th>dtype</th>\n",
       "    </tr>\n",
       "  </thead>\n",
       "  <tbody>\n",
       "    <tr>\n",
       "      <th>0</th>\n",
       "      <td>1.836196</td>\n",
       "      <td>398</td>\n",
       "      <td>lower</td>\n",
       "    </tr>\n",
       "    <tr>\n",
       "      <th>1</th>\n",
       "      <td>1.897987</td>\n",
       "      <td>4128</td>\n",
       "      <td>lower</td>\n",
       "    </tr>\n",
       "    <tr>\n",
       "      <th>2</th>\n",
       "      <td>1.953144</td>\n",
       "      <td>389</td>\n",
       "      <td>lower</td>\n",
       "    </tr>\n",
       "    <tr>\n",
       "      <th>3</th>\n",
       "      <td>1.951984</td>\n",
       "      <td>83</td>\n",
       "      <td>lower</td>\n",
       "    </tr>\n",
       "    <tr>\n",
       "      <th>4</th>\n",
       "      <td>1.977250</td>\n",
       "      <td>90</td>\n",
       "      <td>lower</td>\n",
       "    </tr>\n",
       "    <tr>\n",
       "      <th>...</th>\n",
       "      <td>...</td>\n",
       "      <td>...</td>\n",
       "      <td>...</td>\n",
       "    </tr>\n",
       "    <tr>\n",
       "      <th>207</th>\n",
       "      <td>1.916260</td>\n",
       "      <td>420</td>\n",
       "      <td>lower</td>\n",
       "    </tr>\n",
       "    <tr>\n",
       "      <th>208</th>\n",
       "      <td>1.885191</td>\n",
       "      <td>396</td>\n",
       "      <td>lower</td>\n",
       "    </tr>\n",
       "    <tr>\n",
       "      <th>209</th>\n",
       "      <td>1.899284</td>\n",
       "      <td>402</td>\n",
       "      <td>lower</td>\n",
       "    </tr>\n",
       "    <tr>\n",
       "      <th>210</th>\n",
       "      <td>1.949475</td>\n",
       "      <td>399</td>\n",
       "      <td>lower</td>\n",
       "    </tr>\n",
       "    <tr>\n",
       "      <th>211</th>\n",
       "      <td>1.932662</td>\n",
       "      <td>395</td>\n",
       "      <td>lower</td>\n",
       "    </tr>\n",
       "  </tbody>\n",
       "</table>\n",
       "<p>212 rows × 3 columns</p>\n",
       "</div>"
      ],
      "text/plain": [
       "     mean_dor  ne_size  dtype\n",
       "0    1.836196      398  lower\n",
       "1    1.897987     4128  lower\n",
       "2    1.953144      389  lower\n",
       "3    1.951984       83  lower\n",
       "4    1.977250       90  lower\n",
       "..        ...      ...    ...\n",
       "207  1.916260      420  lower\n",
       "208  1.885191      396  lower\n",
       "209  1.899284      402  lower\n",
       "210  1.949475      399  lower\n",
       "211  1.932662      395  lower\n",
       "\n",
       "[212 rows x 3 columns]"
      ]
     },
     "execution_count": 64,
     "metadata": {},
     "output_type": "execute_result"
    }
   ],
   "source": [
    "pd.DataFrame(simulations)"
   ]
  },
  {
   "cell_type": "code",
   "execution_count": null,
   "id": "7bc39b95-c403-4c74-a1b9-2d99bf9f6ab1",
   "metadata": {},
   "outputs": [],
   "source": []
  }
 ],
 "metadata": {
  "kernelspec": {
   "display_name": "Python 3.6 (network expansion)",
   "language": "python",
   "name": "ne.py3.6"
  },
  "language_info": {
   "codemirror_mode": {
    "name": "ipython",
    "version": 3
   },
   "file_extension": ".py",
   "mimetype": "text/x-python",
   "name": "python",
   "nbconvert_exporter": "python",
   "pygments_lexer": "ipython3",
   "version": "3.6.13"
  }
 },
 "nbformat": 4,
 "nbformat_minor": 5
}
