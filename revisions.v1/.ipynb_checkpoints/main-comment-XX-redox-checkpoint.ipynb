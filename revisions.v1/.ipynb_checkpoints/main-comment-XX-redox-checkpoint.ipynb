{
 "cells": [
  {
   "cell_type": "markdown",
   "id": "elementary-accreditation",
   "metadata": {},
   "source": [
    "# Description\n",
    "Notebook to run simulations for Referee comment 4.2, on using the Meteoric Seed Set instead of our seed set during expansion and sampling redox"
   ]
  },
  {
   "cell_type": "markdown",
   "id": "liked-setup",
   "metadata": {},
   "source": [
    "### Load packages"
   ]
  },
  {
   "cell_type": "code",
   "execution_count": 1,
   "id": "driving-carol",
   "metadata": {
    "tags": []
   },
   "outputs": [],
   "source": [
    "import networkExpansionPy.lib as ne\n",
    "import numpy as np\n",
    "import pandas as pd\n",
    "import pickle as pickle\n",
    "import seaborn as sns\n",
    "import matplotlib.pyplot as plt\n",
    "from scipy.stats import spearmanr,pearsonr,mannwhitneyu\n",
    "from statsmodels.stats.multitest import multipletests\n",
    "plt.rcParams['font.family'] = 'Arial'\n",
    "\n",
    "import warnings\n",
    "from scipy.sparse import (spdiags, SparseEfficiencyWarning, csc_matrix,\n",
    "    csr_matrix, isspmatrix, dok_matrix, lil_matrix, bsr_matrix)\n",
    "warnings.simplefilter('ignore',SparseEfficiencyWarning)\n",
    "\n",
    "def load_data(network_name):\n",
    "    with open(ne.asset_path  + \"/metabolic_networks/\" + network_name,\"rb\") as filehandler:\n",
    "        metabolism = pickle.load(filehandler)\n",
    "    return metabolism\n",
    "\n",
    "# load the metabolism object from the repo\n",
    "#metabolism = load_data('metabolism.23Aug2022.pkl')\n",
    "#model_id = \"metabolism.v4.20Mar2023.pkl\"\n",
    "model_id = \"metabolism.v8.01May2023.pkl\"\n",
    "metabolism = pd.read_pickle('/Users/joshuagoldford/Documents/github/network-expansion-assets/models/' + model_id)\n",
    "cids = metabolism.coenzymes"
   ]
  },
  {
   "cell_type": "code",
   "execution_count": 2,
   "id": "adcea149-c640-4294-9078-4d60766f6355",
   "metadata": {
    "tags": []
   },
   "outputs": [],
   "source": [
    "seed = pd.read_csv('../assets/seed_set.csv')\n",
    "background = seed[seed[\"Type\"].isin([\"Background\"])].ID.tolist()\n",
    "cpd_base = seed[~seed[\"Type\"].isin(['Sulfur source',\"Nitrogen source\"])].ID.tolist()"
   ]
  },
  {
   "cell_type": "code",
   "execution_count": 5,
   "id": "de3c077b-8c1c-4e8c-a966-e4152071739a",
   "metadata": {
    "tags": []
   },
   "outputs": [],
   "source": [
    "df = pd.read_csv(\"data/randomSeeds.1e5.csv\",index_col=0)"
   ]
  },
  {
   "cell_type": "code",
   "execution_count": 71,
   "id": "feb416e6-3245-49f5-8c2c-05dae24b52cd",
   "metadata": {
    "tags": []
   },
   "outputs": [],
   "source": [
    "\n",
    "\n",
    "# create dictionary with cid mappings\n",
    "\n",
    "nitrogen_sources = {\n",
    "    \"Ammonia\": \"C00014\",\n",
    "    \"Nitrate\": \"C00244\",\n",
    "    \"Nitrite\": \"C00088\",\n",
    "    \"Glycine\": \"C00037\",\n",
    "    \"Hydroxylamine\": \"C00192\"}\n",
    "    \n",
    "sulfur_sources = {  \n",
    "    \"Sulfide\": \"C00283\",\n",
    "    \"Sulfite\": \"C00094\",\n",
    "    \"Sulfate\": \"C00059\",\n",
    "    \"Thiosulfate\": \"C00320\",\n",
    "    \"Sulfur dioxide\":\"C09306\",\n",
    "    \"Elemental sulfur\": \"C00087\"\n",
    "}\n",
    "\n",
    "# create dictionary with oxidation states\n",
    "nitrogen_sources_oxidation_states = {\n",
    "    \"Ammonia\": -3,        # C00014\n",
    "    \"Nitrate\": 5,         # C00244\n",
    "    \"Nitrite\": 3,         # C00088\n",
    "    \"Hydroxylamine\": 1,   # C00192\n",
    "    \"Glycine\": -2\n",
    "}\n",
    "\n",
    "sulfur_sources_oxidation_states = {\n",
    "    \"Sulfide\": -2,              # C00283\n",
    "    \"Sulfite\": 4,               # C00094\n",
    "    \"Sulfate\": 6,               # C00059\n",
    "    \"Thiosulfate\": [2, 6],      # C00320\n",
    "    \"Sulfur dioxide\": 4,        # C09306\n",
    "    \"Elemental sulfur\": 0,      # C00087\n",
    "}\n"
   ]
  },
  {
   "cell_type": "markdown",
   "id": "figured-breakdown",
   "metadata": {},
   "source": [
    "### Run network expansion -- different N and S sources"
   ]
  },
  {
   "cell_type": "code",
   "execution_count": 72,
   "id": "dec44820-f21f-40d9-99b8-be834cadeeb3",
   "metadata": {
    "tags": []
   },
   "outputs": [],
   "source": [
    "results = {\"nitrogen\":[],\"sulfur\":[],\"network_size\":[],\"ne_cpds\":[]}\n",
    "for n in list(nitrogen_sources):\n",
    "    for s in list(sulfur_sources):\n",
    "        seed_set = cpd_base + [sulfur_sources[s],nitrogen_sources[n]]\n",
    "        ne_cpds,ne_rxns = metabolism.expand(seed_set,algorithm='trace')\n",
    "        results[\"nitrogen\"].append(n)\n",
    "        results[\"sulfur\"].append(s)\n",
    "        results[\"network_size\"].append(len(ne_cpds))\n",
    "        results[\"ne_cpds\"].append(ne_cpds)\n",
    "\n",
    "results = pd.DataFrame(results)"
   ]
  },
  {
   "cell_type": "code",
   "execution_count": null,
   "id": "f27a3d87-b7dd-469a-ac7e-3b14d76ecca7",
   "metadata": {},
   "outputs": [],
   "source": []
  },
  {
   "cell_type": "code",
   "execution_count": 73,
   "id": "f8712696-2b39-4dbb-ae8f-c3e7b0dfeb64",
   "metadata": {
    "tags": []
   },
   "outputs": [],
   "source": [
    "# sort by oxidation state of the sulfur or nitrogen source\n",
    "sorder = pd.Series({x:np.min(y) for x,y in sulfur_sources_oxidation_states.items()}).sort_values().index.tolist()\n",
    "norder = pd.Series({x:np.min(y) for x,y in nitrogen_sources_oxidation_states.items()}).sort_values().index.tolist()"
   ]
  },
  {
   "cell_type": "code",
   "execution_count": 103,
   "id": "7f8e0aef-53ce-4554-9ef8-3081a94bcb70",
   "metadata": {
    "tags": []
   },
   "outputs": [
    {
     "data": {
      "image/png": "[encoded data removed]",
      "text/plain": [
       "<Figure size 432x216 with 1 Axes>"
      ]
     },
     "metadata": {
      "needs_background": "light"
     },
     "output_type": "display_data"
    }
   ],
   "source": [
    "plt.figure(figsize=(6, 3))  \n",
    "sns.barplot(x=\"nitrogen\",y=\"network_size\",hue=\"sulfur\",data=results,palette=\"Set2\",hue_order=sorder,order=norder)\n",
    "plt.ylabel(\"network size\")\n",
    "plt.savefig(\"figs/nitrogen_vs_sulfur_sources.svg\")"
   ]
  },
  {
   "cell_type": "code",
   "execution_count": 77,
   "id": "248de7f7-d201-4e97-b74a-eece9da607b9",
   "metadata": {
    "tags": []
   },
   "outputs": [],
   "source": [
    "# (ii) randomize the seed set to control for state of reduction in organic compounds  \n",
    "seed = pd.read_csv('../assets/seed_set.csv')\n",
    "cpd_base = seed[~seed[\"Type\"].isin([\"Organic carbon\"])].ID.tolist()"
   ]
  },
  {
   "cell_type": "markdown",
   "id": "c9fe5a61-713e-48da-85c0-200d8032f3da",
   "metadata": {
    "tags": []
   },
   "source": [
    "### Run network expansion with many samples of CHO molecules at different DORs"
   ]
  },
  {
   "cell_type": "code",
   "execution_count": 78,
   "id": "e0b4812f-7987-43b2-bb51-3e875159f6ff",
   "metadata": {
    "tags": []
   },
   "outputs": [],
   "source": [
    "seeds = pd.read_csv('../assets/seed_set.csv')\n",
    "dor = pd.read_csv(\"../assets/keggCHOmolecules.reductionState.csv\")\n",
    "seed_set_base = seeds[~seeds.Type.isin([\"Organic carbon\"])].ID.tolist()\n",
    "dg = dor.sort_values(\"reduction\")\n",
    "\n",
    "r_upper = dg.reduction.quantile(q=0.75)\n",
    "r_lower = dg.reduction.quantile(q=0.25)\n",
    "\n",
    "samples = 100\n",
    "N = 21\n",
    "simulations = {\"mean_dor\":[],\"ne_size\":[],\"dtype\":[]}\n",
    "\n",
    "for i in range(samples):\n",
    "    c_lower = dg[dg.reduction < r_lower].sample(N).cid.tolist()\n",
    "    s = c_lower + seed_set_base\n",
    "    nec,ner = metabolism.expand(s,algorithm='naive')\n",
    "    r = dg[dg.cid.isin(c_lower)].reduction.mean()\n",
    "    simulations[\"mean_dor\"].append(r)\n",
    "    simulations[\"ne_size\"].append(len(nec))\n",
    "    simulations[\"dtype\"].append(\"lower\")\n",
    "\n",
    "    \n",
    "for i in range(samples):\n",
    "    c_upper = dg[dg.reduction > r_upper].sample(N).cid.tolist()\n",
    "    s = c_upper + seed_set_base\n",
    "    nec,ner = metabolism.expand(s,algorithm='naive')\n",
    "    r = dg[dg.cid.isin(c_upper)].reduction.mean()\n",
    "    simulations[\"mean_dor\"].append(r)\n",
    "    simulations[\"ne_size\"].append(len(nec))\n",
    "    simulations[\"dtype\"].append(\"higher\")\n",
    "    \n",
    "simulations = pd.DataFrame(simulations)\n"
   ]
  },
  {
   "cell_type": "code",
   "execution_count": 84,
   "id": "7bc39b95-c403-4c74-a1b9-2d99bf9f6ab1",
   "metadata": {
    "tags": []
   },
   "outputs": [
    {
     "data": {
      "text/plain": [
       "<seaborn.axisgrid.FacetGrid at 0x7f967aeebd30>"
      ]
     },
     "execution_count": 84,
     "metadata": {},
     "output_type": "execute_result"
    },
    {
     "data": {
      "image/png": "[encoded data removed]",
      "text/plain": [
       "<Figure size 360x360 with 1 Axes>"
      ]
     },
     "metadata": {
      "needs_background": "light"
     },
     "output_type": "display_data"
    }
   ],
   "source": [
    "sns.catplot(x=\"dtype\",y=\"ne_size\",data=r)"
   ]
  },
  {
   "cell_type": "code",
   "execution_count": 88,
   "id": "d1b117c7-9f75-479a-99f5-2410f2b695f2",
   "metadata": {
    "tags": []
   },
   "outputs": [
    {
     "data": {
      "text/plain": [
       "15"
      ]
     },
     "execution_count": 88,
     "metadata": {},
     "output_type": "execute_result"
    }
   ],
   "source": [
    "len(r[r[\"ne_size\"] > 4e3])"
   ]
  },
  {
   "cell_type": "code",
   "execution_count": 91,
   "id": "3e319a25-d5c3-433f-9a3b-352f6249dcb2",
   "metadata": {
    "tags": []
   },
   "outputs": [],
   "source": [
    "# run 1e3 simulations\n",
    "seeds = pd.read_csv('../assets/seed_set.csv')\n",
    "dor = pd.read_csv(\"../assets/keggCHOmolecules.reductionState.csv\")\n",
    "seed_set_base = seeds[~seeds.Type.isin([\"Organic carbon\"])].ID.tolist()\n",
    "dg = dor.sort_values(\"reduction\")\n",
    "\n",
    "r_upper = dg.reduction.quantile(q=0.75)\n",
    "r_lower = dg.reduction.quantile(q=0.25)\n",
    "\n",
    "samples = 1000\n",
    "N = 21\n",
    "simulations = {\"mean_dor\":[],\"ne_size\":[],\"dtype\":[]}\n",
    "\n",
    "for i in range(samples):\n",
    "    c_lower = dg[dg.reduction < r_lower].sample(N).cid.tolist()\n",
    "    s = c_lower + seed_set_base\n",
    "    nec,ner = metabolism.expand(s,algorithm='naive')\n",
    "    r = dg[dg.cid.isin(c_lower)].reduction.mean()\n",
    "    simulations[\"mean_dor\"].append(r)\n",
    "    simulations[\"ne_size\"].append(len(nec))\n",
    "    simulations[\"dtype\"].append(\"lower\")\n",
    "\n",
    "    \n",
    "for i in range(samples):\n",
    "    c_upper = dg[dg.reduction > r_upper].sample(N).cid.tolist()\n",
    "    s = c_upper + seed_set_base\n",
    "    nec,ner = metabolism.expand(s,algorithm='naive')\n",
    "    r = dg[dg.cid.isin(c_upper)].reduction.mean()\n",
    "    simulations[\"mean_dor\"].append(r)\n",
    "    simulations[\"ne_size\"].append(len(nec))\n",
    "    simulations[\"dtype\"].append(\"higher\")\n",
    "    \n",
    "simulations = pd.DataFrame(simulations)"
   ]
  },
  {
   "cell_type": "code",
   "execution_count": 105,
   "id": "1e5dd68a-9589-4f47-87d2-22b6ba4da6cf",
   "metadata": {
    "tags": []
   },
   "outputs": [
    {
     "data": {
      "text/plain": [
       "Text(-1.4499999999999957, 0.5, 'network size (# compounds)')"
      ]
     },
     "execution_count": 105,
     "metadata": {},
     "output_type": "execute_result"
    },
    {
     "data": {
      "image/png": "[encoded data removed]",
      "text/plain": [
       "<Figure size 216x216 with 1 Axes>"
      ]
     },
     "metadata": {
      "needs_background": "light"
     },
     "output_type": "display_data"
    }
   ],
   "source": [
    "#simulations\n",
    "sns.catplot(x=\"dtype\",y=\"ne_size\",data=simulations,palette='Set2',height=3)\n",
    "plt.ylabel(\"network size (# compounds)\")\n",
    "plt.ylabel(\"CHO redox class\")\n"
   ]
  },
  {
   "cell_type": "code",
   "execution_count": 94,
   "id": "09c5ccb6-626c-4555-bab4-238b7f39c233",
   "metadata": {
    "tags": []
   },
   "outputs": [],
   "source": [
    "simulations.to_csv(\"redox_cho_random_sample.16Apr2023.csv\")"
   ]
  },
  {
   "cell_type": "code",
   "execution_count": 108,
   "id": "80e26a9e-114a-4d81-b003-438f50dbc5b1",
   "metadata": {
    "tags": []
   },
   "outputs": [],
   "source": [
    "lmap = {\"lower\":\"low DOR\",\"higher\":\"high DOR\"}\n",
    "simulations[\"population\"] = simulations[\"dtype\"].apply(lambda x: lmap[x])"
   ]
  },
  {
   "cell_type": "code",
   "execution_count": 111,
   "id": "402a0577-bfec-4c11-ac89-84643cf8ae33",
   "metadata": {
    "tags": []
   },
   "outputs": [
    {
     "data": {
      "text/plain": [
       "Text(0.5, 6.800000000000008, '')"
      ]
     },
     "execution_count": 111,
     "metadata": {},
     "output_type": "execute_result"
    },
    {
     "data": {
      "image/png": "[encoded data removed]",
      "text/plain": [
       "<Figure size 216x216 with 1 Axes>"
      ]
     },
     "metadata": {
      "needs_background": "light"
     },
     "output_type": "display_data"
    }
   ],
   "source": [
    "#simulations\n",
    "sns.catplot(x=\"population\",y=\"ne_size\",data=simulations,palette='Set2',height=3)\n",
    "plt.ylabel(\"network size (# compounds)\")\n",
    "plt.xlabel(\"\")\n"
   ]
  },
  {
   "cell_type": "code",
   "execution_count": null,
   "id": "036e84fd-8367-42a6-9ada-09c5db98c946",
   "metadata": {},
   "outputs": [],
   "source": []
  }
 ],
 "metadata": {
  "kernelspec": {
   "display_name": "Python 3.6 (network expansion)",
   "language": "python",
   "name": "ne.py3.6"
  },
  "language_info": {
   "codemirror_mode": {
    "name": "ipython",
    "version": 3
   },
   "file_extension": ".py",
   "mimetype": "text/x-python",
   "name": "python",
   "nbconvert_exporter": "python",
   "pygments_lexer": "ipython3",
   "version": "3.6.13"
  }
 },
 "nbformat": 4,
 "nbformat_minor": 5
}
