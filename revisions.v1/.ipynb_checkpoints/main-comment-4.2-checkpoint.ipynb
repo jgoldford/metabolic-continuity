{
 "cells": [
  {
   "cell_type": "markdown",
   "id": "elementary-accreditation",
   "metadata": {},
   "source": [
    "# Description\n",
    "Notebook to create figures in the paper: \"Continuity between ancient geochemistry and modern metabolism enabled by non-autocatalytic purine biosynthesis\" by Goldford, J.E., Smith, H.B., Longo, L.M. Wing, B.A. & McGlynn, S.M."
   ]
  },
  {
   "cell_type": "markdown",
   "id": "liked-setup",
   "metadata": {},
   "source": [
    "### Load packages"
   ]
  },
  {
   "cell_type": "code",
   "execution_count": 149,
   "id": "driving-carol",
   "metadata": {
    "tags": []
   },
   "outputs": [],
   "source": [
    "import networkExpansionPy.lib as ne\n",
    "import numpy as np\n",
    "import pandas as pd\n",
    "import pickle as pickle\n",
    "import seaborn as sns\n",
    "import matplotlib.pyplot as plt\n",
    "from scipy.stats import spearmanr,pearsonr,mannwhitneyu\n",
    "from statsmodels.stats.multitest import multipletests\n",
    "plt.rcParams['font.family'] = 'Arial'\n",
    "\n",
    "#import warnings\n",
    "#from scipy.sparse import (spdiags, SparseEfficiencyWarning, csc_matrix,\n",
    "#    csr_matrix, isspmatrix, dok_matrix, lil_matrix, bsr_matrix)\n",
    "#warnings.simplefilter('ignore',SparseEfficiencyWarning)\n",
    "\n",
    "def load_data(network_name):\n",
    "    with open(ne.asset_path  + \"/metabolic_networks/\" + network_name,\"rb\") as filehandler:\n",
    "        metabolism = pickle.load(filehandler)\n",
    "    return metabolism\n",
    "\n",
    "# load the metabolism object from the repo\n",
    "metabolism = load_data('metabolism.23Aug2022.pkl')\n",
    "#model_id = \"metabolism.v4.20Mar2023.pkl\"\n",
    "#model_id = \"metabolism.v5.12Apr2023.pkl\"\n",
    "#metabolism = pd.read_pickle('/Users/joshuagoldford/Documents/github/network-expansion-assets/models/' + model_id)\n",
    "cids = metabolism.coenzymes"
   ]
  },
  {
   "cell_type": "markdown",
   "id": "figured-breakdown",
   "metadata": {},
   "source": [
    "### Run network expansion"
   ]
  },
  {
   "cell_type": "code",
   "execution_count": 168,
   "id": "distant-sudan",
   "metadata": {
    "tags": []
   },
   "outputs": [
    {
     "name": "stdout",
     "output_type": "stream",
     "text": [
      "There were 70 compounds in this seed set...\n"
     ]
    },
    {
     "name": "stderr",
     "output_type": "stream",
     "text": [
      "/Users/joshuagoldford/Documents/github/networkExpansionPy/networkExpansionPy/lib.py:533: SparseEfficiencyWarning: Comparing sparse matrices using == is inefficient, try using != instead.\n",
      "  X,Y = netExp_trace(R,P,x0,b)\n"
     ]
    },
    {
     "name": "stdout",
     "output_type": "stream",
     "text": [
      "There were 4311 compounds produced in this expansion!\n"
     ]
    }
   ],
   "source": [
    "seed_set = pd.read_csv('assets/seed_set.csv')['ID'].tolist()\n",
    "\n",
    "#seed_df = pd.read_csv('assets/seed_set.csv')\n",
    "#seed_set = seed_df[~seed_df.Type.isin([\"Organic carbon\"])].ID.tolist()\n",
    "#seed_set = seed_set + [\"C00010\"]\n",
    "\n",
    "print('There were {N} compounds in this seed set...'.format(N=len(seed_set)))\n",
    "\n",
    "ne_cpds,ne_rxns = metabolism.expand(seed_set,algorithm='trace')\n",
    "print('There were {N} compounds produced in this expansion!'.format(N=len(ne_cpds)))\n",
    "\n",
    "# parse data into dataframes\n",
    "rn_df = pd.DataFrame(pd.Series(ne_rxns),columns = ['iteration'])\n",
    "rn_df.reset_index(inplace=True)\n",
    "rn_df.columns = ['rn','direction','iteration']\n",
    "rn_df['rn_kegg']= rn_df['rn'].apply(lambda x: x.split('_')[0])\n"
   ]
  },
  {
   "cell_type": "code",
   "execution_count": 160,
   "id": "32f74b4d-7072-4219-a750-1ece0f66680c",
   "metadata": {
    "tags": []
   },
   "outputs": [],
   "source": [
    "#seed_df = pd.read_csv('assets/seed_set.csv')\n",
    "#seed_df[~seed_df.Type.isin([\"Organic carbon\"])].ID.tolist()"
   ]
  },
  {
   "cell_type": "markdown",
   "id": "genuine-litigation",
   "metadata": {},
   "source": [
    "### Figure 1A. Run network expansion w/o non-autocatalytic purine biosynthesis +/- adenine, and plot traces"
   ]
  },
  {
   "cell_type": "code",
   "execution_count": 161,
   "id": "cordless-rainbow",
   "metadata": {
    "tags": []
   },
   "outputs": [
    {
     "name": "stderr",
     "output_type": "stream",
     "text": [
      "/Users/joshuagoldford/Documents/github/networkExpansionPy/networkExpansionPy/lib.py:533: SparseEfficiencyWarning: Comparing sparse matrices using == is inefficient, try using != instead.\n",
      "  X,Y = netExp_trace(R,P,x0,b)\n",
      "/Users/joshuagoldford/Documents/github/networkExpansionPy/networkExpansionPy/lib.py:533: SparseEfficiencyWarning: Comparing sparse matrices using == is inefficient, try using != instead.\n",
      "  X,Y = netExp_trace(R,P,x0,b)\n",
      "/Users/joshuagoldford/Documents/github/networkExpansionPy/networkExpansionPy/lib.py:533: SparseEfficiencyWarning: Comparing sparse matrices using == is inefficient, try using != instead.\n",
      "  X,Y = netExp_trace(R,P,x0,b)\n"
     ]
    },
    {
     "data": {
      "text/plain": [
       "<matplotlib.legend.Legend at 0x7f9136286198>"
      ]
     },
     "execution_count": 161,
     "metadata": {},
     "output_type": "execute_result"
    },
    {
     "data": {
      "image/png": "[encoded data removed]",
      "text/plain": [
       "<Figure size 576x164.571 with 1 Axes>"
      ]
     },
     "metadata": {
      "needs_background": "light"
     },
     "output_type": "display_data"
    }
   ],
   "source": [
    "# now remove purine production \n",
    "metab_unmod = metabolism.copy()\n",
    "ne_cpds,ne_rxns = metab_unmod.expand(seed_set,algorithm='trace')\n",
    "rn_to_remove = [x for x in metab_unmod.network.rn.unique().tolist() if (('_gATP' in x) or ('_gGTP' in x))]\n",
    "metab_unmod.network = metab_unmod.network[~metab_unmod.network.rn.isin(rn_to_remove)]\n",
    "ne_cpds_np,ne_rxns_np = metab_unmod.expand(seed_set,algorithm='trace')\n",
    "ne_cpds_np_ad,ne_rxns_np_ad = metab_unmod.expand(seed_set + ['C00147'],algorithm='trace')\n",
    "\n",
    "\n",
    "cmap = sns.color_palette(\"Set1\")\n",
    "abun = pd.DataFrame(pd.Series(ne_cpds),columns=['iter']).reset_index().groupby('iter').count()\n",
    "abun['compounds (cumulative)'] = abun['index'].cumsum()\n",
    "\n",
    "abun_alt = pd.DataFrame(pd.Series(ne_cpds_np),columns=['iter']).reset_index().groupby('iter').count()\n",
    "abun_alt['compounds (cumulative)'] = abun_alt['index'].cumsum()\n",
    "\n",
    "abun_ad = pd.DataFrame(pd.Series(ne_cpds_np_ad),columns=['iter']).reset_index().groupby('iter').count()\n",
    "abun_ad['compounds (cumulative)'] = abun_ad['index'].cumsum()\n",
    "\n",
    "#sns.scatterplot(x='iter',y='compounds (cumulative)',data=abun)\n",
    "plt.figure(figsize=(8,4/14*8))\n",
    "sns.lineplot(x='iter',y='index',data=abun_ad.iloc[1:],color='lightgrey')\n",
    "sns.lineplot(x='iter',y='index',data=abun.iloc[1:],color=cmap[1])\n",
    "sns.lineplot(x='iter',y='index',data=abun_alt.iloc[1:],color=cmap[0])\n",
    "\n",
    "plt.ylabel('# compounds added \\n at each iteration')\n",
    "plt.xlabel(\"expansion iteration\")\n",
    "plt.xlim([0,110])\n",
    "plt.ylim([0,300])\n",
    "plt.subplots_adjust(bottom=0.25)\n",
    "plt.legend(['Unmodified + adenine','Modified','Unmodified'])"
   ]
  },
  {
   "cell_type": "markdown",
   "id": "fundamental-video",
   "metadata": {},
   "source": [
    "### Figure 1C: Network sizes after adding single molecules to seed set without non-autocatalytic purine production \n",
    "(simulations performed on a cluster)"
   ]
  },
  {
   "cell_type": "code",
   "execution_count": 13,
   "id": "broad-region",
   "metadata": {},
   "outputs": [
    {
     "data": {
      "text/plain": [
       "Text(0, 0.5, 'proportion of \\n simulations')"
      ]
     },
     "execution_count": 13,
     "metadata": {},
     "output_type": "execute_result"
    },
    {
     "data": {
      "text/plain": [
       "<Figure size 144x108 with 0 Axes>"
      ]
     },
     "metadata": {},
     "output_type": "display_data"
    },
    {
     "data": {
      "image/png": "[encoded data removed]",
      "text/plain": [
       "<Figure size 72x108 with 1 Axes>"
      ]
     },
     "metadata": {
      "needs_background": "light"
     },
     "output_type": "display_data"
    }
   ],
   "source": [
    "plt.figure(figsize=(2,1.5))\n",
    "\n",
    "t = pd.read_csv('assets/SingleCompoundAddition.UnmodfiedNetwork.csv',index_col=0)\n",
    "#t = pd.read_csv('single_compound_addition.05May2022.csv',index_col=0)\n",
    "t = t[~(t['cid'].apply(lambda x: x[0] == '['))]\n",
    "purines = pd.read_csv('assets/Purine-containing KEGG Compounds.csv',header=None)[0].tolist()\n",
    "t['purine'] = t.cid.isin(purines)\n",
    "\n",
    "t['expansion'] = t['scope_c'] > 1e3\n",
    "X = pd.crosstab(t['purine'],t['expansion'])\n",
    "Xn = X.apply(lambda x: x / x.sum())\n",
    "ax =Xn.T.plot(kind=\"bar\", stacked=True,figsize=(1,1.5),color=['gray',cmap[2]])\n",
    "ax.legend(title='purine',loc='center left', bbox_to_anchor=(1, 0.5))\n",
    "plt.ylabel('proportion of \\n simulations')\n"
   ]
  },
  {
   "cell_type": "markdown",
   "id": "naked-empty",
   "metadata": {},
   "source": [
    "### Figure 1D: Add models of thioester and primitive reductant (H2)"
   ]
  },
  {
   "cell_type": "code",
   "execution_count": 11,
   "id": "entitled-roommate",
   "metadata": {},
   "outputs": [
    {
     "data": {
      "text/plain": [
       "Text(0, 0.5, 'network size \\n (# compounds)')"
      ]
     },
     "execution_count": 11,
     "metadata": {},
     "output_type": "execute_result"
    },
    {
     "data": {
      "image/png": "[encoded data removed]",
      "text/plain": [
       "<Figure size 144x108 with 1 Axes>"
      ]
     },
     "metadata": {
      "needs_background": "light"
     },
     "output_type": "display_data"
    }
   ],
   "source": [
    "# make figure 1C; influence of primitive thioester and reductant coupling\n",
    "\n",
    "networks = {}\n",
    "thiol = 'C00957'\n",
    "networks['purine'] = metabolism\n",
    "networks['purine_h2'] = load_data('metabolism.H2.purine.09July2022.pkl')\n",
    "networks['purine_h2_thiol'] = load_data('metabolism.H2.purine.thiols.09July2022.pkl')\n",
    "networks['purine_thiol'] = load_data('metabolism.purine.thiols.09July2022.pkl')\n",
    "rn_to_remove = [x for x in networks['purine_thiol'].network.rn.unique().tolist() if ('_gNAD' in x)]\n",
    "networks['purine_thiol'].network = networks['purine_thiol'].network[~networks['purine_thiol'].network.rn.isin(rn_to_remove)]\n",
    "m = networks['purine_thiol'].copy()\n",
    "\n",
    "rn_to_remove = [x for x in m.network.rn.unique().tolist() if (('_gATP' in x) or ('_gGTP' in x))]\n",
    "m.network = m.network[~m.network.rn.isin(rn_to_remove)]\n",
    "networks['thiol'] = m\n",
    "\n",
    "\n",
    "m = networks['purine_h2_thiol'].copy()\n",
    "rn_to_remove = [x for x in m.network.rn.unique().tolist() if (('_gATP' in x) or ('_gGTP' in x))]\n",
    "m.network = m.network[~m.network.rn.isin(rn_to_remove)]\n",
    "networks['h2_thiol'] = m\n",
    "\n",
    "\n",
    "m = networks['purine_h2'].copy()\n",
    "rn_to_remove = [x for x in m.network.rn.unique().tolist() if (('_gATP' in x) or ('_gGTP' in x))]\n",
    "m.network = m.network[~m.network.rn.isin(rn_to_remove)]\n",
    "networks['h2'] = m\n",
    "\n",
    "m = networks['purine'].copy()\n",
    "rn_to_remove = [x for x in m.network.rn.unique().tolist() if (('_gATP' in x) or ('_gGTP' in x))]\n",
    "m.network = m.network[~m.network.rn.isin(rn_to_remove)]\n",
    "networks['unmodified'] = m\n",
    "\n",
    "s = []\n",
    "network_c_outputs = {}\n",
    "network_r_outputs = {}\n",
    "for condition in list(networks):\n",
    "    c,r = networks[condition].expand(seed_set + [thiol])\n",
    "    network_c_outputs[condition] = c\n",
    "    network_r_outputs[condition] = r\n",
    "    s.append(len(c))\n",
    "nsize = pd.DataFrame({'condition': list(networks), 'network_size':s})\n",
    "nsize = nsize.set_index('condition')\n",
    "nsize = nsize.loc[['purine_h2_thiol','purine_thiol','purine_h2','h2_thiol','purine','thiol','h2','unmodified']]\n",
    "\n",
    "\n",
    "plt.figure(figsize=(2,1.5))\n",
    "ax=sns.barplot(x='condition',y='network_size',data=nsize.reset_index(),color='grey')\n",
    "plt.xticks(rotation=90)\n",
    "plt.ylabel('network size \\n (# compounds)')\n",
    "\n"
   ]
  },
  {
   "cell_type": "code",
   "execution_count": 116,
   "id": "3b2c8e93-d1c7-4eb8-aeb3-e6447deaaa33",
   "metadata": {
    "tags": []
   },
   "outputs": [],
   "source": [
    "# run atlas analysis\n",
    "ar = pd.read_csv('assets/atlas_reactions.csv')\n",
    "ar= ar[['rn','direction','cid','s','ub','lb']]\n",
    "ar['stoich_str'] = np.nan\n",
    "ar['rn_old'] = np.nan\n"
   ]
  },
  {
   "cell_type": "code",
   "execution_count": 119,
   "id": "21e1eec4-cf0c-460e-a4ad-66429643f64e",
   "metadata": {
    "tags": []
   },
   "outputs": [
    {
     "data": {
      "text/plain": [
       "20183"
      ]
     },
     "execution_count": 119,
     "metadata": {},
     "output_type": "execute_result"
    }
   ],
   "source": [
    "len(ar.rn.unique())"
   ]
  },
  {
   "cell_type": "markdown",
   "id": "colonial-complaint",
   "metadata": {},
   "source": [
    "### Figure S1: Add ATLAS reactions to KEGG network and repeat expansions"
   ]
  },
  {
   "cell_type": "code",
   "execution_count": 140,
   "id": "injured-advocacy",
   "metadata": {
    "tags": []
   },
   "outputs": [
    {
     "name": "stderr",
     "output_type": "stream",
     "text": [
      "/Users/joshuagoldford/Documents/github/networkExpansionPy/networkExpansionPy/lib.py:529: SparseEfficiencyWarning: Comparing sparse matrices using == is inefficient, try using != instead.\n",
      "  x,y = netExp(R,P,x0,b)\n",
      "/Users/joshuagoldford/Documents/github/networkExpansionPy/networkExpansionPy/lib.py:529: SparseEfficiencyWarning: Comparing sparse matrices using == is inefficient, try using != instead.\n",
      "  x,y = netExp(R,P,x0,b)\n",
      "/Users/joshuagoldford/Documents/github/networkExpansionPy/networkExpansionPy/lib.py:529: SparseEfficiencyWarning: Comparing sparse matrices using == is inefficient, try using != instead.\n",
      "  x,y = netExp(R,P,x0,b)\n",
      "/Users/joshuagoldford/Documents/github/networkExpansionPy/networkExpansionPy/lib.py:529: SparseEfficiencyWarning: Comparing sparse matrices using == is inefficient, try using != instead.\n",
      "  x,y = netExp(R,P,x0,b)\n",
      "/Users/joshuagoldford/Documents/github/networkExpansionPy/networkExpansionPy/lib.py:529: SparseEfficiencyWarning: Comparing sparse matrices using == is inefficient, try using != instead.\n",
      "  x,y = netExp(R,P,x0,b)\n",
      "/Users/joshuagoldford/Documents/github/networkExpansionPy/networkExpansionPy/lib.py:529: SparseEfficiencyWarning: Comparing sparse matrices using == is inefficient, try using != instead.\n",
      "  x,y = netExp(R,P,x0,b)\n",
      "/Users/joshuagoldford/Documents/github/networkExpansionPy/networkExpansionPy/lib.py:533: SparseEfficiencyWarning: Comparing sparse matrices using == is inefficient, try using != instead.\n",
      "  X,Y = netExp_trace(R,P,x0,b)\n"
     ]
    },
    {
     "data": {
      "text/plain": [
       "<matplotlib.legend.Legend at 0x7f97aa0bc438>"
      ]
     },
     "execution_count": 140,
     "metadata": {},
     "output_type": "execute_result"
    },
    {
     "data": {
      "image/png": "[encoded data removed]",
      "text/plain": [
       "<Figure size 216x180 with 1 Axes>"
      ]
     },
     "metadata": {
      "needs_background": "light"
     },
     "output_type": "display_data"
    },
    {
     "data": {
      "image/png": "[encoded data removed]",
      "text/plain": [
       "<Figure size 432x123.429 with 1 Axes>"
      ]
     },
     "metadata": {
      "needs_background": "light"
     },
     "output_type": "display_data"
    }
   ],
   "source": [
    "# run atlas analysis\n",
    "ar = pd.read_csv('assets/atlas_reactions.csv')\n",
    "ar= ar[['rn','direction','cid','s','ub','lb']]\n",
    "ar['stoich_str'] = np.nan\n",
    "ar['rn_old'] = np.nan\n",
    "\n",
    "matlas = metabolism.copy()\n",
    "# make KEGG+ATLAS network with non-autocatalytic purine production\n",
    "matlas.network = pd.concat([matlas.network,ar],axis=0)\n",
    "# make KEGG+ATLAS network without non-autocatalytic purine production\n",
    "matlas_nc = matlas.copy()\n",
    "matlas_nc.network = matlas_nc.network[~matlas_nc.network.rn.apply(lambda x: ('_gATP' in x) or ('_gGTP' in x))]\n",
    "\n",
    "# make KEGG network without non-autocatalytic purine production\n",
    "metabolism_nc = metabolism.copy()\n",
    "metabolism_nc.network = metabolism_nc.network[~metabolism_nc.network.rn.apply(lambda x: ('_gATP' in x) or ('_gGTP' in x))]\n",
    "\n",
    "# perform network expansion for KEGG+ATLAS, without non-autocatalytic purine production\n",
    "c_atl_nc,rx = matlas_nc.expand(seed_set,algorithm='naive')\n",
    "c_atl_nc = len(c_atl_nc)\n",
    "\n",
    "# perform network expansion for KEGG+ATLAS, without non-autocatalytic purine production, plus adenine\n",
    "c_atl_nc_ad,rx = matlas_nc.expand(seed_set + ['C00147'],algorithm='naive')\n",
    "c_atl_nc_ad = len(c_atl_nc_ad)\n",
    "\n",
    "\n",
    "# perform network expansion for KEGG+ATLAS, with non-autocatalytic purine production\n",
    "c_atl,rx = matlas.expand(seed_set,algorithm='naive')\n",
    "c_atl = len(c_atl)\n",
    "\n",
    "\n",
    "# perform network expansion for KEGG, without non-autocatalytic purine production\n",
    "c_kegg_nc,rx = metabolism_nc.expand(seed_set,algorithm='naive')\n",
    "c_kegg_nc = len(c_kegg_nc)\n",
    "\n",
    "# perform network expansion for KEGG, without non-autocatalytic purine production, plus adenine\n",
    "c_kegg_nc_ad,rx = metabolism_nc.expand(seed_set + ['C00147'],algorithm='naive')\n",
    "c_kegg_nc_ad = len(c_kegg_nc_ad)\n",
    "\n",
    "\n",
    "# perform network expansion for KEGG, with non-autocatalytic purine production\n",
    "c_kegg,rx = metabolism.expand(seed_set,algorithm='naive')\n",
    "c_kegg = len(c_kegg)\n",
    "\n",
    "# store results in a dataframe\n",
    "results = {'network':['KEGG+ATLAS','KEGG+ATLAS','KEGG+ATLAS','KEGG','KEGG','KEGG'],\n",
    "          'condition': ['no primitive coupling','no primitive coupling \\n + Adenine','primitive coupling','no primitive coupling','no primitive coupling \\n + Adenine','primitive coupling'],\n",
    "          'network size (#compounds)': [c_atl_nc,c_atl_nc_ad,c_atl,c_kegg_nc,c_kegg_nc_ad,c_kegg]}\n",
    "results = pd.DataFrame(results)\n",
    "\n",
    "\n",
    "cmap = sns.color_palette(\"Set1\")\n",
    "plt.figure(figsize=(3,2.5))\n",
    "ax = sns.barplot(hue='network',x='condition',y='network size (#compounds)',data=results,palette=[cmap[3],cmap[1]])\n",
    "ax.legend(loc='center left', bbox_to_anchor=(1, 0.5))\n",
    "plt.xticks(rotation=90)\n",
    "\n",
    "\n",
    "# plot the traces for ATLAS vs KEGG\n",
    "ne_cpds_atl,rx = matlas.expand(seed_set,algorithm='trace')\n",
    "abun_atlas = pd.DataFrame(pd.Series(ne_cpds_atl),columns=['iter']).reset_index().groupby('iter').count()\n",
    "abun_atlas['compounds (cumulative)'] = abun_atlas['index'].cumsum()\n",
    "\n",
    "h = 6\n",
    "plt.figure(figsize=(h,4/14*h))\n",
    "sns.lineplot(x='iter',y='index',data=abun_atlas.iloc[1:],color=cmap[3])\n",
    "sns.lineplot(x='iter',y='index',data=abun.iloc[1:],color=cmap[1])\n",
    "\n",
    "plt.ylabel('# compounds added \\n at each iteration')\n",
    "plt.xlabel(\"expansion iteration\")\n",
    "plt.xlim([0,110])\n",
    "plt.ylim([0,480])\n",
    "plt.subplots_adjust(bottom=0.25)\n",
    "plt.legend(['KEGG+ATLAS (n=32445)','KEGG (n=12262)'])#\n",
    "\n"
   ]
  },
  {
   "cell_type": "markdown",
   "id": "double-hearts",
   "metadata": {},
   "source": [
    "### Figure 2A: Plot results of network perturbation experiment \n",
    "(simulations performed on a cluster)"
   ]
  },
  {
   "cell_type": "code",
   "execution_count": 19,
   "id": "bridal-delta",
   "metadata": {},
   "outputs": [
    {
     "data": {
      "text/plain": [
       "(0.0, 110.0)"
      ]
     },
     "execution_count": 19,
     "metadata": {},
     "output_type": "execute_result"
    },
    {
     "data": {
      "image/png": "[encoded data removed]",
      "text/plain": [
       "<Figure size 432x432 with 1 Axes>"
      ]
     },
     "metadata": {
      "needs_background": "light"
     },
     "output_type": "display_data"
    }
   ],
   "source": [
    "# create helper function\n",
    "def scatter_plot_label(df,ax,color): \n",
    "    \n",
    "    def plotlabel(xvar, yvar, label):\n",
    "        ax.text(xvar+1, yvar-120, label,color=color)\n",
    "        \n",
    "    #fig = plt.figure(figsize=(30,10))\n",
    "    sns.scatterplot(x = 'iteration', y = 'Scope after removal', data=df,color=color,ax=ax)\n",
    "\n",
    "    # The magic starts here:\n",
    "    df.apply(lambda x: plotlabel(x['iteration'],  x['Scope after removal'], x['cid_name']), axis=1)\n",
    "    \n",
    "cids_all = pd.read_csv('assets/cid2name.csv')\n",
    "y = pd.DataFrame(pd.Series(ne_cpds),columns=['iteration'])\n",
    "cpd_removal = pd.read_csv('assets/ScopeSizeAfterCompoundRemoval.csv',index_col=0).set_index('cid').join(y)\n",
    "cpd_removal.columns = ['Scope after removal','iteration']\n",
    "abun = pd.DataFrame(pd.Series(ne_cpds),columns=['iter']).reset_index().groupby('iter').count()\n",
    "abun['compounds (cumulative)'] = abun['index'].cumsum()\n",
    "cpd_removal_names = cpd_removal.join(cids_all.set_index('cid'))\n",
    "\n",
    "\n",
    "fig = plt.figure(figsize=(6, 6))\n",
    "\n",
    "ids = ['Z00035','C00002','C00003','C00061','Z00047','C00010','C00024','C00129','C00007']\n",
    "\n",
    "cmap = sns.color_palette(\"Set1\")\n",
    "f = 0.5\n",
    "cm_small = cpd_removal_names[~cpd_removal_names.index.isin(ids)]\n",
    "ax = sns.scatterplot(x='iteration',y='Scope after removal',data=cm_small,color='k',edgecolor='k',rasterized=True,marker=\"o\",alpha=0.3)\n",
    "\n",
    "plt.ylabel('network size (# metabolites)')\n",
    "plt.xlabel('expansion iteration')\n",
    "#plt.xlim([0,110])\n",
    "cm_small = cpd_removal_names[cpd_removal_names.index.isin(ids)]\n",
    "scatter_plot_label(cm_small,ax,cmap[0])\n",
    "sns.lineplot(x='iter',y='compounds (cumulative)',data=abun.reset_index(),color=cmap[1],ax=ax)\n",
    "ax.set_xlim([0,110])\n"
   ]
  },
  {
   "cell_type": "markdown",
   "id": "fluid-lounge",
   "metadata": {},
   "source": [
    "### Figure 2B: Plot results of network expansion with coenzyme addition"
   ]
  },
  {
   "cell_type": "code",
   "execution_count": 18,
   "id": "herbal-grave",
   "metadata": {
    "tags": []
   },
   "outputs": [
    {
     "name": "stderr",
     "output_type": "stream",
     "text": [
      "/Users/joshuagoldford/Documents/github/networkExpansionPy/networkExpansionPy/lib.py:533: SparseEfficiencyWarning: Comparing sparse matrices using == is inefficient, try using != instead.\n",
      "  X,Y = netExp_trace(R,P,x0,b)\n",
      "/Users/joshuagoldford/Documents/github/networkExpansionPy/networkExpansionPy/lib.py:533: SparseEfficiencyWarning: Comparing sparse matrices using == is inefficient, try using != instead.\n",
      "  X,Y = netExp_trace(R,P,x0,b)\n",
      "/Users/joshuagoldford/Documents/github/networkExpansionPy/networkExpansionPy/lib.py:533: SparseEfficiencyWarning: Comparing sparse matrices using == is inefficient, try using != instead.\n",
      "  X,Y = netExp_trace(R,P,x0,b)\n"
     ]
    },
    {
     "data": {
      "text/plain": [
       "<matplotlib.legend.Legend at 0x7f9130d21fd0>"
      ]
     },
     "execution_count": 18,
     "metadata": {},
     "output_type": "execute_result"
    },
    {
     "data": {
      "image/png": "[encoded data removed]",
      "text/plain": [
       "<Figure size 432x154.286 with 1 Axes>"
      ]
     },
     "metadata": {
      "needs_background": "light"
     },
     "output_type": "display_data"
    }
   ],
   "source": [
    "# make figure 2B\n",
    "cpd_added =['C00002','C00004','C00010','C00016','C00019','Z00035','Z00009','Z00047']\n",
    "height = 6\n",
    "plt.figure(figsize=(height,5/14*height))\n",
    "\n",
    "\n",
    "nc,nr = metabolism.expand(seed_set,algorithm='trace')\n",
    "abun = pd.DataFrame(pd.Series(nc),columns=['iter']).reset_index().groupby('iter').count()\n",
    "\n",
    "nc,nr = metabolism.expand(seed_set + cpd_added,algorithm='trace')\n",
    "abun_sub = pd.DataFrame(pd.Series(nc),columns=['iter']).reset_index().groupby('iter').count()\n",
    "\n",
    "\n",
    "nc,nr = metabolism.expand(seed_set + cpd_added + ['C00007'],algorithm='trace')\n",
    "abun_sub2 = pd.DataFrame(pd.Series(nc),columns=['iter']).reset_index().groupby('iter').count()\n",
    "\n",
    "\n",
    "sns.lineplot(x='iter',y='index',data=abun.iloc[0:],color=cmap[1])\n",
    "sns.lineplot(x='iter',y='index',data=abun_sub.iloc[0:],color=cmap[2])\n",
    "sns.lineplot(x='iter',y='index',data=abun_sub2.iloc[0:],color=cmap[3])\n",
    "\n",
    "plt.ylabel('# compounds added \\n at each iteration')\n",
    "plt.xlabel(\"expansion iteration\")\n",
    "plt.xlim([0,110])\n",
    "#plt.ylim([0,255])\n",
    "plt.subplots_adjust(bottom=0.25)\n",
    "plt.legend(['Seed Set','Seed Set + 8 Coenzymes','Seed Set + + 8 Coenzymes + O2'])"
   ]
  },
  {
   "cell_type": "markdown",
   "id": "combined-juice",
   "metadata": {},
   "source": [
    "### Fig 3A: average molecular complexity vs. expansion iteration"
   ]
  },
  {
   "cell_type": "code",
   "execution_count": 169,
   "id": "motivated-helmet",
   "metadata": {
    "tags": []
   },
   "outputs": [
    {
     "data": {
      "text/plain": [
       "Text(0.1, 0.75, '$r=0.73$ \\n$P<10^{-17}$')"
      ]
     },
     "execution_count": 169,
     "metadata": {},
     "output_type": "execute_result"
    },
    {
     "data": {
      "image/png": "[encoded data removed]",
      "text/plain": [
       "<Figure size 216x216 with 1 Axes>"
      ]
     },
     "metadata": {
      "needs_background": "light"
     },
     "output_type": "display_data"
    }
   ],
   "source": [
    "skws={\"color\": \"black\"}\n",
    "lkws={'color': cmap[0]}\n",
    "complexity = pd.read_csv('assets/kegg_cpds.iterationComplexity.csv',index_col=0)\n",
    "complexity = complexity[['complexity']].join(pd.DataFrame(pd.Series(ne_cpds),columns=['iteration']))\n",
    "sns.lmplot(x='iteration',y='complexity',data=complexity.groupby('iteration').mean().reset_index(),height=3, aspect=1,line_kws=lkws,scatter_kws=skws)\n",
    "plt.xlim([0,105])\n",
    "plt.ylabel('mean molecular complexity')\n",
    "plt.xlabel('expansion iteration')\n",
    "c = complexity.groupby('iteration').mean().reset_index()\n",
    "\n",
    "\n",
    "r,pval = pearsonr(c['iteration'].values,c['complexity'].values)\n",
    "d = int(np.ceil(np.log10(pval)))\n",
    "label = '$r={R}$ \\n'.format(R=round(r,2)) + '$P<10^{' + str(d) + '}$'\n",
    "plt.annotate(label, xy=(0.1, 0.75), xycoords='axes fraction')"
   ]
  },
  {
   "cell_type": "markdown",
   "id": "micro-veteran",
   "metadata": {},
   "source": [
    "### Fig 3B: average genome representation vs. expansion iteration"
   ]
  },
  {
   "cell_type": "code",
   "execution_count": 170,
   "id": "referenced-scout",
   "metadata": {
    "tags": []
   },
   "outputs": [
    {
     "data": {
      "text/plain": [
       "Text(0.1, 0.1, '$r=-0.81$ \\n$P<10^{-23}$')"
      ]
     },
     "execution_count": 170,
     "metadata": {},
     "output_type": "execute_result"
    },
    {
     "data": {
      "image/png": "[encoded data removed]",
      "text/plain": [
       "<Figure size 216x216 with 1 Axes>"
      ]
     },
     "metadata": {
      "needs_background": "light"
     },
     "output_type": "display_data"
    }
   ],
   "source": [
    "cpd_df = pd.DataFrame(pd.Series(ne_cpds)).reset_index()\n",
    "cpd_df.columns = ['cid','iteration']\n",
    "md2cpd = pd.read_csv('assets/KEGG_ModuleVsCompound.csv')\n",
    "kegg_modules = pd.read_csv('assets/KEGG_GenomesToModule.csv')\n",
    "genome_cids = kegg_modules.set_index('module').join(md2cpd.set_index('module'))[['genome','cid']].drop_duplicates()\n",
    "genome_cids['count'] = 1\n",
    "genome_cids_counts = genome_cids.groupby('cid').sum()\n",
    "N = len(kegg_modules.genome.unique())\n",
    "ne_genomes_cid = genome_cids_counts.join(cpd_df.set_index('cid'))\n",
    "ne_genomes_cid['genome_percentage']= ne_genomes_cid['count'] / N\n",
    "ne_genomes_cid['expansion'] = ~ne_genomes_cid.iteration.isna()\n",
    "q = ne_genomes_cid.dropna().groupby('iteration').mean().reset_index()\n",
    "\n",
    "\n",
    "skws={\"color\": \"black\"}\n",
    "lkws={'color': cmap[0]}\n",
    "\n",
    "sns.lmplot(x='iteration',y='genome_percentage',data=q,height=3, aspect=1,line_kws=lkws,scatter_kws=skws)\n",
    "plt.xlabel('expansion iteration')\n",
    "plt.ylabel('average proportion of microbial \\n genomes with compound')\n",
    "\n",
    "plt.xlim([0,105])\n",
    "\n",
    "\n",
    "r,pval = pearsonr(q['iteration'].values,q['genome_percentage'].values)\n",
    "d = int(np.ceil(np.log10(pval)))\n",
    "label = '$r={R}$ \\n'.format(R=round(r,2)) + '$P<10^{' + str(d) + '}$'\n",
    "plt.annotate(label, xy=(0.1, 0.1), xycoords='axes fraction')\n"
   ]
  },
  {
   "cell_type": "markdown",
   "id": "marine-turkey",
   "metadata": {},
   "source": [
    "### Fig 3C: proportion of metal usage vs. expansion iteration"
   ]
  },
  {
   "cell_type": "code",
   "execution_count": 171,
   "id": "found-graham",
   "metadata": {
    "tags": []
   },
   "outputs": [
    {
     "name": "stdout",
     "output_type": "stream",
     "text": [
      "-0.7442299044912474\n",
      "2.0944267383797933e-19\n"
     ]
    },
    {
     "data": {
      "text/plain": [
       "Text(0.6, 0.75, '$r=-0.74$ \\n$P<10^{-18}$')"
      ]
     },
     "execution_count": 171,
     "metadata": {},
     "output_type": "execute_result"
    },
    {
     "data": {
      "image/png": "[encoded data removed]",
      "text/plain": [
       "<Figure size 216x216 with 1 Axes>"
      ]
     },
     "metadata": {
      "needs_background": "light"
     },
     "output_type": "display_data"
    }
   ],
   "source": [
    "# compute the fraction of each iteration that uses a metal\n",
    "\n",
    "# determine proportion of reactions per iteration that use CO2 as reductant\n",
    "rns_tmp = pd.Series(ne_rxns).reset_index()\n",
    "rns_tmp.columns = ['reaction','direction','iteration']\n",
    "mtls = cids[cids['Coenzyme type/function'].isin(['Iron sulfur','Metal','Metal monovalent'])].ZID.tolist()\n",
    "\n",
    "metal_using_reactions = metabolism.network[(metabolism.network.cid.isin(mtls))][['rn','direction']].drop_duplicates()\n",
    "metal_using_reactions = metal_using_reactions.apply(tuple,axis=1).tolist()\n",
    "z = rns_tmp[['reaction','direction']].apply(tuple, axis=1).apply(lambda x: x in metal_using_reactions)\n",
    "rns_tmp['cofactor_usage'] = z\n",
    "rns_tmp['total'] = 1\n",
    "rz = rns_tmp.groupby('iteration').sum()\n",
    "rz = rz['cofactor_usage'] / rz['total']\n",
    "\n",
    "prop = pd.DataFrame(rz,columns = ['prop'])\n",
    "sns.lmplot(x='iteration',y='prop',data=prop.reset_index(),height=3, aspect=1,line_kws=lkws,scatter_kws=skws)\n",
    "plt.xlim([0,105])\n",
    "plt.xlabel('expansion iteration')\n",
    "plt.ylabel('proportion of reactions \\n that use a metal')\n",
    "\n",
    "r,pval = pearsonr(prop.reset_index()['iteration'].values,prop.reset_index()['prop'].values)\n",
    "print(r)\n",
    "print(pval)\n",
    "d = int(np.ceil(np.log10(pval)))\n",
    "label = '$r={R}$ \\n'.format(R=round(r,2)) + '$P<10^{' + str(d) + '}$'\n",
    "plt.annotate(label, xy=(0.6, 0.75), xycoords='axes fraction')\n"
   ]
  },
  {
   "cell_type": "markdown",
   "id": "circular-walter",
   "metadata": {},
   "source": [
    "### Fig 3D: average fold symmetry score vs. expansion number"
   ]
  },
  {
   "cell_type": "code",
   "execution_count": 310,
   "id": "automatic-campus",
   "metadata": {
    "tags": []
   },
   "outputs": [
    {
     "data": {
      "text/plain": [
       "Text(0.1, 0.1, '$r=-0.51$ \\n$P<10^{-6}$')"
      ]
     },
     "execution_count": 310,
     "metadata": {},
     "output_type": "execute_result"
    },
    {
     "data": {
      "image/png": "[encoded data removed]",
      "text/plain": [
       "<Figure size 216x216 with 1 Axes>"
      ]
     },
     "metadata": {
      "needs_background": "light"
     },
     "output_type": "display_data"
    }
   ],
   "source": [
    "fold2rxns = pd.read_csv('assets/fold2rxn.ec.30Aug2022.p20.csv',index_col=0)\n",
    "fold2rxns.columns = ['rn','rule']\n",
    "# only keep reaction to fold mappings from reactions mapping to a single KO group\n",
    "singleKO = True\n",
    "if singleKO:\n",
    "    rn2ko_count = pd.read_csv(\"/Users/joshuagoldford/Documents/github/network-expansion-assets/assets/reaction.KOCount.csv\")\n",
    "    rn_list_fold_compare = rn2ko_count[rn2ko_count.ko == 1].rn.tolist()\n",
    "    fold2rxns = fold2rxns[fold2rxns.rn.isin(rn_list_fold_compare)]\n",
    "\n",
    "fold2rxns['rule'] = fold2rxns.rule.apply(lambda x: str(x))\n",
    "fold_sym = pd.read_csv(\"assets/xgroup_symmetry.txt\",sep=',',header=None)\n",
    "fold_sym = fold_sym[[0,1,2]]\n",
    "fold_sym.columns = ['Fold','Symmmetry','Score']\n",
    "fold_sym['Fold'] = fold_sym.Fold.apply(lambda x: str(x))\n",
    "\n",
    "rn_folds = {'rn':[],'folds':[]}\n",
    "for rn, dff in fold2rxns.groupby('rn'):\n",
    "    folds = dff.rule.apply(lambda x: x.split('_')).tolist()\n",
    "    F = []\n",
    "    for f in folds:\n",
    "        for ff in f:\n",
    "            F.append(ff)\n",
    "    F = set(F)\n",
    "    rn_folds['rn'].append(rn)\n",
    "    rn_folds['folds'].append(list(F))\n",
    "    \n",
    "rn_folds = pd.DataFrame(rn_folds)\n",
    "rn_folds['average sym'] = rn_folds.folds.apply(lambda x: fold_sym[fold_sym.Fold.isin(x)].Score.mean())\n",
    "rn_folds = rn_folds.dropna()\n",
    "rn_folds['X-groups'] = rn_folds['folds'].apply(lambda x: \";\".join(x))\n",
    "\n",
    "\n",
    "scores = {'iteration': [] ,'mean_symmetry_score': []}\n",
    "\n",
    "for iteration,dff in pd.DataFrame(pd.Series(ne_rxns),columns = ['iteration']).groupby('iteration'):\n",
    "    g = [x[0] for x in dff.index.tolist()]\n",
    "    g = [x.split('_')[0] for x in g]\n",
    "    scores['iteration'].append(iteration)\n",
    "    s = rn_folds[rn_folds.rn.isin(g)]['average sym'].mean()\n",
    "    scores['mean_symmetry_score'].append(s)\n",
    "    \n",
    "scores = pd.DataFrame(scores)\n",
    "scores = scores.dropna()\n",
    "\n",
    "sns.lmplot(x='iteration',y='mean_symmetry_score',data=scores,height=3, aspect=1,line_kws=lkws,scatter_kws=skws)\n",
    "plt.xlim([0,105])\n",
    "plt.ylabel('mean fold repetitiveness')\n",
    "plt.xlabel('expansion iteration')\n",
    "\n",
    "\n",
    "r,pval = pearsonr(scores['iteration'].values,scores['mean_symmetry_score'].values)\n",
    "d = int(np.ceil(np.log10(pval)))\n",
    "label = '$r={R}$ \\n'.format(R=round(r,2)) + '$P<10^{' + str(d) + '}$'\n",
    "plt.annotate(label, xy=(0.1, 0.1), xycoords='axes fraction')\n"
   ]
  },
  {
   "cell_type": "code",
   "execution_count": 368,
   "id": "76436e89-f5b6-4287-8f26-57f51b69b950",
   "metadata": {
    "tags": []
   },
   "outputs": [
    {
     "data": {
      "text/html": [
       "<div>\n",
       "<style scoped>\n",
       "    .dataframe tbody tr th:only-of-type {\n",
       "        vertical-align: middle;\n",
       "    }\n",
       "\n",
       "    .dataframe tbody tr th {\n",
       "        vertical-align: top;\n",
       "    }\n",
       "\n",
       "    .dataframe thead th {\n",
       "        text-align: right;\n",
       "    }\n",
       "</style>\n",
       "<table border=\"1\" class=\"dataframe\">\n",
       "  <thead>\n",
       "    <tr style=\"text-align: right;\">\n",
       "      <th></th>\n",
       "      <th>mean_symmetry_score</th>\n",
       "      <th>single_ko_rxn</th>\n",
       "      <th>rn</th>\n",
       "      <th>fraction_single</th>\n",
       "    </tr>\n",
       "    <tr>\n",
       "      <th>iteration</th>\n",
       "      <th></th>\n",
       "      <th></th>\n",
       "      <th></th>\n",
       "      <th></th>\n",
       "    </tr>\n",
       "  </thead>\n",
       "  <tbody>\n",
       "    <tr>\n",
       "      <th>1</th>\n",
       "      <td>0.261807</td>\n",
       "      <td>37</td>\n",
       "      <td>110</td>\n",
       "      <td>0.336364</td>\n",
       "    </tr>\n",
       "    <tr>\n",
       "      <th>2</th>\n",
       "      <td>0.248268</td>\n",
       "      <td>47</td>\n",
       "      <td>94</td>\n",
       "      <td>0.500000</td>\n",
       "    </tr>\n",
       "    <tr>\n",
       "      <th>3</th>\n",
       "      <td>0.323007</td>\n",
       "      <td>26</td>\n",
       "      <td>51</td>\n",
       "      <td>0.509804</td>\n",
       "    </tr>\n",
       "    <tr>\n",
       "      <th>4</th>\n",
       "      <td>0.157314</td>\n",
       "      <td>7</td>\n",
       "      <td>22</td>\n",
       "      <td>0.318182</td>\n",
       "    </tr>\n",
       "    <tr>\n",
       "      <th>5</th>\n",
       "      <td>0.459514</td>\n",
       "      <td>2</td>\n",
       "      <td>15</td>\n",
       "      <td>0.133333</td>\n",
       "    </tr>\n",
       "    <tr>\n",
       "      <th>...</th>\n",
       "      <td>...</td>\n",
       "      <td>...</td>\n",
       "      <td>...</td>\n",
       "      <td>...</td>\n",
       "    </tr>\n",
       "    <tr>\n",
       "      <th>91</th>\n",
       "      <td>0.162770</td>\n",
       "      <td>1</td>\n",
       "      <td>2</td>\n",
       "      <td>0.500000</td>\n",
       "    </tr>\n",
       "    <tr>\n",
       "      <th>94</th>\n",
       "      <td>0.162770</td>\n",
       "      <td>1</td>\n",
       "      <td>2</td>\n",
       "      <td>0.500000</td>\n",
       "    </tr>\n",
       "    <tr>\n",
       "      <th>95</th>\n",
       "      <td>0.162770</td>\n",
       "      <td>1</td>\n",
       "      <td>2</td>\n",
       "      <td>0.500000</td>\n",
       "    </tr>\n",
       "    <tr>\n",
       "      <th>98</th>\n",
       "      <td>0.162770</td>\n",
       "      <td>1</td>\n",
       "      <td>2</td>\n",
       "      <td>0.500000</td>\n",
       "    </tr>\n",
       "    <tr>\n",
       "      <th>99</th>\n",
       "      <td>0.162770</td>\n",
       "      <td>1</td>\n",
       "      <td>2</td>\n",
       "      <td>0.500000</td>\n",
       "    </tr>\n",
       "  </tbody>\n",
       "</table>\n",
       "<p>95 rows × 4 columns</p>\n",
       "</div>"
      ],
      "text/plain": [
       "           mean_symmetry_score  single_ko_rxn   rn  fraction_single\n",
       "iteration                                                          \n",
       "1                     0.261807             37  110         0.336364\n",
       "2                     0.248268             47   94         0.500000\n",
       "3                     0.323007             26   51         0.509804\n",
       "4                     0.157314              7   22         0.318182\n",
       "5                     0.459514              2   15         0.133333\n",
       "...                        ...            ...  ...              ...\n",
       "91                    0.162770              1    2         0.500000\n",
       "94                    0.162770              1    2         0.500000\n",
       "95                    0.162770              1    2         0.500000\n",
       "98                    0.162770              1    2         0.500000\n",
       "99                    0.162770              1    2         0.500000\n",
       "\n",
       "[95 rows x 4 columns]"
      ]
     },
     "execution_count": 368,
     "metadata": {},
     "output_type": "execute_result"
    }
   ],
   "source": [
    "scores.set_index(\"iteration\").join(single_r)"
   ]
  },
  {
   "cell_type": "code",
   "execution_count": 372,
   "id": "57883878-3cf8-4377-a0a3-3d1c7a2614e4",
   "metadata": {
    "tags": []
   },
   "outputs": [
    {
     "data": {
      "text/html": [
       "<div>\n",
       "<style scoped>\n",
       "    .dataframe tbody tr th:only-of-type {\n",
       "        vertical-align: middle;\n",
       "    }\n",
       "\n",
       "    .dataframe tbody tr th {\n",
       "        vertical-align: top;\n",
       "    }\n",
       "\n",
       "    .dataframe thead th {\n",
       "        text-align: right;\n",
       "    }\n",
       "</style>\n",
       "<table border=\"1\" class=\"dataframe\">\n",
       "  <thead>\n",
       "    <tr style=\"text-align: right;\">\n",
       "      <th></th>\n",
       "      <th>n</th>\n",
       "      <th>r</th>\n",
       "      <th>CI95%</th>\n",
       "      <th>p-val</th>\n",
       "    </tr>\n",
       "  </thead>\n",
       "  <tbody>\n",
       "    <tr>\n",
       "      <th>pearson</th>\n",
       "      <td>95</td>\n",
       "      <td>-0.524558</td>\n",
       "      <td>[-0.66, -0.36]</td>\n",
       "      <td>5.738033e-08</td>\n",
       "    </tr>\n",
       "  </tbody>\n",
       "</table>\n",
       "</div>"
      ],
      "text/plain": [
       "          n         r           CI95%         p-val\n",
       "pearson  95 -0.524558  [-0.66, -0.36]  5.738033e-08"
      ]
     },
     "execution_count": 372,
     "metadata": {},
     "output_type": "execute_result"
    }
   ],
   "source": [
    "import pingouin as pg\n",
    "\n",
    "rn_df_z = rn_df.copy()\n",
    "rn_df_z[\"single_ko_rxn\"]=rn_df_z.rn_kegg.isin(rn_list_fold_compare)\n",
    "\n",
    "total_r = rn_df_z.groupby(\"iteration\").count()[[\"rn\"]]\n",
    "single_r = rn_df_z.groupby(\"iteration\").sum()\n",
    "single_r = single_r.join(total_r)\n",
    "single_r[\"fraction_single\"] = single_r[\"single_ko_rxn\"] / single_r[\"rn\"]\n",
    "sc = scores.set_index(\"iteration\").join(single_r)\n",
    "pg.partial_corr(data=sc.reset_index(),x=\"iteration\",y=\"mean_symmetry_score\",covar=[\"fraction_single\"])"
   ]
  },
  {
   "cell_type": "code",
   "execution_count": 357,
   "id": "2ad2bfa6-1e6b-4293-af02-ee3433428040",
   "metadata": {
    "tags": []
   },
   "outputs": [
    {
     "name": "stdout",
     "output_type": "stream",
     "text": [
      "Mann Whitney U test pval: 0.0012078563230532495\n",
      "Monte Carlo (lower) p-value: 0.0017\n",
      "Monte Carlo (higher) p-value: 0.9983\n"
     ]
    }
   ],
   "source": [
    "fold_id = \"2003\"\n",
    "fold2rxns_sub = fold2rxns[fold2rxns.rule.apply(lambda x: fold_id in x)]\n",
    "ne_rxns_min = pd.DataFrame(pd.Series(ne_rxns),columns = ['iteration']).reset_index().groupby(\"level_0\").min()\n",
    "fold_composition = {'iteration': [] ,'num_rxns_fold': [],\"total_rxns\":[]}\n",
    "for iteration,dff in ne_rxns_min.groupby('iteration'):\n",
    "    g = [x for x in dff.index.tolist()]\n",
    "    g = [x.split('_')[0] for x in g]\n",
    "    g = list(set([x for x in g if \"RZ\" not in x]))\n",
    "    num_rxns = len(fold2rxns_sub[fold2rxns_sub.rn.isin(g)])\n",
    "    fold_composition[\"iteration\"].append(iteration)\n",
    "    fold_composition[\"num_rxns_fold\"].append(num_rxns)\n",
    "    fold_composition[\"total_rxns\"].append(len(g))\n",
    "\n",
    "fold_composition = pd.DataFrame(fold_composition)\n",
    "fold_composition[\"fraction_fold\"] = fold_composition[\"num_rxns_fold\"] / fold_composition[\"total_rxns\"]\n",
    "fold_composition[\"preATP\"] = fold_composition.iteration < ne_cpds[\"C00002\"]\n",
    "\n",
    "x = fold_composition[fold_composition.preATP].fraction_fold.values\n",
    "y = fold_composition[~fold_composition.preATP].fraction_fold.values\n",
    "ustat,pval = mannwhitneyu(x,y)\n",
    "\n",
    "print(\"Mann Whitney U test pval: {P}\".format(P=pval))\n",
    "\n",
    "# perform monte carlo permutation test\n",
    "N = 10000\n",
    "fc_base = np.mean(x) / np.mean(y)\n",
    "random_fold_changes = []\n",
    "for i in range(N):\n",
    "    fold_composition[\"shuffled\"] = fold_composition.preATP.sample(len(fold_composition)).values\n",
    "    fc = fold_composition[fold_composition.shuffled].fraction_fold.mean() / fold_composition[~fold_composition.shuffled].fraction_fold.mean()\n",
    "    random_fold_changes.append(fc)\n",
    "    \n",
    "pval_lower = sum(np.array(random_fold_changes) < fc_base) / N\n",
    "print(\"Monte Carlo (lower) p-value: {P}\".format(P=pval_lower))\n",
    "\n",
    "pval_higher = sum(np.array(random_fold_changes) > fc_base) / N\n",
    "print(\"Monte Carlo (higher) p-value: {P}\".format(P=pval_higher))"
   ]
  },
  {
   "cell_type": "code",
   "execution_count": 314,
   "id": "9a3e710b-a25e-4283-83b8-42e18ea384b0",
   "metadata": {
    "tags": []
   },
   "outputs": [
    {
     "data": {
      "text/plain": [
       "<AxesSubplot:xlabel='iteration', ylabel='fraction_fold'>"
      ]
     },
     "execution_count": 314,
     "metadata": {},
     "output_type": "execute_result"
    },
    {
     "data": {
      "image/png": "[encoded data removed]",
      "text/plain": [
       "<Figure size 432x288 with 1 Axes>"
      ]
     },
     "metadata": {
      "needs_background": "light"
     },
     "output_type": "display_data"
    }
   ],
   "source": [
    "sns.scatterplot(x=\"iteration\",y=\"fraction_fold\",data=fold_composition,hue=\"preATP\")"
   ]
  },
  {
   "cell_type": "code",
   "execution_count": 315,
   "id": "41c51b91-8189-41f5-bf2e-6f5aa2c3ca7a",
   "metadata": {
    "tags": []
   },
   "outputs": [],
   "source": [
    "rn_df_z = rn_df.copy()\n",
    "rn_df_z[\"single_ko_rxn\"]=rn_df_z.rn_kegg.isin(rn_list_fold_compare)"
   ]
  },
  {
   "cell_type": "code",
   "execution_count": 316,
   "id": "b58e049a-a29e-4450-a855-0a70d25082d8",
   "metadata": {
    "tags": []
   },
   "outputs": [],
   "source": [
    "rn_df_z = rn_df.copy()\n",
    "rn_df_z[\"single_ko_rxn\"]=rn_df_z.rn_kegg.isin(rn_list_fold_compare)\n",
    "\n",
    "total_r = rn_df_z.groupby(\"iteration\").count()[[\"rn\"]]\n",
    "single_r = rn_df_z.groupby(\"iteration\").sum()\n",
    "single_r = single_r.join(total_r)\n",
    "single_r[\"fraction_single\"] = single_r[\"single_ko_rxn\"] / single_r[\"rn\"]"
   ]
  },
  {
   "cell_type": "code",
   "execution_count": 317,
   "id": "95bcb790-5cf5-4699-a183-c06190cf9086",
   "metadata": {
    "tags": []
   },
   "outputs": [
    {
     "data": {
      "text/plain": [
       "<AxesSubplot:xlabel='iteration', ylabel='fraction_single'>"
      ]
     },
     "execution_count": 317,
     "metadata": {},
     "output_type": "execute_result"
    },
    {
     "data": {
      "image/png": "[encoded data removed]",
      "text/plain": [
       "<Figure size 432x288 with 1 Axes>"
      ]
     },
     "metadata": {
      "needs_background": "light"
     },
     "output_type": "display_data"
    }
   ],
   "source": [
    "sns.scatterplot(x=\"iteration\",y=\"fraction_single\",data=single_r)"
   ]
  },
  {
   "cell_type": "code",
   "execution_count": 361,
   "id": "a327afea-c5f6-42e5-938c-830af7b5aa69",
   "metadata": {
    "tags": []
   },
   "outputs": [
    {
     "data": {
      "text/plain": [
       "array([  1,   2,   3,   4,   5,   6,   7,   8,   9,  10,  11,  12,  13,\n",
       "        14,  15,  16,  17,  18,  19,  20,  21,  22,  23,  24,  25,  26,\n",
       "        27,  28,  29,  30,  31,  32,  33,  34,  35,  36,  37,  38,  39,\n",
       "        40,  41,  42,  43,  44,  45,  46,  47,  48,  49,  50,  51,  52,\n",
       "        53,  54,  55,  56,  57,  58,  59,  60,  61,  62,  63,  64,  65,\n",
       "        66,  67,  68,  69,  70,  71,  72,  73,  74,  75,  76,  77,  78,\n",
       "        79,  80,  81,  82,  83,  84,  85,  86,  87,  88,  89,  90,  91,\n",
       "        92,  93,  94,  95,  96,  97,  98,  99, 100, 101, 102, 103])"
      ]
     },
     "execution_count": 361,
     "metadata": {},
     "output_type": "execute_result"
    }
   ],
   "source": [
    "single_r.index.values"
   ]
  },
  {
   "cell_type": "code",
   "execution_count": 362,
   "id": "ad0c4e0f-8a0e-4306-92ab-ba90b827befc",
   "metadata": {
    "tags": []
   },
   "outputs": [
    {
     "data": {
      "text/plain": [
       "(-0.3334069547857715, 0.0005786389638025325)"
      ]
     },
     "execution_count": 362,
     "metadata": {},
     "output_type": "execute_result"
    }
   ],
   "source": [
    "pearsonr(single_r.index.values,single_r.fraction_single)"
   ]
  },
  {
   "cell_type": "markdown",
   "id": "hollow-essay",
   "metadata": {},
   "source": [
    "### Fig 4C: Carbon fixation pathway"
   ]
  },
  {
   "cell_type": "code",
   "execution_count": 148,
   "id": "alone-alcohol",
   "metadata": {
    "tags": []
   },
   "outputs": [
    {
     "data": {
      "text/plain": [
       "Text(0.5, -6.5, 'expansion iteration')"
      ]
     },
     "execution_count": 148,
     "metadata": {},
     "output_type": "execute_result"
    },
    {
     "data": {
      "image/png": "[encoded data removed]",
      "text/plain": [
       "<Figure size 432x108 with 2 Axes>"
      ]
     },
     "metadata": {
      "needs_background": "light"
     },
     "output_type": "display_data"
    }
   ],
   "source": [
    "carbon_fixation = ['M00165','M00173','M00374','M00375','M00376','M00377','ReductiveGlycineModule']\n",
    "\n",
    "module_set = pd.read_csv('assets/carbonFixationModuleRules.v2.csv')\n",
    "module_names = {}\n",
    "module_names['M00165'] = 'Calvin cycle'\n",
    "module_names['M00173'] = 'Reductive citrate cycle'\n",
    "module_names['M00374'] = 'Dicarboxylate-hydroxybutyrate cycle'\n",
    "module_names['M00375'] = 'Hydroxypropionate-hydroxybutylate cycle'\n",
    "module_names['M00376'] = 'Hydroxypropionate bi-cycle'\n",
    "module_names['M00377'] = 'Reductive acetyl-CoA pathway'\n",
    "module_names['ReductiveGlycineModule'] = 'Reductive glycine pathway'\n",
    "\n",
    "iterations = rn_df.iteration.unique().tolist()\n",
    "module_coverage = {'module':[],'iteration':[],'coverage':[]}\n",
    "\n",
    "\n",
    "# make a reaction df with ONLY extant reactions\n",
    "rn_df_extant = rn_df[~rn_df.rn.apply(lambda x: (\"H2Red\" in x) | (\"_RSH\" in x))]\n",
    "\n",
    "\n",
    "for i in iterations:\n",
    "    rsub = rn_df_extant[rn_df_extant.iteration < (i+1)]\n",
    "    #rsub =rn_df[rn_df.iteration < (i+1)]\n",
    "    rsub = rsub.rn_kegg.unique()\n",
    "    for module,mdf in module_set.groupby('module'):\n",
    "        z = mdf.reactions.apply(lambda x: any([y in rsub for y in x.split(',')]))\n",
    "        coverage = z.sum() / len(z)\n",
    "        module_coverage['module'].append(module)\n",
    "        module_coverage['iteration'].append(i)\n",
    "        module_coverage['coverage'].append(coverage)\n",
    "\n",
    "module_coverage = pd.DataFrame(module_coverage)\n",
    "module_coverage_piv = module_coverage.pivot_table(index='iteration',columns='module',values='coverage')\n",
    "\n",
    "M00357 = pd.DataFrame(module_coverage_piv[['M00357.v1','M00357.v2']].max(axis=1))\n",
    "M00357.columns = ['coverage']\n",
    "M00357['module'] = 'M00357'\n",
    "\n",
    "module_coverage = pd.concat([module_coverage,M00357.reset_index()[['module','iteration','coverage']]],axis=0)\n",
    "module_coverage_piv = module_coverage.pivot_table(index='iteration',columns='module',values='coverage')\n",
    "\n",
    "pathway_completion_iteration = pd.Series({x:y[y.coverage == 1].iteration.min() for x,y in module_coverage.groupby('module')})\n",
    "\n",
    "height = 6\n",
    "mods = carbon_fixation\n",
    "q = pd.DataFrame(pathway_completion_iteration.loc[mods].sort_values(),columns = ['iteration']).reset_index().reset_index()\n",
    "q.columns = ['rank','module','iteration']\n",
    "mods = pathway_completion_iteration.loc[mods].sort_values().index.tolist()\n",
    "n = len(mods)\n",
    "plt.figure(figsize=(height,(n/2)/14*height))\n",
    "\n",
    "z = module_coverage_piv[mods].T\n",
    "z.index = [module_names[x] for x in z.index.tolist()]\n",
    "\n",
    "ax = sns.heatmap(z,cmap='flare',yticklabels=True)\n",
    "plt.yticks(rotation=0)\n",
    "\n",
    "#y = q['rank'].values + (n/2 / 10)\n",
    "y = ax.get_yticks()\n",
    "\n",
    "x = q['iteration'].values\n",
    "plt.scatter(x,y,color='yellow')\n",
    "plt.xlabel('expansion iteration')\n",
    "#plt.savefig('carbonfixation.{date}.svg'.format(date=date))"
   ]
  },
  {
   "cell_type": "markdown",
   "id": "declared-green",
   "metadata": {},
   "source": [
    "### Fig 4A: analysis of linear pathways"
   ]
  },
  {
   "cell_type": "code",
   "execution_count": 146,
   "id": "interstate-innocent",
   "metadata": {
    "tags": []
   },
   "outputs": [
    {
     "name": "stderr",
     "output_type": "stream",
     "text": [
      "/Users/joshuagoldford/opt/miniconda3/envs/ne.py3.6/lib/python3.6/site-packages/scipy/stats/stats.py:4196: SpearmanRConstantInputWarning: An input array is constant; the correlation coefficent is not defined.\n",
      "  warnings.warn(SpearmanRConstantInputWarning())\n"
     ]
    },
    {
     "data": {
      "text/plain": [
       "<matplotlib.legend.Legend at 0x7f945fc22da0>"
      ]
     },
     "execution_count": 146,
     "metadata": {},
     "output_type": "execute_result"
    },
    {
     "data": {
      "image/png": "[encoded data removed]",
      "text/plain": [
       "<Figure size 288x288 with 1 Axes>"
      ]
     },
     "metadata": {},
     "output_type": "display_data"
    }
   ],
   "source": [
    "with open(\"assets/parsedLinearModules.pkl\",\"rb\") as filehandler:\n",
    "    parsed_linear_modules = pickle.load(filehandler)\n",
    "    \n",
    "rn_df['rlabel'] = rn_df['rn_kegg'] + '_' + rn_df['direction']\n",
    "\n",
    "iteration_step = []\n",
    "for idx,row in parsed_linear_modules.iterrows():\n",
    "    if rn_df.rlabel.isin(row.rxn_labels).sum() == len(row.rxn_labels):\n",
    "        step_max = rn_df[rn_df.rlabel.isin(row.rxn_labels)].iteration.max()\n",
    "    else:\n",
    "        step_max = np.nan\n",
    "    iteration_step.append(step_max)\n",
    "    \n",
    "parsed_linear_modules['iteration'] = iteration_step\n",
    "\n",
    "\n",
    "module_correlations = {'module':[],'rule_id':[],'r':[],'pval':[],'ivar':[]}\n",
    "for (module,rule),dff in parsed_linear_modules.groupby(['module','rule_id']):\n",
    "    if ~dff.iteration.isna().any():\n",
    "        if len(dff)>1:\n",
    "            r,p = spearmanr(dff.step,dff.iteration)\n",
    "            module_correlations['module'].append(module)\n",
    "            module_correlations['rule_id'].append(rule)\n",
    "            module_correlations['r'].append(r)\n",
    "            module_correlations['pval'].append(p)\n",
    "            module_correlations['ivar'].append(dff.iteration.var())\n",
    "module_correlations = pd.DataFrame(module_correlations)\n",
    "\n",
    "\n",
    "retrograde = len(module_correlations[module_correlations.r == -1])\n",
    "granick = len(module_correlations[module_correlations.r == 1])\n",
    "mosiac = len(module_correlations) - retrograde - granick\n",
    "\n",
    "plt.figure(figsize=(4,4))\n",
    "cmap2 = sns.color_palette(\"Set2\")\n",
    "plt.pie([retrograde,granick,mosiac],colors=cmap2)\n",
    "plt.legend(['Retrograde','Granick','Mosaic'])\n"
   ]
  },
  {
   "cell_type": "markdown",
   "id": "dated-survival",
   "metadata": {},
   "source": [
    "### Fig 4B: Compute emergence time of KEGG modules"
   ]
  },
  {
   "cell_type": "code",
   "execution_count": 147,
   "id": "active-array",
   "metadata": {
    "tags": []
   },
   "outputs": [
    {
     "data": {
      "text/plain": [
       "Text(0.5, 6.800000000000001, 'iteration when pathway is feasible')"
      ]
     },
     "execution_count": 147,
     "metadata": {},
     "output_type": "execute_result"
    },
    {
     "data": {
      "image/png": "[encoded data removed]",
      "text/plain": [
       "<Figure size 324x144 with 1 Axes>"
      ]
     },
     "metadata": {
      "needs_background": "light"
     },
     "output_type": "display_data"
    }
   ],
   "source": [
    "with open(\"assets/parsedModules.pkl\",\"rb\") as filehandler:\n",
    "    parsed_modules = pickle.load(filehandler)\n",
    "\n",
    "moduleEmergence = {'module':[],'rule_id':[],'iteration_emergence':[]}\n",
    "\n",
    "for (module,rule),mdf in parsed_modules.groupby(['module','rule_id']):\n",
    "    mdf['in_expansion'] = mdf.rxn_labels.apply(lambda x: len(rn_df[rn_df.rlabel.isin(x)])>0)\n",
    "    if mdf.in_expansion.all():\n",
    "        mdf['iteration'] = mdf.rxn_labels.apply(lambda x: rn_df[rn_df.rlabel.isin(x)].iteration.min())\n",
    "        emergence_time = mdf.groupby('step').min().iteration.max()\n",
    "        moduleEmergence['iteration_emergence'].append(emergence_time)\n",
    "        moduleEmergence['module'].append(module)\n",
    "        moduleEmergence['rule_id'].append(rule)\n",
    "\n",
    "# substitute the manually constructed pathways into automatically parsed KEGG modules\n",
    "memerg = pd.DataFrame(module_coverage.groupby('module').apply(lambda x:  x[x.coverage == 1].iteration.min()))\n",
    "memerg.columns = ['iteration_emergence']\n",
    "memerg = memerg[~memerg.index.isin(['M00357.v1','M00357.v2'])]\n",
    "\n",
    "moduleEmergence = pd.DataFrame(moduleEmergence)\n",
    "moduleEmergenceMin = moduleEmergence.dropna().groupby('module').min()\n",
    "moduleEmergenceMin = pd.concat([moduleEmergenceMin[~moduleEmergenceMin.index.isin(memerg.index.tolist())][['iteration_emergence']],memerg],axis=0)\n",
    "\n",
    "sns.displot(x='iteration_emergence',data=moduleEmergenceMin,height=2,aspect=2.25,color='gray',rug=True)\n",
    "plt.xlabel('iteration when pathway is feasible')\n"
   ]
  },
  {
   "cell_type": "code",
   "execution_count": null,
   "id": "better-voluntary",
   "metadata": {},
   "outputs": [],
   "source": []
  }
 ],
 "metadata": {
  "kernelspec": {
   "display_name": "Python 3.6 (network expansion)",
   "language": "python",
   "name": "ne.py3.6"
  },
  "language_info": {
   "codemirror_mode": {
    "name": "ipython",
    "version": 3
   },
   "file_extension": ".py",
   "mimetype": "text/x-python",
   "name": "python",
   "nbconvert_exporter": "python",
   "pygments_lexer": "ipython3",
   "version": "3.6.13"
  }
 },
 "nbformat": 4,
 "nbformat_minor": 5
}
