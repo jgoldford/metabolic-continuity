{
 "cells": [
  {
   "cell_type": "code",
   "execution_count": 1,
   "id": "246064c1-c5fa-4ae8-8abb-c355a7bad7eb",
   "metadata": {
    "tags": []
   },
   "outputs": [],
   "source": [
    "import networkExpansionPy.lib as ne\n",
    "import numpy as np\n",
    "import pandas as pd\n",
    "import pickle as pickle\n",
    "import seaborn as sns\n",
    "import matplotlib.pyplot as plt\n",
    "from scipy.stats import spearmanr,pearsonr,mannwhitneyu\n",
    "from statsmodels.stats.multitest import multipletests\n",
    "plt.rcParams['font.family'] = 'Arial'\n",
    "\n",
    "import warnings\n",
    "from scipy.sparse import (spdiags, SparseEfficiencyWarning, csc_matrix,\n",
    "    csr_matrix, isspmatrix, dok_matrix, lil_matrix, bsr_matrix)\n",
    "warnings.simplefilter('ignore',SparseEfficiencyWarning)\n",
    "\n",
    "def load_data(network_name):\n",
    "    with open(ne.asset_path  + \"/metabolic_networks/\" + network_name,\"rb\") as filehandler:\n",
    "        metabolism = pickle.load(filehandler)\n",
    "    return metabolism\n",
    "\n",
    "# load the metabolism object from the repo\n",
    "#metabolism = load_data('metabolism.23Aug2022.pkl')\n",
    "#model_id = \"metabolism.v4.20Mar2023.pkl\"\n",
    "#model_id = \"metabolism.v5.12Apr2023.pkl\"\n",
    "#model_id = \"metabolism.v6.26Apr2023.pkl\"\n",
    "\n",
    "model_id = \"metabolism.v8.01May2023.pkl\"\n",
    "metabolism = pd.read_pickle('../assets/models/' + model_id)\n",
    "\n",
    "cids = metabolism.coenzymes"
   ]
  },
  {
   "cell_type": "code",
   "execution_count": 91,
   "id": "59a32178-fb0c-472f-aac5-392e26139d49",
   "metadata": {
    "tags": []
   },
   "outputs": [],
   "source": [
    "# prepare the network \n",
    "reaction_df = {\"reaction\":[],\"direction\":[],\"reaction_def\":[],\"coenzyme\":[]}\n",
    "for (reaction,direction),dff in metabolism.network.groupby([\"rn\",\"direction\"]):\n",
    "    #dff = dff.groupby(\"cid\").sum()\n",
    "    dff[\"stoich\"] = dff.s.apply(lambda x: str(int(abs(x))))\n",
    "    dff[\"stoich\"] = dff[\"stoich\"].apply(lambda x: x.replace(\"1\",\"\"))\n",
    "    dff[\"reagent\"] = dff[\"stoich\"] + dff[\"cid\"] \n",
    "    substrates = dff[dff[\"s\"] < 0]\n",
    "    products = dff[dff[\"s\"] > 0]\n",
    "    rxn_string = \" + \".join(substrates.reagent.tolist()) + \" => \" +  \" + \".join(products.reagent.tolist())\n",
    "    reaction_df[\"reaction\"].append(reaction)\n",
    "    reaction_df[\"direction\"].append(direction)\n",
    "    reaction_df[\"reaction_def\"].append(rxn_string)\n",
    "    c = substrates.cid.tolist()\n",
    "    c = \", \".join(cids[cids.ZID.isin(c)][\"Coenzyme Name\"].tolist())\n",
    "    reaction_df[\"coenzyme\"].append(c)\n",
    "    \n",
    "reaction_df = pd.DataFrame(reaction_df)"
   ]
  },
  {
   "cell_type": "code",
   "execution_count": 132,
   "id": "4cbbce08-a400-4bfd-a2c6-403fcfdee82b",
   "metadata": {
    "tags": []
   },
   "outputs": [],
   "source": [
    "def rxn_classify(rxn):\n",
    "    if (\"R\" == rxn[0]) & (\"_v\" in rxn):\n",
    "        return \"KEGG (Modified)\"\n",
    "    elif (\"R\" == rxn[0]) & (\"_v\" not in rxn):\n",
    "        return \"KEGG\"\n",
    "    else:\n",
    "        return \"Manual\"\n",
    "\n",
    "reaction_df[\"ReactionType\"] = reaction_df[\"reaction\"].apply(rxn_classify)"
   ]
  },
  {
   "cell_type": "code",
   "execution_count": 137,
   "id": "d5189853",
   "metadata": {
    "tags": []
   },
   "outputs": [
    {
     "data": {
      "text/html": [
       "<div>\n",
       "<style scoped>\n",
       "    .dataframe tbody tr th:only-of-type {\n",
       "        vertical-align: middle;\n",
       "    }\n",
       "\n",
       "    .dataframe tbody tr th {\n",
       "        vertical-align: top;\n",
       "    }\n",
       "\n",
       "    .dataframe thead th {\n",
       "        text-align: right;\n",
       "    }\n",
       "</style>\n",
       "<table border=\"1\" class=\"dataframe\">\n",
       "  <thead>\n",
       "    <tr style=\"text-align: right;\">\n",
       "      <th></th>\n",
       "      <th>reaction</th>\n",
       "      <th>direction</th>\n",
       "      <th>ReactionType</th>\n",
       "      <th>coenzyme</th>\n",
       "      <th>reaction_def</th>\n",
       "    </tr>\n",
       "  </thead>\n",
       "  <tbody>\n",
       "    <tr>\n",
       "      <th>0</th>\n",
       "      <td>C00404_syn</td>\n",
       "      <td>forward</td>\n",
       "      <td>Manual</td>\n",
       "      <td></td>\n",
       "      <td>C00536 =&gt; C00404</td>\n",
       "    </tr>\n",
       "    <tr>\n",
       "      <th>1</th>\n",
       "      <td>C00862_syn</td>\n",
       "      <td>forward</td>\n",
       "      <td>Manual</td>\n",
       "      <td></td>\n",
       "      <td>C21070 =&gt; C00862</td>\n",
       "    </tr>\n",
       "    <tr>\n",
       "      <th>2</th>\n",
       "      <td>C01070_syn</td>\n",
       "      <td>forward</td>\n",
       "      <td>Manual</td>\n",
       "      <td>Fe, Heme</td>\n",
       "      <td>Z00025 + Z00015 =&gt; C01070</td>\n",
       "    </tr>\n",
       "    <tr>\n",
       "      <th>3</th>\n",
       "      <td>C01071_syn</td>\n",
       "      <td>forward</td>\n",
       "      <td>Manual</td>\n",
       "      <td>Fe, Heme</td>\n",
       "      <td>Z00025 + Z00015 =&gt; C01071</td>\n",
       "    </tr>\n",
       "    <tr>\n",
       "      <th>4</th>\n",
       "      <td>C04253_syn</td>\n",
       "      <td>forward</td>\n",
       "      <td>Manual</td>\n",
       "      <td>Flavin</td>\n",
       "      <td>C00017 + Z00017 =&gt; C04253</td>\n",
       "    </tr>\n",
       "    <tr>\n",
       "      <th>...</th>\n",
       "      <td>...</td>\n",
       "      <td>...</td>\n",
       "      <td>...</td>\n",
       "      <td>...</td>\n",
       "      <td>...</td>\n",
       "    </tr>\n",
       "    <tr>\n",
       "      <th>18935</th>\n",
       "      <td>protein_syn</td>\n",
       "      <td>forward</td>\n",
       "      <td>Manual</td>\n",
       "      <td></td>\n",
       "      <td>C00037 + C00041 + C00183 + C00123 + C00407 + C...</td>\n",
       "    </tr>\n",
       "    <tr>\n",
       "      <th>18936</th>\n",
       "      <td>sulfurcarrier_syn</td>\n",
       "      <td>forward</td>\n",
       "      <td>Manual</td>\n",
       "      <td></td>\n",
       "      <td>C00017 + C00017 =&gt; C15810 + C15810</td>\n",
       "    </tr>\n",
       "    <tr>\n",
       "      <th>18937</th>\n",
       "      <td>thiolprot_syn</td>\n",
       "      <td>forward</td>\n",
       "      <td>Manual</td>\n",
       "      <td></td>\n",
       "      <td>C00017 =&gt; C15814</td>\n",
       "    </tr>\n",
       "    <tr>\n",
       "      <th>18938</th>\n",
       "      <td>thioredoxin1_syn</td>\n",
       "      <td>forward</td>\n",
       "      <td>Manual</td>\n",
       "      <td></td>\n",
       "      <td>C00017 =&gt; C00343</td>\n",
       "    </tr>\n",
       "    <tr>\n",
       "      <th>18939</th>\n",
       "      <td>thioredoxin2_syn</td>\n",
       "      <td>forward</td>\n",
       "      <td>Manual</td>\n",
       "      <td></td>\n",
       "      <td>C00017 =&gt; C00342</td>\n",
       "    </tr>\n",
       "  </tbody>\n",
       "</table>\n",
       "<p>18940 rows × 5 columns</p>\n",
       "</div>"
      ],
      "text/plain": [
       "                reaction direction ReactionType  coenzyme  \\\n",
       "0             C00404_syn   forward       Manual             \n",
       "1             C00862_syn   forward       Manual             \n",
       "2             C01070_syn   forward       Manual  Fe, Heme   \n",
       "3             C01071_syn   forward       Manual  Fe, Heme   \n",
       "4             C04253_syn   forward       Manual    Flavin   \n",
       "...                  ...       ...          ...       ...   \n",
       "18935        protein_syn   forward       Manual             \n",
       "18936  sulfurcarrier_syn   forward       Manual             \n",
       "18937      thiolprot_syn   forward       Manual             \n",
       "18938   thioredoxin1_syn   forward       Manual             \n",
       "18939   thioredoxin2_syn   forward       Manual             \n",
       "\n",
       "                                            reaction_def  \n",
       "0                                       C00536 => C00404  \n",
       "1                                       C21070 => C00862  \n",
       "2                              Z00025 + Z00015 => C01070  \n",
       "3                              Z00025 + Z00015 => C01071  \n",
       "4                              C00017 + Z00017 => C04253  \n",
       "...                                                  ...  \n",
       "18935  C00037 + C00041 + C00183 + C00123 + C00407 + C...  \n",
       "18936                 C00017 + C00017 => C15810 + C15810  \n",
       "18937                                   C00017 => C15814  \n",
       "18938                                   C00017 => C00343  \n",
       "18939                                   C00017 => C00342  \n",
       "\n",
       "[18940 rows x 5 columns]"
      ]
     },
     "execution_count": 134,
     "metadata": {},
     "output_type": "execute_result"
    }
   ],
   "source": [
    "reaction_df = reaction_df[[\"reaction\",\"direction\",\"ReactionType\",\"coenzyme\",\"reaction_def\"]]"
   ]
  },
  {
   "cell_type": "code",
   "execution_count": 138,
   "id": "3cf66811-4a11-4327-bef0-9e4f1ecc0d1c",
   "metadata": {
    "tags": []
   },
   "outputs": [],
   "source": [
    "reaction_df.set_index(\"reaction\").to_csv(\"SI_tables/S1.csv\")"
   ]
  },
  {
   "cell_type": "code",
   "execution_count": 90,
   "id": "93d28734-e46a-47c1-bc5c-dcbd9d460599",
   "metadata": {
    "tags": []
   },
   "outputs": [
    {
     "data": {
      "text/plain": [
       "''"
      ]
     },
     "execution_count": 90,
     "metadata": {},
     "output_type": "execute_result"
    }
   ],
   "source": [
    "\", \".join(cids[cids.ZID.isin(c)][\"Coenzyme Name\"].tolist())"
   ]
  },
  {
   "cell_type": "code",
   "execution_count": 25,
   "id": "032f06aa-8e58-4910-9dad-43af67dd1bca",
   "metadata": {
    "tags": []
   },
   "outputs": [],
   "source": [
    "cname_df = {\"cid\":[],\"name\":[],\"formula\":[]}\n",
    "for cid in compounds:\n",
    "    cname = compounds[cid][\"name\"]\n",
    "    formula = compounds[cid][\"formula\"]\n",
    "    cname_df[\"cid\"].append(cid)\n",
    "    cname_df[\"name\"].append(cname)\n",
    "    cname_df[\"formula\"].append(formula)\n",
    "\n",
    "cname_df = pd.DataFrame(cname_df)  \n",
    "cname_df = cname_df.set_index(\"cid\")"
   ]
  },
  {
   "cell_type": "code",
   "execution_count": 28,
   "id": "447c2cf1-09c9-48b6-af63-2d8cbf1b5abd",
   "metadata": {
    "tags": []
   },
   "outputs": [],
   "source": [
    "cname_df = cname_df.set_index(\"cid\")"
   ]
  },
  {
   "cell_type": "code",
   "execution_count": 94,
   "id": "09fc7dcb-e6c1-4fd7-92e5-18860a737624",
   "metadata": {
    "tags": []
   },
   "outputs": [
    {
     "name": "stdout",
     "output_type": "stream",
     "text": [
      "There were 70 compounds in this seed set...\n",
      "There were 4315 compounds produced in this expansion!\n"
     ]
    }
   ],
   "source": [
    "seed_set = pd.read_csv('assets/seed_set.csv')['ID'].tolist() \n",
    "print('There were {N} compounds in this seed set...'.format(N=len(seed_set)))\n",
    "\n",
    "ne_cpds,ne_rxns = metabolism.expand(seed_set,algorithm='trace')\n",
    "print('There were {N} compounds produced in this expansion!'.format(N=len(ne_cpds)))\n",
    "\n",
    "# parse data into dataframes\n",
    "rn_df = pd.DataFrame(pd.Series(ne_rxns),columns = ['iteration'])\n",
    "rn_df.reset_index(inplace=True)\n",
    "rn_df.columns = ['rn','direction','iteration']\n",
    "rn_df['rn_kegg']= rn_df['rn'].apply(lambda x: x.split('_')[0])\n",
    "\n",
    "\n",
    "# now remove purine production \n",
    "metab_unmod = metabolism.copy()\n",
    "ne_cpds,ne_rxns = metab_unmod.expand(seed_set,algorithm='trace')\n",
    "rn_to_remove = [x for x in metab_unmod.network.rn.unique().tolist() if (('_gATP' in x) or ('_gGTP' in x))]\n",
    "metab_unmod.network = metab_unmod.network[~metab_unmod.network.rn.isin(rn_to_remove)]\n",
    "ne_cpds_np,ne_rxns_np = metab_unmod.expand(seed_set,algorithm='trace')\n",
    "ne_cpds_np_ad,ne_rxns_np_ad = metab_unmod.expand(seed_set + ['C00147'],algorithm='trace')\n"
   ]
  },
  {
   "cell_type": "code",
   "execution_count": 126,
   "id": "e5a5a099-fc00-420e-a57c-ce55b12fa345",
   "metadata": {
    "tags": []
   },
   "outputs": [],
   "source": [
    "z = pd.DataFrame(pd.Series(ne_cpds),columns = [\"Modified (Primitive purine biosynthesis)\"])\n",
    "y = pd.DataFrame(pd.Series(ne_cpds_np_ad),columns = [\"Unmodified+Adenine\"])\n",
    "x = pd.DataFrame(pd.Series(ne_cpds_np),columns = [\"Unmodified\"])\n",
    "results = pd.concat([x,y,z],axis=1)\n",
    "#results.to_csv(\"SI_tables/S7.csv\")\n",
    "\n",
    "cz = cname_df[[\"name\"]]\n",
    "cx = cids.set_index(\"ZID\")[[\"Coenzyme Name\"]]\n",
    "cx.columns = [\"name\"]\n",
    "cx = pd.concat([cz,cx],axis=0)\n",
    "\n",
    "results = results.join(cx)[[\"name\"] + list(results)]\n",
    "results.to_csv(\"SI_tables/S7.csv\")"
   ]
  },
  {
   "cell_type": "code",
   "execution_count": 103,
   "id": "332f58cb-cea8-45a9-a2e4-903bcf044786",
   "metadata": {
    "tags": []
   },
   "outputs": [],
   "source": [
    "results.to_csv(\"SI_tables/S7.csv\")"
   ]
  },
  {
   "cell_type": "code",
   "execution_count": 118,
   "id": "74a87dd1-c66f-43b2-9ffa-e6e2123efc29",
   "metadata": {
    "tags": []
   },
   "outputs": [],
   "source": [
    "cz = cname_df[[\"name\"]]\n",
    "cx = cids.set_index(\"ZID\")[[\"Coenzyme Name\"]]\n",
    "cx.columns = [\"name\"]\n",
    "cx = pd.concat([cz,cx],axis=0)\n"
   ]
  },
  {
   "cell_type": "code",
   "execution_count": 139,
   "id": "7ffc2d4c-d550-4bad-9b45-7693e2957560",
   "metadata": {
    "tags": []
   },
   "outputs": [
    {
     "data": {
      "text/plain": [
       "Text(0.5, -6.5, 'expansion iteration')"
      ]
     },
     "execution_count": 139,
     "metadata": {},
     "output_type": "execute_result"
    },
    {
     "data": {
      "image/png": "[encoded data removed]",
      "text/plain": [
       "<Figure size 432x108 with 2 Axes>"
      ]
     },
     "metadata": {
      "needs_background": "light"
     },
     "output_type": "display_data"
    }
   ],
   "source": [
    "carbon_fixation = ['M00165','M00173','M00374','M00375','M00376','M00377','ReductiveGlycineModule']\n",
    "\n",
    "module_set = pd.read_csv('assets/carbonFixationModuleRules.v2.csv')\n",
    "# this is a biotin-dependent step, whcih can be performed via PEP carboxylase which always occurs earlier\n",
    "module_set = module_set[~(module_set[\"step\"] == \"C00022 -> C00036\")]\n",
    "module_names = {}\n",
    "module_names['M00165'] = 'Calvin cycle'\n",
    "module_names['M00173'] = 'Reductive citrate cycle'\n",
    "module_names['M00374'] = 'Dicarboxylate-hydroxybutyrate cycle'\n",
    "module_names['M00375'] = 'Hydroxypropionate-hydroxybutylate cycle'\n",
    "module_names['M00376'] = 'Hydroxypropionate bi-cycle'\n",
    "module_names['M00377'] = 'Reductive acetyl-CoA pathway'\n",
    "module_names['ReductiveGlycineModule'] = 'Reductive glycine pathway'\n",
    "\n",
    "iterations = rn_df.iteration.unique().tolist()\n",
    "module_coverage = {'module':[],'iteration':[],'coverage':[]}\n",
    "\n",
    "\n",
    "# make a reaction df with ONLY extant reactions\n",
    "rn_df_extant = rn_df[~rn_df.rn.apply(lambda x: (\"H2Red\" in x) | (\"_RSH\" in x))]\n",
    "\n",
    "\n",
    "for i in iterations:\n",
    "    rsub = rn_df_extant[rn_df_extant.iteration < (i+1)]\n",
    "    #rsub =rn_df[rn_df.iteration < (i+1)]\n",
    "    rsub = rsub.rn_kegg.unique()\n",
    "    for module,mdf in module_set.groupby('module'):\n",
    "        z = mdf.reactions.apply(lambda x: any([y in rsub for y in x.split(',')]))\n",
    "        coverage = z.sum() / len(z)\n",
    "        module_coverage['module'].append(module)\n",
    "        module_coverage['iteration'].append(i)\n",
    "        module_coverage['coverage'].append(coverage)\n",
    "\n",
    "module_coverage = pd.DataFrame(module_coverage)\n",
    "module_coverage_piv = module_coverage.pivot_table(index='iteration',columns='module',values='coverage')\n",
    "\n",
    "M00357 = pd.DataFrame(module_coverage_piv[['M00357.v1','M00357.v2']].max(axis=1))\n",
    "M00357.columns = ['coverage']\n",
    "M00357['module'] = 'M00357'\n",
    "\n",
    "module_coverage = pd.concat([module_coverage,M00357.reset_index()[['module','iteration','coverage']]],axis=0)\n",
    "module_coverage_piv = module_coverage.pivot_table(index='iteration',columns='module',values='coverage')\n",
    "\n",
    "pathway_completion_iteration = pd.Series({x:y[y.coverage == 1].iteration.min() for x,y in module_coverage.groupby('module')})\n",
    "\n",
    "height = 6\n",
    "mods = carbon_fixation\n",
    "q = pd.DataFrame(pathway_completion_iteration.loc[mods].sort_values(),columns = ['iteration']).reset_index().reset_index()\n",
    "q.columns = ['rank','module','iteration']\n",
    "mods = pathway_completion_iteration.loc[mods].sort_values().index.tolist()\n",
    "n = len(mods)\n",
    "plt.figure(figsize=(height,(n/2)/14*height))\n",
    "\n",
    "z = module_coverage_piv[mods].T\n",
    "z.index = [module_names[x] for x in z.index.tolist()]\n",
    "\n",
    "ax = sns.heatmap(z,cmap='flare',yticklabels=True)\n",
    "plt.yticks(rotation=0)\n",
    "\n",
    "#y = q['rank'].values + (n/2 / 10)\n",
    "y = ax.get_yticks()\n",
    "\n",
    "x = q['iteration'].values\n",
    "plt.scatter(x,y,color='yellow')\n",
    "plt.xlabel('expansion iteration')\n",
    "#plt.savefig('carbonfixation.{date}.svg'.format(date=date))\n",
    "#plt.savefig(\"figs/fig4c.svg\")"
   ]
  },
  {
   "cell_type": "code",
   "execution_count": 192,
   "id": "4aab87db-64dd-49db-a39e-1d6dbcd5c604",
   "metadata": {
    "tags": []
   },
   "outputs": [
    {
     "name": "stderr",
     "output_type": "stream",
     "text": [
      "/Users/joshuagoldford/opt/miniconda3/envs/ne.py3.6/lib/python3.6/site-packages/scipy/stats/stats.py:4196: SpearmanRConstantInputWarning: An input array is constant; the correlation coefficent is not defined.\n",
      "  warnings.warn(SpearmanRConstantInputWarning())\n"
     ]
    },
    {
     "data": {
      "text/plain": [
       "<matplotlib.legend.Legend at 0x7f92b3afbc50>"
      ]
     },
     "execution_count": 192,
     "metadata": {},
     "output_type": "execute_result"
    },
    {
     "data": {
      "image/png": "[encoded data removed]",
      "text/plain": [
       "<Figure size 288x288 with 1 Axes>"
      ]
     },
     "metadata": {},
     "output_type": "display_data"
    }
   ],
   "source": [
    "with open(\"assets/parsedLinearModules.pkl\",\"rb\") as filehandler:\n",
    "    parsed_linear_modules = pickle.load(filehandler)\n",
    "    \n",
    "rn_df['rlabel'] = rn_df['rn_kegg'] + '_' + rn_df['direction']\n",
    "\n",
    "iteration_step = []\n",
    "for idx,row in parsed_linear_modules.iterrows():\n",
    "    if rn_df.rlabel.isin(row.rxn_labels).sum() == len(row.rxn_labels):\n",
    "        step_max = rn_df[rn_df.rlabel.isin(row.rxn_labels)].iteration.max()\n",
    "    else:\n",
    "        step_max = np.nan\n",
    "    iteration_step.append(step_max)\n",
    "    \n",
    "parsed_linear_modules['iteration'] = iteration_step\n",
    "\n",
    "\n",
    "module_correlations = {'module':[],'rule_id':[],'r':[],'pval':[],'ivar':[]}\n",
    "for (module,rule),dff in parsed_linear_modules.groupby(['module','rule_id']):\n",
    "    if ~dff.iteration.isna().any():\n",
    "        if len(dff)>1:\n",
    "            r,p = spearmanr(dff.step,dff.iteration)\n",
    "            module_correlations['module'].append(module)\n",
    "            module_correlations['rule_id'].append(rule)\n",
    "            module_correlations['r'].append(r)\n",
    "            module_correlations['pval'].append(p)\n",
    "            module_correlations['ivar'].append(dff.iteration.var())\n",
    "module_correlations = pd.DataFrame(module_correlations)\n",
    "module_correlations = module_correlations[~module_correlations[\"r\"].isna()]\n",
    "\n",
    "retrograde = len(module_correlations[module_correlations.r < -0.99999999])\n",
    "granick = len(module_correlations[module_correlations.r > 0.99999999])\n",
    "mosiac = len(module_correlations) - retrograde - granick\n",
    "\n",
    "plt.figure(figsize=(4,4))\n",
    "cmap2 = sns.color_palette(\"Set2\")\n",
    "plt.pie([retrograde,granick,mosiac],colors=cmap2)\n",
    "plt.legend(['Retrograde','Granick','Mosaic'])\n",
    "#plt.savefig(\"figs/fig4a.svg\")"
   ]
  },
  {
   "cell_type": "code",
   "execution_count": 200,
   "id": "ed92b89c-2859-4b15-8c70-bb7c6eecbe77",
   "metadata": {
    "tags": []
   },
   "outputs": [
    {
     "data": {
      "text/plain": [
       "0.37272727272727274"
      ]
     },
     "execution_count": 200,
     "metadata": {},
     "output_type": "execute_result"
    }
   ],
   "source": [
    "mosiac / sum([retrograde,granick,mosiac])"
   ]
  },
  {
   "cell_type": "code",
   "execution_count": 201,
   "id": "58b418f3-8ab6-40e5-8450-bc8043d07755",
   "metadata": {
    "tags": []
   },
   "outputs": [
    {
     "data": {
      "text/plain": [
       "41"
      ]
     },
     "execution_count": 201,
     "metadata": {},
     "output_type": "execute_result"
    }
   ],
   "source": [
    "mosiac"
   ]
  },
  {
   "cell_type": "code",
   "execution_count": 193,
   "id": "2e640083-bfb8-411e-bbb9-e040999e1e24",
   "metadata": {
    "tags": []
   },
   "outputs": [],
   "source": [
    "#module_names = pd.read_csv(\"assets/kegg_modules.csv\")"
   ]
  },
  {
   "cell_type": "code",
   "execution_count": 195,
   "id": "51b8a50c-43f3-4f84-a2dc-0a9ba7cc1cf8",
   "metadata": {
    "tags": []
   },
   "outputs": [
    {
     "data": {
      "text/html": [
       "<div>\n",
       "<style scoped>\n",
       "    .dataframe tbody tr th:only-of-type {\n",
       "        vertical-align: middle;\n",
       "    }\n",
       "\n",
       "    .dataframe tbody tr th {\n",
       "        vertical-align: top;\n",
       "    }\n",
       "\n",
       "    .dataframe thead th {\n",
       "        text-align: right;\n",
       "    }\n",
       "</style>\n",
       "<table border=\"1\" class=\"dataframe\">\n",
       "  <thead>\n",
       "    <tr style=\"text-align: right;\">\n",
       "      <th></th>\n",
       "      <th>module</th>\n",
       "      <th>rule_id</th>\n",
       "      <th>r</th>\n",
       "      <th>pval</th>\n",
       "      <th>ivar</th>\n",
       "    </tr>\n",
       "  </thead>\n",
       "  <tbody>\n",
       "    <tr>\n",
       "      <th>1</th>\n",
       "      <td>M00006</td>\n",
       "      <td>1</td>\n",
       "      <td>-0.866025</td>\n",
       "      <td>0.333333</td>\n",
       "      <td>0.333333</td>\n",
       "    </tr>\n",
       "    <tr>\n",
       "      <th>2</th>\n",
       "      <td>M00006</td>\n",
       "      <td>2</td>\n",
       "      <td>0.866025</td>\n",
       "      <td>0.333333</td>\n",
       "      <td>0.333333</td>\n",
       "    </tr>\n",
       "    <tr>\n",
       "      <th>3</th>\n",
       "      <td>M00006</td>\n",
       "      <td>3</td>\n",
       "      <td>0.000000</td>\n",
       "      <td>1.000000</td>\n",
       "      <td>0.333333</td>\n",
       "    </tr>\n",
       "    <tr>\n",
       "      <th>4</th>\n",
       "      <td>M00008</td>\n",
       "      <td>0</td>\n",
       "      <td>-0.948683</td>\n",
       "      <td>0.051317</td>\n",
       "      <td>69.666667</td>\n",
       "    </tr>\n",
       "    <tr>\n",
       "      <th>5</th>\n",
       "      <td>M00013</td>\n",
       "      <td>0</td>\n",
       "      <td>-0.900000</td>\n",
       "      <td>0.037386</td>\n",
       "      <td>137.300000</td>\n",
       "    </tr>\n",
       "    <tr>\n",
       "      <th>...</th>\n",
       "      <td>...</td>\n",
       "      <td>...</td>\n",
       "      <td>...</td>\n",
       "      <td>...</td>\n",
       "      <td>...</td>\n",
       "    </tr>\n",
       "    <tr>\n",
       "      <th>109</th>\n",
       "      <td>M00910</td>\n",
       "      <td>1</td>\n",
       "      <td>1.000000</td>\n",
       "      <td>0.000000</td>\n",
       "      <td>1.000000</td>\n",
       "    </tr>\n",
       "    <tr>\n",
       "      <th>110</th>\n",
       "      <td>M00918</td>\n",
       "      <td>0</td>\n",
       "      <td>1.000000</td>\n",
       "      <td>0.000000</td>\n",
       "      <td>1.666667</td>\n",
       "    </tr>\n",
       "    <tr>\n",
       "      <th>111</th>\n",
       "      <td>M00919</td>\n",
       "      <td>0</td>\n",
       "      <td>0.200000</td>\n",
       "      <td>0.800000</td>\n",
       "      <td>16.666667</td>\n",
       "    </tr>\n",
       "    <tr>\n",
       "      <th>112</th>\n",
       "      <td>M00923</td>\n",
       "      <td>0</td>\n",
       "      <td>0.974679</td>\n",
       "      <td>0.004818</td>\n",
       "      <td>1.300000</td>\n",
       "    </tr>\n",
       "    <tr>\n",
       "      <th>113</th>\n",
       "      <td>M00934</td>\n",
       "      <td>0</td>\n",
       "      <td>1.000000</td>\n",
       "      <td>0.000000</td>\n",
       "      <td>64.500000</td>\n",
       "    </tr>\n",
       "  </tbody>\n",
       "</table>\n",
       "<p>110 rows × 5 columns</p>\n",
       "</div>"
      ],
      "text/plain": [
       "     module  rule_id         r      pval        ivar\n",
       "1    M00006        1 -0.866025  0.333333    0.333333\n",
       "2    M00006        2  0.866025  0.333333    0.333333\n",
       "3    M00006        3  0.000000  1.000000    0.333333\n",
       "4    M00008        0 -0.948683  0.051317   69.666667\n",
       "5    M00013        0 -0.900000  0.037386  137.300000\n",
       "..      ...      ...       ...       ...         ...\n",
       "109  M00910        1  1.000000  0.000000    1.000000\n",
       "110  M00918        0  1.000000  0.000000    1.666667\n",
       "111  M00919        0  0.200000  0.800000   16.666667\n",
       "112  M00923        0  0.974679  0.004818    1.300000\n",
       "113  M00934        0  1.000000  0.000000   64.500000\n",
       "\n",
       "[110 rows x 5 columns]"
      ]
     },
     "execution_count": 195,
     "metadata": {},
     "output_type": "execute_result"
    }
   ],
   "source": [
    "module_correlations[~module_correlations[\"r\"].isna()]"
   ]
  },
  {
   "cell_type": "code",
   "execution_count": 178,
   "id": "ecdd96f3-fae5-4deb-bdec-fa87c626139f",
   "metadata": {
    "tags": []
   },
   "outputs": [],
   "source": [
    "module_correlations = module_correlations.set_index(\"module\").join(module_names.set_index(\"md\"))"
   ]
  },
  {
   "cell_type": "code",
   "execution_count": 179,
   "id": "270817ff-5511-4efd-bdcb-778a749a41e7",
   "metadata": {
    "tags": []
   },
   "outputs": [],
   "source": [
    "m = module_correlations[[\"name\",\"rule_id\",\"r\"]]"
   ]
  },
  {
   "cell_type": "code",
   "execution_count": 189,
   "id": "a6a34678-1103-4f35-bc15-60bbda0d6b02",
   "metadata": {
    "tags": []
   },
   "outputs": [
    {
     "data": {
      "text/html": [
       "<div>\n",
       "<style scoped>\n",
       "    .dataframe tbody tr th:only-of-type {\n",
       "        vertical-align: middle;\n",
       "    }\n",
       "\n",
       "    .dataframe tbody tr th {\n",
       "        vertical-align: top;\n",
       "    }\n",
       "\n",
       "    .dataframe thead th {\n",
       "        text-align: right;\n",
       "    }\n",
       "</style>\n",
       "<table border=\"1\" class=\"dataframe\">\n",
       "  <thead>\n",
       "    <tr style=\"text-align: right;\">\n",
       "      <th></th>\n",
       "      <th>name</th>\n",
       "      <th>rule_id</th>\n",
       "      <th>r</th>\n",
       "    </tr>\n",
       "  </thead>\n",
       "  <tbody>\n",
       "    <tr>\n",
       "      <th>M00131</th>\n",
       "      <td>Inositol phosphate metabolism, Ins(1,3,4,5)P4 ...</td>\n",
       "      <td>0</td>\n",
       "      <td>-1.000000</td>\n",
       "    </tr>\n",
       "    <tr>\n",
       "      <th>M00568</th>\n",
       "      <td>Catechol ortho-cleavage, catechol =&gt; 3-oxoadipate</td>\n",
       "      <td>0</td>\n",
       "      <td>-1.000000</td>\n",
       "    </tr>\n",
       "    <tr>\n",
       "      <th>M00538</th>\n",
       "      <td>Toluene degradation, toluene =&gt; benzoate</td>\n",
       "      <td>0</td>\n",
       "      <td>-1.000000</td>\n",
       "    </tr>\n",
       "    <tr>\n",
       "      <th>M00531</th>\n",
       "      <td>Assimilatory nitrate reduction, nitrate =&gt; amm...</td>\n",
       "      <td>0</td>\n",
       "      <td>-1.000000</td>\n",
       "    </tr>\n",
       "    <tr>\n",
       "      <th>M00555</th>\n",
       "      <td>Betaine biosynthesis, choline =&gt; betaine</td>\n",
       "      <td>13</td>\n",
       "      <td>-1.000000</td>\n",
       "    </tr>\n",
       "    <tr>\n",
       "      <th>M00579</th>\n",
       "      <td>Phosphate acetyltransferase-acetate kinase pat...</td>\n",
       "      <td>0</td>\n",
       "      <td>-1.000000</td>\n",
       "    </tr>\n",
       "    <tr>\n",
       "      <th>M00174</th>\n",
       "      <td>Methane oxidation, methanotroph, methane =&gt; fo...</td>\n",
       "      <td>1</td>\n",
       "      <td>-1.000000</td>\n",
       "    </tr>\n",
       "    <tr>\n",
       "      <th>M00533</th>\n",
       "      <td>Homoprotocatechuate degradation, homoprotocate...</td>\n",
       "      <td>0</td>\n",
       "      <td>-1.000000</td>\n",
       "    </tr>\n",
       "    <tr>\n",
       "      <th>M00531</th>\n",
       "      <td>Assimilatory nitrate reduction, nitrate =&gt; amm...</td>\n",
       "      <td>2</td>\n",
       "      <td>-1.000000</td>\n",
       "    </tr>\n",
       "    <tr>\n",
       "      <th>M00531</th>\n",
       "      <td>Assimilatory nitrate reduction, nitrate =&gt; amm...</td>\n",
       "      <td>1</td>\n",
       "      <td>-1.000000</td>\n",
       "    </tr>\n",
       "    <tr>\n",
       "      <th>M00021</th>\n",
       "      <td>Cysteine biosynthesis, serine =&gt; cysteine</td>\n",
       "      <td>0</td>\n",
       "      <td>-1.000000</td>\n",
       "    </tr>\n",
       "    <tr>\n",
       "      <th>M00169</th>\n",
       "      <td>CAM (Crassulacean acid metabolism), light</td>\n",
       "      <td>0</td>\n",
       "      <td>-1.000000</td>\n",
       "    </tr>\n",
       "    <tr>\n",
       "      <th>M00528</th>\n",
       "      <td>Nitrification, ammonia =&gt; nitrite</td>\n",
       "      <td>0</td>\n",
       "      <td>-1.000000</td>\n",
       "    </tr>\n",
       "    <tr>\n",
       "      <th>M00134</th>\n",
       "      <td>Polyamine biosynthesis, arginine =&gt; ornithine ...</td>\n",
       "      <td>0</td>\n",
       "      <td>-1.000000</td>\n",
       "    </tr>\n",
       "    <tr>\n",
       "      <th>M00555</th>\n",
       "      <td>Betaine biosynthesis, choline =&gt; betaine</td>\n",
       "      <td>12</td>\n",
       "      <td>-1.000000</td>\n",
       "    </tr>\n",
       "    <tr>\n",
       "      <th>M00008</th>\n",
       "      <td>Entner-Doudoroff pathway, glucose-6P =&gt; glycer...</td>\n",
       "      <td>0</td>\n",
       "      <td>-0.948683</td>\n",
       "    </tr>\n",
       "    <tr>\n",
       "      <th>M00879</th>\n",
       "      <td>Arginine succinyltransferase pathway, arginine...</td>\n",
       "      <td>0</td>\n",
       "      <td>-0.900000</td>\n",
       "    </tr>\n",
       "    <tr>\n",
       "      <th>M00013</th>\n",
       "      <td>Malonate semialdehyde pathway, propanoyl-CoA =...</td>\n",
       "      <td>3</td>\n",
       "      <td>-0.900000</td>\n",
       "    </tr>\n",
       "    <tr>\n",
       "      <th>M00013</th>\n",
       "      <td>Malonate semialdehyde pathway, propanoyl-CoA =...</td>\n",
       "      <td>2</td>\n",
       "      <td>-0.900000</td>\n",
       "    </tr>\n",
       "    <tr>\n",
       "      <th>M00013</th>\n",
       "      <td>Malonate semialdehyde pathway, propanoyl-CoA =...</td>\n",
       "      <td>1</td>\n",
       "      <td>-0.900000</td>\n",
       "    </tr>\n",
       "  </tbody>\n",
       "</table>\n",
       "</div>"
      ],
      "text/plain": [
       "                                                     name  rule_id         r\n",
       "M00131  Inositol phosphate metabolism, Ins(1,3,4,5)P4 ...        0 -1.000000\n",
       "M00568  Catechol ortho-cleavage, catechol => 3-oxoadipate        0 -1.000000\n",
       "M00538           Toluene degradation, toluene => benzoate        0 -1.000000\n",
       "M00531  Assimilatory nitrate reduction, nitrate => amm...        0 -1.000000\n",
       "M00555           Betaine biosynthesis, choline => betaine       13 -1.000000\n",
       "M00579  Phosphate acetyltransferase-acetate kinase pat...        0 -1.000000\n",
       "M00174  Methane oxidation, methanotroph, methane => fo...        1 -1.000000\n",
       "M00533  Homoprotocatechuate degradation, homoprotocate...        0 -1.000000\n",
       "M00531  Assimilatory nitrate reduction, nitrate => amm...        2 -1.000000\n",
       "M00531  Assimilatory nitrate reduction, nitrate => amm...        1 -1.000000\n",
       "M00021          Cysteine biosynthesis, serine => cysteine        0 -1.000000\n",
       "M00169          CAM (Crassulacean acid metabolism), light        0 -1.000000\n",
       "M00528                  Nitrification, ammonia => nitrite        0 -1.000000\n",
       "M00134  Polyamine biosynthesis, arginine => ornithine ...        0 -1.000000\n",
       "M00555           Betaine biosynthesis, choline => betaine       12 -1.000000\n",
       "M00008  Entner-Doudoroff pathway, glucose-6P => glycer...        0 -0.948683\n",
       "M00879  Arginine succinyltransferase pathway, arginine...        0 -0.900000\n",
       "M00013  Malonate semialdehyde pathway, propanoyl-CoA =...        3 -0.900000\n",
       "M00013  Malonate semialdehyde pathway, propanoyl-CoA =...        2 -0.900000\n",
       "M00013  Malonate semialdehyde pathway, propanoyl-CoA =...        1 -0.900000"
      ]
     },
     "execution_count": 189,
     "metadata": {},
     "output_type": "execute_result"
    }
   ],
   "source": [
    "m.sort_values(\"r\").iloc[0:20]"
   ]
  },
  {
   "cell_type": "code",
   "execution_count": null,
   "id": "b97a64d7-262a-4379-8c3e-4dc55ba914ea",
   "metadata": {},
   "outputs": [],
   "source": []
  }
 ],
 "metadata": {
  "kernelspec": {
   "display_name": "Python 3.6 (network expansion)",
   "language": "python",
   "name": "ne.py3.6"
  },
  "language_info": {
   "codemirror_mode": {
    "name": "ipython",
    "version": 3
   },
   "file_extension": ".py",
   "mimetype": "text/x-python",
   "name": "python",
   "nbconvert_exporter": "python",
   "pygments_lexer": "ipython3",
   "version": "3.6.13"
  }
 },
 "nbformat": 4,
 "nbformat_minor": 5
}
