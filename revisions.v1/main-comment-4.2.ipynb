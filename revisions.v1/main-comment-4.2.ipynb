{
 "cells": [
  {
   "cell_type": "markdown",
   "id": "elementary-accreditation",
   "metadata": {},
   "source": [
    "# Description\n",
    "Notebook to run simulations for Referee comment 4.2, on using the Meteoric Seed Set instead of our seed set during expansion"
   ]
  },
  {
   "cell_type": "markdown",
   "id": "liked-setup",
   "metadata": {},
   "source": [
    "### Load packages"
   ]
  },
  {
   "cell_type": "code",
   "execution_count": 1,
   "id": "driving-carol",
   "metadata": {
    "tags": []
   },
   "outputs": [],
   "source": [
    "import networkExpansionPy.lib as ne\n",
    "import numpy as np\n",
    "import pandas as pd\n",
    "import pickle as pickle\n",
    "import seaborn as sns\n",
    "import matplotlib.pyplot as plt\n",
    "from scipy.stats import spearmanr,pearsonr,mannwhitneyu\n",
    "from statsmodels.stats.multitest import multipletests\n",
    "plt.rcParams['font.family'] = 'Arial'\n",
    "\n",
    "#import warnings\n",
    "#from scipy.sparse import (spdiags, SparseEfficiencyWarning, csc_matrix,\n",
    "#    csr_matrix, isspmatrix, dok_matrix, lil_matrix, bsr_matrix)\n",
    "#warnings.simplefilter('ignore',SparseEfficiencyWarning)\n",
    "\n",
    "def load_data(network_name):\n",
    "    with open(ne.asset_path  + \"/metabolic_networks/\" + network_name,\"rb\") as filehandler:\n",
    "        metabolism = pickle.load(filehandler)\n",
    "    return metabolism\n",
    "\n",
    "# load the metabolism object from the repo\n",
    "metabolism = load_data('metabolism.23Aug2022.pkl')\n",
    "#model_id = \"metabolism.v4.20Mar2023.pkl\"\n",
    "#model_id = \"metabolism.v5.12Apr2023.pkl\"\n",
    "#metabolism = pd.read_pickle('/Users/joshuagoldford/Documents/github/network-expansion-assets/models/' + model_id)\n",
    "cids = metabolism.coenzymes"
   ]
  },
  {
   "cell_type": "code",
   "execution_count": 9,
   "id": "adcea149-c640-4294-9078-4d60766f6355",
   "metadata": {
    "tags": []
   },
   "outputs": [],
   "source": [
    "compounds = pd.read_csv(\"assets/Prebiotic Compounds - Murchison.csv\")\n",
    "compounds = [x.strip(\"\\t\") for x in compounds[\"KEGG Compound\"].unique().tolist() if \"-\" != x]\n",
    "seed = pd.read_csv('assets/seed_set.csv')\n",
    "background = seed[seed[\"Type\"].isin([\"Background\"])].ID.tolist()"
   ]
  },
  {
   "cell_type": "markdown",
   "id": "figured-breakdown",
   "metadata": {},
   "source": [
    "### Run network expansion"
   ]
  },
  {
   "cell_type": "code",
   "execution_count": 35,
   "id": "distant-sudan",
   "metadata": {
    "tags": []
   },
   "outputs": [
    {
     "name": "stdout",
     "output_type": "stream",
     "text": [
      "There were 99 compounds in this seed set...\n"
     ]
    },
    {
     "name": "stderr",
     "output_type": "stream",
     "text": [
      "/Users/joshuagoldford/Documents/github/networkExpansionPy/networkExpansionPy/lib.py:533: SparseEfficiencyWarning: Comparing sparse matrices using == is inefficient, try using != instead.\n",
      "  X,Y = netExp_trace(R,P,x0,b)\n"
     ]
    },
    {
     "name": "stdout",
     "output_type": "stream",
     "text": [
      "There were 1501 compounds produced in this expansion!\n"
     ]
    }
   ],
   "source": [
    "#seed_set = pd.read_csv('assets/seed_set.csv')['ID'].tolist()\n",
    "seed_set = compounds + background\n",
    "\n",
    "\n",
    "#seed_df = pd.read_csv('assets/seed_set.csv')\n",
    "#seed_set = seed_df[~seed_df.Type.isin([\"Organic carbon\"])].ID.tolist()\n",
    "#seed_set = seed_set + [\"C00010\"]\n",
    "\n",
    "print('There were {N} compounds in this seed set...'.format(N=len(seed_set)))\n",
    "\n",
    "ne_cpds,ne_rxns = metabolism.expand(seed_set,algorithm='trace')\n",
    "print('There were {N} compounds produced in this expansion!'.format(N=len(ne_cpds)))\n",
    "\n",
    "# parse data into dataframes\n",
    "rn_df = pd.DataFrame(pd.Series(ne_rxns),columns = ['iteration'])\n",
    "rn_df.reset_index(inplace=True)\n",
    "rn_df.columns = ['rn','direction','iteration']\n",
    "rn_df['rn_kegg']= rn_df['rn'].apply(lambda x: x.split('_')[0])\n"
   ]
  },
  {
   "cell_type": "code",
   "execution_count": 160,
   "id": "32f74b4d-7072-4219-a750-1ece0f66680c",
   "metadata": {
    "tags": []
   },
   "outputs": [],
   "source": [
    "#seed_df = pd.read_csv('assets/seed_set.csv')\n",
    "#seed_df[~seed_df.Type.isin([\"Organic carbon\"])].ID.tolist()"
   ]
  },
  {
   "cell_type": "markdown",
   "id": "genuine-litigation",
   "metadata": {},
   "source": [
    "### Figure 1A. Run network expansion w/o non-autocatalytic purine biosynthesis +/- adenine, and plot traces"
   ]
  },
  {
   "cell_type": "code",
   "execution_count": 36,
   "id": "cordless-rainbow",
   "metadata": {
    "tags": []
   },
   "outputs": [
    {
     "name": "stderr",
     "output_type": "stream",
     "text": [
      "/Users/joshuagoldford/Documents/github/networkExpansionPy/networkExpansionPy/lib.py:533: SparseEfficiencyWarning: Comparing sparse matrices using == is inefficient, try using != instead.\n",
      "  X,Y = netExp_trace(R,P,x0,b)\n",
      "/Users/joshuagoldford/Documents/github/networkExpansionPy/networkExpansionPy/lib.py:533: SparseEfficiencyWarning: Comparing sparse matrices using == is inefficient, try using != instead.\n",
      "  X,Y = netExp_trace(R,P,x0,b)\n",
      "/Users/joshuagoldford/Documents/github/networkExpansionPy/networkExpansionPy/lib.py:533: SparseEfficiencyWarning: Comparing sparse matrices using == is inefficient, try using != instead.\n",
      "  X,Y = netExp_trace(R,P,x0,b)\n"
     ]
    },
    {
     "data": {
      "text/plain": [
       "<matplotlib.legend.Legend at 0x7f9ab2657400>"
      ]
     },
     "execution_count": 36,
     "metadata": {},
     "output_type": "execute_result"
    },
    {
     "data": {
      "image/png": "[encoded data removed]",
      "text/plain": [
       "<Figure size 576x164.571 with 1 Axes>"
      ]
     },
     "metadata": {
      "needs_background": "light"
     },
     "output_type": "display_data"
    }
   ],
   "source": [
    "# now remove purine production \n",
    "metab_unmod = metabolism.copy()\n",
    "ne_cpds,ne_rxns = metab_unmod.expand(seed_set,algorithm='trace')\n",
    "rn_to_remove = [x for x in metab_unmod.network.rn.unique().tolist() if (('_gATP' in x) or ('_gGTP' in x))]\n",
    "metab_unmod.network = metab_unmod.network[~metab_unmod.network.rn.isin(rn_to_remove)]\n",
    "ne_cpds_np,ne_rxns_np = metab_unmod.expand(seed_set,algorithm='trace')\n",
    "ne_cpds_np_ad,ne_rxns_np_ad = metab_unmod.expand(seed_set + ['C00147'],algorithm='trace')\n",
    "\n",
    "\n",
    "cmap = sns.color_palette(\"Set1\")\n",
    "abun = pd.DataFrame(pd.Series(ne_cpds),columns=['iter']).reset_index().groupby('iter').count()\n",
    "abun['compounds (cumulative)'] = abun['index'].cumsum()\n",
    "\n",
    "abun_alt = pd.DataFrame(pd.Series(ne_cpds_np),columns=['iter']).reset_index().groupby('iter').count()\n",
    "abun_alt['compounds (cumulative)'] = abun_alt['index'].cumsum()\n",
    "\n",
    "abun_ad = pd.DataFrame(pd.Series(ne_cpds_np_ad),columns=['iter']).reset_index().groupby('iter').count()\n",
    "abun_ad['compounds (cumulative)'] = abun_ad['index'].cumsum()\n",
    "\n",
    "#sns.scatterplot(x='iter',y='compounds (cumulative)',data=abun)\n",
    "plt.figure(figsize=(8,4/14*8))\n",
    "sns.lineplot(x='iter',y='index',data=abun_ad.iloc[1:],color='lightgrey')\n",
    "sns.lineplot(x='iter',y='index',data=abun.iloc[1:],color=cmap[1])\n",
    "sns.lineplot(x='iter',y='index',data=abun_alt.iloc[1:],color=cmap[0])\n",
    "\n",
    "plt.ylabel('# compounds added \\n at each iteration')\n",
    "plt.xlabel(\"expansion iteration\")\n",
    "plt.xlim([0,110])\n",
    "plt.ylim([0,300])\n",
    "plt.subplots_adjust(bottom=0.25)\n",
    "plt.legend(['Unmodified + adenine','Modified','Unmodified'])"
   ]
  },
  {
   "cell_type": "code",
   "execution_count": 37,
   "id": "25e7a673-fcc4-4826-802c-bddeff0a1cec",
   "metadata": {
    "tags": []
   },
   "outputs": [
    {
     "data": {
      "text/plain": [
       "474"
      ]
     },
     "execution_count": 37,
     "metadata": {},
     "output_type": "execute_result"
    }
   ],
   "source": [
    "len(ne_cpds_np)"
   ]
  },
  {
   "cell_type": "code",
   "execution_count": null,
   "id": "e450df21-adc9-497b-8746-67106a22c6aa",
   "metadata": {},
   "outputs": [],
   "source": []
  }
 ],
 "metadata": {
  "kernelspec": {
   "display_name": "Python 3.6 (network expansion)",
   "language": "python",
   "name": "ne.py3.6"
  },
  "language_info": {
   "codemirror_mode": {
    "name": "ipython",
    "version": 3
   },
   "file_extension": ".py",
   "mimetype": "text/x-python",
   "name": "python",
   "nbconvert_exporter": "python",
   "pygments_lexer": "ipython3",
   "version": "3.6.13"
  }
 },
 "nbformat": 4,
 "nbformat_minor": 5
}
