{
 "cells": [
  {
   "cell_type": "code",
   "execution_count": 47,
   "id": "9c13a5ea-1f16-4097-bb40-428c897ef144",
   "metadata": {
    "tags": []
   },
   "outputs": [],
   "source": [
    "import networkExpansionPy.lib as ne\n",
    "import numpy as np\n",
    "import pandas as pd\n",
    "import pickle as pickle\n",
    "import json\n",
    "\n",
    "#import warnings\n",
    "#from scipy.sparse import (spdiags, SparseEfficiencyWarning, csc_matrix,\n",
    "#    csr_matrix, isspmatrix, dok_matrix, lil_matrix, bsr_matrix)\n",
    "#warnings.simplefilter('ignore',SparseEfficiencyWarning)\n",
    "\n",
    "\n",
    "# load the metabolism object from the repo\n",
    "#metabolism = load_data('metabolism.23Aug2022.pkl')\n",
    "#model_id = \"metabolism.v5.12Apr2023.pkl\"\n",
    "#model_id = \"metabolism.v6.26Apr2023.pkl\"\n",
    "model_id = \"metabolism.v8.purine.H2.thiols.01May2023.pkl\"\n",
    "#model_id = \"metabolism.v8.01May2023.pkl\"\n",
    "metabolism = pd.read_pickle('/Users/joshuagoldford/Documents/github/network-expansion-assets/models/' + model_id)\n",
    "cids = metabolism.coenzymes"
   ]
  },
  {
   "cell_type": "code",
   "execution_count": 44,
   "id": "c7f7c2be-35e0-499c-ab0b-3aa029f1f00c",
   "metadata": {
    "tags": []
   },
   "outputs": [
    {
     "data": {
      "text/html": [
       "<div>\n",
       "<style scoped>\n",
       "    .dataframe tbody tr th:only-of-type {\n",
       "        vertical-align: middle;\n",
       "    }\n",
       "\n",
       "    .dataframe tbody tr th {\n",
       "        vertical-align: top;\n",
       "    }\n",
       "\n",
       "    .dataframe thead th {\n",
       "        text-align: right;\n",
       "    }\n",
       "</style>\n",
       "<table border=\"1\" class=\"dataframe\">\n",
       "  <thead>\n",
       "    <tr style=\"text-align: right;\">\n",
       "      <th></th>\n",
       "      <th>rn</th>\n",
       "      <th>direction</th>\n",
       "      <th>cid</th>\n",
       "      <th>s</th>\n",
       "      <th>ub</th>\n",
       "      <th>lb</th>\n",
       "      <th>stoich_str</th>\n",
       "      <th>rn_old</th>\n",
       "      <th>CoA</th>\n",
       "    </tr>\n",
       "  </thead>\n",
       "  <tbody>\n",
       "    <tr>\n",
       "      <th>6273</th>\n",
       "      <td>R01053_gATP</td>\n",
       "      <td>forward</td>\n",
       "      <td>C00117</td>\n",
       "      <td>-1.0</td>\n",
       "      <td>0.1</td>\n",
       "      <td>1.000000e-07</td>\n",
       "      <td>NaN</td>\n",
       "      <td>NaN</td>\n",
       "      <td>NaN</td>\n",
       "    </tr>\n",
       "    <tr>\n",
       "      <th>6274</th>\n",
       "      <td>R01053_gATP</td>\n",
       "      <td>forward</td>\n",
       "      <td>C00014</td>\n",
       "      <td>-1.0</td>\n",
       "      <td>0.1</td>\n",
       "      <td>1.000000e-07</td>\n",
       "      <td>NaN</td>\n",
       "      <td>NaN</td>\n",
       "      <td>NaN</td>\n",
       "    </tr>\n",
       "    <tr>\n",
       "      <th>6275</th>\n",
       "      <td>R01053_gATP</td>\n",
       "      <td>forward</td>\n",
       "      <td>C00009</td>\n",
       "      <td>1.0</td>\n",
       "      <td>0.1</td>\n",
       "      <td>1.000000e-07</td>\n",
       "      <td>NaN</td>\n",
       "      <td>NaN</td>\n",
       "      <td>NaN</td>\n",
       "    </tr>\n",
       "    <tr>\n",
       "      <th>6276</th>\n",
       "      <td>R01053_gATP</td>\n",
       "      <td>forward</td>\n",
       "      <td>C03090</td>\n",
       "      <td>1.0</td>\n",
       "      <td>0.1</td>\n",
       "      <td>1.000000e-07</td>\n",
       "      <td>NaN</td>\n",
       "      <td>NaN</td>\n",
       "      <td>NaN</td>\n",
       "    </tr>\n",
       "    <tr>\n",
       "      <th>6277</th>\n",
       "      <td>R01053_gATP</td>\n",
       "      <td>forward</td>\n",
       "      <td>C00009</td>\n",
       "      <td>1.0</td>\n",
       "      <td>0.1</td>\n",
       "      <td>1.000000e-07</td>\n",
       "      <td>NaN</td>\n",
       "      <td>NaN</td>\n",
       "      <td>NaN</td>\n",
       "    </tr>\n",
       "    <tr>\n",
       "      <th>...</th>\n",
       "      <td>...</td>\n",
       "      <td>...</td>\n",
       "      <td>...</td>\n",
       "      <td>...</td>\n",
       "      <td>...</td>\n",
       "      <td>...</td>\n",
       "      <td>...</td>\n",
       "      <td>...</td>\n",
       "      <td>...</td>\n",
       "    </tr>\n",
       "    <tr>\n",
       "      <th>9300</th>\n",
       "      <td>R01523_gATP_v2</td>\n",
       "      <td>reverse</td>\n",
       "      <td>C01182</td>\n",
       "      <td>-1.0</td>\n",
       "      <td>0.1</td>\n",
       "      <td>1.000000e-07</td>\n",
       "      <td>NaN</td>\n",
       "      <td>R01523_gATP</td>\n",
       "      <td>NaN</td>\n",
       "    </tr>\n",
       "    <tr>\n",
       "      <th>9301</th>\n",
       "      <td>R01523_gATP_v2</td>\n",
       "      <td>reverse</td>\n",
       "      <td>C00009</td>\n",
       "      <td>-1.0</td>\n",
       "      <td>0.1</td>\n",
       "      <td>1.000000e-07</td>\n",
       "      <td>NaN</td>\n",
       "      <td>R01523_gATP</td>\n",
       "      <td>NaN</td>\n",
       "    </tr>\n",
       "    <tr>\n",
       "      <th>9302</th>\n",
       "      <td>R01523_gATP_v2</td>\n",
       "      <td>reverse</td>\n",
       "      <td>C00013</td>\n",
       "      <td>1.0</td>\n",
       "      <td>0.1</td>\n",
       "      <td>1.000000e-07</td>\n",
       "      <td>NaN</td>\n",
       "      <td>R01523_gATP</td>\n",
       "      <td>NaN</td>\n",
       "    </tr>\n",
       "    <tr>\n",
       "      <th>0</th>\n",
       "      <td>R01523_gATP_v2</td>\n",
       "      <td>reverse</td>\n",
       "      <td>Z00029</td>\n",
       "      <td>-1.0</td>\n",
       "      <td>0.1</td>\n",
       "      <td>1.000000e-07</td>\n",
       "      <td>NaN</td>\n",
       "      <td>R01523_gATP</td>\n",
       "      <td>NaN</td>\n",
       "    </tr>\n",
       "    <tr>\n",
       "      <th>0</th>\n",
       "      <td>R01523_gATP_v2</td>\n",
       "      <td>reverse</td>\n",
       "      <td>Z00029</td>\n",
       "      <td>1.0</td>\n",
       "      <td>0.1</td>\n",
       "      <td>1.000000e-07</td>\n",
       "      <td>NaN</td>\n",
       "      <td>R01523_gATP</td>\n",
       "      <td>NaN</td>\n",
       "    </tr>\n",
       "  </tbody>\n",
       "</table>\n",
       "<p>158 rows × 9 columns</p>\n",
       "</div>"
      ],
      "text/plain": [
       "                  rn direction     cid    s   ub            lb stoich_str  \\\n",
       "6273     R01053_gATP   forward  C00117 -1.0  0.1  1.000000e-07        NaN   \n",
       "6274     R01053_gATP   forward  C00014 -1.0  0.1  1.000000e-07        NaN   \n",
       "6275     R01053_gATP   forward  C00009  1.0  0.1  1.000000e-07        NaN   \n",
       "6276     R01053_gATP   forward  C03090  1.0  0.1  1.000000e-07        NaN   \n",
       "6277     R01053_gATP   forward  C00009  1.0  0.1  1.000000e-07        NaN   \n",
       "...              ...       ...     ...  ...  ...           ...        ...   \n",
       "9300  R01523_gATP_v2   reverse  C01182 -1.0  0.1  1.000000e-07        NaN   \n",
       "9301  R01523_gATP_v2   reverse  C00009 -1.0  0.1  1.000000e-07        NaN   \n",
       "9302  R01523_gATP_v2   reverse  C00013  1.0  0.1  1.000000e-07        NaN   \n",
       "0     R01523_gATP_v2   reverse  Z00029 -1.0  0.1  1.000000e-07        NaN   \n",
       "0     R01523_gATP_v2   reverse  Z00029  1.0  0.1  1.000000e-07        NaN   \n",
       "\n",
       "           rn_old  CoA  \n",
       "6273          NaN  NaN  \n",
       "6274          NaN  NaN  \n",
       "6275          NaN  NaN  \n",
       "6276          NaN  NaN  \n",
       "6277          NaN  NaN  \n",
       "...           ...  ...  \n",
       "9300  R01523_gATP  NaN  \n",
       "9301  R01523_gATP  NaN  \n",
       "9302  R01523_gATP  NaN  \n",
       "0     R01523_gATP  NaN  \n",
       "0     R01523_gATP  NaN  \n",
       "\n",
       "[158 rows x 9 columns]"
      ]
     },
     "execution_count": 44,
     "metadata": {},
     "output_type": "execute_result"
    }
   ],
   "source": [
    "metabolism.network[metabolism.network.rn.apply(lambda x: \"_gATP\" in x)]"
   ]
  },
  {
   "cell_type": "code",
   "execution_count": 45,
   "id": "e700e85d-1cda-4d1d-bfde-67ffd6f8eed7",
   "metadata": {
    "tags": []
   },
   "outputs": [],
   "source": [
    "metabolism.network = metabolism.network[~metabolism.network.rn.apply(lambda x: \"_RSH\" in x)]\n",
    "metabolism.network = metabolism.network[~metabolism.network.rn.apply(lambda x: \"_H2Red\" in x)]"
   ]
  },
  {
   "cell_type": "code",
   "execution_count": 46,
   "id": "b476fe79-4b88-4523-bd96-db422bb87f04",
   "metadata": {
    "tags": []
   },
   "outputs": [
    {
     "name": "stdout",
     "output_type": "stream",
     "text": [
      "There were 70 compounds in this seed set...\n"
     ]
    },
    {
     "name": "stderr",
     "output_type": "stream",
     "text": [
      "/Users/joshuagoldford/Documents/github/networkExpansionPy/networkExpansionPy/lib.py:536: SparseEfficiencyWarning: Comparing sparse matrices using == is inefficient, try using != instead.\n",
      "  X,Y = netExp_trace(R,P,x0,b)\n"
     ]
    },
    {
     "name": "stdout",
     "output_type": "stream",
     "text": [
      "There were 4315 compounds produced in this expansion!\n"
     ]
    }
   ],
   "source": [
    "seed_set = pd.read_csv('../assets/seed_set.csv')['ID'].tolist()\n",
    "print('There were {N} compounds in this seed set...'.format(N=len(seed_set)))\n",
    "ne_cpds,ne_rxns = metabolism.expand(seed_set,algorithm='trace')\n",
    "print('There were {N} compounds produced in this expansion!'.format(N=len(ne_cpds)))"
   ]
  },
  {
   "cell_type": "code",
   "execution_count": 24,
   "id": "eb856da5-a258-4146-9b4f-0ee65e4e8192",
   "metadata": {
    "tags": []
   },
   "outputs": [
    {
     "data": {
      "text/html": [
       "<div>\n",
       "<style scoped>\n",
       "    .dataframe tbody tr th:only-of-type {\n",
       "        vertical-align: middle;\n",
       "    }\n",
       "\n",
       "    .dataframe tbody tr th {\n",
       "        vertical-align: top;\n",
       "    }\n",
       "\n",
       "    .dataframe thead th {\n",
       "        text-align: right;\n",
       "    }\n",
       "</style>\n",
       "<table border=\"1\" class=\"dataframe\">\n",
       "  <thead>\n",
       "    <tr style=\"text-align: right;\">\n",
       "      <th></th>\n",
       "      <th>rn</th>\n",
       "      <th>direction</th>\n",
       "      <th>cid</th>\n",
       "      <th>s</th>\n",
       "      <th>ub</th>\n",
       "      <th>lb</th>\n",
       "      <th>stoich_str</th>\n",
       "      <th>rn_old</th>\n",
       "    </tr>\n",
       "  </thead>\n",
       "  <tbody>\n",
       "  </tbody>\n",
       "</table>\n",
       "</div>"
      ],
      "text/plain": [
       "Empty DataFrame\n",
       "Columns: [rn, direction, cid, s, ub, lb, stoich_str, rn_old]\n",
       "Index: []"
      ]
     },
     "execution_count": 24,
     "metadata": {},
     "output_type": "execute_result"
    }
   ],
   "source": [
    "metabolism.network[metabolism.network.rn.apply(lambda x: \"_H2Red\" in x)]"
   ]
  },
  {
   "cell_type": "code",
   "execution_count": null,
   "id": "675d6106-b244-450d-a05b-f166b2523180",
   "metadata": {},
   "outputs": [],
   "source": []
  }
 ],
 "metadata": {
  "kernelspec": {
   "display_name": "Python 3.6 (network expansion)",
   "language": "python",
   "name": "ne.py3.6"
  },
  "language_info": {
   "codemirror_mode": {
    "name": "ipython",
    "version": 3
   },
   "file_extension": ".py",
   "mimetype": "text/x-python",
   "name": "python",
   "nbconvert_exporter": "python",
   "pygments_lexer": "ipython3",
   "version": "3.6.13"
  }
 },
 "nbformat": 4,
 "nbformat_minor": 5
}
