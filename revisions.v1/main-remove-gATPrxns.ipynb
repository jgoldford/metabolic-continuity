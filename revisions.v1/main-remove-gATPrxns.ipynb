{
 "cells": [
  {
   "cell_type": "markdown",
   "id": "elementary-accreditation",
   "metadata": {},
   "source": [
    "# Description\n",
    "Notebook to create figures in the paper: \"Continuity between ancient geochemistry and modern metabolism enabled by non-autocatalytic purine biosynthesis\" by Goldford, J.E., Smith, H.B., Longo, L.M. Wing, B.A. & McGlynn, S.M."
   ]
  },
  {
   "cell_type": "markdown",
   "id": "liked-setup",
   "metadata": {},
   "source": [
    "### Load packages"
   ]
  },
  {
   "cell_type": "code",
   "execution_count": 1,
   "id": "driving-carol",
   "metadata": {
    "tags": []
   },
   "outputs": [],
   "source": [
    "import networkExpansionPy.lib as ne\n",
    "import numpy as np\n",
    "import pandas as pd\n",
    "import pickle as pickle\n",
    "import seaborn as sns\n",
    "import matplotlib.pyplot as plt\n",
    "from scipy.stats import spearmanr,pearsonr,mannwhitneyu\n",
    "from statsmodels.stats.multitest import multipletests\n",
    "plt.rcParams['font.family'] = 'Arial'\n",
    "\n",
    "#import warnings\n",
    "#from scipy.sparse import (spdiags, SparseEfficiencyWarning, csc_matrix,\n",
    "#    csr_matrix, isspmatrix, dok_matrix, lil_matrix, bsr_matrix)\n",
    "#warnings.simplefilter('ignore',SparseEfficiencyWarning)\n",
    "\n",
    "def load_data(network_name):\n",
    "    with open(ne.asset_path  + \"/metabolic_networks/\" + network_name,\"rb\") as filehandler:\n",
    "        metabolism = pickle.load(filehandler)\n",
    "    return metabolism\n",
    "\n",
    "# load the metabolism object from the repo\n",
    "metabolism = load_data('metabolism.23Aug2022.pkl')\n",
    "#metabolism = pd.read_pickle('/Users/joshuagoldford/Documents/github/network-expansion-assets/models/metabolism.v4.20Mar2023.pkl')\n",
    "cids = metabolism.coenzymes"
   ]
  },
  {
   "cell_type": "markdown",
   "id": "figured-breakdown",
   "metadata": {},
   "source": [
    "### Run network expansion"
   ]
  },
  {
   "cell_type": "code",
   "execution_count": 2,
   "id": "distant-sudan",
   "metadata": {
    "tags": []
   },
   "outputs": [
    {
     "name": "stdout",
     "output_type": "stream",
     "text": [
      "There were 70 compounds in this seed set...\n"
     ]
    },
    {
     "name": "stderr",
     "output_type": "stream",
     "text": [
      "/Users/joshuagoldford/Documents/github/networkExpansionPy/networkExpansionPy/lib.py:533: SparseEfficiencyWarning: Comparing sparse matrices using == is inefficient, try using != instead.\n",
      "  X,Y = netExp_trace(R,P,x0,b)\n"
     ]
    },
    {
     "name": "stdout",
     "output_type": "stream",
     "text": [
      "There were 4311 compounds produced in this expansion!\n"
     ]
    }
   ],
   "source": [
    "seed_set = pd.read_csv('assets/seed_set.csv')['ID'].tolist()\n",
    "\n",
    "print('There were {N} compounds in this seed set...'.format(N=len(seed_set)))\n",
    "\n",
    "ne_cpds,ne_rxns = metabolism.expand(seed_set,algorithm='trace')\n",
    "print('There were {N} compounds produced in this expansion!'.format(N=len(ne_cpds)))\n",
    "\n",
    "# parse data into dataframes\n",
    "rn_df = pd.DataFrame(pd.Series(ne_rxns),columns = ['iteration'])\n",
    "rn_df.reset_index(inplace=True)\n",
    "rn_df.columns = ['rn','direction','iteration']\n",
    "rn_df['rn_kegg']= rn_df['rn'].apply(lambda x: x.split('_')[0])\n"
   ]
  },
  {
   "cell_type": "markdown",
   "id": "cc47e8c5-5a0a-4ffd-a1e8-71311d71f9dd",
   "metadata": {},
   "source": [
    "### Revision 1: remove single gATP reactions"
   ]
  },
  {
   "cell_type": "code",
   "execution_count": 29,
   "id": "9ce6d803-34ca-4bee-a55d-d6a36c6729b8",
   "metadata": {
    "collapsed": true,
    "jupyter": {
     "outputs_hidden": true
    },
    "tags": []
   },
   "outputs": [
    {
     "name": "stderr",
     "output_type": "stream",
     "text": [
      "/Users/joshuagoldford/Documents/github/networkExpansionPy/networkExpansionPy/lib.py:529: SparseEfficiencyWarning: Comparing sparse matrices using == is inefficient, try using != instead.\n",
      "  x,y = netExp(R,P,x0,b)\n",
      "/Users/joshuagoldford/Documents/github/networkExpansionPy/networkExpansionPy/lib.py:529: SparseEfficiencyWarning: Comparing sparse matrices using == is inefficient, try using != instead.\n",
      "  x,y = netExp(R,P,x0,b)\n",
      "/Users/joshuagoldford/Documents/github/networkExpansionPy/networkExpansionPy/lib.py:529: SparseEfficiencyWarning: Comparing sparse matrices using == is inefficient, try using != instead.\n",
      "  x,y = netExp(R,P,x0,b)\n",
      "/Users/joshuagoldford/Documents/github/networkExpansionPy/networkExpansionPy/lib.py:529: SparseEfficiencyWarning: Comparing sparse matrices using == is inefficient, try using != instead.\n",
      "  x,y = netExp(R,P,x0,b)\n",
      "/Users/joshuagoldford/Documents/github/networkExpansionPy/networkExpansionPy/lib.py:529: SparseEfficiencyWarning: Comparing sparse matrices using == is inefficient, try using != instead.\n",
      "  x,y = netExp(R,P,x0,b)\n",
      "/Users/joshuagoldford/Documents/github/networkExpansionPy/networkExpansionPy/lib.py:529: SparseEfficiencyWarning: Comparing sparse matrices using == is inefficient, try using != instead.\n",
      "  x,y = netExp(R,P,x0,b)\n",
      "/Users/joshuagoldford/Documents/github/networkExpansionPy/networkExpansionPy/lib.py:529: SparseEfficiencyWarning: Comparing sparse matrices using == is inefficient, try using != instead.\n",
      "  x,y = netExp(R,P,x0,b)\n",
      "/Users/joshuagoldford/Documents/github/networkExpansionPy/networkExpansionPy/lib.py:529: SparseEfficiencyWarning: Comparing sparse matrices using == is inefficient, try using != instead.\n",
      "  x,y = netExp(R,P,x0,b)\n",
      "/Users/joshuagoldford/Documents/github/networkExpansionPy/networkExpansionPy/lib.py:529: SparseEfficiencyWarning: Comparing sparse matrices using == is inefficient, try using != instead.\n",
      "  x,y = netExp(R,P,x0,b)\n",
      "/Users/joshuagoldford/Documents/github/networkExpansionPy/networkExpansionPy/lib.py:529: SparseEfficiencyWarning: Comparing sparse matrices using == is inefficient, try using != instead.\n",
      "  x,y = netExp(R,P,x0,b)\n"
     ]
    }
   ],
   "source": [
    "gGTP = [x for x in metabolism.network.rn.unique().tolist() if \"gGTP\" in x]\n",
    "gATP = [x for x in metabolism.network.rn.unique().tolist() if \"gATP\" in x]\n",
    "rn_gATP = pd.DataFrame({\"rn\": gATP})\n",
    "rn_gATP[\"rn_kegg\"] = rn_gATP[\"rn\"].apply(lambda x: x.split(\"_\")[0])\n",
    "cpd_results = {}\n",
    "\n",
    "# remove all GTP reactions\n",
    "met = metabolism.copy()\n",
    "met.network = met.network[~met.network.rn.isin(gGTP)]\n",
    "\n",
    "for rn,rdf in rn_gATP.groupby(\"rn_kegg\"):\n",
    "    mc = met.copy()\n",
    "    mc.network = mc.network[~mc.network.rn.isin(rdf.rn.tolist())]\n",
    "    nec,ner = mc.expand(seed_set,algorithm='naive')\n",
    "    cpd_results[rn] = nec"
   ]
  },
  {
   "cell_type": "code",
   "execution_count": 132,
   "id": "479a837c-22ed-4956-a290-0ccc306855e0",
   "metadata": {
    "tags": []
   },
   "outputs": [
    {
     "data": {
      "text/plain": [
       "{'R00200': 4311,\n",
       " 'R01053': 4311,\n",
       " 'R01523': 4311,\n",
       " 'R04144': 441,\n",
       " 'R04208': 444,\n",
       " 'R04463': 443,\n",
       " 'R04591': 447,\n",
       " 'R06836': 4311,\n",
       " 'R06974': 442,\n",
       " 'R06975': 450}"
      ]
     },
     "execution_count": 132,
     "metadata": {},
     "output_type": "execute_result"
    }
   ],
   "source": [
    "{x:len(y) for x,y in cpd_results.items()}"
   ]
  },
  {
   "cell_type": "code",
   "execution_count": 163,
   "id": "22d0bd45-f267-4d70-a912-f061f8bb7cde",
   "metadata": {
    "tags": []
   },
   "outputs": [
    {
     "data": {
      "text/html": [
       "<div>\n",
       "<style scoped>\n",
       "    .dataframe tbody tr th:only-of-type {\n",
       "        vertical-align: middle;\n",
       "    }\n",
       "\n",
       "    .dataframe tbody tr th {\n",
       "        vertical-align: top;\n",
       "    }\n",
       "\n",
       "    .dataframe thead th {\n",
       "        text-align: right;\n",
       "    }\n",
       "</style>\n",
       "<table border=\"1\" class=\"dataframe\">\n",
       "  <thead>\n",
       "    <tr style=\"text-align: right;\">\n",
       "      <th></th>\n",
       "      <th>rn</th>\n",
       "      <th>rn_kegg</th>\n",
       "    </tr>\n",
       "  </thead>\n",
       "  <tbody>\n",
       "    <tr>\n",
       "      <th>0</th>\n",
       "      <td>R01053_gATP</td>\n",
       "      <td>R01053</td>\n",
       "    </tr>\n",
       "    <tr>\n",
       "      <th>1</th>\n",
       "      <td>R04208_gATP</td>\n",
       "      <td>R04208</td>\n",
       "    </tr>\n",
       "    <tr>\n",
       "      <th>2</th>\n",
       "      <td>R04463_gATP</td>\n",
       "      <td>R04463</td>\n",
       "    </tr>\n",
       "    <tr>\n",
       "      <th>3</th>\n",
       "      <td>R06836_gATP</td>\n",
       "      <td>R06836</td>\n",
       "    </tr>\n",
       "    <tr>\n",
       "      <th>4</th>\n",
       "      <td>R06974_gATP</td>\n",
       "      <td>R06974</td>\n",
       "    </tr>\n",
       "    <tr>\n",
       "      <th>5</th>\n",
       "      <td>R01523_gATP_v1</td>\n",
       "      <td>R01523</td>\n",
       "    </tr>\n",
       "    <tr>\n",
       "      <th>6</th>\n",
       "      <td>R04591_gATP_v1</td>\n",
       "      <td>R04591</td>\n",
       "    </tr>\n",
       "    <tr>\n",
       "      <th>7</th>\n",
       "      <td>R04144_gATP_v1</td>\n",
       "      <td>R04144</td>\n",
       "    </tr>\n",
       "    <tr>\n",
       "      <th>8</th>\n",
       "      <td>R06975_gATP_v1</td>\n",
       "      <td>R06975</td>\n",
       "    </tr>\n",
       "    <tr>\n",
       "      <th>9</th>\n",
       "      <td>R00200_gATP_v1</td>\n",
       "      <td>R00200</td>\n",
       "    </tr>\n",
       "    <tr>\n",
       "      <th>10</th>\n",
       "      <td>R00200_gATP_v2</td>\n",
       "      <td>R00200</td>\n",
       "    </tr>\n",
       "  </tbody>\n",
       "</table>\n",
       "</div>"
      ],
      "text/plain": [
       "                rn rn_kegg\n",
       "0      R01053_gATP  R01053\n",
       "1      R04208_gATP  R04208\n",
       "2      R04463_gATP  R04463\n",
       "3      R06836_gATP  R06836\n",
       "4      R06974_gATP  R06974\n",
       "5   R01523_gATP_v1  R01523\n",
       "6   R04591_gATP_v1  R04591\n",
       "7   R04144_gATP_v1  R04144\n",
       "8   R06975_gATP_v1  R06975\n",
       "9   R00200_gATP_v1  R00200\n",
       "10  R00200_gATP_v2  R00200"
      ]
     },
     "execution_count": 163,
     "metadata": {},
     "output_type": "execute_result"
    }
   ],
   "source": [
    "rn_gATP"
   ]
  },
  {
   "cell_type": "code",
   "execution_count": 164,
   "id": "93e416ff-376d-48aa-96ab-2d3a6a2bfc68",
   "metadata": {
    "tags": []
   },
   "outputs": [
    {
     "name": "stderr",
     "output_type": "stream",
     "text": [
      "/Users/joshuagoldford/Documents/github/networkExpansionPy/networkExpansionPy/lib.py:533: SparseEfficiencyWarning: Comparing sparse matrices using == is inefficient, try using != instead.\n",
      "  X,Y = netExp_trace(R,P,x0,b)\n"
     ]
    }
   ],
   "source": [
    "mc = met.copy()\n",
    "mc.network = mc.network[~mc.network.rn.isin([\"R00200_gATP_v1\",\"R00200_gATP_v2\"])]\n",
    "nec,ner = mc.expand(seed_set,algorithm='trace')"
   ]
  },
  {
   "cell_type": "code",
   "execution_count": 168,
   "id": "3ed22de5-09cb-43ea-9543-d2ce2785ea14",
   "metadata": {
    "tags": []
   },
   "outputs": [
    {
     "data": {
      "text/plain": [
       "1"
      ]
     },
     "execution_count": 168,
     "metadata": {},
     "output_type": "execute_result"
    }
   ],
   "source": [
    "nec[\"C00074\"]"
   ]
  },
  {
   "cell_type": "code",
   "execution_count": null,
   "id": "d931b464-f160-4b30-bf38-624c644f8802",
   "metadata": {},
   "outputs": [],
   "source": [
    "ner"
   ]
  },
  {
   "cell_type": "code",
   "execution_count": 134,
   "id": "22289328-3bf8-4edc-9f57-7040e9f9607f",
   "metadata": {
    "tags": []
   },
   "outputs": [],
   "source": [
    "#essential_reactions = [\"R04144\",\"R04208\",\"R04463\",\"R04591\",\"R06974\",\"R06975\"]\n",
    "essential_reations = [x for x,y in cpd_results.items() if len(y) < 1000]"
   ]
  },
  {
   "cell_type": "code",
   "execution_count": 162,
   "id": "e445b302-495b-411c-8249-d12a9c860e44",
   "metadata": {
    "tags": []
   },
   "outputs": [
    {
     "data": {
      "text/plain": [
       "['R04144', 'R04208', 'R04463', 'R04591', 'R06974', 'R06975']"
      ]
     },
     "execution_count": 162,
     "metadata": {},
     "output_type": "execute_result"
    }
   ],
   "source": [
    "essential_reations"
   ]
  },
  {
   "cell_type": "code",
   "execution_count": 154,
   "id": "5169f7d9-3d2c-4cd6-b47f-d1402cb6633e",
   "metadata": {
    "tags": []
   },
   "outputs": [
    {
     "name": "stdout",
     "output_type": "stream",
     "text": [
      "There were 433 compounds produced in this expansion!\n"
     ]
    },
    {
     "name": "stderr",
     "output_type": "stream",
     "text": [
      "/Users/joshuagoldford/Documents/github/networkExpansionPy/networkExpansionPy/lib.py:529: SparseEfficiencyWarning: Comparing sparse matrices using == is inefficient, try using != instead.\n",
      "  x,y = netExp(R,P,x0,b)\n"
     ]
    }
   ],
   "source": [
    "to_remove = rn_gATP[~rn_gATP.rn_kegg.isin(essential_reations)].rn.tolist()\n",
    "# remove all GTP reactions\n",
    "met = metabolism.copy()\n",
    "met.network = met.network[~met.network.rn.isin(gGTP)]\n",
    "mc = met.copy()\n",
    "mc.network = mc.network[~mc.network.rn.isin(to_remove)]\n",
    "nec,ner = mc.expand(seed_set,algorithm='naive')\n",
    "print('There were {N} compounds produced in this expansion!'.format(N=len(nec)))"
   ]
  },
  {
   "cell_type": "code",
   "execution_count": 147,
   "id": "f64dc698-c491-42fe-a210-186f0a70515a",
   "metadata": {
    "tags": []
   },
   "outputs": [
    {
     "data": {
      "text/plain": [
       "['R01053_gATP',\n",
       " 'R06836_gATP',\n",
       " 'R01523_gATP_v1',\n",
       " 'R00200_gATP_v1',\n",
       " 'R00200_gATP_v2']"
      ]
     },
     "execution_count": 147,
     "metadata": {},
     "output_type": "execute_result"
    }
   ],
   "source": [
    "to_remove"
   ]
  },
  {
   "cell_type": "code",
   "execution_count": 150,
   "id": "b33b9e7b-7fe9-4d41-ba72-72e846c6ea02",
   "metadata": {
    "tags": []
   },
   "outputs": [],
   "source": [
    "rn_gATP_nonessential = rn_gATP[~rn_gATP.rn_kegg.isin(essential_reations)]"
   ]
  },
  {
   "cell_type": "code",
   "execution_count": 151,
   "id": "ef65b7d7-84a4-4045-8401-fc5e3865f609",
   "metadata": {
    "tags": []
   },
   "outputs": [],
   "source": [
    "from itertools import combinations\n",
    "\n",
    "sample_list = rn_gATP_nonessential.rn_kegg.unique().tolist()\n",
    "list_combinations = list()\n",
    "\n",
    "for n in range(len(sample_list) + 1):\n",
    "    list_combinations += list(combinations(sample_list, n))\n",
    "\n",
    "reaction_masks = [rn_gATP[rn_gATP.rn_kegg.isin(list(x))].rn.tolist() for x in list_combinations]"
   ]
  },
  {
   "cell_type": "code",
   "execution_count": 152,
   "id": "b71d55e5-e27f-462d-a8a1-53cfd502bae4",
   "metadata": {
    "tags": []
   },
   "outputs": [
    {
     "data": {
      "text/plain": [
       "16"
      ]
     },
     "execution_count": 152,
     "metadata": {},
     "output_type": "execute_result"
    }
   ],
   "source": [
    "len(reaction_masks)"
   ]
  },
  {
   "cell_type": "code",
   "execution_count": 157,
   "id": "6a4f34ff-6701-4dcb-8278-6f50ab5f7997",
   "metadata": {
    "collapsed": true,
    "jupyter": {
     "outputs_hidden": true
    },
    "tags": []
   },
   "outputs": [
    {
     "name": "stderr",
     "output_type": "stream",
     "text": [
      "/Users/joshuagoldford/Documents/github/networkExpansionPy/networkExpansionPy/lib.py:529: SparseEfficiencyWarning: Comparing sparse matrices using == is inefficient, try using != instead.\n",
      "  x,y = netExp(R,P,x0,b)\n",
      "/Users/joshuagoldford/Documents/github/networkExpansionPy/networkExpansionPy/lib.py:529: SparseEfficiencyWarning: Comparing sparse matrices using == is inefficient, try using != instead.\n",
      "  x,y = netExp(R,P,x0,b)\n",
      "/Users/joshuagoldford/Documents/github/networkExpansionPy/networkExpansionPy/lib.py:529: SparseEfficiencyWarning: Comparing sparse matrices using == is inefficient, try using != instead.\n",
      "  x,y = netExp(R,P,x0,b)\n",
      "/Users/joshuagoldford/Documents/github/networkExpansionPy/networkExpansionPy/lib.py:529: SparseEfficiencyWarning: Comparing sparse matrices using == is inefficient, try using != instead.\n",
      "  x,y = netExp(R,P,x0,b)\n",
      "/Users/joshuagoldford/Documents/github/networkExpansionPy/networkExpansionPy/lib.py:529: SparseEfficiencyWarning: Comparing sparse matrices using == is inefficient, try using != instead.\n",
      "  x,y = netExp(R,P,x0,b)\n",
      "/Users/joshuagoldford/Documents/github/networkExpansionPy/networkExpansionPy/lib.py:529: SparseEfficiencyWarning: Comparing sparse matrices using == is inefficient, try using != instead.\n",
      "  x,y = netExp(R,P,x0,b)\n",
      "/Users/joshuagoldford/Documents/github/networkExpansionPy/networkExpansionPy/lib.py:529: SparseEfficiencyWarning: Comparing sparse matrices using == is inefficient, try using != instead.\n",
      "  x,y = netExp(R,P,x0,b)\n",
      "/Users/joshuagoldford/Documents/github/networkExpansionPy/networkExpansionPy/lib.py:529: SparseEfficiencyWarning: Comparing sparse matrices using == is inefficient, try using != instead.\n",
      "  x,y = netExp(R,P,x0,b)\n",
      "/Users/joshuagoldford/Documents/github/networkExpansionPy/networkExpansionPy/lib.py:529: SparseEfficiencyWarning: Comparing sparse matrices using == is inefficient, try using != instead.\n",
      "  x,y = netExp(R,P,x0,b)\n",
      "/Users/joshuagoldford/Documents/github/networkExpansionPy/networkExpansionPy/lib.py:529: SparseEfficiencyWarning: Comparing sparse matrices using == is inefficient, try using != instead.\n",
      "  x,y = netExp(R,P,x0,b)\n",
      "/Users/joshuagoldford/Documents/github/networkExpansionPy/networkExpansionPy/lib.py:529: SparseEfficiencyWarning: Comparing sparse matrices using == is inefficient, try using != instead.\n",
      "  x,y = netExp(R,P,x0,b)\n",
      "/Users/joshuagoldford/Documents/github/networkExpansionPy/networkExpansionPy/lib.py:529: SparseEfficiencyWarning: Comparing sparse matrices using == is inefficient, try using != instead.\n",
      "  x,y = netExp(R,P,x0,b)\n",
      "/Users/joshuagoldford/Documents/github/networkExpansionPy/networkExpansionPy/lib.py:529: SparseEfficiencyWarning: Comparing sparse matrices using == is inefficient, try using != instead.\n",
      "  x,y = netExp(R,P,x0,b)\n",
      "/Users/joshuagoldford/Documents/github/networkExpansionPy/networkExpansionPy/lib.py:529: SparseEfficiencyWarning: Comparing sparse matrices using == is inefficient, try using != instead.\n",
      "  x,y = netExp(R,P,x0,b)\n",
      "/Users/joshuagoldford/Documents/github/networkExpansionPy/networkExpansionPy/lib.py:529: SparseEfficiencyWarning: Comparing sparse matrices using == is inefficient, try using != instead.\n",
      "  x,y = netExp(R,P,x0,b)\n",
      "/Users/joshuagoldford/Documents/github/networkExpansionPy/networkExpansionPy/lib.py:529: SparseEfficiencyWarning: Comparing sparse matrices using == is inefficient, try using != instead.\n",
      "  x,y = netExp(R,P,x0,b)\n"
     ]
    }
   ],
   "source": [
    "cpd_results_combs = []\n",
    "\n",
    "for rmask in reaction_masks:\n",
    "    mc = met.copy()\n",
    "    mc.network = mc.network[~mc.network.rn.isin(rmask)]\n",
    "    nec,ner = mc.expand(seed_set,algorithm='naive')\n",
    "    cpd_results_combs.append(nec)"
   ]
  },
  {
   "cell_type": "code",
   "execution_count": 158,
   "id": "c8eb616c-14e2-4461-8de4-45425de23698",
   "metadata": {
    "tags": []
   },
   "outputs": [],
   "source": [
    "cpd_results_combs_sizes  = [len(x) for x in cpd_results_combs]"
   ]
  },
  {
   "cell_type": "code",
   "execution_count": 159,
   "id": "8aa414f2-6e0d-4989-a97a-eee1c4fd2414",
   "metadata": {
    "tags": []
   },
   "outputs": [
    {
     "data": {
      "text/plain": [
       "[4311,\n",
       " 4311,\n",
       " 4311,\n",
       " 4311,\n",
       " 4311,\n",
       " 433,\n",
       " 4311,\n",
       " 4311,\n",
       " 4311,\n",
       " 4311,\n",
       " 4311,\n",
       " 433,\n",
       " 433,\n",
       " 4311,\n",
       " 4311,\n",
       " 433]"
      ]
     },
     "execution_count": 159,
     "metadata": {},
     "output_type": "execute_result"
    }
   ],
   "source": [
    "cpd_results_combs_sizes"
   ]
  },
  {
   "cell_type": "code",
   "execution_count": 160,
   "id": "6314c4ab-29ff-4845-8a70-fec2b0fe30d2",
   "metadata": {
    "tags": []
   },
   "outputs": [
    {
     "data": {
      "text/plain": [
       "[[],\n",
       " ['R01053_gATP'],\n",
       " ['R06836_gATP'],\n",
       " ['R01523_gATP_v1'],\n",
       " ['R00200_gATP_v1', 'R00200_gATP_v2'],\n",
       " ['R01053_gATP', 'R06836_gATP'],\n",
       " ['R01053_gATP', 'R01523_gATP_v1'],\n",
       " ['R01053_gATP', 'R00200_gATP_v1', 'R00200_gATP_v2'],\n",
       " ['R06836_gATP', 'R01523_gATP_v1'],\n",
       " ['R06836_gATP', 'R00200_gATP_v1', 'R00200_gATP_v2'],\n",
       " ['R01523_gATP_v1', 'R00200_gATP_v1', 'R00200_gATP_v2'],\n",
       " ['R01053_gATP', 'R06836_gATP', 'R01523_gATP_v1'],\n",
       " ['R01053_gATP', 'R06836_gATP', 'R00200_gATP_v1', 'R00200_gATP_v2'],\n",
       " ['R01053_gATP', 'R01523_gATP_v1', 'R00200_gATP_v1', 'R00200_gATP_v2'],\n",
       " ['R06836_gATP', 'R01523_gATP_v1', 'R00200_gATP_v1', 'R00200_gATP_v2'],\n",
       " ['R01053_gATP',\n",
       "  'R06836_gATP',\n",
       "  'R01523_gATP_v1',\n",
       "  'R00200_gATP_v1',\n",
       "  'R00200_gATP_v2']]"
      ]
     },
     "execution_count": 160,
     "metadata": {},
     "output_type": "execute_result"
    }
   ],
   "source": [
    "reaction_masks"
   ]
  },
  {
   "cell_type": "code",
   "execution_count": 142,
   "id": "6ee3e7b8-3fbd-4158-b6e8-a54278053eeb",
   "metadata": {},
   "outputs": [
    {
     "name": "stderr",
     "output_type": "stream",
     "text": [
      "/Users/joshuagoldford/Documents/github/networkExpansionPy/networkExpansionPy/lib.py:746: SparseEfficiencyWarning: Comparing sparse matrices using == is inefficient, try using != instead.\n",
      "  x,y = netExp(Rstar,Pstar,x0,b)\n"
     ]
    }
   ],
   "source": [
    "# ned 'R01053_gATP' or 'R06836_gATP'"
   ]
  },
  {
   "cell_type": "code",
   "execution_count": 143,
   "id": "822112e0-1ed7-4ad5-8efb-058392497cb7",
   "metadata": {
    "tags": []
   },
   "outputs": [],
   "source": [
    "cpd_sizes = [len(x) for x in expansions[0]]"
   ]
  },
  {
   "cell_type": "code",
   "execution_count": null,
   "id": "5fe8b97a-01be-4acd-8d57-b1392d0e9fc6",
   "metadata": {},
   "outputs": [],
   "source": [
    "# conclusion\n"
   ]
  },
  {
   "cell_type": "code",
   "execution_count": 161,
   "id": "d575c8f9-ca1d-4485-812a-c0157ae1c45a",
   "metadata": {
    "tags": []
   },
   "outputs": [
    {
     "data": {
      "text/html": [
       "<div>\n",
       "<style scoped>\n",
       "    .dataframe tbody tr th:only-of-type {\n",
       "        vertical-align: middle;\n",
       "    }\n",
       "\n",
       "    .dataframe tbody tr th {\n",
       "        vertical-align: top;\n",
       "    }\n",
       "\n",
       "    .dataframe thead th {\n",
       "        text-align: right;\n",
       "    }\n",
       "</style>\n",
       "<table border=\"1\" class=\"dataframe\">\n",
       "  <thead>\n",
       "    <tr style=\"text-align: right;\">\n",
       "      <th></th>\n",
       "      <th>rn</th>\n",
       "      <th>rn_kegg</th>\n",
       "    </tr>\n",
       "  </thead>\n",
       "  <tbody>\n",
       "    <tr>\n",
       "      <th>0</th>\n",
       "      <td>R01053_gATP</td>\n",
       "      <td>R01053</td>\n",
       "    </tr>\n",
       "    <tr>\n",
       "      <th>1</th>\n",
       "      <td>R04208_gATP</td>\n",
       "      <td>R04208</td>\n",
       "    </tr>\n",
       "    <tr>\n",
       "      <th>2</th>\n",
       "      <td>R04463_gATP</td>\n",
       "      <td>R04463</td>\n",
       "    </tr>\n",
       "    <tr>\n",
       "      <th>3</th>\n",
       "      <td>R06836_gATP</td>\n",
       "      <td>R06836</td>\n",
       "    </tr>\n",
       "    <tr>\n",
       "      <th>4</th>\n",
       "      <td>R06974_gATP</td>\n",
       "      <td>R06974</td>\n",
       "    </tr>\n",
       "    <tr>\n",
       "      <th>5</th>\n",
       "      <td>R01523_gATP_v1</td>\n",
       "      <td>R01523</td>\n",
       "    </tr>\n",
       "    <tr>\n",
       "      <th>6</th>\n",
       "      <td>R04591_gATP_v1</td>\n",
       "      <td>R04591</td>\n",
       "    </tr>\n",
       "    <tr>\n",
       "      <th>7</th>\n",
       "      <td>R04144_gATP_v1</td>\n",
       "      <td>R04144</td>\n",
       "    </tr>\n",
       "    <tr>\n",
       "      <th>8</th>\n",
       "      <td>R06975_gATP_v1</td>\n",
       "      <td>R06975</td>\n",
       "    </tr>\n",
       "    <tr>\n",
       "      <th>9</th>\n",
       "      <td>R00200_gATP_v1</td>\n",
       "      <td>R00200</td>\n",
       "    </tr>\n",
       "    <tr>\n",
       "      <th>10</th>\n",
       "      <td>R00200_gATP_v2</td>\n",
       "      <td>R00200</td>\n",
       "    </tr>\n",
       "  </tbody>\n",
       "</table>\n",
       "</div>"
      ],
      "text/plain": [
       "                rn rn_kegg\n",
       "0      R01053_gATP  R01053\n",
       "1      R04208_gATP  R04208\n",
       "2      R04463_gATP  R04463\n",
       "3      R06836_gATP  R06836\n",
       "4      R06974_gATP  R06974\n",
       "5   R01523_gATP_v1  R01523\n",
       "6   R04591_gATP_v1  R04591\n",
       "7   R04144_gATP_v1  R04144\n",
       "8   R06975_gATP_v1  R06975\n",
       "9   R00200_gATP_v1  R00200\n",
       "10  R00200_gATP_v2  R00200"
      ]
     },
     "execution_count": 161,
     "metadata": {},
     "output_type": "execute_result"
    }
   ],
   "source": [
    "rn_gATP"
   ]
  },
  {
   "cell_type": "code",
   "execution_count": null,
   "id": "a948f25b-b1c8-470e-a884-db37ad5fa452",
   "metadata": {},
   "outputs": [],
   "source": [
    "to_remove = rn_gATP[~rn_gATP.rn_kegg.isin([\"R00200\",\"R01053\",\"R01523\",\"R06836\"])].rn.tolist()"
   ]
  },
  {
   "cell_type": "code",
   "execution_count": 36,
   "id": "164eeacc-b7c8-4f8a-900a-8fd96ef4f902",
   "metadata": {
    "tags": []
   },
   "outputs": [],
   "source": [
    "to_remove = rn_gATP[~rn_gATP.rn_kegg.isin([\"R00200\",\"R01053\",\"R01523\",\"R06836\"])].rn.tolist()"
   ]
  },
  {
   "cell_type": "code",
   "execution_count": 59,
   "id": "85c53bca-7ef8-4e75-9b54-c43b2ec8deb2",
   "metadata": {
    "tags": []
   },
   "outputs": [],
   "source": [
    "rn_x = rn_gATP[~rn_gATP.rn_kegg.isin([\"R00200\",\"R01523\",\"R06836\"])]"
   ]
  },
  {
   "cell_type": "code",
   "execution_count": 51,
   "id": "dbc203a7-8c5f-4ef0-ade8-da3059df19a0",
   "metadata": {
    "tags": []
   },
   "outputs": [],
   "source": [
    "ec2rn = pd.read_csv(\"/Users/joshuagoldford/Documents/github/network-expansion-assets/assets/kegg/ec2rn.14Mar2023.csv\")"
   ]
  },
  {
   "cell_type": "code",
   "execution_count": 54,
   "id": "ea2d49df-813d-4670-bce9-ab3fbe8755f2",
   "metadata": {
    "tags": []
   },
   "outputs": [],
   "source": [
    "ribozyme = pd.read_csv(\"/Users/joshuagoldford/Documents/work/research_projects/ribozyme.ec_classes.csv\",header=None)\n",
    "ribozyme.columns = [\"EC\"]\n",
    "ribozyme[\"EC\"] = ribozyme[\"EC\"].apply(lambda x: x[1:])"
   ]
  },
  {
   "cell_type": "code",
   "execution_count": 63,
   "id": "b2fe8a35-73e8-4275-9e89-487dbd44af71",
   "metadata": {
    "tags": []
   },
   "outputs": [
    {
     "data": {
      "text/html": [
       "<div>\n",
       "<style scoped>\n",
       "    .dataframe tbody tr th:only-of-type {\n",
       "        vertical-align: middle;\n",
       "    }\n",
       "\n",
       "    .dataframe tbody tr th {\n",
       "        vertical-align: top;\n",
       "    }\n",
       "\n",
       "    .dataframe thead th {\n",
       "        text-align: right;\n",
       "    }\n",
       "</style>\n",
       "<table border=\"1\" class=\"dataframe\">\n",
       "  <thead>\n",
       "    <tr style=\"text-align: right;\">\n",
       "      <th></th>\n",
       "      <th>Unnamed: 0</th>\n",
       "      <th>EC</th>\n",
       "      <th>RN</th>\n",
       "    </tr>\n",
       "  </thead>\n",
       "  <tbody>\n",
       "    <tr>\n",
       "      <th>10123</th>\n",
       "      <td>10123</td>\n",
       "      <td>6.3.1.21</td>\n",
       "      <td>R06974</td>\n",
       "    </tr>\n",
       "    <tr>\n",
       "      <th>10201</th>\n",
       "      <td>10201</td>\n",
       "      <td>6.3.2.6</td>\n",
       "      <td>R04591</td>\n",
       "    </tr>\n",
       "    <tr>\n",
       "      <th>10206</th>\n",
       "      <td>10206</td>\n",
       "      <td>6.3.3.1</td>\n",
       "      <td>R04208</td>\n",
       "    </tr>\n",
       "    <tr>\n",
       "      <th>10222</th>\n",
       "      <td>10222</td>\n",
       "      <td>6.3.4.13</td>\n",
       "      <td>R04144</td>\n",
       "    </tr>\n",
       "    <tr>\n",
       "      <th>10237</th>\n",
       "      <td>10237</td>\n",
       "      <td>6.3.4.23</td>\n",
       "      <td>R06975</td>\n",
       "    </tr>\n",
       "    <tr>\n",
       "      <th>10244</th>\n",
       "      <td>10244</td>\n",
       "      <td>6.3.4.7</td>\n",
       "      <td>R01053</td>\n",
       "    </tr>\n",
       "    <tr>\n",
       "      <th>10264</th>\n",
       "      <td>10264</td>\n",
       "      <td>6.3.5.3</td>\n",
       "      <td>R04463</td>\n",
       "    </tr>\n",
       "  </tbody>\n",
       "</table>\n",
       "</div>"
      ],
      "text/plain": [
       "       Unnamed: 0        EC      RN\n",
       "10123       10123  6.3.1.21  R06974\n",
       "10201       10201   6.3.2.6  R04591\n",
       "10206       10206   6.3.3.1  R04208\n",
       "10222       10222  6.3.4.13  R04144\n",
       "10237       10237  6.3.4.23  R06975\n",
       "10244       10244   6.3.4.7  R01053\n",
       "10264       10264   6.3.5.3  R04463"
      ]
     },
     "execution_count": 63,
     "metadata": {},
     "output_type": "execute_result"
    }
   ],
   "source": [
    "ec2rn[ec2rn.RN.isin(rn_x.rn_kegg.tolist())]"
   ]
  },
  {
   "cell_type": "code",
   "execution_count": 71,
   "id": "787725d5-e619-4ad5-bfd2-205bfe27c0d2",
   "metadata": {
    "tags": []
   },
   "outputs": [
    {
     "data": {
      "text/html": [
       "<div>\n",
       "<style scoped>\n",
       "    .dataframe tbody tr th:only-of-type {\n",
       "        vertical-align: middle;\n",
       "    }\n",
       "\n",
       "    .dataframe tbody tr th {\n",
       "        vertical-align: top;\n",
       "    }\n",
       "\n",
       "    .dataframe thead th {\n",
       "        text-align: right;\n",
       "    }\n",
       "</style>\n",
       "<table border=\"1\" class=\"dataframe\">\n",
       "  <thead>\n",
       "    <tr style=\"text-align: right;\">\n",
       "      <th></th>\n",
       "      <th>rn</th>\n",
       "      <th>rn_kegg</th>\n",
       "    </tr>\n",
       "  </thead>\n",
       "  <tbody>\n",
       "    <tr>\n",
       "      <th>0</th>\n",
       "      <td>R01053_gATP</td>\n",
       "      <td>R01053</td>\n",
       "    </tr>\n",
       "    <tr>\n",
       "      <th>1</th>\n",
       "      <td>R04208_gATP</td>\n",
       "      <td>R04208</td>\n",
       "    </tr>\n",
       "    <tr>\n",
       "      <th>2</th>\n",
       "      <td>R04463_gATP</td>\n",
       "      <td>R04463</td>\n",
       "    </tr>\n",
       "    <tr>\n",
       "      <th>4</th>\n",
       "      <td>R06974_gATP</td>\n",
       "      <td>R06974</td>\n",
       "    </tr>\n",
       "    <tr>\n",
       "      <th>6</th>\n",
       "      <td>R04591_gATP_v1</td>\n",
       "      <td>R04591</td>\n",
       "    </tr>\n",
       "    <tr>\n",
       "      <th>7</th>\n",
       "      <td>R04144_gATP_v1</td>\n",
       "      <td>R04144</td>\n",
       "    </tr>\n",
       "    <tr>\n",
       "      <th>8</th>\n",
       "      <td>R06975_gATP_v1</td>\n",
       "      <td>R06975</td>\n",
       "    </tr>\n",
       "  </tbody>\n",
       "</table>\n",
       "</div>"
      ],
      "text/plain": [
       "               rn rn_kegg\n",
       "0     R01053_gATP  R01053\n",
       "1     R04208_gATP  R04208\n",
       "2     R04463_gATP  R04463\n",
       "4     R06974_gATP  R06974\n",
       "6  R04591_gATP_v1  R04591\n",
       "7  R04144_gATP_v1  R04144\n",
       "8  R06975_gATP_v1  R06975"
      ]
     },
     "execution_count": 71,
     "metadata": {},
     "output_type": "execute_result"
    }
   ],
   "source": [
    "rn_x"
   ]
  },
  {
   "cell_type": "code",
   "execution_count": 74,
   "id": "5695ed37-7e72-4059-b254-341b6135f3bf",
   "metadata": {
    "tags": []
   },
   "outputs": [
    {
     "data": {
      "text/html": [
       "<div>\n",
       "<style scoped>\n",
       "    .dataframe tbody tr th:only-of-type {\n",
       "        vertical-align: middle;\n",
       "    }\n",
       "\n",
       "    .dataframe tbody tr th {\n",
       "        vertical-align: top;\n",
       "    }\n",
       "\n",
       "    .dataframe thead th {\n",
       "        text-align: right;\n",
       "    }\n",
       "</style>\n",
       "<table border=\"1\" class=\"dataframe\">\n",
       "  <thead>\n",
       "    <tr style=\"text-align: right;\">\n",
       "      <th></th>\n",
       "      <th>rn</th>\n",
       "      <th>direction</th>\n",
       "      <th>cid</th>\n",
       "      <th>s</th>\n",
       "      <th>ub</th>\n",
       "      <th>lb</th>\n",
       "      <th>stoich_str</th>\n",
       "      <th>rn_old</th>\n",
       "    </tr>\n",
       "  </thead>\n",
       "  <tbody>\n",
       "    <tr>\n",
       "      <th>38737</th>\n",
       "      <td>R06975_gATP_v1</td>\n",
       "      <td>forward</td>\n",
       "      <td>C00058</td>\n",
       "      <td>-1.0</td>\n",
       "      <td>0.1</td>\n",
       "      <td>1.000000e-07</td>\n",
       "      <td>NaN</td>\n",
       "      <td>R06975_gATP</td>\n",
       "    </tr>\n",
       "    <tr>\n",
       "      <th>38738</th>\n",
       "      <td>R06975_gATP_v1</td>\n",
       "      <td>forward</td>\n",
       "      <td>C04677</td>\n",
       "      <td>-1.0</td>\n",
       "      <td>0.1</td>\n",
       "      <td>1.000000e-07</td>\n",
       "      <td>NaN</td>\n",
       "      <td>R06975_gATP</td>\n",
       "    </tr>\n",
       "    <tr>\n",
       "      <th>38739</th>\n",
       "      <td>R06975_gATP_v1</td>\n",
       "      <td>forward</td>\n",
       "      <td>C00009</td>\n",
       "      <td>1.0</td>\n",
       "      <td>0.1</td>\n",
       "      <td>1.000000e-07</td>\n",
       "      <td>NaN</td>\n",
       "      <td>R06975_gATP</td>\n",
       "    </tr>\n",
       "    <tr>\n",
       "      <th>38740</th>\n",
       "      <td>R06975_gATP_v1</td>\n",
       "      <td>forward</td>\n",
       "      <td>C04734</td>\n",
       "      <td>1.0</td>\n",
       "      <td>0.1</td>\n",
       "      <td>1.000000e-07</td>\n",
       "      <td>NaN</td>\n",
       "      <td>R06975_gATP</td>\n",
       "    </tr>\n",
       "    <tr>\n",
       "      <th>38741</th>\n",
       "      <td>R06975_gATP_v1</td>\n",
       "      <td>forward</td>\n",
       "      <td>C00009</td>\n",
       "      <td>1.0</td>\n",
       "      <td>0.1</td>\n",
       "      <td>1.000000e-07</td>\n",
       "      <td>NaN</td>\n",
       "      <td>R06975_gATP</td>\n",
       "    </tr>\n",
       "    <tr>\n",
       "      <th>38742</th>\n",
       "      <td>R06975_gATP_v1</td>\n",
       "      <td>forward</td>\n",
       "      <td>C00013</td>\n",
       "      <td>-1.0</td>\n",
       "      <td>0.1</td>\n",
       "      <td>1.000000e-07</td>\n",
       "      <td>NaN</td>\n",
       "      <td>R06975_gATP</td>\n",
       "    </tr>\n",
       "    <tr>\n",
       "      <th>0</th>\n",
       "      <td>R06975_gATP_v1</td>\n",
       "      <td>forward</td>\n",
       "      <td>Z00030</td>\n",
       "      <td>-1.0</td>\n",
       "      <td>0.1</td>\n",
       "      <td>1.000000e-07</td>\n",
       "      <td>NaN</td>\n",
       "      <td>R06975_gATP</td>\n",
       "    </tr>\n",
       "    <tr>\n",
       "      <th>0</th>\n",
       "      <td>R06975_gATP_v1</td>\n",
       "      <td>forward</td>\n",
       "      <td>Z00030</td>\n",
       "      <td>1.0</td>\n",
       "      <td>0.1</td>\n",
       "      <td>1.000000e-07</td>\n",
       "      <td>NaN</td>\n",
       "      <td>R06975_gATP</td>\n",
       "    </tr>\n",
       "    <tr>\n",
       "      <th>38743</th>\n",
       "      <td>R06975_gATP_v1</td>\n",
       "      <td>reverse</td>\n",
       "      <td>C00058</td>\n",
       "      <td>1.0</td>\n",
       "      <td>0.1</td>\n",
       "      <td>1.000000e-07</td>\n",
       "      <td>NaN</td>\n",
       "      <td>R06975_gATP</td>\n",
       "    </tr>\n",
       "    <tr>\n",
       "      <th>38744</th>\n",
       "      <td>R06975_gATP_v1</td>\n",
       "      <td>reverse</td>\n",
       "      <td>C04677</td>\n",
       "      <td>1.0</td>\n",
       "      <td>0.1</td>\n",
       "      <td>1.000000e-07</td>\n",
       "      <td>NaN</td>\n",
       "      <td>R06975_gATP</td>\n",
       "    </tr>\n",
       "    <tr>\n",
       "      <th>38745</th>\n",
       "      <td>R06975_gATP_v1</td>\n",
       "      <td>reverse</td>\n",
       "      <td>C00009</td>\n",
       "      <td>-1.0</td>\n",
       "      <td>0.1</td>\n",
       "      <td>1.000000e-07</td>\n",
       "      <td>NaN</td>\n",
       "      <td>R06975_gATP</td>\n",
       "    </tr>\n",
       "    <tr>\n",
       "      <th>38746</th>\n",
       "      <td>R06975_gATP_v1</td>\n",
       "      <td>reverse</td>\n",
       "      <td>C04734</td>\n",
       "      <td>-1.0</td>\n",
       "      <td>0.1</td>\n",
       "      <td>1.000000e-07</td>\n",
       "      <td>NaN</td>\n",
       "      <td>R06975_gATP</td>\n",
       "    </tr>\n",
       "    <tr>\n",
       "      <th>38747</th>\n",
       "      <td>R06975_gATP_v1</td>\n",
       "      <td>reverse</td>\n",
       "      <td>C00009</td>\n",
       "      <td>-1.0</td>\n",
       "      <td>0.1</td>\n",
       "      <td>1.000000e-07</td>\n",
       "      <td>NaN</td>\n",
       "      <td>R06975_gATP</td>\n",
       "    </tr>\n",
       "    <tr>\n",
       "      <th>38748</th>\n",
       "      <td>R06975_gATP_v1</td>\n",
       "      <td>reverse</td>\n",
       "      <td>C00013</td>\n",
       "      <td>1.0</td>\n",
       "      <td>0.1</td>\n",
       "      <td>1.000000e-07</td>\n",
       "      <td>NaN</td>\n",
       "      <td>R06975_gATP</td>\n",
       "    </tr>\n",
       "    <tr>\n",
       "      <th>0</th>\n",
       "      <td>R06975_gATP_v1</td>\n",
       "      <td>reverse</td>\n",
       "      <td>Z00030</td>\n",
       "      <td>-1.0</td>\n",
       "      <td>0.1</td>\n",
       "      <td>1.000000e-07</td>\n",
       "      <td>NaN</td>\n",
       "      <td>R06975_gATP</td>\n",
       "    </tr>\n",
       "    <tr>\n",
       "      <th>0</th>\n",
       "      <td>R06975_gATP_v1</td>\n",
       "      <td>reverse</td>\n",
       "      <td>Z00030</td>\n",
       "      <td>1.0</td>\n",
       "      <td>0.1</td>\n",
       "      <td>1.000000e-07</td>\n",
       "      <td>NaN</td>\n",
       "      <td>R06975_gATP</td>\n",
       "    </tr>\n",
       "  </tbody>\n",
       "</table>\n",
       "</div>"
      ],
      "text/plain": [
       "                   rn direction     cid    s   ub            lb stoich_str  \\\n",
       "38737  R06975_gATP_v1   forward  C00058 -1.0  0.1  1.000000e-07        NaN   \n",
       "38738  R06975_gATP_v1   forward  C04677 -1.0  0.1  1.000000e-07        NaN   \n",
       "38739  R06975_gATP_v1   forward  C00009  1.0  0.1  1.000000e-07        NaN   \n",
       "38740  R06975_gATP_v1   forward  C04734  1.0  0.1  1.000000e-07        NaN   \n",
       "38741  R06975_gATP_v1   forward  C00009  1.0  0.1  1.000000e-07        NaN   \n",
       "38742  R06975_gATP_v1   forward  C00013 -1.0  0.1  1.000000e-07        NaN   \n",
       "0      R06975_gATP_v1   forward  Z00030 -1.0  0.1  1.000000e-07        NaN   \n",
       "0      R06975_gATP_v1   forward  Z00030  1.0  0.1  1.000000e-07        NaN   \n",
       "38743  R06975_gATP_v1   reverse  C00058  1.0  0.1  1.000000e-07        NaN   \n",
       "38744  R06975_gATP_v1   reverse  C04677  1.0  0.1  1.000000e-07        NaN   \n",
       "38745  R06975_gATP_v1   reverse  C00009 -1.0  0.1  1.000000e-07        NaN   \n",
       "38746  R06975_gATP_v1   reverse  C04734 -1.0  0.1  1.000000e-07        NaN   \n",
       "38747  R06975_gATP_v1   reverse  C00009 -1.0  0.1  1.000000e-07        NaN   \n",
       "38748  R06975_gATP_v1   reverse  C00013  1.0  0.1  1.000000e-07        NaN   \n",
       "0      R06975_gATP_v1   reverse  Z00030 -1.0  0.1  1.000000e-07        NaN   \n",
       "0      R06975_gATP_v1   reverse  Z00030  1.0  0.1  1.000000e-07        NaN   \n",
       "\n",
       "            rn_old  \n",
       "38737  R06975_gATP  \n",
       "38738  R06975_gATP  \n",
       "38739  R06975_gATP  \n",
       "38740  R06975_gATP  \n",
       "38741  R06975_gATP  \n",
       "38742  R06975_gATP  \n",
       "0      R06975_gATP  \n",
       "0      R06975_gATP  \n",
       "38743  R06975_gATP  \n",
       "38744  R06975_gATP  \n",
       "38745  R06975_gATP  \n",
       "38746  R06975_gATP  \n",
       "38747  R06975_gATP  \n",
       "38748  R06975_gATP  \n",
       "0      R06975_gATP  \n",
       "0      R06975_gATP  "
      ]
     },
     "execution_count": 74,
     "metadata": {},
     "output_type": "execute_result"
    }
   ],
   "source": [
    "metabolism.network[metabolism.network.rn.isin([\"R06975_gATP_v1\"])]"
   ]
  },
  {
   "cell_type": "code",
   "execution_count": 70,
   "id": "d7eb93bf-8f48-4b95-a4cb-9d63dc2b81d4",
   "metadata": {
    "tags": []
   },
   "outputs": [
    {
     "data": {
      "text/html": [
       "<div>\n",
       "<style scoped>\n",
       "    .dataframe tbody tr th:only-of-type {\n",
       "        vertical-align: middle;\n",
       "    }\n",
       "\n",
       "    .dataframe tbody tr th {\n",
       "        vertical-align: top;\n",
       "    }\n",
       "\n",
       "    .dataframe thead th {\n",
       "        text-align: right;\n",
       "    }\n",
       "</style>\n",
       "<table border=\"1\" class=\"dataframe\">\n",
       "  <thead>\n",
       "    <tr style=\"text-align: right;\">\n",
       "      <th></th>\n",
       "      <th>Coenzyme Name</th>\n",
       "      <th>Coenzyme type/function</th>\n",
       "      <th>ZID</th>\n",
       "      <th>Folds</th>\n",
       "      <th>CID to ZID</th>\n",
       "      <th>Synthesis notes</th>\n",
       "      <th>Synthesis Reaction</th>\n",
       "      <th>Synthesis Folds</th>\n",
       "      <th>Notes</th>\n",
       "    </tr>\n",
       "  </thead>\n",
       "  <tbody>\n",
       "    <tr>\n",
       "      <th>29</th>\n",
       "      <td>Mn</td>\n",
       "      <td>Metal</td>\n",
       "      <td>Z00030</td>\n",
       "      <td>NaN</td>\n",
       "      <td>C19611;C19610;C21744</td>\n",
       "      <td>None</td>\n",
       "      <td>NaN</td>\n",
       "      <td>NaN</td>\n",
       "      <td>NaN</td>\n",
       "    </tr>\n",
       "  </tbody>\n",
       "</table>\n",
       "</div>"
      ],
      "text/plain": [
       "   Coenzyme Name Coenzyme type/function     ZID Folds            CID to ZID  \\\n",
       "29            Mn                  Metal  Z00030   NaN  C19611;C19610;C21744   \n",
       "\n",
       "   Synthesis notes Synthesis Reaction Synthesis Folds Notes  \n",
       "29            None                NaN             NaN   NaN  "
      ]
     },
     "execution_count": 70,
     "metadata": {},
     "output_type": "execute_result"
    }
   ],
   "source": [
    "cids[cids.ZID == \"Z00030\"]"
   ]
  },
  {
   "cell_type": "code",
   "execution_count": 64,
   "id": "8209dc25-939b-4779-9c05-c3a0c620b774",
   "metadata": {
    "tags": []
   },
   "outputs": [],
   "source": [
    "#ribozyme"
   ]
  },
  {
   "cell_type": "code",
   "execution_count": 146,
   "id": "d4a8cb0d-7037-445b-9f52-cbba3d6012d1",
   "metadata": {
    "tags": []
   },
   "outputs": [
    {
     "name": "stdout",
     "output_type": "stream",
     "text": [
      "There were 433 compounds produced in this expansion!\n"
     ]
    },
    {
     "name": "stderr",
     "output_type": "stream",
     "text": [
      "/Users/joshuagoldford/Documents/github/networkExpansionPy/networkExpansionPy/lib.py:529: SparseEfficiencyWarning: Comparing sparse matrices using == is inefficient, try using != instead.\n",
      "  x,y = netExp(R,P,x0,b)\n"
     ]
    }
   ],
   "source": [
    "to_remove = rn_gATP[~rn_gATP.rn_kegg.isin(essential_reations)].rn.tolist()\n",
    "mc = metabolism.copy()\n",
    "mc.network = mc.network[~mc.network.rn.isin(to_remove)]\n",
    "nec,ner = mc.expand(seed_set,algorithm='naive')\n",
    "print('There were {N} compounds produced in this expansion!'.format(N=len(nec)))"
   ]
  },
  {
   "cell_type": "markdown",
   "id": "genuine-litigation",
   "metadata": {},
   "source": [
    "### Figure 1A. Run network expansion w/o non-autocatalytic purine biosynthesis +/- adenine, and plot traces"
   ]
  },
  {
   "cell_type": "code",
   "execution_count": 76,
   "id": "cordless-rainbow",
   "metadata": {
    "tags": []
   },
   "outputs": [
    {
     "name": "stderr",
     "output_type": "stream",
     "text": [
      "/Users/joshuagoldford/Documents/github/networkExpansionPy/networkExpansionPy/lib.py:533: SparseEfficiencyWarning: Comparing sparse matrices using == is inefficient, try using != instead.\n",
      "  X,Y = netExp_trace(R,P,x0,b)\n",
      "/Users/joshuagoldford/Documents/github/networkExpansionPy/networkExpansionPy/lib.py:533: SparseEfficiencyWarning: Comparing sparse matrices using == is inefficient, try using != instead.\n",
      "  X,Y = netExp_trace(R,P,x0,b)\n",
      "/Users/joshuagoldford/Documents/github/networkExpansionPy/networkExpansionPy/lib.py:533: SparseEfficiencyWarning: Comparing sparse matrices using == is inefficient, try using != instead.\n",
      "  X,Y = netExp_trace(R,P,x0,b)\n"
     ]
    },
    {
     "data": {
      "text/plain": [
       "<matplotlib.legend.Legend at 0x7fc434b56860>"
      ]
     },
     "execution_count": 76,
     "metadata": {},
     "output_type": "execute_result"
    },
    {
     "data": {
      "image/png": "[encoded data removed]",
      "text/plain": [
       "<Figure size 576x164.571 with 1 Axes>"
      ]
     },
     "metadata": {
      "needs_background": "light"
     },
     "output_type": "display_data"
    }
   ],
   "source": [
    "# now remove purine production \n",
    "metab_unmod = metabolism.copy()\n",
    "ne_cpds,ne_rxns = metab_unmod.expand(seed_set,algorithm='trace')\n",
    "rn_to_remove = [x for x in metab_unmod.network.rn.unique().tolist() if (('_gATP' in x) or ('_gGTP' in x))]\n",
    "metab_unmod.network = metab_unmod.network[~metab_unmod.network.rn.isin(rn_to_remove)]\n",
    "ne_cpds_np,ne_rxns_np = metab_unmod.expand(seed_set,algorithm='trace')\n",
    "ne_cpds_np_ad,ne_rxns_np_ad = metab_unmod.expand(seed_set + ['C00147'],algorithm='trace')\n",
    "\n",
    "\n",
    "cmap = sns.color_palette(\"Set1\")\n",
    "abun = pd.DataFrame(pd.Series(ne_cpds),columns=['iter']).reset_index().groupby('iter').count()\n",
    "abun['compounds (cumulative)'] = abun['index'].cumsum()\n",
    "\n",
    "abun_alt = pd.DataFrame(pd.Series(ne_cpds_np),columns=['iter']).reset_index().groupby('iter').count()\n",
    "abun_alt['compounds (cumulative)'] = abun_alt['index'].cumsum()\n",
    "\n",
    "abun_ad = pd.DataFrame(pd.Series(ne_cpds_np_ad),columns=['iter']).reset_index().groupby('iter').count()\n",
    "abun_ad['compounds (cumulative)'] = abun_ad['index'].cumsum()\n",
    "\n",
    "#sns.scatterplot(x='iter',y='compounds (cumulative)',data=abun)\n",
    "plt.figure(figsize=(8,4/14*8))\n",
    "sns.lineplot(x='iter',y='index',data=abun_ad.iloc[1:],color='lightgrey')\n",
    "sns.lineplot(x='iter',y='index',data=abun.iloc[1:],color=cmap[1])\n",
    "sns.lineplot(x='iter',y='index',data=abun_alt.iloc[1:],color=cmap[0])\n",
    "\n",
    "\n",
    "plt.ylabel('# compounds added \\n at each iteration')\n",
    "plt.xlabel(\"expansion iteration\")\n",
    "plt.xlim([0,110])\n",
    "plt.ylim([0,300])\n",
    "plt.subplots_adjust(bottom=0.25)\n",
    "plt.legend(['Unmodified + adenine','Modified','Unmodified'])"
   ]
  },
  {
   "cell_type": "code",
   "execution_count": 94,
   "id": "e2958f5e-1026-4aa2-bcc6-81ffce64fcc4",
   "metadata": {
    "tags": []
   },
   "outputs": [
    {
     "data": {
      "text/plain": [
       "6"
      ]
     },
     "execution_count": 94,
     "metadata": {},
     "output_type": "execute_result"
    }
   ],
   "source": [
    "met = \n",
    "i = ne_cpds_np_ad[\"C00020\"]"
   ]
  },
  {
   "cell_type": "code",
   "execution_count": 103,
   "id": "e77c306a-ab35-4f17-a911-822b50c20d6d",
   "metadata": {
    "tags": []
   },
   "outputs": [
    {
     "data": {
      "text/plain": [
       "[('R00345_v1', 'forward'), ('R00345_v2', 'forward')]"
      ]
     },
     "execution_count": 103,
     "metadata": {},
     "output_type": "execute_result"
    }
   ],
   "source": [
    "met = \"C00074\"\n",
    "i = ne_cpds_np_ad[met]\n",
    "r = [x for x,y in ne_rxns_np_ad.items() if y == i]\n",
    "mx = metab_unmod.network.set_index([\"rn\",\"direction\"]).loc[r]\n",
    "mx[(mx.cid == met) & (mx.s >0)].index.tolist()"
   ]
  },
  {
   "cell_type": "code",
   "execution_count": 99,
   "id": "e58b1ab0-03b0-40e2-86d8-86547813bf52",
   "metadata": {
    "tags": []
   },
   "outputs": [
    {
     "data": {
      "text/plain": [
       "5"
      ]
     },
     "execution_count": 99,
     "metadata": {},
     "output_type": "execute_result"
    }
   ],
   "source": [
    "i"
   ]
  },
  {
   "cell_type": "markdown",
   "id": "fundamental-video",
   "metadata": {},
   "source": [
    "### Figure 1C: Network sizes after adding single molecules to seed set without non-autocatalytic purine production \n",
    "(simulations performed on a cluster)"
   ]
  },
  {
   "cell_type": "code",
   "execution_count": 13,
   "id": "broad-region",
   "metadata": {},
   "outputs": [
    {
     "data": {
      "text/plain": [
       "Text(0, 0.5, 'proportion of \\n simulations')"
      ]
     },
     "execution_count": 13,
     "metadata": {},
     "output_type": "execute_result"
    },
    {
     "data": {
      "text/plain": [
       "<Figure size 144x108 with 0 Axes>"
      ]
     },
     "metadata": {},
     "output_type": "display_data"
    },
    {
     "data": {
      "image/png": "[encoded data removed]",
      "text/plain": [
       "<Figure size 72x108 with 1 Axes>"
      ]
     },
     "metadata": {
      "needs_background": "light"
     },
     "output_type": "display_data"
    }
   ],
   "source": [
    "plt.figure(figsize=(2,1.5))\n",
    "\n",
    "t = pd.read_csv('assets/SingleCompoundAddition.UnmodfiedNetwork.csv',index_col=0)\n",
    "#t = pd.read_csv('single_compound_addition.05May2022.csv',index_col=0)\n",
    "t = t[~(t['cid'].apply(lambda x: x[0] == '['))]\n",
    "purines = pd.read_csv('assets/Purine-containing KEGG Compounds.csv',header=None)[0].tolist()\n",
    "t['purine'] = t.cid.isin(purines)\n",
    "\n",
    "t['expansion'] = t['scope_c'] > 1e3\n",
    "X = pd.crosstab(t['purine'],t['expansion'])\n",
    "Xn = X.apply(lambda x: x / x.sum())\n",
    "ax =Xn.T.plot(kind=\"bar\", stacked=True,figsize=(1,1.5),color=['gray',cmap[2]])\n",
    "ax.legend(title='purine',loc='center left', bbox_to_anchor=(1, 0.5))\n",
    "plt.ylabel('proportion of \\n simulations')\n"
   ]
  },
  {
   "cell_type": "markdown",
   "id": "naked-empty",
   "metadata": {},
   "source": [
    "### Figure 1D: Add models of thioester and primitive reductant (H2)"
   ]
  },
  {
   "cell_type": "code",
   "execution_count": 11,
   "id": "entitled-roommate",
   "metadata": {},
   "outputs": [
    {
     "data": {
      "text/plain": [
       "Text(0, 0.5, 'network size \\n (# compounds)')"
      ]
     },
     "execution_count": 11,
     "metadata": {},
     "output_type": "execute_result"
    },
    {
     "data": {
      "image/png": "[encoded data removed]",
      "text/plain": [
       "<Figure size 144x108 with 1 Axes>"
      ]
     },
     "metadata": {
      "needs_background": "light"
     },
     "output_type": "display_data"
    }
   ],
   "source": [
    "# make figure 1C; influence of primitive thioester and reductant coupling\n",
    "\n",
    "networks = {}\n",
    "thiol = 'C00957'\n",
    "networks['purine'] = metabolism\n",
    "networks['purine_h2'] = load_data('metabolism.H2.purine.09July2022.pkl')\n",
    "networks['purine_h2_thiol'] = load_data('metabolism.H2.purine.thiols.09July2022.pkl')\n",
    "networks['purine_thiol'] = load_data('metabolism.purine.thiols.09July2022.pkl')\n",
    "rn_to_remove = [x for x in networks['purine_thiol'].network.rn.unique().tolist() if ('_gNAD' in x)]\n",
    "networks['purine_thiol'].network = networks['purine_thiol'].network[~networks['purine_thiol'].network.rn.isin(rn_to_remove)]\n",
    "m = networks['purine_thiol'].copy()\n",
    "\n",
    "rn_to_remove = [x for x in m.network.rn.unique().tolist() if (('_gATP' in x) or ('_gGTP' in x))]\n",
    "m.network = m.network[~m.network.rn.isin(rn_to_remove)]\n",
    "networks['thiol'] = m\n",
    "\n",
    "\n",
    "m = networks['purine_h2_thiol'].copy()\n",
    "rn_to_remove = [x for x in m.network.rn.unique().tolist() if (('_gATP' in x) or ('_gGTP' in x))]\n",
    "m.network = m.network[~m.network.rn.isin(rn_to_remove)]\n",
    "networks['h2_thiol'] = m\n",
    "\n",
    "\n",
    "m = networks['purine_h2'].copy()\n",
    "rn_to_remove = [x for x in m.network.rn.unique().tolist() if (('_gATP' in x) or ('_gGTP' in x))]\n",
    "m.network = m.network[~m.network.rn.isin(rn_to_remove)]\n",
    "networks['h2'] = m\n",
    "\n",
    "m = networks['purine'].copy()\n",
    "rn_to_remove = [x for x in m.network.rn.unique().tolist() if (('_gATP' in x) or ('_gGTP' in x))]\n",
    "m.network = m.network[~m.network.rn.isin(rn_to_remove)]\n",
    "networks['unmodified'] = m\n",
    "\n",
    "s = []\n",
    "network_c_outputs = {}\n",
    "network_r_outputs = {}\n",
    "for condition in list(networks):\n",
    "    c,r = networks[condition].expand(seed_set + [thiol])\n",
    "    network_c_outputs[condition] = c\n",
    "    network_r_outputs[condition] = r\n",
    "    s.append(len(c))\n",
    "nsize = pd.DataFrame({'condition': list(networks), 'network_size':s})\n",
    "nsize = nsize.set_index('condition')\n",
    "nsize = nsize.loc[['purine_h2_thiol','purine_thiol','purine_h2','h2_thiol','purine','thiol','h2','unmodified']]\n",
    "\n",
    "\n",
    "plt.figure(figsize=(2,1.5))\n",
    "ax=sns.barplot(x='condition',y='network_size',data=nsize.reset_index(),color='grey')\n",
    "plt.xticks(rotation=90)\n",
    "plt.ylabel('network size \\n (# compounds)')\n",
    "\n"
   ]
  },
  {
   "cell_type": "code",
   "execution_count": 170,
   "id": "3b2c8e93-d1c7-4eb8-aeb3-e6447deaaa33",
   "metadata": {
    "tags": []
   },
   "outputs": [],
   "source": [
    "# run atlas analysis\n",
    "ar = pd.read_csv('assets/atlas_reactions.csv')\n",
    "ar= ar[['rn','direction','cid','s','ub','lb']]\n",
    "ar['stoich_str'] = np.nan\n",
    "ar['rn_old'] = np.nan\n"
   ]
  },
  {
   "cell_type": "code",
   "execution_count": 173,
   "id": "21e1eec4-cf0c-460e-a4ad-66429643f64e",
   "metadata": {
    "tags": []
   },
   "outputs": [
    {
     "data": {
      "text/plain": [
       "25675"
      ]
     },
     "execution_count": 173,
     "metadata": {},
     "output_type": "execute_result"
    }
   ],
   "source": [
    "len(ar.groupby([\"rn\",\"direction\"]))"
   ]
  },
  {
   "cell_type": "code",
   "execution_count": 175,
   "id": "793efa16-885a-4a40-9ef3-0e1ea2a1ae38",
   "metadata": {
    "tags": []
   },
   "outputs": [
    {
     "data": {
      "text/plain": [
       "20183"
      ]
     },
     "execution_count": 175,
     "metadata": {},
     "output_type": "execute_result"
    }
   ],
   "source": [
    "len(ar.groupby([\"rn\"]))"
   ]
  },
  {
   "cell_type": "markdown",
   "id": "colonial-complaint",
   "metadata": {},
   "source": [
    "### Figure S1: Add ATLAS reactions to KEGG network and repeat expansions"
   ]
  },
  {
   "cell_type": "code",
   "execution_count": 7,
   "id": "injured-advocacy",
   "metadata": {
    "tags": []
   },
   "outputs": [
    {
     "name": "stderr",
     "output_type": "stream",
     "text": [
      "/Users/joshuagoldford/Documents/github/networkExpansionPy/networkExpansionPy/lib.py:529: SparseEfficiencyWarning: Comparing sparse matrices using == is inefficient, try using != instead.\n",
      "  x,y = netExp(R,P,x0,b)\n",
      "/Users/joshuagoldford/Documents/github/networkExpansionPy/networkExpansionPy/lib.py:529: SparseEfficiencyWarning: Comparing sparse matrices using == is inefficient, try using != instead.\n",
      "  x,y = netExp(R,P,x0,b)\n",
      "/Users/joshuagoldford/Documents/github/networkExpansionPy/networkExpansionPy/lib.py:529: SparseEfficiencyWarning: Comparing sparse matrices using == is inefficient, try using != instead.\n",
      "  x,y = netExp(R,P,x0,b)\n",
      "/Users/joshuagoldford/Documents/github/networkExpansionPy/networkExpansionPy/lib.py:529: SparseEfficiencyWarning: Comparing sparse matrices using == is inefficient, try using != instead.\n",
      "  x,y = netExp(R,P,x0,b)\n",
      "/Users/joshuagoldford/Documents/github/networkExpansionPy/networkExpansionPy/lib.py:529: SparseEfficiencyWarning: Comparing sparse matrices using == is inefficient, try using != instead.\n",
      "  x,y = netExp(R,P,x0,b)\n",
      "/Users/joshuagoldford/Documents/github/networkExpansionPy/networkExpansionPy/lib.py:529: SparseEfficiencyWarning: Comparing sparse matrices using == is inefficient, try using != instead.\n",
      "  x,y = netExp(R,P,x0,b)\n",
      "/Users/joshuagoldford/Documents/github/networkExpansionPy/networkExpansionPy/lib.py:533: SparseEfficiencyWarning: Comparing sparse matrices using == is inefficient, try using != instead.\n",
      "  X,Y = netExp_trace(R,P,x0,b)\n"
     ]
    },
    {
     "data": {
      "text/plain": [
       "<matplotlib.legend.Legend at 0x7f97a97d69e8>"
      ]
     },
     "execution_count": 7,
     "metadata": {},
     "output_type": "execute_result"
    },
    {
     "data": {
      "image/png": "[encoded data removed]",
      "text/plain": [
       "<Figure size 216x180 with 1 Axes>"
      ]
     },
     "metadata": {
      "needs_background": "light"
     },
     "output_type": "display_data"
    },
    {
     "data": {
      "image/png": "[encoded data removed]",
      "text/plain": [
       "<Figure size 432x123.429 with 1 Axes>"
      ]
     },
     "metadata": {
      "needs_background": "light"
     },
     "output_type": "display_data"
    }
   ],
   "source": [
    "# run atlas analysis\n",
    "ar = pd.read_csv('assets/atlas_reactions.csv')\n",
    "ar= ar[['rn','direction','cid','s','ub','lb']]\n",
    "ar['stoich_str'] = np.nan\n",
    "ar['rn_old'] = np.nan\n",
    "\n",
    "matlas = metabolism.copy()\n",
    "# make KEGG+ATLAS network with non-autocatalytic purine production\n",
    "matlas.network = pd.concat([matlas.network,ar],axis=0)\n",
    "# make KEGG+ATLAS network without non-autocatalytic purine production\n",
    "matlas_nc = matlas.copy()\n",
    "matlas_nc.network = matlas_nc.network[~matlas_nc.network.rn.apply(lambda x: ('_gATP' in x) or ('_gGTP' in x))]\n",
    "\n",
    "# make KEGG network without non-autocatalytic purine production\n",
    "metabolism_nc = metabolism.copy()\n",
    "metabolism_nc.network = metabolism_nc.network[~metabolism_nc.network.rn.apply(lambda x: ('_gATP' in x) or ('_gGTP' in x))]\n",
    "\n",
    "# perform network expansion for KEGG+ATLAS, without non-autocatalytic purine production\n",
    "c_atl_nc,rx = matlas_nc.expand(seed_set,algorithm='naive')\n",
    "c_atl_nc = len(c_atl_nc)\n",
    "\n",
    "# perform network expansion for KEGG+ATLAS, without non-autocatalytic purine production, plus adenine\n",
    "c_atl_nc_ad,rx = matlas_nc.expand(seed_set + ['C00147'],algorithm='naive')\n",
    "c_atl_nc_ad = len(c_atl_nc_ad)\n",
    "\n",
    "\n",
    "# perform network expansion for KEGG+ATLAS, with non-autocatalytic purine production\n",
    "c_atl,rx = matlas.expand(seed_set,algorithm='naive')\n",
    "c_atl = len(c_atl)\n",
    "\n",
    "\n",
    "# perform network expansion for KEGG, without non-autocatalytic purine production\n",
    "c_kegg_nc,rx = metabolism_nc.expand(seed_set,algorithm='naive')\n",
    "c_kegg_nc = len(c_kegg_nc)\n",
    "\n",
    "# perform network expansion for KEGG, without non-autocatalytic purine production, plus adenine\n",
    "c_kegg_nc_ad,rx = metabolism_nc.expand(seed_set + ['C00147'],algorithm='naive')\n",
    "c_kegg_nc_ad = len(c_kegg_nc_ad)\n",
    "\n",
    "\n",
    "# perform network expansion for KEGG, with non-autocatalytic purine production\n",
    "c_kegg,rx = metabolism.expand(seed_set,algorithm='naive')\n",
    "c_kegg = len(c_kegg)\n",
    "\n",
    "# store results in a dataframe\n",
    "results = {'network':['KEGG+ATLAS','KEGG+ATLAS','KEGG+ATLAS','KEGG','KEGG','KEGG'],\n",
    "          'condition': ['no primitive coupling','no primitive coupling \\n + Adenine','primitive coupling','no primitive coupling','no primitive coupling \\n + Adenine','primitive coupling'],\n",
    "          'network size (#compounds)': [c_atl_nc,c_atl_nc_ad,c_atl,c_kegg_nc,c_kegg_nc_ad,c_kegg]}\n",
    "results = pd.DataFrame(results)\n",
    "\n",
    "\n",
    "cmap = sns.color_palette(\"Set1\")\n",
    "plt.figure(figsize=(3,2.5))\n",
    "ax = sns.barplot(hue='network',x='condition',y='network size (#compounds)',data=results,palette=[cmap[3],cmap[1]])\n",
    "ax.legend(loc='center left', bbox_to_anchor=(1, 0.5))\n",
    "plt.xticks(rotation=90)\n",
    "\n",
    "\n",
    "# plot the traces for ATLAS vs KEGG\n",
    "ne_cpds_atl,rx = matlas.expand(seed_set,algorithm='trace')\n",
    "abun_atlas = pd.DataFrame(pd.Series(ne_cpds_atl),columns=['iter']).reset_index().groupby('iter').count()\n",
    "abun_atlas['compounds (cumulative)'] = abun_atlas['index'].cumsum()\n",
    "\n",
    "h = 6\n",
    "plt.figure(figsize=(h,4/14*h))\n",
    "sns.lineplot(x='iter',y='index',data=abun_atlas.iloc[1:],color=cmap[3])\n",
    "sns.lineplot(x='iter',y='index',data=abun.iloc[1:],color=cmap[1])\n",
    "\n",
    "plt.ylabel('# compounds added \\n at each iteration')\n",
    "plt.xlabel(\"expansion iteration\")\n",
    "plt.xlim([0,110])\n",
    "plt.ylim([0,480])\n",
    "plt.subplots_adjust(bottom=0.25)\n",
    "plt.legend(['KEGG+ATLAS (n=32445)','KEGG (n=12262)'])#\n",
    "\n"
   ]
  },
  {
   "cell_type": "markdown",
   "id": "double-hearts",
   "metadata": {},
   "source": [
    "### Figure 2A: Plot results of network perturbation experiment \n",
    "(simulations performed on a cluster)"
   ]
  },
  {
   "cell_type": "code",
   "execution_count": 19,
   "id": "bridal-delta",
   "metadata": {},
   "outputs": [
    {
     "data": {
      "text/plain": [
       "(0.0, 110.0)"
      ]
     },
     "execution_count": 19,
     "metadata": {},
     "output_type": "execute_result"
    },
    {
     "data": {
      "image/png": "[encoded data removed]",
      "text/plain": [
       "<Figure size 432x432 with 1 Axes>"
      ]
     },
     "metadata": {
      "needs_background": "light"
     },
     "output_type": "display_data"
    }
   ],
   "source": [
    "# create helper function\n",
    "def scatter_plot_label(df,ax,color): \n",
    "    \n",
    "    def plotlabel(xvar, yvar, label):\n",
    "        ax.text(xvar+1, yvar-120, label,color=color)\n",
    "        \n",
    "    #fig = plt.figure(figsize=(30,10))\n",
    "    sns.scatterplot(x = 'iteration', y = 'Scope after removal', data=df,color=color,ax=ax)\n",
    "\n",
    "    # The magic starts here:\n",
    "    df.apply(lambda x: plotlabel(x['iteration'],  x['Scope after removal'], x['cid_name']), axis=1)\n",
    "    \n",
    "cids_all = pd.read_csv('assets/cid2name.csv')\n",
    "y = pd.DataFrame(pd.Series(ne_cpds),columns=['iteration'])\n",
    "cpd_removal = pd.read_csv('assets/ScopeSizeAfterCompoundRemoval.csv',index_col=0).set_index('cid').join(y)\n",
    "cpd_removal.columns = ['Scope after removal','iteration']\n",
    "abun = pd.DataFrame(pd.Series(ne_cpds),columns=['iter']).reset_index().groupby('iter').count()\n",
    "abun['compounds (cumulative)'] = abun['index'].cumsum()\n",
    "cpd_removal_names = cpd_removal.join(cids_all.set_index('cid'))\n",
    "\n",
    "\n",
    "fig = plt.figure(figsize=(6, 6))\n",
    "\n",
    "ids = ['Z00035','C00002','C00003','C00061','Z00047','C00010','C00024','C00129','C00007']\n",
    "\n",
    "cmap = sns.color_palette(\"Set1\")\n",
    "f = 0.5\n",
    "cm_small = cpd_removal_names[~cpd_removal_names.index.isin(ids)]\n",
    "ax = sns.scatterplot(x='iteration',y='Scope after removal',data=cm_small,color='k',edgecolor='k',rasterized=True,marker=\"o\",alpha=0.3)\n",
    "\n",
    "plt.ylabel('network size (# metabolites)')\n",
    "plt.xlabel('expansion iteration')\n",
    "#plt.xlim([0,110])\n",
    "cm_small = cpd_removal_names[cpd_removal_names.index.isin(ids)]\n",
    "scatter_plot_label(cm_small,ax,cmap[0])\n",
    "sns.lineplot(x='iter',y='compounds (cumulative)',data=abun.reset_index(),color=cmap[1],ax=ax)\n",
    "ax.set_xlim([0,110])\n"
   ]
  },
  {
   "cell_type": "markdown",
   "id": "fluid-lounge",
   "metadata": {},
   "source": [
    "### Figure 2B: Plot results of network expansion with coenzyme addition"
   ]
  },
  {
   "cell_type": "code",
   "execution_count": 18,
   "id": "herbal-grave",
   "metadata": {
    "tags": []
   },
   "outputs": [
    {
     "name": "stderr",
     "output_type": "stream",
     "text": [
      "/Users/joshuagoldford/Documents/github/networkExpansionPy/networkExpansionPy/lib.py:533: SparseEfficiencyWarning: Comparing sparse matrices using == is inefficient, try using != instead.\n",
      "  X,Y = netExp_trace(R,P,x0,b)\n",
      "/Users/joshuagoldford/Documents/github/networkExpansionPy/networkExpansionPy/lib.py:533: SparseEfficiencyWarning: Comparing sparse matrices using == is inefficient, try using != instead.\n",
      "  X,Y = netExp_trace(R,P,x0,b)\n",
      "/Users/joshuagoldford/Documents/github/networkExpansionPy/networkExpansionPy/lib.py:533: SparseEfficiencyWarning: Comparing sparse matrices using == is inefficient, try using != instead.\n",
      "  X,Y = netExp_trace(R,P,x0,b)\n"
     ]
    },
    {
     "data": {
      "text/plain": [
       "<matplotlib.legend.Legend at 0x7f9130d21fd0>"
      ]
     },
     "execution_count": 18,
     "metadata": {},
     "output_type": "execute_result"
    },
    {
     "data": {
      "image/png": "[encoded data removed]",
      "text/plain": [
       "<Figure size 432x154.286 with 1 Axes>"
      ]
     },
     "metadata": {
      "needs_background": "light"
     },
     "output_type": "display_data"
    }
   ],
   "source": [
    "# make figure 2B\n",
    "cpd_added =['C00002','C00004','C00010','C00016','C00019','Z00035','Z00009','Z00047']\n",
    "height = 6\n",
    "plt.figure(figsize=(height,5/14*height))\n",
    "\n",
    "\n",
    "nc,nr = metabolism.expand(seed_set,algorithm='trace')\n",
    "abun = pd.DataFrame(pd.Series(nc),columns=['iter']).reset_index().groupby('iter').count()\n",
    "\n",
    "nc,nr = metabolism.expand(seed_set + cpd_added,algorithm='trace')\n",
    "abun_sub = pd.DataFrame(pd.Series(nc),columns=['iter']).reset_index().groupby('iter').count()\n",
    "\n",
    "\n",
    "nc,nr = metabolism.expand(seed_set + cpd_added + ['C00007'],algorithm='trace')\n",
    "abun_sub2 = pd.DataFrame(pd.Series(nc),columns=['iter']).reset_index().groupby('iter').count()\n",
    "\n",
    "\n",
    "sns.lineplot(x='iter',y='index',data=abun.iloc[0:],color=cmap[1])\n",
    "sns.lineplot(x='iter',y='index',data=abun_sub.iloc[0:],color=cmap[2])\n",
    "sns.lineplot(x='iter',y='index',data=abun_sub2.iloc[0:],color=cmap[3])\n",
    "\n",
    "plt.ylabel('# compounds added \\n at each iteration')\n",
    "plt.xlabel(\"expansion iteration\")\n",
    "plt.xlim([0,110])\n",
    "#plt.ylim([0,255])\n",
    "plt.subplots_adjust(bottom=0.25)\n",
    "plt.legend(['Seed Set','Seed Set + 8 Coenzymes','Seed Set + + 8 Coenzymes + O2'])"
   ]
  },
  {
   "cell_type": "markdown",
   "id": "combined-juice",
   "metadata": {},
   "source": [
    "### Fig 3A: average molecular complexity vs. expansion iteration"
   ]
  },
  {
   "cell_type": "code",
   "execution_count": 19,
   "id": "motivated-helmet",
   "metadata": {
    "tags": []
   },
   "outputs": [
    {
     "data": {
      "text/plain": [
       "Text(0.1, 0.75, '$r=0.72$ \\n$P<10^{-16}$')"
      ]
     },
     "execution_count": 19,
     "metadata": {},
     "output_type": "execute_result"
    },
    {
     "data": {
      "image/png": "[encoded data removed]",
      "text/plain": [
       "<Figure size 216x216 with 1 Axes>"
      ]
     },
     "metadata": {
      "needs_background": "light"
     },
     "output_type": "display_data"
    }
   ],
   "source": [
    "skws={\"color\": \"black\"}\n",
    "lkws={'color': cmap[0]}\n",
    "complexity = pd.read_csv('assets/kegg_cpds.iterationComplexity.csv',index_col=0)\n",
    "complexity = complexity[['complexity']].join(pd.DataFrame(pd.Series(ne_cpds),columns=['iteration']))\n",
    "sns.lmplot(x='iteration',y='complexity',data=complexity.groupby('iteration').mean().reset_index(),height=3, aspect=1,line_kws=lkws,scatter_kws=skws)\n",
    "plt.xlim([0,105])\n",
    "plt.ylabel('mean molecular complexity')\n",
    "plt.xlabel('expansion iteration')\n",
    "c = complexity.groupby('iteration').mean().reset_index()\n",
    "\n",
    "\n",
    "r,pval = pearsonr(c['iteration'].values,c['complexity'].values)\n",
    "d = int(np.ceil(np.log10(pval)))\n",
    "label = '$r={R}$ \\n'.format(R=round(r,2)) + '$P<10^{' + str(d) + '}$'\n",
    "plt.annotate(label, xy=(0.1, 0.75), xycoords='axes fraction')"
   ]
  },
  {
   "cell_type": "markdown",
   "id": "micro-veteran",
   "metadata": {},
   "source": [
    "### Fig 3B: average genome representation vs. expansion iteration"
   ]
  },
  {
   "cell_type": "code",
   "execution_count": 20,
   "id": "referenced-scout",
   "metadata": {
    "tags": []
   },
   "outputs": [
    {
     "data": {
      "text/plain": [
       "Text(0.1, 0.1, '$r=-0.82$ \\n$P<10^{-23}$')"
      ]
     },
     "execution_count": 20,
     "metadata": {},
     "output_type": "execute_result"
    },
    {
     "data": {
      "image/png": "[encoded data removed]",
      "text/plain": [
       "<Figure size 216x216 with 1 Axes>"
      ]
     },
     "metadata": {
      "needs_background": "light"
     },
     "output_type": "display_data"
    }
   ],
   "source": [
    "cpd_df = pd.DataFrame(pd.Series(ne_cpds)).reset_index()\n",
    "cpd_df.columns = ['cid','iteration']\n",
    "md2cpd = pd.read_csv('assets/KEGG_ModuleVsCompound.csv')\n",
    "kegg_modules = pd.read_csv('assets/KEGG_GenomesToModule.csv')\n",
    "genome_cids = kegg_modules.set_index('module').join(md2cpd.set_index('module'))[['genome','cid']].drop_duplicates()\n",
    "genome_cids['count'] = 1\n",
    "genome_cids_counts = genome_cids.groupby('cid').sum()\n",
    "N = len(kegg_modules.genome.unique())\n",
    "ne_genomes_cid = genome_cids_counts.join(cpd_df.set_index('cid'))\n",
    "ne_genomes_cid['genome_percentage']= ne_genomes_cid['count'] / N\n",
    "ne_genomes_cid['expansion'] = ~ne_genomes_cid.iteration.isna()\n",
    "q = ne_genomes_cid.dropna().groupby('iteration').mean().reset_index()\n",
    "\n",
    "\n",
    "skws={\"color\": \"black\"}\n",
    "lkws={'color': cmap[0]}\n",
    "\n",
    "sns.lmplot(x='iteration',y='genome_percentage',data=q,height=3, aspect=1,line_kws=lkws,scatter_kws=skws)\n",
    "plt.xlabel('expansion iteration')\n",
    "plt.ylabel('average proportion of microbial \\n genomes with compound')\n",
    "\n",
    "plt.xlim([0,105])\n",
    "\n",
    "\n",
    "r,pval = pearsonr(q['iteration'].values,q['genome_percentage'].values)\n",
    "d = int(np.ceil(np.log10(pval)))\n",
    "label = '$r={R}$ \\n'.format(R=round(r,2)) + '$P<10^{' + str(d) + '}$'\n",
    "plt.annotate(label, xy=(0.1, 0.1), xycoords='axes fraction')\n"
   ]
  },
  {
   "cell_type": "markdown",
   "id": "marine-turkey",
   "metadata": {},
   "source": [
    "### Fig 3C: proportion of metal usage vs. expansion iteration"
   ]
  },
  {
   "cell_type": "code",
   "execution_count": 21,
   "id": "found-graham",
   "metadata": {
    "tags": []
   },
   "outputs": [
    {
     "name": "stdout",
     "output_type": "stream",
     "text": [
      "-0.7461806928204114\n",
      "5.164886898408317e-19\n"
     ]
    },
    {
     "data": {
      "text/plain": [
       "Text(0.6, 0.75, '$r=-0.75$ \\n$P<10^{-18}$')"
      ]
     },
     "execution_count": 21,
     "metadata": {},
     "output_type": "execute_result"
    },
    {
     "data": {
      "image/png": "[encoded data removed]",
      "text/plain": [
       "<Figure size 216x216 with 1 Axes>"
      ]
     },
     "metadata": {
      "needs_background": "light"
     },
     "output_type": "display_data"
    }
   ],
   "source": [
    "# compute the fraction of each iteration that uses a metal\n",
    "\n",
    "# determine proportion of reactions per iteration that use CO2 as reductant\n",
    "rns_tmp = pd.Series(ne_rxns).reset_index()\n",
    "rns_tmp.columns = ['reaction','direction','iteration']\n",
    "mtls = cids[cids['Coenzyme type/function'].isin(['Iron sulfur','Metal','Metal monovalent'])].ZID.tolist()\n",
    "\n",
    "metal_using_reactions = metabolism.network[(metabolism.network.cid.isin(mtls))][['rn','direction']].drop_duplicates()\n",
    "metal_using_reactions = metal_using_reactions.apply(tuple,axis=1).tolist()\n",
    "z = rns_tmp[['reaction','direction']].apply(tuple, axis=1).apply(lambda x: x in metal_using_reactions)\n",
    "rns_tmp['cofactor_usage'] = z\n",
    "rns_tmp['total'] = 1\n",
    "rz = rns_tmp.groupby('iteration').sum()\n",
    "rz = rz['cofactor_usage'] / rz['total']\n",
    "\n",
    "prop = pd.DataFrame(rz,columns = ['prop'])\n",
    "sns.lmplot(x='iteration',y='prop',data=prop.reset_index(),height=3, aspect=1,line_kws=lkws,scatter_kws=skws)\n",
    "plt.xlim([0,105])\n",
    "plt.xlabel('expansion iteration')\n",
    "plt.ylabel('proportion of reactions \\n that use a metal')\n",
    "\n",
    "r,pval = pearsonr(prop.reset_index()['iteration'].values,prop.reset_index()['prop'].values)\n",
    "print(r)\n",
    "print(pval)\n",
    "d = int(np.ceil(np.log10(pval)))\n",
    "label = '$r={R}$ \\n'.format(R=round(r,2)) + '$P<10^{' + str(d) + '}$'\n",
    "plt.annotate(label, xy=(0.6, 0.75), xycoords='axes fraction')\n"
   ]
  },
  {
   "cell_type": "markdown",
   "id": "circular-walter",
   "metadata": {},
   "source": [
    "### Fig 3D: average fold symmetry score vs. expansion number"
   ]
  },
  {
   "cell_type": "code",
   "execution_count": 22,
   "id": "automatic-campus",
   "metadata": {
    "tags": []
   },
   "outputs": [
    {
     "data": {
      "text/plain": [
       "Text(0.1, 0.1, '$r=-0.71$ \\n$P<10^{-15}$')"
      ]
     },
     "execution_count": 22,
     "metadata": {},
     "output_type": "execute_result"
    },
    {
     "data": {
      "image/png": "[encoded data removed]",
      "text/plain": [
       "<Figure size 216x216 with 1 Axes>"
      ]
     },
     "metadata": {
      "needs_background": "light"
     },
     "output_type": "display_data"
    }
   ],
   "source": [
    "fold2rxns = pd.read_csv('assets/fold2rxn.ec.30Aug2022.p20.csv',index_col=0)\n",
    "fold2rxns.columns = ['rn','rule']\n",
    "fold2rxns['rule'] = fold2rxns.rule.apply(lambda x: str(x))\n",
    "fold_sym = pd.read_csv(\"assets/xgroup_symmetry.txt\",sep=',',header=None)\n",
    "fold_sym = fold_sym[[0,1,2]]\n",
    "fold_sym.columns = ['Fold','Symmmetry','Score']\n",
    "fold_sym['Fold'] = fold_sym.Fold.apply(lambda x: str(x))\n",
    "\n",
    "rn_folds = {'rn':[],'folds':[]}\n",
    "for rn, dff in fold2rxns.groupby('rn'):\n",
    "    folds = dff.rule.apply(lambda x: x.split('_')).tolist()\n",
    "    F = []\n",
    "    for f in folds:\n",
    "        for ff in f:\n",
    "            F.append(ff)\n",
    "    F = set(F)\n",
    "    rn_folds['rn'].append(rn)\n",
    "    rn_folds['folds'].append(list(F))\n",
    "    \n",
    "rn_folds = pd.DataFrame(rn_folds)\n",
    "rn_folds['average sym'] = rn_folds.folds.apply(lambda x: fold_sym[fold_sym.Fold.isin(x)].Score.mean())\n",
    "rn_folds = rn_folds.dropna()\n",
    "rn_folds['X-groups'] = rn_folds['folds'].apply(lambda x: \";\".join(x))\n",
    "\n",
    "\n",
    "scores = {'iteration': [] ,'mean_symmetry_score': []}\n",
    "\n",
    "for iteration,dff in pd.DataFrame(pd.Series(ne_rxns),columns = ['iteration']).groupby('iteration'):\n",
    "    g = [x[0] for x in dff.index.tolist()]\n",
    "    g = [x.split('_')[0] for x in g]\n",
    "    scores['iteration'].append(iteration)\n",
    "    s = rn_folds[rn_folds.rn.isin(g)]['average sym'].mean()\n",
    "    scores['mean_symmetry_score'].append(s)\n",
    "    \n",
    "scores = pd.DataFrame(scores)\n",
    "scores = scores.dropna()\n",
    "\n",
    "sns.lmplot(x='iteration',y='mean_symmetry_score',data=scores,height=3, aspect=1,line_kws=lkws,scatter_kws=skws)\n",
    "plt.xlim([0,105])\n",
    "plt.ylabel('mean fold repetitiveness')\n",
    "plt.xlabel('expansion iteration')\n",
    "\n",
    "\n",
    "r,pval = pearsonr(scores['iteration'].values,scores['mean_symmetry_score'].values)\n",
    "d = int(np.ceil(np.log10(pval)))\n",
    "label = '$r={R}$ \\n'.format(R=round(r,2)) + '$P<10^{' + str(d) + '}$'\n",
    "plt.annotate(label, xy=(0.1, 0.1), xycoords='axes fraction')\n"
   ]
  },
  {
   "cell_type": "markdown",
   "id": "hollow-essay",
   "metadata": {},
   "source": [
    "### Fig 4C: Carbon fixation pathway"
   ]
  },
  {
   "cell_type": "code",
   "execution_count": 23,
   "id": "alone-alcohol",
   "metadata": {
    "tags": []
   },
   "outputs": [
    {
     "data": {
      "text/plain": [
       "Text(0.5, -6.5, 'expansion iteration')"
      ]
     },
     "execution_count": 23,
     "metadata": {},
     "output_type": "execute_result"
    },
    {
     "data": {
      "image/png": "[encoded data removed]",
      "text/plain": [
       "<Figure size 432x108 with 2 Axes>"
      ]
     },
     "metadata": {
      "needs_background": "light"
     },
     "output_type": "display_data"
    }
   ],
   "source": [
    "carbon_fixation = ['M00165','M00173','M00374','M00375','M00376','M00377','ReductiveGlycineModule']\n",
    "\n",
    "module_set = pd.read_csv('assets/carbonFixationModuleRules.csv')\n",
    "module_names = {}\n",
    "module_names['M00165'] = 'Calvin cycle'\n",
    "module_names['M00173'] = 'Reductive citrate cycle'\n",
    "module_names['M00374'] = 'Dicarboxylate-hydroxybutyrate cycle'\n",
    "module_names['M00375'] = 'Hydroxypropionate-hydroxybutylate cycle'\n",
    "module_names['M00376'] = 'Hydroxypropionate bi-cycle'\n",
    "module_names['M00377'] = 'Reductive acetyl-CoA pathway'\n",
    "module_names['ReductiveGlycineModule'] = 'Reductive glycine pathway'\n",
    "\n",
    "iterations = rn_df.iteration.unique().tolist()\n",
    "module_coverage = {'module':[],'iteration':[],'coverage':[]}\n",
    "for i in iterations:\n",
    "    rsub =rn_df[rn_df.iteration < (i+1)]\n",
    "    rsub = rsub.rn_kegg.unique()\n",
    "    for module,mdf in module_set.groupby('module'):\n",
    "        z = mdf.reactions.apply(lambda x: any([y in rsub for y in x.split(',')]))\n",
    "        coverage = z.sum() / len(z)\n",
    "        module_coverage['module'].append(module)\n",
    "        module_coverage['iteration'].append(i)\n",
    "        module_coverage['coverage'].append(coverage)\n",
    "\n",
    "module_coverage = pd.DataFrame(module_coverage)\n",
    "module_coverage_piv = module_coverage.pivot_table(index='iteration',columns='module',values='coverage')\n",
    "\n",
    "M00357 = pd.DataFrame(module_coverage_piv[['M00357.v1','M00357.v2']].max(axis=1))\n",
    "M00357.columns = ['coverage']\n",
    "M00357['module'] = 'M00357'\n",
    "\n",
    "module_coverage = pd.concat([module_coverage,M00357.reset_index()[['module','iteration','coverage']]],axis=0)\n",
    "module_coverage_piv = module_coverage.pivot_table(index='iteration',columns='module',values='coverage')\n",
    "\n",
    "pathway_completion_iteration = pd.Series({x:y[y.coverage == 1].iteration.min() for x,y in module_coverage.groupby('module')})\n",
    "\n",
    "height = 6\n",
    "mods = carbon_fixation\n",
    "q = pd.DataFrame(pathway_completion_iteration.loc[mods].sort_values(),columns = ['iteration']).reset_index().reset_index()\n",
    "q.columns = ['rank','module','iteration']\n",
    "mods = pathway_completion_iteration.loc[mods].sort_values().index.tolist()\n",
    "n = len(mods)\n",
    "plt.figure(figsize=(height,(n/2)/14*height))\n",
    "\n",
    "z = module_coverage_piv[mods].T\n",
    "z.index = [module_names[x] for x in z.index.tolist()]\n",
    "\n",
    "ax = sns.heatmap(z,cmap='flare',yticklabels=True)\n",
    "plt.yticks(rotation=0)\n",
    "\n",
    "#y = q['rank'].values + (n/2 / 10)\n",
    "y = ax.get_yticks()\n",
    "\n",
    "x = q['iteration'].values\n",
    "plt.scatter(x,y,color='yellow')\n",
    "plt.xlabel('expansion iteration')\n",
    "#plt.savefig('carbonfixation.{date}.svg'.format(date=date))"
   ]
  },
  {
   "cell_type": "markdown",
   "id": "declared-green",
   "metadata": {},
   "source": [
    "### Fig 4A: analysis of linear pathways"
   ]
  },
  {
   "cell_type": "code",
   "execution_count": 13,
   "id": "interstate-innocent",
   "metadata": {
    "tags": []
   },
   "outputs": [
    {
     "name": "stderr",
     "output_type": "stream",
     "text": [
      "/Users/joshuagoldford/opt/miniconda3/envs/ne.py3.6/lib/python3.6/site-packages/scipy/stats/stats.py:4196: SpearmanRConstantInputWarning: An input array is constant; the correlation coefficent is not defined.\n",
      "  warnings.warn(SpearmanRConstantInputWarning())\n"
     ]
    },
    {
     "data": {
      "text/plain": [
       "<matplotlib.legend.Legend at 0x7f912f9d7da0>"
      ]
     },
     "execution_count": 13,
     "metadata": {},
     "output_type": "execute_result"
    },
    {
     "data": {
      "image/png": "[encoded data removed]",
      "text/plain": [
       "<Figure size 288x288 with 1 Axes>"
      ]
     },
     "metadata": {},
     "output_type": "display_data"
    }
   ],
   "source": [
    "with open(\"assets/parsedLinearModules.pkl\",\"rb\") as filehandler:\n",
    "    parsed_linear_modules = pickle.load(filehandler)\n",
    "    \n",
    "rn_df['rlabel'] = rn_df['rn_kegg'] + '_' + rn_df['direction']\n",
    "\n",
    "iteration_step = []\n",
    "for idx,row in parsed_linear_modules.iterrows():\n",
    "    if rn_df.rlabel.isin(row.rxn_labels).sum() == len(row.rxn_labels):\n",
    "        step_max = rn_df[rn_df.rlabel.isin(row.rxn_labels)].iteration.max()\n",
    "    else:\n",
    "        step_max = np.nan\n",
    "    iteration_step.append(step_max)\n",
    "    \n",
    "parsed_linear_modules['iteration'] = iteration_step\n",
    "\n",
    "\n",
    "module_correlations = {'module':[],'rule_id':[],'r':[],'pval':[],'ivar':[]}\n",
    "for (module,rule),dff in parsed_linear_modules.groupby(['module','rule_id']):\n",
    "    if ~dff.iteration.isna().any():\n",
    "        if len(dff)>1:\n",
    "            r,p = spearmanr(dff.step,dff.iteration)\n",
    "            module_correlations['module'].append(module)\n",
    "            module_correlations['rule_id'].append(rule)\n",
    "            module_correlations['r'].append(r)\n",
    "            module_correlations['pval'].append(p)\n",
    "            module_correlations['ivar'].append(dff.iteration.var())\n",
    "module_correlations = pd.DataFrame(module_correlations)\n",
    "\n",
    "\n",
    "retrograde = len(module_correlations[module_correlations.r == -1])\n",
    "granick = len(module_correlations[module_correlations.r == 1])\n",
    "mosiac = len(module_correlations) - retrograde - granick\n",
    "\n",
    "plt.figure(figsize=(4,4))\n",
    "cmap2 = sns.color_palette(\"Set2\")\n",
    "plt.pie([retrograde,granick,mosiac],colors=cmap2)\n",
    "plt.legend(['Retrograde','Granick','Mosaic'])\n"
   ]
  },
  {
   "cell_type": "markdown",
   "id": "dated-survival",
   "metadata": {},
   "source": [
    "### Fig 4B: Compute emergence time of KEGG modules"
   ]
  },
  {
   "cell_type": "code",
   "execution_count": 14,
   "id": "active-array",
   "metadata": {
    "tags": []
   },
   "outputs": [
    {
     "data": {
      "text/plain": [
       "Text(0.5, 6.800000000000001, 'iteration when pathway is feasible')"
      ]
     },
     "execution_count": 14,
     "metadata": {},
     "output_type": "execute_result"
    },
    {
     "data": {
      "image/png": "[encoded data removed]",
      "text/plain": [
       "<Figure size 324x144 with 1 Axes>"
      ]
     },
     "metadata": {
      "needs_background": "light"
     },
     "output_type": "display_data"
    }
   ],
   "source": [
    "with open(\"assets/parsedModules.pkl\",\"rb\") as filehandler:\n",
    "    parsed_modules = pickle.load(filehandler)\n",
    "\n",
    "moduleEmergence = {'module':[],'rule_id':[],'iteration_emergence':[]}\n",
    "\n",
    "for (module,rule),mdf in parsed_modules.groupby(['module','rule_id']):\n",
    "    mdf['in_expansion'] = mdf.rxn_labels.apply(lambda x: len(rn_df[rn_df.rlabel.isin(x)])>0)\n",
    "    if mdf.in_expansion.all():\n",
    "        mdf['iteration'] = mdf.rxn_labels.apply(lambda x: rn_df[rn_df.rlabel.isin(x)].iteration.min())\n",
    "        emergence_time = mdf.groupby('step').min().iteration.max()\n",
    "        moduleEmergence['iteration_emergence'].append(emergence_time)\n",
    "        moduleEmergence['module'].append(module)\n",
    "        moduleEmergence['rule_id'].append(rule)\n",
    "\n",
    "# substitute the manually constructed pathways into automatically parsed KEGG modules\n",
    "memerg = pd.DataFrame(module_coverage.groupby('module').apply(lambda x:  x[x.coverage == 1].iteration.min()))\n",
    "memerg.columns = ['iteration_emergence']\n",
    "memerg = memerg[~memerg.index.isin(['M00357.v1','M00357.v2'])]\n",
    "\n",
    "moduleEmergence = pd.DataFrame(moduleEmergence)\n",
    "moduleEmergenceMin = moduleEmergence.dropna().groupby('module').min()\n",
    "moduleEmergenceMin = pd.concat([moduleEmergenceMin[~moduleEmergenceMin.index.isin(memerg.index.tolist())][['iteration_emergence']],memerg],axis=0)\n",
    "\n",
    "sns.displot(x='iteration_emergence',data=moduleEmergenceMin,height=2,aspect=2.25,color='gray',rug=True)\n",
    "plt.xlabel('iteration when pathway is feasible')\n"
   ]
  },
  {
   "cell_type": "code",
   "execution_count": null,
   "id": "better-voluntary",
   "metadata": {},
   "outputs": [],
   "source": []
  }
 ],
 "metadata": {
  "kernelspec": {
   "display_name": "Python 3.6 (network expansion)",
   "language": "python",
   "name": "ne.py3.6"
  },
  "language_info": {
   "codemirror_mode": {
    "name": "ipython",
    "version": 3
   },
   "file_extension": ".py",
   "mimetype": "text/x-python",
   "name": "python",
   "nbconvert_exporter": "python",
   "pygments_lexer": "ipython3",
   "version": "3.6.13"
  }
 },
 "nbformat": 4,
 "nbformat_minor": 5
}
