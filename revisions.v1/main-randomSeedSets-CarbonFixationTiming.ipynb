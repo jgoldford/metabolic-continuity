{
 "cells": [
  {
   "cell_type": "code",
   "execution_count": 2,
   "id": "545cef37-f995-4a41-bf40-9ae311db1ee8",
   "metadata": {
    "tags": []
   },
   "outputs": [],
   "source": [
    "import networkExpansionPy.lib as ne\n",
    "import numpy as np\n",
    "import pandas as pd\n",
    "import pickle as pickle\n",
    "import seaborn as sns\n",
    "import matplotlib.pyplot as plt\n",
    "from scipy.stats import spearmanr,pearsonr,mannwhitneyu\n",
    "from statsmodels.stats.multitest import multipletests\n",
    "plt.rcParams['font.family'] = 'Arial'\n",
    "import pingouin as pg\n",
    "import re\n",
    "\n",
    "\n",
    "import warnings\n",
    "from scipy.sparse import (spdiags, SparseEfficiencyWarning, csc_matrix,\n",
    "    csr_matrix, isspmatrix, dok_matrix, lil_matrix, bsr_matrix)\n",
    "warnings.simplefilter('ignore',SparseEfficiencyWarning)\n",
    "\n",
    "def load_data(network_name):\n",
    "    with open(ne.asset_path  + \"/metabolic_networks/\" + network_name,\"rb\") as filehandler:\n",
    "        metabolism = pickle.load(filehandler)\n",
    "    return metabolism\n",
    "\n",
    "# load the metabolism object from the repo\n",
    "model_id = \"metabolism.v8.01May2023.pkl\"\n",
    "metabolism = pd.read_pickle('/Users/joshuagoldford/Documents/github/network-expansion-assets/models/' + model_id)\n",
    "cids = metabolism.coenzymes"
   ]
  },
  {
   "cell_type": "code",
   "execution_count": 6,
   "id": "6cb3f33d-2290-4534-86b8-ea8f5043a17e",
   "metadata": {
    "tags": []
   },
   "outputs": [],
   "source": [
    "seed = pd.read_csv('../assets/seed_set.csv')\n",
    "#background = seed[seed[\"Type\"].isin([\"Background\"])].ID.tolist()\n",
    "#cpd_base = seed[~seed[\"Type\"].isin(['Sulfur source',\"Nitrogen source\"])].ID.tolist()\n",
    "carbon_compounds = seed[~seed[\"Type\"].isin([\"Organic carbon\"])].ID.tolist()\n",
    "\n",
    "def get_c_num(formula):\n",
    "    match = re.search('C(\\d+)', formula)\n",
    "    if match:\n",
    "        return  match.group(1)\n",
    "    else:\n",
    "        return None\n",
    "\n",
    "# get only the compounds with CHO in the formula\n",
    "DOR = pd.read_csv(\"../assets/keggCHOmolecules.reductionState.csv\",index_col=0)\n",
    "DOR[\"c\"]= DOR.formula.apply(lambda x: get_c_num(x))\n",
    "DOR = DOR[~DOR.c.apply(lambda x: x is None)]\n",
    "DOR[\"c\"] = DOR.c.apply(int)"
   ]
  },
  {
   "cell_type": "code",
   "execution_count": 11,
   "id": "562a1675-de72-41c7-a926-152b8379fa73",
   "metadata": {
    "tags": []
   },
   "outputs": [],
   "source": [
    "from random import sample\n",
    "# sample random seed sets\n",
    "seed_set_base = seed.ID.tolist()\n",
    "cpd_population = [x for x in DOR.cid.tolist() if x not in seed_set_base]\n",
    "N = 10\n",
    "sample_num = 1000\n",
    "sample_types = []\n",
    "seed_sets = []\n",
    "for i in range(sample_num):\n",
    "    seed_cpds = sample(cpd_population,N)\n",
    "    seed_sets.append(seed_cpds)\n",
    "    \n",
    "seed_sets_full = [x +seed_set_base for x in seed_sets]"
   ]
  },
  {
   "cell_type": "code",
   "execution_count": 13,
   "id": "b2630d64-6aef-42e0-acb8-e2f3148a850e",
   "metadata": {
    "tags": []
   },
   "outputs": [],
   "source": [
    "compounds,reactions = metabolism.run_expansions_parallel(seed_sets_full,algorithm=\"trace\")"
   ]
  },
  {
   "cell_type": "code",
   "execution_count": 15,
   "id": "8709eaeb-a2a9-4e05-b3c3-7bfc65c1daf4",
   "metadata": {
    "tags": []
   },
   "outputs": [],
   "source": [
    "module_set = pd.read_csv('../assets/carbonFixationModuleRules.v2.csv')\n",
    "carbon_fixation = ['M00165','M00173','M00374','M00375','M00376','M00377','ReductiveGlycineModule']\n",
    "# this is a biotin-dependent step, whcih can be performed via PEP carboxylase which always occurs earlier\n",
    "module_set = module_set[~(module_set[\"step\"] == \"C00022 -> C00036\")]\n",
    "module_names = {}\n",
    "module_names['M00165'] = 'Calvin cycle'\n",
    "module_names['M00173'] = 'Reductive citrate cycle'\n",
    "module_names['M00374'] = 'Dicarboxylate-hydroxybutyrate cycle'\n",
    "module_names['M00375'] = 'Hydroxypropionate-hydroxybutylate cycle'\n",
    "module_names['M00376'] = 'Hydroxypropionate bi-cycle'\n",
    "module_names['M00377'] = 'Reductive acetyl-CoA pathway'\n",
    "module_names['ReductiveGlycineModule'] = 'Reductive glycine pathway'\n",
    "module_set = module_set[module_set.module.isin(list(module_names) + ['M00357.v1','M00357.v2'])]\n",
    "\n",
    "def carbon_fixation_timing(ne_rxns):\n",
    "    \n",
    "    # parse data into dataframes\n",
    "    rn_df = pd.DataFrame(pd.Series(ne_rxns),columns = ['iteration'])\n",
    "    rn_df.reset_index(inplace=True)\n",
    "    rn_df.columns = ['rn','direction','iteration']\n",
    "    rn_df['rn_kegg']= rn_df['rn'].apply(lambda x: x.split('_')[0])\n",
    "\n",
    "    \n",
    "    iterations = rn_df.iteration.unique().tolist()\n",
    "    module_coverage = {'module':[],'iteration':[],'coverage':[]}\n",
    "\n",
    "\n",
    "    # make a reaction df with ONLY extant reactions\n",
    "    rn_df_extant = rn_df[~rn_df.rn.apply(lambda x: (\"H2Red\" in x) | (\"_RSH\" in x))]\n",
    "\n",
    "\n",
    "    for i in iterations:\n",
    "        rsub = rn_df_extant[rn_df_extant.iteration < (i+1)]\n",
    "        #rsub =rn_df[rn_df.iteration < (i+1)]\n",
    "        rsub = rsub.rn_kegg.unique()\n",
    "        for module,mdf in module_set.groupby('module'):\n",
    "            z = mdf.reactions.apply(lambda x: any([y in rsub for y in x.split(',')]))\n",
    "            coverage = z.sum() / len(z)\n",
    "            module_coverage['module'].append(module)\n",
    "            module_coverage['iteration'].append(i)\n",
    "            module_coverage['coverage'].append(coverage)\n",
    "\n",
    "    module_coverage = pd.DataFrame(module_coverage)\n",
    "    module_coverage_piv = module_coverage.pivot_table(index='iteration',columns='module',values='coverage')\n",
    "\n",
    "    M00357 = pd.DataFrame(module_coverage_piv[['M00357.v1','M00357.v2']].max(axis=1))\n",
    "    M00357.columns = ['coverage']\n",
    "    M00357['module'] = 'M00357'\n",
    "\n",
    "    module_coverage = pd.concat([module_coverage,M00357.reset_index()[['module','iteration','coverage']]],axis=0)\n",
    "    module_coverage_piv = module_coverage.pivot_table(index='iteration',columns='module',values='coverage')\n",
    "\n",
    "    pathway_completion_iteration = pd.Series({x:y[y.coverage == 1].iteration.min() for x,y in module_coverage.groupby('module')})\n",
    "    mods = carbon_fixation\n",
    "    q = pd.DataFrame(pathway_completion_iteration.loc[mods].sort_values(),columns = ['iteration']).reset_index().reset_index()\n",
    "    q.columns = ['rank','module','iteration']\n",
    "    return q\n",
    " "
   ]
  },
  {
   "cell_type": "code",
   "execution_count": 23,
   "id": "ca766323-799a-41b1-94fe-f7f815559cf6",
   "metadata": {
    "tags": []
   },
   "outputs": [
    {
     "data": {
      "text/html": [
       "<div>\n",
       "<style scoped>\n",
       "    .dataframe tbody tr th:only-of-type {\n",
       "        vertical-align: middle;\n",
       "    }\n",
       "\n",
       "    .dataframe tbody tr th {\n",
       "        vertical-align: top;\n",
       "    }\n",
       "\n",
       "    .dataframe thead th {\n",
       "        text-align: right;\n",
       "    }\n",
       "</style>\n",
       "<table border=\"1\" class=\"dataframe\">\n",
       "  <thead>\n",
       "    <tr style=\"text-align: right;\">\n",
       "      <th></th>\n",
       "      <th>Unnamed: 0</th>\n",
       "      <th>reactions</th>\n",
       "      <th>step</th>\n",
       "      <th>module</th>\n",
       "    </tr>\n",
       "  </thead>\n",
       "  <tbody>\n",
       "    <tr>\n",
       "      <th>0</th>\n",
       "      <td>0</td>\n",
       "      <td>R01523</td>\n",
       "      <td>C00199 -&gt; C01182</td>\n",
       "      <td>M00165</td>\n",
       "    </tr>\n",
       "    <tr>\n",
       "      <th>1</th>\n",
       "      <td>1</td>\n",
       "      <td>R00024</td>\n",
       "      <td>C01182 + C00011 -&gt; C00197</td>\n",
       "      <td>M00165</td>\n",
       "    </tr>\n",
       "    <tr>\n",
       "      <th>2</th>\n",
       "      <td>2</td>\n",
       "      <td>R01512</td>\n",
       "      <td>C00197 -&gt; C00236</td>\n",
       "      <td>M00165</td>\n",
       "    </tr>\n",
       "    <tr>\n",
       "      <th>3</th>\n",
       "      <td>3</td>\n",
       "      <td>R01061,R01063</td>\n",
       "      <td>C00236 -&gt; C00118</td>\n",
       "      <td>M00165</td>\n",
       "    </tr>\n",
       "    <tr>\n",
       "      <th>4</th>\n",
       "      <td>4</td>\n",
       "      <td>R01068</td>\n",
       "      <td>C00118 -&gt; C00354</td>\n",
       "      <td>M00165</td>\n",
       "    </tr>\n",
       "    <tr>\n",
       "      <th>...</th>\n",
       "      <td>...</td>\n",
       "      <td>...</td>\n",
       "      <td>...</td>\n",
       "      <td>...</td>\n",
       "    </tr>\n",
       "    <tr>\n",
       "      <th>125</th>\n",
       "      <td>4</td>\n",
       "      <td>R01221</td>\n",
       "      <td>C00143 + C00014 + C00011 -&gt; C00037 + C00101</td>\n",
       "      <td>ReductiveGlycineModule</td>\n",
       "    </tr>\n",
       "    <tr>\n",
       "      <th>126</th>\n",
       "      <td>5</td>\n",
       "      <td>R07226</td>\n",
       "      <td>C00037 + C00009 -&gt; C00227 + C00014</td>\n",
       "      <td>ReductiveGlycineModule</td>\n",
       "    </tr>\n",
       "    <tr>\n",
       "      <th>127</th>\n",
       "      <td>6</td>\n",
       "      <td>R00315</td>\n",
       "      <td>C00008 + C00227 -&gt; C00002 + C00033</td>\n",
       "      <td>ReductiveGlycineModule</td>\n",
       "    </tr>\n",
       "    <tr>\n",
       "      <th>128</th>\n",
       "      <td>7</td>\n",
       "      <td>R00235</td>\n",
       "      <td>C00033 -&gt; C00024</td>\n",
       "      <td>ReductiveGlycineModule</td>\n",
       "    </tr>\n",
       "    <tr>\n",
       "      <th>129</th>\n",
       "      <td>8</td>\n",
       "      <td>R01196</td>\n",
       "      <td>C00024 + C00011 -&gt; C00022</td>\n",
       "      <td>ReductiveGlycineModule</td>\n",
       "    </tr>\n",
       "  </tbody>\n",
       "</table>\n",
       "<p>102 rows × 4 columns</p>\n",
       "</div>"
      ],
      "text/plain": [
       "     Unnamed: 0      reactions                                         step  \\\n",
       "0             0         R01523                             C00199 -> C01182   \n",
       "1             1         R00024                    C01182 + C00011 -> C00197   \n",
       "2             2         R01512                             C00197 -> C00236   \n",
       "3             3  R01061,R01063                             C00236 -> C00118   \n",
       "4             4         R01068                             C00118 -> C00354   \n",
       "..          ...            ...                                          ...   \n",
       "125           4         R01221  C00143 + C00014 + C00011 -> C00037 + C00101   \n",
       "126           5         R07226           C00037 + C00009 -> C00227 + C00014   \n",
       "127           6         R00315           C00008 + C00227 -> C00002 + C00033   \n",
       "128           7         R00235                             C00033 -> C00024   \n",
       "129           8         R01196                    C00024 + C00011 -> C00022   \n",
       "\n",
       "                     module  \n",
       "0                    M00165  \n",
       "1                    M00165  \n",
       "2                    M00165  \n",
       "3                    M00165  \n",
       "4                    M00165  \n",
       "..                      ...  \n",
       "125  ReductiveGlycineModule  \n",
       "126  ReductiveGlycineModule  \n",
       "127  ReductiveGlycineModule  \n",
       "128  ReductiveGlycineModule  \n",
       "129  ReductiveGlycineModule  \n",
       "\n",
       "[102 rows x 4 columns]"
      ]
     },
     "execution_count": 23,
     "metadata": {},
     "output_type": "execute_result"
    }
   ],
   "source": [
    "module_set"
   ]
  },
  {
   "cell_type": "code",
   "execution_count": 21,
   "id": "750c6acb-e145-43eb-8699-032e6fd67ecc",
   "metadata": {
    "collapsed": true,
    "jupyter": {
     "outputs_hidden": true
    },
    "tags": []
   },
   "outputs": [
    {
     "ename": "KeyboardInterrupt",
     "evalue": "",
     "output_type": "error",
     "traceback": [
      "\u001b[0;31m---------------------------------------------------------------------------\u001b[0m",
      "\u001b[0;31mKeyboardInterrupt\u001b[0m                         Traceback (most recent call last)",
      "\u001b[0;32m<ipython-input-21-5c8a07eb3526>\u001b[0m in \u001b[0;36m<module>\u001b[0;34m\u001b[0m\n\u001b[1;32m      3\u001b[0m \u001b[0mpathway_information\u001b[0m\u001b[0;34m=\u001b[0m \u001b[0;34m[\u001b[0m\u001b[0;34m]\u001b[0m\u001b[0;34m\u001b[0m\u001b[0;34m\u001b[0m\u001b[0m\n\u001b[1;32m      4\u001b[0m \u001b[0;32mfor\u001b[0m \u001b[0mr\u001b[0m \u001b[0;32min\u001b[0m \u001b[0mreactions\u001b[0m\u001b[0;34m:\u001b[0m\u001b[0;34m\u001b[0m\u001b[0;34m\u001b[0m\u001b[0m\n\u001b[0;32m----> 5\u001b[0;31m     \u001b[0mR\u001b[0m \u001b[0;34m=\u001b[0m \u001b[0mcarbon_fixation_timing\u001b[0m\u001b[0;34m(\u001b[0m\u001b[0mr\u001b[0m\u001b[0;34m)\u001b[0m\u001b[0;34m\u001b[0m\u001b[0;34m\u001b[0m\u001b[0m\n\u001b[0m\u001b[1;32m      6\u001b[0m     \u001b[0mR\u001b[0m\u001b[0;34m[\u001b[0m\u001b[0;34m\"expansion\"\u001b[0m\u001b[0;34m]\u001b[0m \u001b[0;34m=\u001b[0m \u001b[0mi\u001b[0m\u001b[0;34m\u001b[0m\u001b[0;34m\u001b[0m\u001b[0m\n\u001b[1;32m      7\u001b[0m     \u001b[0mi\u001b[0m\u001b[0;34m+=\u001b[0m\u001b[0;36m1\u001b[0m\u001b[0;34m\u001b[0m\u001b[0;34m\u001b[0m\u001b[0m\n",
      "\u001b[0;32m<ipython-input-15-7c43d5fd3f99>\u001b[0m in \u001b[0;36mcarbon_fixation_timing\u001b[0;34m(ne_rxns)\u001b[0m\n\u001b[1;32m     33\u001b[0m         \u001b[0;31m#rsub =rn_df[rn_df.iteration < (i+1)]\u001b[0m\u001b[0;34m\u001b[0m\u001b[0;34m\u001b[0m\u001b[0;34m\u001b[0m\u001b[0m\n\u001b[1;32m     34\u001b[0m         \u001b[0mrsub\u001b[0m \u001b[0;34m=\u001b[0m \u001b[0mrsub\u001b[0m\u001b[0;34m.\u001b[0m\u001b[0mrn_kegg\u001b[0m\u001b[0;34m.\u001b[0m\u001b[0munique\u001b[0m\u001b[0;34m(\u001b[0m\u001b[0;34m)\u001b[0m\u001b[0;34m\u001b[0m\u001b[0;34m\u001b[0m\u001b[0m\n\u001b[0;32m---> 35\u001b[0;31m         \u001b[0;32mfor\u001b[0m \u001b[0mmodule\u001b[0m\u001b[0;34m,\u001b[0m\u001b[0mmdf\u001b[0m \u001b[0;32min\u001b[0m \u001b[0mmodule_set\u001b[0m\u001b[0;34m.\u001b[0m\u001b[0mgroupby\u001b[0m\u001b[0;34m(\u001b[0m\u001b[0;34m'module'\u001b[0m\u001b[0;34m)\u001b[0m\u001b[0;34m:\u001b[0m\u001b[0;34m\u001b[0m\u001b[0;34m\u001b[0m\u001b[0m\n\u001b[0m\u001b[1;32m     36\u001b[0m             \u001b[0mz\u001b[0m \u001b[0;34m=\u001b[0m \u001b[0mmdf\u001b[0m\u001b[0;34m.\u001b[0m\u001b[0mreactions\u001b[0m\u001b[0;34m.\u001b[0m\u001b[0mapply\u001b[0m\u001b[0;34m(\u001b[0m\u001b[0;32mlambda\u001b[0m \u001b[0mx\u001b[0m\u001b[0;34m:\u001b[0m \u001b[0many\u001b[0m\u001b[0;34m(\u001b[0m\u001b[0;34m[\u001b[0m\u001b[0my\u001b[0m \u001b[0;32min\u001b[0m \u001b[0mrsub\u001b[0m \u001b[0;32mfor\u001b[0m \u001b[0my\u001b[0m \u001b[0;32min\u001b[0m \u001b[0mx\u001b[0m\u001b[0;34m.\u001b[0m\u001b[0msplit\u001b[0m\u001b[0;34m(\u001b[0m\u001b[0;34m','\u001b[0m\u001b[0;34m)\u001b[0m\u001b[0;34m]\u001b[0m\u001b[0;34m)\u001b[0m\u001b[0;34m)\u001b[0m\u001b[0;34m\u001b[0m\u001b[0;34m\u001b[0m\u001b[0m\n\u001b[1;32m     37\u001b[0m             \u001b[0mcoverage\u001b[0m \u001b[0;34m=\u001b[0m \u001b[0mz\u001b[0m\u001b[0;34m.\u001b[0m\u001b[0msum\u001b[0m\u001b[0;34m(\u001b[0m\u001b[0;34m)\u001b[0m \u001b[0;34m/\u001b[0m \u001b[0mlen\u001b[0m\u001b[0;34m(\u001b[0m\u001b[0mz\u001b[0m\u001b[0;34m)\u001b[0m\u001b[0;34m\u001b[0m\u001b[0;34m\u001b[0m\u001b[0m\n",
      "\u001b[0;32m~/opt/miniconda3/envs/ne.py3.6/lib/python3.6/site-packages/pandas/core/groupby/ops.py\u001b[0m in \u001b[0;36mget_iterator\u001b[0;34m(self, data, axis)\u001b[0m\n\u001b[1;32m    131\u001b[0m         \u001b[0msplitter\u001b[0m \u001b[0;34m=\u001b[0m \u001b[0mself\u001b[0m\u001b[0;34m.\u001b[0m\u001b[0m_get_splitter\u001b[0m\u001b[0;34m(\u001b[0m\u001b[0mdata\u001b[0m\u001b[0;34m,\u001b[0m \u001b[0maxis\u001b[0m\u001b[0;34m=\u001b[0m\u001b[0maxis\u001b[0m\u001b[0;34m)\u001b[0m\u001b[0;34m\u001b[0m\u001b[0;34m\u001b[0m\u001b[0m\n\u001b[1;32m    132\u001b[0m         \u001b[0mkeys\u001b[0m \u001b[0;34m=\u001b[0m \u001b[0mself\u001b[0m\u001b[0;34m.\u001b[0m\u001b[0m_get_group_keys\u001b[0m\u001b[0;34m(\u001b[0m\u001b[0;34m)\u001b[0m\u001b[0;34m\u001b[0m\u001b[0;34m\u001b[0m\u001b[0m\n\u001b[0;32m--> 133\u001b[0;31m         \u001b[0;32mfor\u001b[0m \u001b[0mkey\u001b[0m\u001b[0;34m,\u001b[0m \u001b[0;34m(\u001b[0m\u001b[0mi\u001b[0m\u001b[0;34m,\u001b[0m \u001b[0mgroup\u001b[0m\u001b[0;34m)\u001b[0m \u001b[0;32min\u001b[0m \u001b[0mzip\u001b[0m\u001b[0;34m(\u001b[0m\u001b[0mkeys\u001b[0m\u001b[0;34m,\u001b[0m \u001b[0msplitter\u001b[0m\u001b[0;34m)\u001b[0m\u001b[0;34m:\u001b[0m\u001b[0;34m\u001b[0m\u001b[0;34m\u001b[0m\u001b[0m\n\u001b[0m\u001b[1;32m    134\u001b[0m             \u001b[0;32myield\u001b[0m \u001b[0mkey\u001b[0m\u001b[0;34m,\u001b[0m \u001b[0mgroup\u001b[0m\u001b[0;34m.\u001b[0m\u001b[0m__finalize__\u001b[0m\u001b[0;34m(\u001b[0m\u001b[0mdata\u001b[0m\u001b[0;34m,\u001b[0m \u001b[0mmethod\u001b[0m\u001b[0;34m=\u001b[0m\u001b[0;34m\"groupby\"\u001b[0m\u001b[0;34m)\u001b[0m\u001b[0;34m\u001b[0m\u001b[0;34m\u001b[0m\u001b[0m\n\u001b[1;32m    135\u001b[0m \u001b[0;34m\u001b[0m\u001b[0m\n",
      "\u001b[0;32m~/opt/miniconda3/envs/ne.py3.6/lib/python3.6/site-packages/pandas/core/groupby/ops.py\u001b[0m in \u001b[0;36m__iter__\u001b[0;34m(self)\u001b[0m\n\u001b[1;32m    950\u001b[0m \u001b[0;34m\u001b[0m\u001b[0m\n\u001b[1;32m    951\u001b[0m         \u001b[0;32mfor\u001b[0m \u001b[0mi\u001b[0m\u001b[0;34m,\u001b[0m \u001b[0;34m(\u001b[0m\u001b[0mstart\u001b[0m\u001b[0;34m,\u001b[0m \u001b[0mend\u001b[0m\u001b[0;34m)\u001b[0m \u001b[0;32min\u001b[0m \u001b[0menumerate\u001b[0m\u001b[0;34m(\u001b[0m\u001b[0mzip\u001b[0m\u001b[0;34m(\u001b[0m\u001b[0mstarts\u001b[0m\u001b[0;34m,\u001b[0m \u001b[0mends\u001b[0m\u001b[0;34m)\u001b[0m\u001b[0;34m)\u001b[0m\u001b[0;34m:\u001b[0m\u001b[0;34m\u001b[0m\u001b[0;34m\u001b[0m\u001b[0m\n\u001b[0;32m--> 952\u001b[0;31m             \u001b[0;32myield\u001b[0m \u001b[0mi\u001b[0m\u001b[0;34m,\u001b[0m \u001b[0mself\u001b[0m\u001b[0;34m.\u001b[0m\u001b[0m_chop\u001b[0m\u001b[0;34m(\u001b[0m\u001b[0msdata\u001b[0m\u001b[0;34m,\u001b[0m \u001b[0mslice\u001b[0m\u001b[0;34m(\u001b[0m\u001b[0mstart\u001b[0m\u001b[0;34m,\u001b[0m \u001b[0mend\u001b[0m\u001b[0;34m)\u001b[0m\u001b[0;34m)\u001b[0m\u001b[0;34m\u001b[0m\u001b[0;34m\u001b[0m\u001b[0m\n\u001b[0m\u001b[1;32m    953\u001b[0m \u001b[0;34m\u001b[0m\u001b[0m\n\u001b[1;32m    954\u001b[0m     \u001b[0;32mdef\u001b[0m \u001b[0m_get_sorted_data\u001b[0m\u001b[0;34m(\u001b[0m\u001b[0mself\u001b[0m\u001b[0;34m)\u001b[0m \u001b[0;34m->\u001b[0m \u001b[0mFrameOrSeries\u001b[0m\u001b[0;34m:\u001b[0m\u001b[0;34m\u001b[0m\u001b[0;34m\u001b[0m\u001b[0m\n",
      "\u001b[0;32m~/opt/miniconda3/envs/ne.py3.6/lib/python3.6/site-packages/pandas/core/groupby/ops.py\u001b[0m in \u001b[0;36m_chop\u001b[0;34m(self, sdata, slice_obj)\u001b[0m\n\u001b[1;32m    979\u001b[0m         \u001b[0;31m# else:\u001b[0m\u001b[0;34m\u001b[0m\u001b[0;34m\u001b[0m\u001b[0;34m\u001b[0m\u001b[0m\n\u001b[1;32m    980\u001b[0m         \u001b[0;31m#     return sdata.iloc[:, slice_obj]\u001b[0m\u001b[0;34m\u001b[0m\u001b[0;34m\u001b[0m\u001b[0;34m\u001b[0m\u001b[0m\n\u001b[0;32m--> 981\u001b[0;31m         \u001b[0mmgr\u001b[0m \u001b[0;34m=\u001b[0m \u001b[0msdata\u001b[0m\u001b[0;34m.\u001b[0m\u001b[0m_mgr\u001b[0m\u001b[0;34m.\u001b[0m\u001b[0mget_slice\u001b[0m\u001b[0;34m(\u001b[0m\u001b[0mslice_obj\u001b[0m\u001b[0;34m,\u001b[0m \u001b[0maxis\u001b[0m\u001b[0;34m=\u001b[0m\u001b[0;36m1\u001b[0m \u001b[0;34m-\u001b[0m \u001b[0mself\u001b[0m\u001b[0;34m.\u001b[0m\u001b[0maxis\u001b[0m\u001b[0;34m)\u001b[0m\u001b[0;34m\u001b[0m\u001b[0;34m\u001b[0m\u001b[0m\n\u001b[0m\u001b[1;32m    982\u001b[0m         \u001b[0;31m# __finalize__ not called here, must be applied by caller if applicable\u001b[0m\u001b[0;34m\u001b[0m\u001b[0;34m\u001b[0m\u001b[0;34m\u001b[0m\u001b[0m\n\u001b[1;32m    983\u001b[0m         \u001b[0;32mreturn\u001b[0m \u001b[0msdata\u001b[0m\u001b[0;34m.\u001b[0m\u001b[0m_constructor\u001b[0m\u001b[0;34m(\u001b[0m\u001b[0mmgr\u001b[0m\u001b[0;34m)\u001b[0m\u001b[0;34m\u001b[0m\u001b[0;34m\u001b[0m\u001b[0m\n",
      "\u001b[0;32m~/opt/miniconda3/envs/ne.py3.6/lib/python3.6/site-packages/pandas/core/internals/managers.py\u001b[0m in \u001b[0;36mget_slice\u001b[0;34m(self, slobj, axis)\u001b[0m\n\u001b[1;32m    777\u001b[0m         \u001b[0mnew_axes\u001b[0m\u001b[0;34m[\u001b[0m\u001b[0maxis\u001b[0m\u001b[0;34m]\u001b[0m \u001b[0;34m=\u001b[0m \u001b[0mnew_axes\u001b[0m\u001b[0;34m[\u001b[0m\u001b[0maxis\u001b[0m\u001b[0;34m]\u001b[0m\u001b[0;34m[\u001b[0m\u001b[0mslobj\u001b[0m\u001b[0;34m]\u001b[0m\u001b[0;34m\u001b[0m\u001b[0;34m\u001b[0m\u001b[0m\n\u001b[1;32m    778\u001b[0m \u001b[0;34m\u001b[0m\u001b[0m\n\u001b[0;32m--> 779\u001b[0;31m         \u001b[0mbm\u001b[0m \u001b[0;34m=\u001b[0m \u001b[0mtype\u001b[0m\u001b[0;34m(\u001b[0m\u001b[0mself\u001b[0m\u001b[0;34m)\u001b[0m\u001b[0;34m(\u001b[0m\u001b[0mnew_blocks\u001b[0m\u001b[0;34m,\u001b[0m \u001b[0mnew_axes\u001b[0m\u001b[0;34m,\u001b[0m \u001b[0mdo_integrity_check\u001b[0m\u001b[0;34m=\u001b[0m\u001b[0;32mFalse\u001b[0m\u001b[0;34m)\u001b[0m\u001b[0;34m\u001b[0m\u001b[0;34m\u001b[0m\u001b[0m\n\u001b[0m\u001b[1;32m    780\u001b[0m         \u001b[0;32mreturn\u001b[0m \u001b[0mbm\u001b[0m\u001b[0;34m\u001b[0m\u001b[0;34m\u001b[0m\u001b[0m\n\u001b[1;32m    781\u001b[0m \u001b[0;34m\u001b[0m\u001b[0m\n",
      "\u001b[0;32m~/opt/miniconda3/envs/ne.py3.6/lib/python3.6/site-packages/pandas/core/internals/managers.py\u001b[0m in \u001b[0;36m__init__\u001b[0;34m(self, blocks, axes, do_integrity_check)\u001b[0m\n\u001b[1;32m    140\u001b[0m \u001b[0;34m\u001b[0m\u001b[0m\n\u001b[1;32m    141\u001b[0m         \u001b[0;32mfor\u001b[0m \u001b[0mblock\u001b[0m \u001b[0;32min\u001b[0m \u001b[0mblocks\u001b[0m\u001b[0;34m:\u001b[0m\u001b[0;34m\u001b[0m\u001b[0;34m\u001b[0m\u001b[0m\n\u001b[0;32m--> 142\u001b[0;31m             \u001b[0;32mif\u001b[0m \u001b[0mself\u001b[0m\u001b[0;34m.\u001b[0m\u001b[0mndim\u001b[0m \u001b[0;34m!=\u001b[0m \u001b[0mblock\u001b[0m\u001b[0;34m.\u001b[0m\u001b[0mndim\u001b[0m\u001b[0;34m:\u001b[0m\u001b[0;34m\u001b[0m\u001b[0;34m\u001b[0m\u001b[0m\n\u001b[0m\u001b[1;32m    143\u001b[0m                 raise AssertionError(\n\u001b[1;32m    144\u001b[0m                     \u001b[0;34mf\"Number of Block dimensions ({block.ndim}) must equal \"\u001b[0m\u001b[0;34m\u001b[0m\u001b[0;34m\u001b[0m\u001b[0m\n",
      "\u001b[0;32m~/opt/miniconda3/envs/ne.py3.6/lib/python3.6/site-packages/pandas/core/internals/managers.py\u001b[0m in \u001b[0;36mndim\u001b[0;34m(self)\u001b[0m\n\u001b[1;32m    214\u001b[0m         \u001b[0;32mreturn\u001b[0m \u001b[0mtuple\u001b[0m\u001b[0;34m(\u001b[0m\u001b[0mlen\u001b[0m\u001b[0;34m(\u001b[0m\u001b[0max\u001b[0m\u001b[0;34m)\u001b[0m \u001b[0;32mfor\u001b[0m \u001b[0max\u001b[0m \u001b[0;32min\u001b[0m \u001b[0mself\u001b[0m\u001b[0;34m.\u001b[0m\u001b[0maxes\u001b[0m\u001b[0;34m)\u001b[0m\u001b[0;34m\u001b[0m\u001b[0;34m\u001b[0m\u001b[0m\n\u001b[1;32m    215\u001b[0m \u001b[0;34m\u001b[0m\u001b[0m\n\u001b[0;32m--> 216\u001b[0;31m     \u001b[0;34m@\u001b[0m\u001b[0mproperty\u001b[0m\u001b[0;34m\u001b[0m\u001b[0;34m\u001b[0m\u001b[0m\n\u001b[0m\u001b[1;32m    217\u001b[0m     \u001b[0;32mdef\u001b[0m \u001b[0mndim\u001b[0m\u001b[0;34m(\u001b[0m\u001b[0mself\u001b[0m\u001b[0;34m)\u001b[0m \u001b[0;34m->\u001b[0m \u001b[0mint\u001b[0m\u001b[0;34m:\u001b[0m\u001b[0;34m\u001b[0m\u001b[0;34m\u001b[0m\u001b[0m\n\u001b[1;32m    218\u001b[0m         \u001b[0;32mreturn\u001b[0m \u001b[0mlen\u001b[0m\u001b[0;34m(\u001b[0m\u001b[0mself\u001b[0m\u001b[0;34m.\u001b[0m\u001b[0maxes\u001b[0m\u001b[0;34m)\u001b[0m\u001b[0;34m\u001b[0m\u001b[0;34m\u001b[0m\u001b[0m\n",
      "\u001b[0;31mKeyboardInterrupt\u001b[0m: "
     ]
    }
   ],
   "source": [
    "# for each simulation, compute the iteration when each C-fixation is feasible\n",
    "i = 1\n",
    "pathway_information= []\n",
    "for r in reactions:\n",
    "    R = carbon_fixation_timing(r)\n",
    "    R[\"expansion\"] = i\n",
    "    i+=1\n",
    "    pathway_information.append(R)\n",
    "    \n",
    "pathway_information = pd.concat(pathway_information,axis=0)"
   ]
  },
  {
   "cell_type": "code",
   "execution_count": 24,
   "id": "01b4a4b6-dbe8-45e9-9de1-22bbb1f42fd7",
   "metadata": {
    "tags": []
   },
   "outputs": [],
   "source": [
    "pathway_information = pd.concat(pathway_information,axis=0)"
   ]
  },
  {
   "cell_type": "code",
   "execution_count": 27,
   "id": "5db397fc-9fd8-4fbb-8590-ca63fbe3d074",
   "metadata": {
    "tags": []
   },
   "outputs": [
    {
     "data": {
      "text/plain": [
       "2044"
      ]
     },
     "execution_count": 27,
     "metadata": {},
     "output_type": "execute_result"
    }
   ],
   "source": [
    "len(pathway_information)"
   ]
  },
  {
   "cell_type": "code",
   "execution_count": 26,
   "id": "30fbea64-5755-4534-91f8-c54e7d0462a6",
   "metadata": {
    "tags": []
   },
   "outputs": [
    {
     "data": {
      "text/plain": [
       "<seaborn.axisgrid.FacetGrid at 0x7f9260f1bf98>"
      ]
     },
     "execution_count": 26,
     "metadata": {},
     "output_type": "execute_result"
    },
    {
     "data": {
      "image/png": "[encoded data removed]",
      "text/plain": [
       "<Figure size 360x360 with 1 Axes>"
      ]
     },
     "metadata": {
      "needs_background": "light"
     },
     "output_type": "display_data"
    }
   ],
   "source": [
    "# rename modules\n",
    "pathway_information[\"Pathway\"] = pathway_information[\"module\"].apply(lambda x: module_names[x])\n",
    "sns.catplot(y='Pathway',x='rank',data=pathway_information)"
   ]
  },
  {
   "cell_type": "code",
   "execution_count": 36,
   "id": "1a78c7b7-9bf1-4084-91c4-5a683bd78d25",
   "metadata": {
    "tags": []
   },
   "outputs": [],
   "source": [
    "pathway_results = pd.read_csv(\"data/random_seed_sets_pathway_ordering/04May2023/pathway_results.csv\")\n",
    "pathway_results.columns = [\"rank\",\"module\",\"iteration\",\"expansion\"]\n",
    "pathway_results[\"rank\"] = pathway_results[\"rank\"]+1\n",
    "pathway_results[\"Pathway\"] = pathway_results[\"module\"].apply(lambda x: module_names[x])\n"
   ]
  },
  {
   "cell_type": "code",
   "execution_count": 76,
   "id": "733b902d-1696-4a00-b97e-00f356d20647",
   "metadata": {
    "tags": []
   },
   "outputs": [
    {
     "data": {
      "image/png": "[encoded data removed]",
      "text/plain": [
       "<Figure size 216x288 with 1 Axes>"
      ]
     },
     "metadata": {},
     "output_type": "display_data"
    }
   ],
   "source": [
    "\n",
    "pathway_results = pd.read_csv(\"data/random_seed_sets_pathway_ordering/07May2023/pathway_results.csv\")\n",
    "pathway_results.columns = [\"rank\",\"module\",\"iteration\",\"expansion\"]\n",
    "pathway_results[\"rank\"] = pathway_results[\"rank\"]+1\n",
    "pathway_results[\"Pathway\"] = pathway_results[\"module\"].apply(lambda x: module_names[x])\n",
    "\n",
    "order = pathway_results.groupby(\"Pathway\").mean().sort_values(\"rank\").index.tolist()\n",
    "plt.figure(figsize=(3,4))\n",
    "sns.violinplot(y='Pathway',x='rank',data=pathway_results,order=order,palette=\"Set2\",height=3,aspect=1)\n",
    "plt.savefig(\"data/random_seed_sets_pathway_ordering/07May2023/distribution.svg\")\n"
   ]
  },
  {
   "cell_type": "code",
   "execution_count": 71,
   "id": "24eefb90-991d-468c-81a2-72da71588bbf",
   "metadata": {
    "tags": []
   },
   "outputs": [],
   "source": [
    "#sns.boxplot(y='Pathway',x='rank',data=pathway_results,order=order,palette=\"Set2\",height=5,aspect=1)\n"
   ]
  },
  {
   "cell_type": "code",
   "execution_count": 68,
   "id": "759588f3-1237-4482-bcb5-707c69de7493",
   "metadata": {
    "tags": []
   },
   "outputs": [],
   "source": [
    "#pathway_results.dropna()"
   ]
  },
  {
   "cell_type": "code",
   "execution_count": null,
   "id": "98eb06ba-fd52-450c-9796-59859f55691c",
   "metadata": {},
   "outputs": [],
   "source": []
  }
 ],
 "metadata": {
  "kernelspec": {
   "display_name": "Python 3.6 (network expansion)",
   "language": "python",
   "name": "ne.py3.6"
  },
  "language_info": {
   "codemirror_mode": {
    "name": "ipython",
    "version": 3
   },
   "file_extension": ".py",
   "mimetype": "text/x-python",
   "name": "python",
   "nbconvert_exporter": "python",
   "pygments_lexer": "ipython3",
   "version": "3.6.13"
  }
 },
 "nbformat": 4,
 "nbformat_minor": 5
}
