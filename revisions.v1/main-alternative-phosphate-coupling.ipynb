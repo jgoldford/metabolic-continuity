{
 "cells": [
  {
   "cell_type": "code",
   "execution_count": 2,
   "id": "b9dbb8a7-c011-4838-aee0-2e1311f63ea3",
   "metadata": {
    "tags": []
   },
   "outputs": [],
   "source": [
    "import networkExpansionPy.lib as ne\n",
    "import numpy as np\n",
    "import pandas as pd\n",
    "import pickle as pickle\n",
    "import seaborn as sns\n",
    "import matplotlib.pyplot as plt\n",
    "from scipy.stats import spearmanr,pearsonr,mannwhitneyu\n",
    "from statsmodels.stats.multitest import multipletests\n",
    "plt.rcParams['font.family'] = 'Arial'\n",
    "import re\n",
    "\n",
    "\n",
    "import warnings\n",
    "from scipy.sparse import (spdiags, SparseEfficiencyWarning, csc_matrix,\n",
    "    csr_matrix, isspmatrix, dok_matrix, lil_matrix, bsr_matrix)\n",
    "warnings.simplefilter('ignore',SparseEfficiencyWarning)\n",
    "\n",
    "\n",
    "seed = pd.read_csv('../assets/seed_set.csv')\n",
    "#background = seed[seed[\"Type\"].isin([\"Background\"])].ID.tolist()\n",
    "#cpd_base = seed[~seed[\"Type\"].isin(['Sulfur source',\"Nitrogen source\"])].ID.tolist()"
   ]
  },
  {
   "cell_type": "code",
   "execution_count": 28,
   "id": "e580422c-cfbe-4a16-a01d-4be578ce6a1f",
   "metadata": {
    "tags": []
   },
   "outputs": [],
   "source": [
    "model_tags = [\"01May2023\",\"AcP\",\"PEP\",\"Glc6P\",\"Glyc3P\",\"UTP\",\"CTP\",\"Creatine\"]\n",
    "model_names = [\"PolyP\",\"Acetyl-P\",\"PEP\",\"Glucose-6P\",\"Glycerol-3P\",\"UTP\",\"CTP\",\"Creatine-P\"]\n",
    "unchanged = [\"C00009\",\"C00033\",\"C00022\",\"C00031\",\"C00116\",\"C00015\",\"C00112\",\"C00300\"]\n",
    "models = list(zip(model_tags,model_names,unchanged))"
   ]
  },
  {
   "cell_type": "code",
   "execution_count": 31,
   "id": "699c92ca-eec4-4972-b320-dac5c51ebec4",
   "metadata": {
    "tags": []
   },
   "outputs": [],
   "source": [
    "# load the metabolism object from the repo\n",
    "results = {\"model\":[],\"# compounds\":[],\"# reactions\":[],\"added uncharged\":[]}\n",
    "for tag,name,added_met in models:\n",
    "    model_id = f\"metabolism.v8.{tag}.pkl\"\n",
    "    metabolism = pd.read_pickle('/Users/joshuagoldford/Documents/github/network-expansion-assets/models/' + model_id)\n",
    "    c,r = metabolism.expand(seed.ID.tolist())\n",
    "    results[\"model\"].append(name)\n",
    "    results[\"# compounds\"].append(len(c))\n",
    "    results[\"# reactions\"].append(len(r))\n",
    "    results[\"added uncharged\"].append(False)\n",
    "    \n",
    "    c,r = metabolism.expand(seed.ID.tolist() + [added_met])\n",
    "    results[\"model\"].append(name)\n",
    "    results[\"# compounds\"].append(len(c))\n",
    "    results[\"# reactions\"].append(len(r))\n",
    "    results[\"added uncharged\"].append(True)\n",
    "    \n",
    "results = pd.DataFrame(results)"
   ]
  },
  {
   "cell_type": "code",
   "execution_count": 44,
   "id": "8716826f-d5a6-43c5-b6fa-98e286eb9023",
   "metadata": {
    "tags": []
   },
   "outputs": [
    {
     "data": {
      "text/html": [
       "<div>\n",
       "<style scoped>\n",
       "    .dataframe tbody tr th:only-of-type {\n",
       "        vertical-align: middle;\n",
       "    }\n",
       "\n",
       "    .dataframe tbody tr th {\n",
       "        vertical-align: top;\n",
       "    }\n",
       "\n",
       "    .dataframe thead th {\n",
       "        text-align: right;\n",
       "    }\n",
       "</style>\n",
       "<table border=\"1\" class=\"dataframe\">\n",
       "  <thead>\n",
       "    <tr style=\"text-align: right;\">\n",
       "      <th></th>\n",
       "      <th>model</th>\n",
       "      <th># compounds</th>\n",
       "      <th># reactions</th>\n",
       "      <th>added uncharged</th>\n",
       "    </tr>\n",
       "  </thead>\n",
       "  <tbody>\n",
       "    <tr>\n",
       "      <th>0</th>\n",
       "      <td>PolyP</td>\n",
       "      <td>4315</td>\n",
       "      <td>12534</td>\n",
       "      <td>False</td>\n",
       "    </tr>\n",
       "    <tr>\n",
       "      <th>2</th>\n",
       "      <td>Acetyl-P</td>\n",
       "      <td>4315</td>\n",
       "      <td>12534</td>\n",
       "      <td>False</td>\n",
       "    </tr>\n",
       "    <tr>\n",
       "      <th>4</th>\n",
       "      <td>PEP</td>\n",
       "      <td>4315</td>\n",
       "      <td>12534</td>\n",
       "      <td>False</td>\n",
       "    </tr>\n",
       "    <tr>\n",
       "      <th>6</th>\n",
       "      <td>Glucose-6P</td>\n",
       "      <td>4315</td>\n",
       "      <td>12534</td>\n",
       "      <td>False</td>\n",
       "    </tr>\n",
       "    <tr>\n",
       "      <th>8</th>\n",
       "      <td>Glycerol-3P</td>\n",
       "      <td>429</td>\n",
       "      <td>1202</td>\n",
       "      <td>False</td>\n",
       "    </tr>\n",
       "    <tr>\n",
       "      <th>10</th>\n",
       "      <td>UTP</td>\n",
       "      <td>429</td>\n",
       "      <td>1202</td>\n",
       "      <td>False</td>\n",
       "    </tr>\n",
       "    <tr>\n",
       "      <th>12</th>\n",
       "      <td>CTP</td>\n",
       "      <td>429</td>\n",
       "      <td>1202</td>\n",
       "      <td>False</td>\n",
       "    </tr>\n",
       "    <tr>\n",
       "      <th>14</th>\n",
       "      <td>Creatine-P</td>\n",
       "      <td>429</td>\n",
       "      <td>1202</td>\n",
       "      <td>False</td>\n",
       "    </tr>\n",
       "  </tbody>\n",
       "</table>\n",
       "</div>"
      ],
      "text/plain": [
       "          model  # compounds  # reactions  added uncharged\n",
       "0         PolyP         4315        12534            False\n",
       "2      Acetyl-P         4315        12534            False\n",
       "4           PEP         4315        12534            False\n",
       "6    Glucose-6P         4315        12534            False\n",
       "8   Glycerol-3P          429         1202            False\n",
       "10          UTP          429         1202            False\n",
       "12          CTP          429         1202            False\n",
       "14   Creatine-P          429         1202            False"
      ]
     },
     "execution_count": 44,
     "metadata": {},
     "output_type": "execute_result"
    }
   ],
   "source": [
    "results[~results[\"added uncharged\"]]"
   ]
  },
  {
   "cell_type": "code",
   "execution_count": 46,
   "id": "79a4d072-108b-42e8-a8ac-107871c347c2",
   "metadata": {
    "tags": []
   },
   "outputs": [
    {
     "name": "stderr",
     "output_type": "stream",
     "text": [
      "No handles with labels found to put in legend.\n"
     ]
    },
    {
     "data": {
      "image/png": "[encoded data removed]",
      "text/plain": [
       "<Figure size 216x216 with 1 Axes>"
      ]
     },
     "metadata": {
      "needs_background": "light"
     },
     "output_type": "display_data"
    }
   ],
   "source": [
    "plt.figure(figsize=(3,3))\n",
    "ax = sns.barplot(x=\"model\",y=\"# compounds\",data=results[~results[\"added uncharged\"]],palette=\"Set2\")\n",
    "plt.xticks(rotation=60)\n",
    "ax.legend(loc='center left', bbox_to_anchor=(1, 0.5))\n",
    "plt.ylabel(\"network size (# compounds)\")\n",
    "plt.savefig(\"figs/figS2_alt_phosphate.svg\")"
   ]
  },
  {
   "cell_type": "code",
   "execution_count": null,
   "id": "99bf8667-a495-4c28-ac10-535afce6e78c",
   "metadata": {},
   "outputs": [],
   "source": []
  }
 ],
 "metadata": {
  "kernelspec": {
   "display_name": "Python 3.6 (network expansion)",
   "language": "python",
   "name": "ne.py3.6"
  },
  "language_info": {
   "codemirror_mode": {
    "name": "ipython",
    "version": 3
   },
   "file_extension": ".py",
   "mimetype": "text/x-python",
   "name": "python",
   "nbconvert_exporter": "python",
   "pygments_lexer": "ipython3",
   "version": "3.6.13"
  }
 },
 "nbformat": 4,
 "nbformat_minor": 5
}
