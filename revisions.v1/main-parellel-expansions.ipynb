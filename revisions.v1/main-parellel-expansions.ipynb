{
 "cells": [
  {
   "cell_type": "code",
   "execution_count": 1,
   "id": "f19d2696-a305-4e28-9f32-fbad3c7c4c98",
   "metadata": {
    "tags": []
   },
   "outputs": [],
   "source": [
    "import networkExpansionPy.lib as ne\n",
    "import numpy as np\n",
    "import pandas as pd\n",
    "import pickle as pickle\n",
    "import seaborn as sns\n",
    "import matplotlib.pyplot as plt\n",
    "from scipy.stats import spearmanr,pearsonr,mannwhitneyu\n",
    "from statsmodels.stats.multitest import multipletests\n",
    "plt.rcParams['font.family'] = 'Arial'\n",
    "from random import sample\n",
    "\n",
    "import warnings\n",
    "from scipy.sparse import (spdiags, SparseEfficiencyWarning, csc_matrix,\n",
    "    csr_matrix, isspmatrix, dok_matrix, lil_matrix, bsr_matrix)\n",
    "warnings.simplefilter('ignore',SparseEfficiencyWarning)\n",
    "\n",
    "def load_data(network_name):\n",
    "    with open(ne.asset_path  + \"/metabolic_networks/\" + network_name,\"rb\") as filehandler:\n",
    "        metabolism = pickle.load(filehandler)\n",
    "    return metabolism\n",
    "\n",
    "# load the metabolism object from the repo\n",
    "metabolism = load_data('metabolism.23Aug2022.pkl')\n",
    "#model_id = \"metabolism.v4.20Mar2023.pkl\"\n",
    "#model_id = \"metabolism.v5.12Apr2023.pkl\"\n",
    "#metabolism = pd.read_pickle('/Users/joshuagoldford/Documents/github/network-expansion-assets/models/' + model_id)\n",
    "cids = metabolism.coenzymes"
   ]
  },
  {
   "cell_type": "code",
   "execution_count": 2,
   "id": "c7dc0de7-1578-4cc8-9343-79fe5cf9e3f6",
   "metadata": {},
   "outputs": [],
   "source": [
    "nitrogen_sources = {\n",
    "    \"Ammonia\": \"C00014\",\n",
    "    \"Nitrate\": \"C00244\",\n",
    "    \"Nitrite\": \"C00088\",\n",
    "    \"Glycine\": \"C00037\",\n",
    "    \"Hydroxylamine\": \"C00192\"}\n",
    "\n",
    "sulfur_sources = {  \n",
    "    \"Sulfide\": \"C00283\",\n",
    "    \"Sulfite\": \"C00094\",\n",
    "    \"Sulfate\": \"C00059\",\n",
    "    \"Thiosulfate\": \"C00320\",\n",
    "    \"Sulfur dioxide\":\"C09306\",\n",
    "    \"Elemental sulfur\": \"C00087\"\n",
    "}\n",
    "\n",
    "inverted_nitrogen = {value: key for key, value in nitrogen_sources.items()}\n",
    "inverted_sulfur = {value: key for key, value in sulfur_sources.items()}\n",
    "\n",
    "\n",
    "\n",
    "dor = pd.read_csv(\"../assets/keggCHOmolecules.reductionState.csv\")\n",
    "cx = metabolism.network.cid.unique().tolist()\n",
    "cx = [x for x in dor.cid.tolist() if x in cx]\n",
    "\n",
    "def random_seed_set_generator(nitrogen_sources,sulfur_sources,carbon_sources,n_carb):\n",
    "    n = sample(list(nitrogen_sources.values()),1)\n",
    "    s = sample(list(sulfur_sources.values()),1)\n",
    "    c = sample(carbon_sources,n_carb)\n",
    "    return c+n+s"
   ]
  },
  {
   "cell_type": "code",
   "execution_count": 3,
   "id": "debadbfa-e551-4729-8755-719c716dd75b",
   "metadata": {
    "tags": []
   },
   "outputs": [],
   "source": [
    "# (ii) randomize the seed set to control for state of reduction in organic compounds  \n",
    "seed = pd.read_csv('../assets/seed_set.csv')\n",
    "cpd_base = seed[~seed[\"Type\"].isin([\"Organic carbon\",\"'Nitrogen source\",\"Sulfur source\"])].ID.tolist()\n",
    "seedsets = [random_seed_set_generator(nitrogen_sources,sulfur_sources,cx,21) for x in range(1000)]\n",
    "seed_inputs = [cpd_base + x for x in seedsets]"
   ]
  },
  {
   "cell_type": "code",
   "execution_count": 4,
   "id": "e836c3e9-f34f-4146-a860-a0e9c6611af1",
   "metadata": {
    "tags": []
   },
   "outputs": [],
   "source": [
    "compounds,reactions = metabolism.run_expansions_parallel(seed_inputs,algorithm=\"naive\")"
   ]
  },
  {
   "cell_type": "code",
   "execution_count": 9,
   "id": "11340c08-25e7-4e66-83bd-a1d5e4859b4a",
   "metadata": {
    "tags": []
   },
   "outputs": [],
   "source": [
    "#%%timeit -r 1 -n 1\n",
    "#compounds2,reactions2 = metabolism.run_expansions(seed_inputs,algorithm=\"naive\")"
   ]
  },
  {
   "cell_type": "code",
   "execution_count": 22,
   "id": "3652b881-e60c-4b61-aaba-68e3124ea6a9",
   "metadata": {
    "tags": []
   },
   "outputs": [],
   "source": [
    "nitrogen = [inverted_nitrogen[[x for x in y if x in nitrogen_sources.values()][0]] for y in seedsets]\n",
    "sulfur = [inverted_sulfur[[x for x in y if x in sulfur_sources.values()][0]] for y in seedsets]\n",
    "mean_dor = [dor[dor.cid.isin(x)].reduction.mean() for x in seedsets]\n",
    "ncpds = [len(x) for x in compounds]\n",
    "df = pd.DataFrame({\"nitrogen\":nitrogen,\"sulfur\":sulfur,\"dor\":mean_dor,\"ncpds\":ncpds})"
   ]
  },
  {
   "cell_type": "code",
   "execution_count": 33,
   "id": "256c28bd-a390-400a-825e-07483d21af18",
   "metadata": {
    "tags": []
   },
   "outputs": [
    {
     "data": {
      "text/plain": [
       "<AxesSubplot:xlabel='dor', ylabel='ncpds'>"
      ]
     },
     "execution_count": 33,
     "metadata": {},
     "output_type": "execute_result"
    },
    {
     "data": {
      "image/png": "[encoded data removed]",
      "text/plain": [
       "<Figure size 432x288 with 1 Axes>"
      ]
     },
     "metadata": {
      "needs_background": "light"
     },
     "output_type": "display_data"
    }
   ],
   "source": [
    "sns.scatterplot(x=\"dor\",y=\"ncpds\",data=df)"
   ]
  },
  {
   "cell_type": "code",
   "execution_count": 34,
   "id": "997fcbf5-9acc-4d4a-9bf6-5e9ff0841bc0",
   "metadata": {
    "tags": []
   },
   "outputs": [
    {
     "data": {
      "text/html": [
       "<div>\n",
       "<style scoped>\n",
       "    .dataframe tbody tr th:only-of-type {\n",
       "        vertical-align: middle;\n",
       "    }\n",
       "\n",
       "    .dataframe tbody tr th {\n",
       "        vertical-align: top;\n",
       "    }\n",
       "\n",
       "    .dataframe thead th {\n",
       "        text-align: right;\n",
       "    }\n",
       "</style>\n",
       "<table border=\"1\" class=\"dataframe\">\n",
       "  <thead>\n",
       "    <tr style=\"text-align: right;\">\n",
       "      <th></th>\n",
       "      <th>Unnamed: 0</th>\n",
       "      <th>cid</th>\n",
       "      <th>formula</th>\n",
       "      <th>name</th>\n",
       "      <th>num_rgroup</th>\n",
       "      <th>electrons</th>\n",
       "      <th>reduction</th>\n",
       "      <th>water_amt</th>\n",
       "      <th>water_per_c</th>\n",
       "    </tr>\n",
       "  </thead>\n",
       "  <tbody>\n",
       "    <tr>\n",
       "      <th>0</th>\n",
       "      <td>21</td>\n",
       "      <td>C00022</td>\n",
       "      <td>C3H4O3</td>\n",
       "      <td>Pyruvate; Pyruvic acid; 2-Oxopropanoate; 2-Oxo...</td>\n",
       "      <td>0</td>\n",
       "      <td>46.0</td>\n",
       "      <td>1.666667</td>\n",
       "      <td>3.0</td>\n",
       "      <td>1.000000</td>\n",
       "    </tr>\n",
       "    <tr>\n",
       "      <th>1</th>\n",
       "      <td>25</td>\n",
       "      <td>C00026</td>\n",
       "      <td>C5H6O5</td>\n",
       "      <td>2-Oxoglutarate; Oxoglutaric acid; 2-Ketoglutar...</td>\n",
       "      <td>0</td>\n",
       "      <td>76.0</td>\n",
       "      <td>1.600000</td>\n",
       "      <td>5.0</td>\n",
       "      <td>1.000000</td>\n",
       "    </tr>\n",
       "    <tr>\n",
       "      <th>2</th>\n",
       "      <td>30</td>\n",
       "      <td>C00031</td>\n",
       "      <td>C6H12O6</td>\n",
       "      <td>D-Glucose; Grape sugar; Dextrose; Glucose; D-G...</td>\n",
       "      <td>0</td>\n",
       "      <td>96.0</td>\n",
       "      <td>2.000000</td>\n",
       "      <td>6.0</td>\n",
       "      <td>1.000000</td>\n",
       "    </tr>\n",
       "    <tr>\n",
       "      <th>3</th>\n",
       "      <td>32</td>\n",
       "      <td>C00033</td>\n",
       "      <td>C2H4O2</td>\n",
       "      <td>Acetate; Acetic acid; Ethanoic acid</td>\n",
       "      <td>0</td>\n",
       "      <td>32.0</td>\n",
       "      <td>2.000000</td>\n",
       "      <td>2.0</td>\n",
       "      <td>1.000000</td>\n",
       "    </tr>\n",
       "    <tr>\n",
       "      <th>4</th>\n",
       "      <td>35</td>\n",
       "      <td>C00036</td>\n",
       "      <td>C4H4O5</td>\n",
       "      <td>Oxaloacetate; Oxalacetic acid; Oxaloacetic aci...</td>\n",
       "      <td>0</td>\n",
       "      <td>68.0</td>\n",
       "      <td>1.250000</td>\n",
       "      <td>3.0</td>\n",
       "      <td>0.750000</td>\n",
       "    </tr>\n",
       "    <tr>\n",
       "      <th>...</th>\n",
       "      <td>...</td>\n",
       "      <td>...</td>\n",
       "      <td>...</td>\n",
       "      <td>...</td>\n",
       "      <td>...</td>\n",
       "      <td>...</td>\n",
       "      <td>...</td>\n",
       "      <td>...</td>\n",
       "      <td>...</td>\n",
       "    </tr>\n",
       "    <tr>\n",
       "      <th>5977</th>\n",
       "      <td>17371</td>\n",
       "      <td>C20899</td>\n",
       "      <td>C6H4O3</td>\n",
       "      <td>Furan-2,5-dicarbaldehyde; 2,5-Furandicarboxald...</td>\n",
       "      <td>0</td>\n",
       "      <td>NaN</td>\n",
       "      <td>1.833333</td>\n",
       "      <td>9.0</td>\n",
       "      <td>1.500000</td>\n",
       "    </tr>\n",
       "    <tr>\n",
       "      <th>5978</th>\n",
       "      <td>17372</td>\n",
       "      <td>C20900</td>\n",
       "      <td>C6H6O4</td>\n",
       "      <td>5-(Dihydroxymethyl)furan-2-carbaldehyde</td>\n",
       "      <td>0</td>\n",
       "      <td>NaN</td>\n",
       "      <td>1.833333</td>\n",
       "      <td>8.0</td>\n",
       "      <td>1.333333</td>\n",
       "    </tr>\n",
       "    <tr>\n",
       "      <th>5979</th>\n",
       "      <td>17373</td>\n",
       "      <td>C20901</td>\n",
       "      <td>C6H6O5</td>\n",
       "      <td>5-(Dihydroxymethyl)furan-2-carboxylate</td>\n",
       "      <td>0</td>\n",
       "      <td>NaN</td>\n",
       "      <td>1.666667</td>\n",
       "      <td>7.0</td>\n",
       "      <td>1.166667</td>\n",
       "    </tr>\n",
       "    <tr>\n",
       "      <th>5980</th>\n",
       "      <td>17374</td>\n",
       "      <td>C20902</td>\n",
       "      <td>C6H10O5</td>\n",
       "      <td>3,6-Anhydro-alpha-L-galactopyranose</td>\n",
       "      <td>0</td>\n",
       "      <td>NaN</td>\n",
       "      <td>2.000000</td>\n",
       "      <td>7.0</td>\n",
       "      <td>1.166667</td>\n",
       "    </tr>\n",
       "    <tr>\n",
       "      <th>5981</th>\n",
       "      <td>17375</td>\n",
       "      <td>C20903</td>\n",
       "      <td>C6H10O6</td>\n",
       "      <td>3,6-anhydro-L-galactonate</td>\n",
       "      <td>0</td>\n",
       "      <td>NaN</td>\n",
       "      <td>1.833333</td>\n",
       "      <td>6.0</td>\n",
       "      <td>1.000000</td>\n",
       "    </tr>\n",
       "  </tbody>\n",
       "</table>\n",
       "<p>5982 rows × 9 columns</p>\n",
       "</div>"
      ],
      "text/plain": [
       "      Unnamed: 0     cid  formula  \\\n",
       "0             21  C00022   C3H4O3   \n",
       "1             25  C00026   C5H6O5   \n",
       "2             30  C00031  C6H12O6   \n",
       "3             32  C00033   C2H4O2   \n",
       "4             35  C00036   C4H4O5   \n",
       "...          ...     ...      ...   \n",
       "5977       17371  C20899   C6H4O3   \n",
       "5978       17372  C20900   C6H6O4   \n",
       "5979       17373  C20901   C6H6O5   \n",
       "5980       17374  C20902  C6H10O5   \n",
       "5981       17375  C20903  C6H10O6   \n",
       "\n",
       "                                                   name  num_rgroup  \\\n",
       "0     Pyruvate; Pyruvic acid; 2-Oxopropanoate; 2-Oxo...           0   \n",
       "1     2-Oxoglutarate; Oxoglutaric acid; 2-Ketoglutar...           0   \n",
       "2     D-Glucose; Grape sugar; Dextrose; Glucose; D-G...           0   \n",
       "3                   Acetate; Acetic acid; Ethanoic acid           0   \n",
       "4     Oxaloacetate; Oxalacetic acid; Oxaloacetic aci...           0   \n",
       "...                                                 ...         ...   \n",
       "5977  Furan-2,5-dicarbaldehyde; 2,5-Furandicarboxald...           0   \n",
       "5978            5-(Dihydroxymethyl)furan-2-carbaldehyde           0   \n",
       "5979             5-(Dihydroxymethyl)furan-2-carboxylate           0   \n",
       "5980                3,6-Anhydro-alpha-L-galactopyranose           0   \n",
       "5981                          3,6-anhydro-L-galactonate           0   \n",
       "\n",
       "      electrons  reduction  water_amt  water_per_c  \n",
       "0          46.0   1.666667        3.0     1.000000  \n",
       "1          76.0   1.600000        5.0     1.000000  \n",
       "2          96.0   2.000000        6.0     1.000000  \n",
       "3          32.0   2.000000        2.0     1.000000  \n",
       "4          68.0   1.250000        3.0     0.750000  \n",
       "...         ...        ...        ...          ...  \n",
       "5977        NaN   1.833333        9.0     1.500000  \n",
       "5978        NaN   1.833333        8.0     1.333333  \n",
       "5979        NaN   1.666667        7.0     1.166667  \n",
       "5980        NaN   2.000000        7.0     1.166667  \n",
       "5981        NaN   1.833333        6.0     1.000000  \n",
       "\n",
       "[5982 rows x 9 columns]"
      ]
     },
     "execution_count": 34,
     "metadata": {},
     "output_type": "execute_result"
    }
   ],
   "source": [
    "dor"
   ]
  },
  {
   "cell_type": "code",
   "execution_count": null,
   "id": "0e2f57f2-6a8e-45b6-ac53-13d235c2e578",
   "metadata": {},
   "outputs": [],
   "source": []
  }
 ],
 "metadata": {
  "kernelspec": {
   "display_name": "Python 3.6 (network expansion)",
   "language": "python",
   "name": "ne.py3.6"
  },
  "language_info": {
   "codemirror_mode": {
    "name": "ipython",
    "version": 3
   },
   "file_extension": ".py",
   "mimetype": "text/x-python",
   "name": "python",
   "nbconvert_exporter": "python",
   "pygments_lexer": "ipython3",
   "version": "3.6.13"
  }
 },
 "nbformat": 4,
 "nbformat_minor": 5
}
