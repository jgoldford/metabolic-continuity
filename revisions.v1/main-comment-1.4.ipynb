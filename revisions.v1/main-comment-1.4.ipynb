{
 "cells": [
  {
   "cell_type": "code",
   "execution_count": 2,
   "id": "a5cb067b-f613-4503-b9de-79ee3886ebac",
   "metadata": {
    "tags": []
   },
   "outputs": [],
   "source": [
    "import networkExpansionPy.lib as ne\n",
    "import numpy as np\n",
    "import pandas as pd\n",
    "import pickle as pickle\n",
    "import seaborn as sns\n",
    "import matplotlib.pyplot as plt\n",
    "from scipy.stats import spearmanr,pearsonr,mannwhitneyu\n",
    "from statsmodels.stats.multitest import multipletests\n",
    "plt.rcParams['font.family'] = 'Arial'\n",
    "import pingouin as pg\n",
    "\n",
    "import warnings\n",
    "from scipy.sparse import (spdiags, SparseEfficiencyWarning, csc_matrix,\n",
    "    csr_matrix, isspmatrix, dok_matrix, lil_matrix, bsr_matrix)\n",
    "warnings.simplefilter('ignore',SparseEfficiencyWarning)\n",
    "\n",
    "def load_data(network_name):\n",
    "    with open(ne.asset_path  + \"/metabolic_networks/\" + network_name,\"rb\") as filehandler:\n",
    "        metabolism = pickle.load(filehandler)\n",
    "    return metabolism\n",
    "\n",
    "# load the metabolism object from the repo\n",
    "model_id = \"metabolism.v8.01May2023.pkl\"\n",
    "metabolism = pd.read_pickle('/Users/joshuagoldford/Documents/github/network-expansion-assets/models/' + model_id)\n",
    "cids = metabolism.coenzymes"
   ]
  },
  {
   "cell_type": "code",
   "execution_count": 10,
   "id": "7a703d4f-9974-49ca-8e98-416178781276",
   "metadata": {
    "tags": []
   },
   "outputs": [],
   "source": [
    "seed = pd.read_csv('../assets/seed_set.csv')\n",
    "#background = seed[seed[\"Type\"].isin([\"Background\"])].ID.tolist()\n",
    "#cpd_base = seed[~seed[\"Type\"].isin(['Sulfur source',\"Nitrogen source\"])].ID.tolist()\n",
    "carbon_compounds = sedd[~seed[\"Type\"].isin([\"Organic carbon\"])].ID.tolist()"
   ]
  },
  {
   "cell_type": "code",
   "execution_count": 19,
   "id": "2e2f6aeb-a2c9-4717-9a31-5165444c3941",
   "metadata": {
    "tags": []
   },
   "outputs": [],
   "source": [
    "#load dor\n",
    "\n",
    "\n",
    "import re\n",
    "def get_c_num(formula):\n",
    "    match = re.search('C(\\d+)', formula)\n",
    "    if match:\n",
    "        return  match.group(1)\n",
    "    else:\n",
    "        return None\n",
    "\n",
    "\n",
    "DOR = pd.read_csv(\"../assets/keggCHOmolecules.reductionState.csv\",index_col=0)\n",
    "    \n",
    "DOR[\"c\"]= DOR.formula.apply(lambda x: get_c_num(x))\n",
    "DOR = DOR[~DOR.c.apply(lambda x: x is None)]\n",
    "DOR[\"c\"] = DOR.c.apply(int)\n",
    "\n",
    "complexity = pd.read_csv(\"../assets/kegg_compound_complexity_metrics.csv\",index_col=0)\n",
    "cpd_features = DOR.set_index(\"cid\").join(complexity.set_index(\"cid\"))"
   ]
  },
  {
   "cell_type": "code",
   "execution_count": 62,
   "id": "22c3ff99-5792-4ae3-a125-73c2c2c77d53",
   "metadata": {
    "tags": []
   },
   "outputs": [],
   "source": [
    "cx  = cpd_features[cpd_features[\"c\"] < 1e9]"
   ]
  },
  {
   "cell_type": "code",
   "execution_count": 63,
   "id": "605e57ef-0a20-4aa2-86a1-bda70151d915",
   "metadata": {
    "tags": []
   },
   "outputs": [
    {
     "data": {
      "text/plain": [
       "<seaborn.axisgrid.FacetGrid at 0x7fcdd4c3ecc0>"
      ]
     },
     "execution_count": 63,
     "metadata": {},
     "output_type": "execute_result"
    },
    {
     "data": {
      "image/png": "[encoded data removed]",
      "text/plain": [
       "<Figure size 360x360 with 1 Axes>"
      ]
     },
     "metadata": {
      "needs_background": "light"
     },
     "output_type": "display_data"
    }
   ],
   "source": [
    "sns.displot(x=\"bertz\",data=cx)"
   ]
  },
  {
   "cell_type": "code",
   "execution_count": 64,
   "id": "1c910410-487d-45b9-9c21-ebe9ef924c2b",
   "metadata": {
    "tags": []
   },
   "outputs": [
    {
     "data": {
      "text/plain": [
       "5977"
      ]
     },
     "execution_count": 64,
     "metadata": {},
     "output_type": "execute_result"
    }
   ],
   "source": [
    "len(cx)"
   ]
  },
  {
   "cell_type": "code",
   "execution_count": 65,
   "id": "47df82dd-866e-4b4b-b59a-b3313586cbe6",
   "metadata": {
    "tags": []
   },
   "outputs": [],
   "source": [
    "cx = cx.sort_values(\"bertz\")\n",
    "r_upper = cx.bertz.quantile(q=0.75)\n",
    "r_lower = cx.bertz.quantile(q=0.25)"
   ]
  },
  {
   "cell_type": "code",
   "execution_count": 66,
   "id": "279954bc-5759-43bf-ae76-00da37d1d143",
   "metadata": {
    "tags": []
   },
   "outputs": [],
   "source": [
    "cpd_complex = cx[cx.bertz > r_upper].index.tolist()\n",
    "cpd_simple = cx[cx.bertz < r_lower].index.tolist()"
   ]
  },
  {
   "cell_type": "code",
   "execution_count": 67,
   "id": "9fdb7b62-d352-40f8-aac6-5c4ed3e761ba",
   "metadata": {
    "tags": []
   },
   "outputs": [],
   "source": [
    "# make seed sets\n",
    "base_set = seed[~seed[\"Type\"].isin([\"Organic carbon\"])].ID.tolist()"
   ]
  },
  {
   "cell_type": "code",
   "execution_count": 73,
   "id": "a88615e3-a2a8-467d-8f40-df860a78aabd",
   "metadata": {
    "tags": []
   },
   "outputs": [],
   "source": [
    "from random import sample\n",
    "N = 10\n",
    "samples = 5000\n",
    "sample_types = []\n",
    "seed_sets = []\n",
    "for n in range(samples):\n",
    "    seed_sets.append(sample(cpd_simple,N))\n",
    "    sample_types.append(\"simple\")\n",
    "    \n",
    "for n in range(samples):\n",
    "    seed_sets.append(sample(cpd_complex,N))\n",
    "    sample_types.append(\"complex\")\n",
    "    \n",
    "seed_sets_full = [x + base_set for x in seed_sets]"
   ]
  },
  {
   "cell_type": "code",
   "execution_count": 74,
   "id": "70c9f574-efff-426e-bf52-20d777c3cf8a",
   "metadata": {
    "tags": []
   },
   "outputs": [],
   "source": [
    "compounds,reactions = metabolism.run_expansions_parallel(seed_sets_full,algorithm=\"naive\")"
   ]
  },
  {
   "cell_type": "code",
   "execution_count": 75,
   "id": "9327ea6d-1a9e-4f4b-b893-9400b35a9de7",
   "metadata": {
    "tags": []
   },
   "outputs": [],
   "source": [
    "g = pd.DataFrame({\"stype\":sample_types,\"scope_size\": [len(x) for x in compounds]})"
   ]
  },
  {
   "cell_type": "code",
   "execution_count": 81,
   "id": "9c7c2e52-2ad5-430b-9e47-960b4773a565",
   "metadata": {
    "tags": []
   },
   "outputs": [],
   "source": [
    "g[\"expanded\"] = g.scope_size > 4e3"
   ]
  },
  {
   "cell_type": "code",
   "execution_count": 83,
   "id": "b0fb56a6-4f65-418e-83b4-51e4b4c283c0",
   "metadata": {
    "tags": []
   },
   "outputs": [
    {
     "data": {
      "text/html": [
       "<div>\n",
       "<style scoped>\n",
       "    .dataframe tbody tr th:only-of-type {\n",
       "        vertical-align: middle;\n",
       "    }\n",
       "\n",
       "    .dataframe tbody tr th {\n",
       "        vertical-align: top;\n",
       "    }\n",
       "\n",
       "    .dataframe thead th {\n",
       "        text-align: right;\n",
       "    }\n",
       "</style>\n",
       "<table border=\"1\" class=\"dataframe\">\n",
       "  <thead>\n",
       "    <tr style=\"text-align: right;\">\n",
       "      <th></th>\n",
       "      <th>stype</th>\n",
       "      <th>expanded</th>\n",
       "    </tr>\n",
       "  </thead>\n",
       "  <tbody>\n",
       "    <tr>\n",
       "      <th>0</th>\n",
       "      <td>simple</td>\n",
       "      <td>True</td>\n",
       "    </tr>\n",
       "    <tr>\n",
       "      <th>1</th>\n",
       "      <td>simple</td>\n",
       "      <td>False</td>\n",
       "    </tr>\n",
       "    <tr>\n",
       "      <th>2</th>\n",
       "      <td>simple</td>\n",
       "      <td>False</td>\n",
       "    </tr>\n",
       "    <tr>\n",
       "      <th>3</th>\n",
       "      <td>simple</td>\n",
       "      <td>False</td>\n",
       "    </tr>\n",
       "    <tr>\n",
       "      <th>4</th>\n",
       "      <td>simple</td>\n",
       "      <td>False</td>\n",
       "    </tr>\n",
       "    <tr>\n",
       "      <th>...</th>\n",
       "      <td>...</td>\n",
       "      <td>...</td>\n",
       "    </tr>\n",
       "    <tr>\n",
       "      <th>9995</th>\n",
       "      <td>complex</td>\n",
       "      <td>False</td>\n",
       "    </tr>\n",
       "    <tr>\n",
       "      <th>9996</th>\n",
       "      <td>complex</td>\n",
       "      <td>False</td>\n",
       "    </tr>\n",
       "    <tr>\n",
       "      <th>9997</th>\n",
       "      <td>complex</td>\n",
       "      <td>False</td>\n",
       "    </tr>\n",
       "    <tr>\n",
       "      <th>9998</th>\n",
       "      <td>complex</td>\n",
       "      <td>False</td>\n",
       "    </tr>\n",
       "    <tr>\n",
       "      <th>9999</th>\n",
       "      <td>complex</td>\n",
       "      <td>False</td>\n",
       "    </tr>\n",
       "  </tbody>\n",
       "</table>\n",
       "<p>10000 rows × 2 columns</p>\n",
       "</div>"
      ],
      "text/plain": [
       "        stype  expanded\n",
       "0      simple      True\n",
       "1      simple     False\n",
       "2      simple     False\n",
       "3      simple     False\n",
       "4      simple     False\n",
       "...       ...       ...\n",
       "9995  complex     False\n",
       "9996  complex     False\n",
       "9997  complex     False\n",
       "9998  complex     False\n",
       "9999  complex     False\n",
       "\n",
       "[10000 rows x 2 columns]"
      ]
     },
     "execution_count": 83,
     "metadata": {},
     "output_type": "execute_result"
    }
   ],
   "source": [
    "g[[\"stype\",\"expanded\"]]"
   ]
  },
  {
   "cell_type": "code",
   "execution_count": 91,
   "id": "46554b63-8b26-4e7c-a09c-2b79265c5ee2",
   "metadata": {
    "tags": []
   },
   "outputs": [
    {
     "data": {
      "text/html": [
       "<div>\n",
       "<style scoped>\n",
       "    .dataframe tbody tr th:only-of-type {\n",
       "        vertical-align: middle;\n",
       "    }\n",
       "\n",
       "    .dataframe tbody tr th {\n",
       "        vertical-align: top;\n",
       "    }\n",
       "\n",
       "    .dataframe thead th {\n",
       "        text-align: right;\n",
       "    }\n",
       "</style>\n",
       "<table border=\"1\" class=\"dataframe\">\n",
       "  <thead>\n",
       "    <tr style=\"text-align: right;\">\n",
       "      <th>expanded</th>\n",
       "      <th>False</th>\n",
       "      <th>True</th>\n",
       "    </tr>\n",
       "    <tr>\n",
       "      <th>stype</th>\n",
       "      <th></th>\n",
       "      <th></th>\n",
       "    </tr>\n",
       "  </thead>\n",
       "  <tbody>\n",
       "    <tr>\n",
       "      <th>complex</th>\n",
       "      <td>5000</td>\n",
       "      <td>0</td>\n",
       "    </tr>\n",
       "    <tr>\n",
       "      <th>simple</th>\n",
       "      <td>4773</td>\n",
       "      <td>227</td>\n",
       "    </tr>\n",
       "  </tbody>\n",
       "</table>\n",
       "</div>"
      ],
      "text/plain": [
       "expanded  False  True \n",
       "stype                 \n",
       "complex    5000      0\n",
       "simple     4773    227"
      ]
     },
     "execution_count": 91,
     "metadata": {},
     "output_type": "execute_result"
    }
   ],
   "source": [
    "x = pd.crosstab(g[\"stype\"],g[\"expanded\"])\n",
    "x"
   ]
  },
  {
   "cell_type": "code",
   "execution_count": 90,
   "id": "85d31ce8-d3e5-42fe-9779-40ba8fd0c424",
   "metadata": {
    "tags": []
   },
   "outputs": [],
   "source": [
    "from scipy.stats import fisher_exact"
   ]
  },
  {
   "cell_type": "code",
   "execution_count": 93,
   "id": "e5d94165-8f8d-47a3-a7d0-a911d2d3f3cf",
   "metadata": {
    "tags": []
   },
   "outputs": [
    {
     "data": {
      "text/plain": [
       "(inf, 6.718821479528746e-70)"
      ]
     },
     "execution_count": 93,
     "metadata": {},
     "output_type": "execute_result"
    }
   ],
   "source": [
    "fisher_exact(x.values)"
   ]
  },
  {
   "cell_type": "code",
   "execution_count": 95,
   "id": "b8797788-30d8-4164-ba73-2188bb27f0be",
   "metadata": {
    "tags": []
   },
   "outputs": [
    {
     "data": {
      "text/plain": [
       "0.0454"
      ]
     },
     "execution_count": 95,
     "metadata": {},
     "output_type": "execute_result"
    }
   ],
   "source": [
    "x.loc[\"simple\"][True] / x.loc[\"simple\"].sum()"
   ]
  },
  {
   "cell_type": "code",
   "execution_count": 96,
   "id": "1763ef2d-327d-4853-aa56-d8f270169126",
   "metadata": {
    "tags": []
   },
   "outputs": [
    {
     "data": {
      "text/plain": [
       "0.0"
      ]
     },
     "execution_count": 96,
     "metadata": {},
     "output_type": "execute_result"
    }
   ],
   "source": [
    "x.loc[\"complex\"][True] / x.loc[\"complex\"].sum()"
   ]
  },
  {
   "cell_type": "code",
   "execution_count": 97,
   "id": "95307332-c4d1-424b-9730-8211884017a6",
   "metadata": {
    "tags": []
   },
   "outputs": [],
   "source": [
    "g.to_csv(\"data/10RandomCompoundAddditions.ComplexityDistribution.06May2023.csv\")"
   ]
  },
  {
   "cell_type": "code",
   "execution_count": 6,
   "id": "594cc4a1-022f-41c9-8b5c-0da8819b0eb9",
   "metadata": {
    "tags": []
   },
   "outputs": [],
   "source": [
    "g = pd.read_csv(\"data/10RandomCompoundAddditions.ComplexityDistribution.06May2023.csv\")"
   ]
  },
  {
   "cell_type": "code",
   "execution_count": 7,
   "id": "1cc1f24d-d5ca-421c-856c-2d1063a23b17",
   "metadata": {
    "tags": []
   },
   "outputs": [
    {
     "data": {
      "image/png": "[encoded data removed]",
      "text/plain": [
       "<Figure size 216x216 with 1 Axes>"
      ]
     },
     "metadata": {
      "needs_background": "light"
     },
     "output_type": "display_data"
    }
   ],
   "source": [
    "# make a plot showing the sizes of scopes with each seed set type4\n",
    "z= sns.catplot(x=\"stype\",y=\"scope_size\",data=g,palette=\"Set1\",height=3, aspect=1)\n",
    "\n",
    "# Rasterize the points\n",
    "for ax in z.axes.flatten():\n",
    "    for c in ax.collections:  # the points are stored as collections\n",
    "        c.set_rasterized(True)\n",
    "        \n",
    "plt.ylabel(\"# of compounds in scope\")\n",
    "plt.xlabel(\"seed set type\")\n",
    "plt.savefig(\"figs/randomSeedSets.Complexity.svg\")"
   ]
  },
  {
   "cell_type": "code",
   "execution_count": null,
   "id": "81a8858b-934d-4833-a6a2-1469301ab172",
   "metadata": {},
   "outputs": [],
   "source": []
  }
 ],
 "metadata": {
  "kernelspec": {
   "display_name": "Python 3.6 (network expansion)",
   "language": "python",
   "name": "ne.py3.6"
  },
  "language_info": {
   "codemirror_mode": {
    "name": "ipython",
    "version": 3
   },
   "file_extension": ".py",
   "mimetype": "text/x-python",
   "name": "python",
   "nbconvert_exporter": "python",
   "pygments_lexer": "ipython3",
   "version": "3.6.13"
  },
  "toc-autonumbering": true
 },
 "nbformat": 4,
 "nbformat_minor": 5
}
