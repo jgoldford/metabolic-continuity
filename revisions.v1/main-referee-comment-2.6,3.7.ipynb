{
 "cells": [
  {
   "cell_type": "markdown",
   "id": "elementary-accreditation",
   "metadata": {},
   "source": [
    "# Description\n",
    "Notebook to is in response to comments 2.6, 3.7\n",
    "\n",
    "Repeat the expnasion using acyl(acetyl)-phosphate, poly(pyro)phosphate, and glycerol-phosphate as early coupling agents"
   ]
  },
  {
   "cell_type": "markdown",
   "id": "liked-setup",
   "metadata": {},
   "source": [
    "### Load models with alterntive phosphate coupling"
   ]
  },
  {
   "cell_type": "code",
   "execution_count": 3,
   "id": "driving-carol",
   "metadata": {
    "tags": []
   },
   "outputs": [
    {
     "name": "stdout",
     "output_type": "stream",
     "text": [
      "There were 70 compounds in this seed set...\n",
      "There were 4311 compounds produced in this expansion!\n",
      "There were 4311 compounds produced in this expansion!\n",
      "There were 433 compounds produced in this expansion!\n"
     ]
    }
   ],
   "source": [
    "import networkExpansionPy.lib as ne\n",
    "import numpy as np\n",
    "import pandas as pd\n",
    "import pickle as pickle\n",
    "import seaborn as sns\n",
    "import matplotlib.pyplot as plt\n",
    "from scipy.stats import spearmanr,pearsonr,mannwhitneyu\n",
    "from statsmodels.stats.multitest import multipletests\n",
    "plt.rcParams['font.family'] = 'Arial'\n",
    "\n",
    "import warnings\n",
    "from scipy.sparse import (spdiags, SparseEfficiencyWarning, csc_matrix,\n",
    "    csr_matrix, isspmatrix, dok_matrix, lil_matrix, bsr_matrix)\n",
    "warnings.simplefilter('ignore',SparseEfficiencyWarning)\n",
    "\n",
    "def load_data(network_name):\n",
    "    with open(ne.asset_path  + \"/metabolic_networks/\" + network_name,\"rb\") as filehandler:\n",
    "        metabolism = pickle.load(filehandler)\n",
    "    return metabolism\n",
    "\n",
    "# load the metabolism object from the repo\n",
    "#metabolism = load_data('metabolism.23Aug2022.pkl')\n",
    "\n",
    "\n",
    "model1 = \"metabolism.v3.1.purinePPiCoupling.pkl\"\n",
    "model2 = \"metabolism.v3.2.purineAcPCoupling.pkl\"\n",
    "model3 = \"metabolism.v3.3.purineG3Pcoupling.pkl\"\n",
    "models = [model1,model2,model3]\n",
    "model_names = [\"PPi\",\"AcP\",\"G3P\"]\n",
    "\n",
    "num_compounds = []\n",
    "seed_set = pd.read_csv('../assets/seed_set.csv')['ID'].tolist() \n",
    "print('There were {N} compounds in this seed set...'.format(N=len(seed_set)))\n",
    "\n",
    "for model,mid in list(zip(models,model_names)):\n",
    "    metabolism = pd.read_pickle('/Users/joshuagoldford/Documents/github/network-expansion-assets/models/{m}'.format(m=model))\n",
    "    cids = metabolism.coenzymes\n",
    "    ne_cpds,ne_rxns = metabolism.expand(seed_set,algorithm='trace')\n",
    "    print('There were {N} compounds produced in this expansion!'.format(N=len(ne_cpds)))\n",
    "    num_compounds.append(len(ne_cpds))"
   ]
  },
  {
   "cell_type": "code",
   "execution_count": 4,
   "id": "02b45f82-d850-4fd1-a797-0a464c3719ae",
   "metadata": {
    "tags": []
   },
   "outputs": [
    {
     "data": {
      "text/plain": [
       "Text(0.5, 0, 'phosphoryl donor')"
      ]
     },
     "execution_count": 4,
     "metadata": {},
     "output_type": "execute_result"
    },
    {
     "data": {
      "image/png": "[encoded data removed]",
      "text/plain": [
       "<Figure size 216x216 with 1 Axes>"
      ]
     },
     "metadata": {
      "needs_background": "light"
     },
     "output_type": "display_data"
    }
   ],
   "source": [
    "\n",
    "plt.figure(figsize=(3,3))\n",
    "sns.barplot(y=num_compounds,x=model_names,color=\"k\")\n",
    "plt.ylabel('# compounds in scope')\n",
    "plt.xlabel('phosphoryl donor')\n",
    "#plt.savefig(\"revisions.v1/phosphoryl-coupling.svg\")"
   ]
  }
 ],
 "metadata": {
  "kernelspec": {
   "display_name": "Python 3.6 (network expansion)",
   "language": "python",
   "name": "ne.py3.6"
  },
  "language_info": {
   "codemirror_mode": {
    "name": "ipython",
    "version": 3
   },
   "file_extension": ".py",
   "mimetype": "text/x-python",
   "name": "python",
   "nbconvert_exporter": "python",
   "pygments_lexer": "ipython3",
   "version": "3.6.13"
  }
 },
 "nbformat": 4,
 "nbformat_minor": 5
}
